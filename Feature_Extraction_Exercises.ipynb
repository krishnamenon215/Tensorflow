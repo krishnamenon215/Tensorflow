{
  "nbformat": 4,
  "nbformat_minor": 0,
  "metadata": {
    "colab": {
      "provenance": []
    },
    "kernelspec": {
      "name": "python3",
      "display_name": "Python 3"
    },
    "language_info": {
      "name": "python"
    }
  },
  "cells": [
    {
      "cell_type": "code",
      "execution_count": null,
      "metadata": {
        "id": "WdgDz9U8q26w"
      },
      "outputs": [],
      "source": [
        "#https://tfhub.dev/google/imagenet/mobilenet_v2_100_224/feature_vector/5"
      ]
    },
    {
      "cell_type": "markdown",
      "source": [
        "#1.Build and fit a model using the same data we have here but with the MobileNetV2 architecture feature extraction (mobilenet_v2_100_224/feature_vector) from TensorFlow Hub, how does it perform compared to our other models?"
      ],
      "metadata": {
        "id": "VFNROlDBtLMv"
      }
    },
    {
      "cell_type": "markdown",
      "source": [
        "## Download data"
      ],
      "metadata": {
        "id": "-kXM0GCxtuF_"
      }
    },
    {
      "cell_type": "code",
      "source": [
        "# Get data (10% of 10 food classes from Food101)\n",
        "import zipfile\n",
        "\n",
        "#Download the data\n",
        "!wget https://storage.googleapis.com/ztm_tf_course/food_vision/10_food_classes_10_percent.zip\n",
        "\n",
        "#Unzip the downloaded file\n",
        "zip_ref = zipfile.ZipFile(\"10_food_classes_10_percent.zip\")\n",
        "zip_ref.extractall()\n",
        "zip_ref.close()"
      ],
      "metadata": {
        "colab": {
          "base_uri": "https://localhost:8080/"
        },
        "id": "ez7893Emtxb1",
        "outputId": "14558e67-1607-4dc6-c8e1-0acbb8aded2b"
      },
      "execution_count": 3,
      "outputs": [
        {
          "output_type": "stream",
          "name": "stdout",
          "text": [
            "--2023-01-30 17:26:43--  https://storage.googleapis.com/ztm_tf_course/food_vision/10_food_classes_10_percent.zip\n",
            "Resolving storage.googleapis.com (storage.googleapis.com)... 173.194.66.128, 173.194.68.128, 173.194.175.128, ...\n",
            "Connecting to storage.googleapis.com (storage.googleapis.com)|173.194.66.128|:443... connected.\n",
            "HTTP request sent, awaiting response... 200 OK\n",
            "Length: 168546183 (161M) [application/zip]\n",
            "Saving to: ‘10_food_classes_10_percent.zip’\n",
            "\n",
            "10_food_classes_10_ 100%[===================>] 160.74M   166MB/s    in 1.0s    \n",
            "\n",
            "2023-01-30 17:26:44 (166 MB/s) - ‘10_food_classes_10_percent.zip’ saved [168546183/168546183]\n",
            "\n"
          ]
        }
      ]
    },
    {
      "cell_type": "code",
      "source": [
        "#How many images in each folder\n",
        "import os\n",
        "\n",
        "#walk through 10 percent data directory and list number of files\n",
        "for dirpath,dirnames,filename in os.walk(\"10_food_classes_10_percent\"):\n",
        "  print(f\"There are {len(dirnames)} directories and {len(filename)} images in '{dirpath}'.\")"
      ],
      "metadata": {
        "colab": {
          "base_uri": "https://localhost:8080/"
        },
        "id": "JEN_KYBQt7ZK",
        "outputId": "bf3b433b-d9f7-4463-f921-76215274ccbe"
      },
      "execution_count": 4,
      "outputs": [
        {
          "output_type": "stream",
          "name": "stdout",
          "text": [
            "There are 2 directories and 0 images in '10_food_classes_10_percent'.\n",
            "There are 10 directories and 0 images in '10_food_classes_10_percent/test'.\n",
            "There are 0 directories and 250 images in '10_food_classes_10_percent/test/hamburger'.\n",
            "There are 0 directories and 250 images in '10_food_classes_10_percent/test/chicken_wings'.\n",
            "There are 0 directories and 250 images in '10_food_classes_10_percent/test/ice_cream'.\n",
            "There are 0 directories and 250 images in '10_food_classes_10_percent/test/pizza'.\n",
            "There are 0 directories and 250 images in '10_food_classes_10_percent/test/fried_rice'.\n",
            "There are 0 directories and 250 images in '10_food_classes_10_percent/test/ramen'.\n",
            "There are 0 directories and 250 images in '10_food_classes_10_percent/test/sushi'.\n",
            "There are 0 directories and 250 images in '10_food_classes_10_percent/test/grilled_salmon'.\n",
            "There are 0 directories and 250 images in '10_food_classes_10_percent/test/steak'.\n",
            "There are 0 directories and 250 images in '10_food_classes_10_percent/test/chicken_curry'.\n",
            "There are 10 directories and 0 images in '10_food_classes_10_percent/train'.\n",
            "There are 0 directories and 75 images in '10_food_classes_10_percent/train/hamburger'.\n",
            "There are 0 directories and 75 images in '10_food_classes_10_percent/train/chicken_wings'.\n",
            "There are 0 directories and 75 images in '10_food_classes_10_percent/train/ice_cream'.\n",
            "There are 0 directories and 75 images in '10_food_classes_10_percent/train/pizza'.\n",
            "There are 0 directories and 75 images in '10_food_classes_10_percent/train/fried_rice'.\n",
            "There are 0 directories and 75 images in '10_food_classes_10_percent/train/ramen'.\n",
            "There are 0 directories and 75 images in '10_food_classes_10_percent/train/sushi'.\n",
            "There are 0 directories and 75 images in '10_food_classes_10_percent/train/grilled_salmon'.\n",
            "There are 0 directories and 75 images in '10_food_classes_10_percent/train/steak'.\n",
            "There are 0 directories and 75 images in '10_food_classes_10_percent/train/chicken_curry'.\n"
          ]
        }
      ]
    },
    {
      "cell_type": "markdown",
      "source": [
        "## ImageDataGenerator class to load in our images in batches"
      ],
      "metadata": {
        "id": "fwuCo0Sst9Ld"
      }
    },
    {
      "cell_type": "code",
      "source": [
        "#Setup data inputs\n",
        "from tensorflow.keras.preprocessing.image import ImageDataGenerator\n",
        "\n",
        "IMAGE_SHAPE=(224,224)\n",
        "BATCH_SIZE=32\n",
        "\n",
        "train_dir = \"10_food_classes_10_percent/train/\"\n",
        "test_dir = \"10_food_classes_10_percent/test/\"\n",
        "\n",
        "\n",
        "train_datagen = ImageDataGenerator(rescale =1/255.)\n",
        "test_datagen = ImageDataGenerator(rescale =1/255.)\n",
        "\n",
        "print(\"Training Images:\")\n",
        "\n",
        "train_data_10_percent = train_datagen.flow_from_directory(train_dir,\n",
        "                                                          target_size=IMAGE_SHAPE,\n",
        "                                                          batch_size=BATCH_SIZE,\n",
        "                                                          class_mode =\"categorical\")\n",
        "\n",
        "print(\"Testing Images:\")\n",
        "test_data_10_percent = test_datagen.flow_from_directory(test_dir,\n",
        "                                                          target_size=IMAGE_SHAPE,\n",
        "                                                          batch_size=BATCH_SIZE,\n",
        "                                                          class_mode =\"categorical\")"
      ],
      "metadata": {
        "colab": {
          "base_uri": "https://localhost:8080/"
        },
        "id": "t_p7lUiAuB-E",
        "outputId": "a9b0743b-8dd2-41a2-91b6-88557a52cc3c"
      },
      "execution_count": 5,
      "outputs": [
        {
          "output_type": "stream",
          "name": "stdout",
          "text": [
            "Training Images:\n",
            "Found 750 images belonging to 10 classes.\n",
            "Testing Images:\n",
            "Found 2500 images belonging to 10 classes.\n"
          ]
        }
      ]
    },
    {
      "cell_type": "markdown",
      "source": [
        "## Setting up Callbacks(things to run whilst our model trains)"
      ],
      "metadata": {
        "id": "ST5I7PUCuF6v"
      }
    },
    {
      "cell_type": "code",
      "source": [
        "#Create TensorBoard callback(functionized because we need to create a new one for eachmodel)\n",
        "import datetime\n",
        "import tensorflow as tf\n",
        "\n",
        "def create_tensorboard_callback(dir_name,experiment_name):\n",
        "  log_dir = dir_name + \"/\" + experiment_name + \"/\" + datetime.datetime.now().strftime(\"%Y%m%d-%H%M%S\")\n",
        "  tensorboard_callback = tf.keras.callbacks.TensorBoard(log_dir=log_dir)\n",
        "  print(f'Saving Tensorboard log files to :{log_dir}')\n",
        "  return tensorboard_callback"
      ],
      "metadata": {
        "id": "ctwCeuL3uNh6"
      },
      "execution_count": 6,
      "outputs": []
    },
    {
      "cell_type": "markdown",
      "source": [
        "## Creating models using TensorFlow Hub"
      ],
      "metadata": {
        "id": "5Z4kZ5UJuSvd"
      }
    },
    {
      "cell_type": "code",
      "source": [
        "mobilenet_url = \"https://tfhub.dev/tensorflow/efficientnet/b0/feature-vector/1\""
      ],
      "metadata": {
        "id": "3Acc3E4AuUhZ"
      },
      "execution_count": 8,
      "outputs": []
    },
    {
      "cell_type": "code",
      "source": [
        "#import dependencies\n",
        "import tensorflow as tf\n",
        "import tensorflow_hub as hub\n",
        "from tensorflow.keras import layers"
      ],
      "metadata": {
        "id": "uAm45GAutUTq"
      },
      "execution_count": 9,
      "outputs": []
    },
    {
      "cell_type": "code",
      "source": [
        "#Lets make a create model) function to create a model from a URL\n",
        "def create_model(model_url,num_classes=10):\n",
        "  #Download pretrained model and save it as keras layer\n",
        "  feature_extraction_layer = hub.KerasLayer(model_url,\n",
        "                                            trainable = False,\n",
        "                                            name = \"feature_extraction_layer\",\n",
        "                                            input_shape = IMAGE_SHAPE+(3,))\n",
        "  \n",
        "  #Create our model\n",
        "  model = tf.keras.Sequential([\n",
        "      feature_extraction_layer,\n",
        "      layers.Dense(num_classes, activation =\"softmax\", name=\"output_layer\")\n",
        "  ])\n",
        "\n",
        "  return model"
      ],
      "metadata": {
        "id": "SaHErTQPt5F_"
      },
      "execution_count": 10,
      "outputs": []
    },
    {
      "cell_type": "markdown",
      "source": [
        "## Creating and testing Efficient Tensorflow hub feature extraction model"
      ],
      "metadata": {
        "id": "D1EBpHgCtmb1"
      }
    },
    {
      "cell_type": "code",
      "source": [
        "#Create Resnet model\n",
        "efficient_model = create_model(mobilenet_url,\n",
        "                             num_classes = train_data_10_percent.num_classes)"
      ],
      "metadata": {
        "id": "_QTaogx3u-rr"
      },
      "execution_count": 12,
      "outputs": []
    },
    {
      "cell_type": "code",
      "source": [
        "#Compile our resnet model\n",
        "efficient_model.compile(loss=\"categorical_crossentropy\",\n",
        "                     optimizer = tf.keras.optimizers.Adam(),\n",
        "                     metrics = [\"accuracy\"])"
      ],
      "metadata": {
        "id": "lO79QiGAvD80"
      },
      "execution_count": 14,
      "outputs": []
    },
    {
      "cell_type": "code",
      "source": [
        "#Fit the model\n",
        "efficient_history = efficient_model.fit(train_data_10_percent,\n",
        "                                  epochs = 5,\n",
        "                                  steps_per_epoch = len(train_data_10_percent),\n",
        "                                  validation_data = test_data_10_percent,\n",
        "                                  validation_steps=len(test_data_10_percent),\n",
        "                                  callbacks=[create_tensorboard_callback(dir_name=\"tensorflow_hub\",\n",
        "                                                                         experiment_name=\"efficient\")]\n",
        "                                  )"
      ],
      "metadata": {
        "colab": {
          "base_uri": "https://localhost:8080/"
        },
        "id": "xuAY4h6svo2T",
        "outputId": "e48fe949-c2ca-41a3-fed9-5fd7bde4e900"
      },
      "execution_count": 15,
      "outputs": [
        {
          "output_type": "stream",
          "name": "stdout",
          "text": [
            "Saving Tensorboard log files to :tensorflow_hub/efficient/20230130-173658\n",
            "Epoch 1/5\n",
            "24/24 [==============================] - 205s 8s/step - loss: 1.8695 - accuracy: 0.4147 - val_loss: 1.3308 - val_accuracy: 0.7256\n",
            "Epoch 2/5\n",
            "24/24 [==============================] - 183s 8s/step - loss: 1.0809 - accuracy: 0.7747 - val_loss: 0.8903 - val_accuracy: 0.8232\n",
            "Epoch 3/5\n",
            "24/24 [==============================] - 182s 8s/step - loss: 0.7724 - accuracy: 0.8387 - val_loss: 0.7125 - val_accuracy: 0.8448\n",
            "Epoch 4/5\n",
            "24/24 [==============================] - 183s 8s/step - loss: 0.6191 - accuracy: 0.8640 - val_loss: 0.6243 - val_accuracy: 0.8512\n",
            "Epoch 5/5\n",
            "24/24 [==============================] - 182s 8s/step - loss: 0.5215 - accuracy: 0.8920 - val_loss: 0.5676 - val_accuracy: 0.8624\n"
          ]
        }
      ]
    },
    {
      "cell_type": "code",
      "source": [
        "#Lets create function to plot loss curves\n",
        "import matplotlib.pyplot as plt\n",
        "\n",
        "#Plot validation and training curves separately\n",
        "def plot_loss_curves(history):\n",
        "  loss = history.history[\"loss\"]\n",
        "  val_loss = history.history[\"val_loss\"]\n",
        "\n",
        "  accuracy = history.history[\"accuracy\"]\n",
        "  val_accuracy = history.history[\"val_accuracy\"]\n",
        "\n",
        "  epochs = range(len(history.history[\"loss\"]))\n",
        "\n",
        "  #Plot loss\n",
        "  plt.plot(epochs, loss, label=\"Training_loss\")\n",
        "  plt.plot(epochs, val_loss, label=\"val_loss\")\n",
        "  plt.title(\"loss\")\n",
        "  plt.xlabel(\"epochs\")\n",
        "  plt.legend()\n",
        "\n",
        "  #Plot accuracy\n",
        "  plt.figure()\n",
        "  plt.plot(epochs, accuracy, label=\"Training_accuracy\")\n",
        "  plt.plot(epochs, val_accuracy, label=\"val_accuracy\")\n",
        "  plt.title(\"accuracy\")\n",
        "  plt.xlabel(\"epochs\")\n",
        "  plt.legend()"
      ],
      "metadata": {
        "id": "tOn6cHM2wclj"
      },
      "execution_count": 17,
      "outputs": []
    },
    {
      "cell_type": "code",
      "source": [
        "#plot loss curves for resnet model\n",
        "plot_loss_curves(efficient_history)"
      ],
      "metadata": {
        "colab": {
          "base_uri": "https://localhost:8080/",
          "height": 573
        },
        "id": "jWRE6-m5vymx",
        "outputId": "20e43d09-460b-4b87-d606-5a6034193c1c"
      },
      "execution_count": 18,
      "outputs": [
        {
          "output_type": "display_data",
          "data": {
            "text/plain": [
              "<Figure size 432x288 with 1 Axes>"
            ],
            "image/png": "[encoded data removed]"
          },
          "metadata": {
            "needs_background": "light"
          }
        },
        {
          "output_type": "display_data",
          "data": {
            "text/plain": [
              "<Figure size 432x288 with 1 Axes>"
            ],
            "image/png": "[encoded data removed]"
          },
          "metadata": {
            "needs_background": "light"
          }
        }
      ]
    },
    {
      "cell_type": "markdown",
      "source": [
        "#2.Build a model to classify images of two different things you've taken photos of."
      ],
      "metadata": {
        "id": "0S4s1zWPz_03"
      }
    },
    {
      "cell_type": "markdown",
      "source": [
        "## Unzip the file"
      ],
      "metadata": {
        "id": "wWzZ0O4l1abC"
      }
    },
    {
      "cell_type": "code",
      "source": [
        "# Get data (10% of 10 food classes from Food101)\n",
        "import zipfile\n",
        "\n",
        "\n",
        "#Unzip the downloaded file\n",
        "zip_ref = zipfile.ZipFile(\"/content/sample_data/feature_extraction.zip\")\n",
        "zip_ref.extractall()\n",
        "zip_ref.close()"
      ],
      "metadata": {
        "id": "SzXC8t8x8GdX"
      },
      "execution_count": 19,
      "outputs": []
    },
    {
      "cell_type": "code",
      "source": [
        "#How many images in each folder\n",
        "import os\n",
        "\n",
        "#walk through 10 percent data directory and list number of files\n",
        "for dirpath,dirnames,filename in os.walk(\"feature_extraction\"):\n",
        "  print(f\"There are {len(dirnames)} directories and {len(filename)} images in '{dirpath}'.\")"
      ],
      "metadata": {
        "colab": {
          "base_uri": "https://localhost:8080/"
        },
        "id": "nfuW9oaZ8KDR",
        "outputId": "50774c95-8003-4c8f-d1ce-60329fb4b9a4"
      },
      "execution_count": 20,
      "outputs": [
        {
          "output_type": "stream",
          "name": "stdout",
          "text": [
            "There are 2 directories and 1 images in 'feature_extraction'.\n",
            "There are 2 directories and 1 images in 'feature_extraction/Test'.\n",
            "There are 0 directories and 5 images in 'feature_extraction/Test/Oven'.\n",
            "There are 0 directories and 5 images in 'feature_extraction/Test/Fridge'.\n",
            "There are 2 directories and 1 images in 'feature_extraction/Train'.\n",
            "There are 0 directories and 17 images in 'feature_extraction/Train/Oven'.\n",
            "There are 0 directories and 17 images in 'feature_extraction/Train/Fridge'.\n"
          ]
        }
      ]
    },
    {
      "cell_type": "code",
      "source": [
        "! ls /content/feature_extraction/Train/Fridge | wc -l"
      ],
      "metadata": {
        "colab": {
          "base_uri": "https://localhost:8080/"
        },
        "id": "fehep9rp8oAU",
        "outputId": "61d29574-e6b4-45ce-f208-e1635730b2ac"
      },
      "execution_count": 22,
      "outputs": [
        {
          "output_type": "stream",
          "name": "stdout",
          "text": [
            "16\n"
          ]
        }
      ]
    },
    {
      "cell_type": "code",
      "source": [
        "! ls /content/feature_extraction/Train/Oven| wc -l"
      ],
      "metadata": {
        "colab": {
          "base_uri": "https://localhost:8080/"
        },
        "id": "GfTGN_5Q9buV",
        "outputId": "05377d01-bce9-4084-f96f-1ff3d2fc82d3"
      },
      "execution_count": 23,
      "outputs": [
        {
          "output_type": "stream",
          "name": "stdout",
          "text": [
            "16\n"
          ]
        }
      ]
    },
    {
      "cell_type": "markdown",
      "source": [
        "## Preprocess"
      ],
      "metadata": {
        "id": "wO1v6FSd-aKw"
      }
    },
    {
      "cell_type": "code",
      "source": [
        "#Setup data inputs\n",
        "from tensorflow.keras.preprocessing.image import ImageDataGenerator\n",
        "\n",
        "IMAGE_SHAPE=(224,224)\n",
        "BATCH_SIZE=32\n",
        "\n",
        "train_dir = \"/content/feature_extraction/Train/\"\n",
        "test_dir = \"/content/feature_extraction/Test/\"\n",
        "\n",
        "\n",
        "train_datagen = ImageDataGenerator(rescale =1/255.)\n",
        "test_datagen = ImageDataGenerator(rescale =1/255.)\n",
        "\n",
        "print(\"Training Images:\")\n",
        "\n",
        "train_data = train_datagen.flow_from_directory(train_dir,\n",
        "                                                          target_size=IMAGE_SHAPE,\n",
        "                                                          batch_size=BATCH_SIZE,\n",
        "                                                          class_mode =\"binary\")\n",
        "\n",
        "print(\"Testing Images:\")\n",
        "test_data = test_datagen.flow_from_directory(test_dir,\n",
        "                                                          target_size=IMAGE_SHAPE,\n",
        "                                                          batch_size=BATCH_SIZE,\n",
        "                                                          class_mode =\"binary\")"
      ],
      "metadata": {
        "colab": {
          "base_uri": "https://localhost:8080/"
        },
        "id": "Lo2F2HkI9lJh",
        "outputId": "f2d52c7d-70bc-480b-dffa-051f97ffaa4a"
      },
      "execution_count": 24,
      "outputs": [
        {
          "output_type": "stream",
          "name": "stdout",
          "text": [
            "Training Images:\n",
            "Found 32 images belonging to 2 classes.\n",
            "Testing Images:\n",
            "Found 8 images belonging to 2 classes.\n"
          ]
        }
      ]
    },
    {
      "cell_type": "markdown",
      "source": [
        "## Setting up Callbacks"
      ],
      "metadata": {
        "id": "d-seq3A2_4tR"
      }
    },
    {
      "cell_type": "code",
      "source": [
        "#Create TensorBoard callback\n",
        "import datetime\n",
        "import tensorflow as tf\n",
        "\n",
        "def create_tensorboard_callback(dir_name,experiment_name):\n",
        "  log_dir = dir_name + \"/\" + experiment_name + \"/\" + datetime.datetime.now().strftime(\"%Y%m%d-%H%M%S\")\n",
        "  tensorboard_callback = tf.keras.callbacks.TensorBoard(log_dir=log_dir)\n",
        "  print(f'Saving Tensorboard log files to :{log_dir}')\n",
        "  return tensorboard_callback"
      ],
      "metadata": {
        "id": "b7W8J_gLALxh"
      },
      "execution_count": 25,
      "outputs": []
    },
    {
      "cell_type": "markdown",
      "source": [
        "## Creating models using TensorFlow Hub"
      ],
      "metadata": {
        "id": "fFuOjoL-ARrj"
      }
    },
    {
      "cell_type": "code",
      "source": [
        "efficientnet_url = \"https://tfhub.dev/tensorflow/efficientnet/b0/feature-vector/1\""
      ],
      "metadata": {
        "id": "ceh42iUyAd8M"
      },
      "execution_count": 26,
      "outputs": []
    },
    {
      "cell_type": "code",
      "source": [
        "#import dependencies\n",
        "import tensorflow as tf\n",
        "import tensorflow_hub as hub\n",
        "from tensorflow.keras import layers"
      ],
      "metadata": {
        "id": "BLiUpOoxAhJB"
      },
      "execution_count": 27,
      "outputs": []
    },
    {
      "cell_type": "code",
      "source": [
        "#Download pretrained model and save it as keras layer\n",
        "feature_extraction_layer = hub.KerasLayer(efficientnet_url,\n",
        "                                            trainable = False,\n",
        "                                            name = \"feature_extraction_layer\",\n",
        "                                            input_shape = IMAGE_SHAPE+(3,))"
      ],
      "metadata": {
        "id": "D5-5P8LBAjs1"
      },
      "execution_count": 28,
      "outputs": []
    },
    {
      "cell_type": "code",
      "source": [
        "#Create our model\n",
        "model_fe = tf.keras.Sequential([\n",
        "    feature_extraction_layer,\n",
        "    layers.Dense(1, activation =\"sigmoid\", name=\"output_layer\")\n",
        "])"
      ],
      "metadata": {
        "id": "fU-KtZs5AtqZ"
      },
      "execution_count": 41,
      "outputs": []
    },
    {
      "cell_type": "code",
      "source": [
        "#Compile Efficientnet model\n",
        "model_fe.compile(loss = tf.keras.losses.binary_crossentropy,\n",
        "                        optimizer = tf.keras.optimizers.Adam(),\n",
        "                        metrics=[\"accuracy\"])"
      ],
      "metadata": {
        "id": "se4xn6pfA_dg"
      },
      "execution_count": 42,
      "outputs": []
    },
    {
      "cell_type": "code",
      "source": [
        "#Fit the Efficientnet model on training data\n",
        "feature_ex_history = model_fe.fit(train_data,\n",
        "                                  epochs = 5,\n",
        "                                  steps_per_epoch=len(train_data),\n",
        "                                  validation_data = test_data,\n",
        "                                  validation_steps=len(test_data),\n",
        "                                  callbacks=[create_tensorboard_callback(dir_name=\"tensorflow_hub\",\n",
        "                                                              experiment_name=\"efficientnetb0_exercise\")])"
      ],
      "metadata": {
        "colab": {
          "base_uri": "https://localhost:8080/"
        },
        "id": "Co4K10SuCK5w",
        "outputId": "07dbe975-d51c-40a6-cb96-593c8669663e"
      },
      "execution_count": 44,
      "outputs": [
        {
          "output_type": "stream",
          "name": "stdout",
          "text": [
            "Saving Tensorboard log files to :tensorflow_hub/efficientnetb0_exercise/20230130-185646\n",
            "Epoch 1/5\n",
            "1/1 [==============================] - 16s 16s/step - loss: 0.5727 - accuracy: 0.6562 - val_loss: 0.5636 - val_accuracy: 0.6250\n",
            "Epoch 2/5\n",
            "1/1 [==============================] - 3s 3s/step - loss: 0.5261 - accuracy: 0.7188 - val_loss: 0.5249 - val_accuracy: 0.7500\n",
            "Epoch 3/5\n",
            "1/1 [==============================] - 3s 3s/step - loss: 0.4831 - accuracy: 0.8125 - val_loss: 0.4889 - val_accuracy: 0.8750\n",
            "Epoch 4/5\n",
            "1/1 [==============================] - 4s 4s/step - loss: 0.4439 - accuracy: 0.8750 - val_loss: 0.4555 - val_accuracy: 0.8750\n",
            "Epoch 5/5\n",
            "1/1 [==============================] - 3s 3s/step - loss: 0.4082 - accuracy: 0.8750 - val_loss: 0.4246 - val_accuracy: 0.8750\n"
          ]
        }
      ]
    },
    {
      "cell_type": "code",
      "source": [
        "model_fe.summary()"
      ],
      "metadata": {
        "colab": {
          "base_uri": "https://localhost:8080/"
        },
        "id": "LiIAiXXoCb9-",
        "outputId": "9335485c-5e38-4315-e1bf-70ece60a94ac"
      },
      "execution_count": 45,
      "outputs": [
        {
          "output_type": "stream",
          "name": "stdout",
          "text": [
            "Model: \"sequential_3\"\n",
            "_________________________________________________________________\n",
            " Layer (type)                Output Shape              Param #   \n",
            "=================================================================\n",
            " feature_extraction_layer (K  (None, 1280)             4049564   \n",
            " erasLayer)                                                      \n",
            "                                                                 \n",
            " output_layer (Dense)        (None, 1)                 1281      \n",
            "                                                                 \n",
            "=================================================================\n",
            "Total params: 4,050,845\n",
            "Trainable params: 1,281\n",
            "Non-trainable params: 4,049,564\n",
            "_________________________________________________________________\n"
          ]
        }
      ]
    },
    {
      "cell_type": "code",
      "source": [],
      "metadata": {
        "id": "PB70A83lCwfo"
      },
      "execution_count": null,
      "outputs": []
    }
  ]
}