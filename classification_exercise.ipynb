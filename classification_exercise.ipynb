{
  "nbformat": 4,
  "nbformat_minor": 0,
  "metadata": {
    "colab": {
      "provenance": []
    },
    "kernelspec": {
      "name": "python3",
      "display_name": "Python 3"
    },
    "language_info": {
      "name": "python"
    }
  },
  "cells": [
    {
      "cell_type": "code",
      "execution_count": 1,
      "metadata": {
        "id": "ge8jAyHpq-UL"
      },
      "outputs": [],
      "source": [
        "import tensorflow as tf"
      ]
    },
    {
      "cell_type": "markdown",
      "source": [
        "# 1.Replicate the model pictured in the TensorFlow Playground diagram below using TensorFlow code. Compile it using the Adam optimizer, binary crossentropy loss and accuracy metric. Once it's compiled check a summary of the model."
      ],
      "metadata": {
        "id": "25cmTg0Z0Jkj"
      }
    },
    {
      "cell_type": "code",
      "source": [
        "#set random seed\n",
        "tf.random.set_seed(42)\n",
        "\n",
        "#create a model\n",
        "model_0= tf.keras.Sequential([\n",
        "    tf.keras.layers.Dense(6,input_shape=(20,1),activation=\"relu\"),\n",
        "    tf.keras.layers.Dense(6, activation= \"relu\"),\n",
        "    tf.keras.layers.Dense(6, activation = \"relu\"),\n",
        "    tf.keras.layers.Dense(6, activation = \"relu\"),\n",
        "    tf.keras.layers.Dense(6, activation = \"relu\"),\n",
        "    tf.keras.layers.Dense(6, activation = \"relu\"),\n",
        "    tf.keras.layers.Dense(1, activation = \"sigmoid\")\n",
        "])\n",
        "\n",
        "#compile model\n",
        "model_0.compile(loss= tf.keras.losses.BinaryCrossentropy,\n",
        "                optimizer= tf.keras.optimizers.Adam(),\n",
        "                metrics=[\"accuracy\"])\n",
        "\n",
        "model_0.build()"
      ],
      "metadata": {
        "id": "QhdF3MES0OiN"
      },
      "execution_count": 2,
      "outputs": []
    },
    {
      "cell_type": "code",
      "source": [
        "model_0.summary()"
      ],
      "metadata": {
        "colab": {
          "base_uri": "https://localhost:8080/"
        },
        "id": "AhJdHtqs1pyA",
        "outputId": "b1e9146d-4dab-4d95-e35d-0153f9ad56df"
      },
      "execution_count": 3,
      "outputs": [
        {
          "output_type": "stream",
          "name": "stdout",
          "text": [
            "Model: \"sequential\"\n",
            "_________________________________________________________________\n",
            " Layer (type)                Output Shape              Param #   \n",
            "=================================================================\n",
            " dense (Dense)               (None, 20, 6)             12        \n",
            "                                                                 \n",
            " dense_1 (Dense)             (None, 20, 6)             42        \n",
            "                                                                 \n",
            " dense_2 (Dense)             (None, 20, 6)             42        \n",
            "                                                                 \n",
            " dense_3 (Dense)             (None, 20, 6)             42        \n",
            "                                                                 \n",
            " dense_4 (Dense)             (None, 20, 6)             42        \n",
            "                                                                 \n",
            " dense_5 (Dense)             (None, 20, 6)             42        \n",
            "                                                                 \n",
            " dense_6 (Dense)             (None, 20, 1)             7         \n",
            "                                                                 \n",
            "=================================================================\n",
            "Total params: 229\n",
            "Trainable params: 229\n",
            "Non-trainable params: 0\n",
            "_________________________________________________________________\n"
          ]
        }
      ]
    },
    {
      "cell_type": "markdown",
      "source": [
        "# 2.make_moons() "
      ],
      "metadata": {
        "id": "sgDfFBQQ1s5v"
      }
    },
    {
      "cell_type": "code",
      "source": [
        "from sklearn.datasets import make_moons"
      ],
      "metadata": {
        "id": "QxjraKhy2RSo"
      },
      "execution_count": 4,
      "outputs": []
    },
    {
      "cell_type": "code",
      "source": [
        "X, y = make_moons(n_samples=2000, noise=0.1,random_state=42)"
      ],
      "metadata": {
        "id": "IjdzNeRK22jS"
      },
      "execution_count": 5,
      "outputs": []
    },
    {
      "cell_type": "code",
      "source": [
        "X"
      ],
      "metadata": {
        "colab": {
          "base_uri": "https://localhost:8080/"
        },
        "id": "HFkWNd0V3SWo",
        "outputId": "e2067256-0a72-40ff-94df-d64aace93924"
      },
      "execution_count": 6,
      "outputs": [
        {
          "output_type": "execute_result",
          "data": {
            "text/plain": [
              "array([[ 1.7765071 ,  0.19275202],\n",
              "       [ 0.39780872,  0.93039011],\n",
              "       [ 0.49530794, -0.31832132],\n",
              "       ...,\n",
              "       [-0.93649414,  0.52802184],\n",
              "       [ 0.83945777, -0.62600691],\n",
              "       [ 0.15184529,  0.09356277]])"
            ]
          },
          "metadata": {},
          "execution_count": 6
        }
      ]
    },
    {
      "cell_type": "code",
      "source": [
        "y"
      ],
      "metadata": {
        "colab": {
          "base_uri": "https://localhost:8080/"
        },
        "id": "G_CTPzts3UjC",
        "outputId": "970c6758-363a-442e-9868-26aea182e713"
      },
      "execution_count": 7,
      "outputs": [
        {
          "output_type": "execute_result",
          "data": {
            "text/plain": [
              "array([1, 0, 1, ..., 0, 1, 1])"
            ]
          },
          "metadata": {},
          "execution_count": 7
        }
      ]
    },
    {
      "cell_type": "code",
      "source": [
        "import pandas as pd\n",
        "toy = pd.DataFrame({\"X0\":X[:,0],\"X1\": X[:,1],\"label\":y})\n",
        "toy"
      ],
      "metadata": {
        "colab": {
          "base_uri": "https://localhost:8080/",
          "height": 424
        },
        "id": "2h8IQyww4jOZ",
        "outputId": "c210fb89-0153-4712-89c0-f740e513c299"
      },
      "execution_count": 8,
      "outputs": [
        {
          "output_type": "execute_result",
          "data": {
            "text/plain": [
              "            X0        X1  label\n",
              "0     1.776507  0.192752      1\n",
              "1     0.397809  0.930390      0\n",
              "2     0.495308 -0.318321      1\n",
              "3    -0.948944  0.163020      0\n",
              "4     0.484957 -0.338160      1\n",
              "...        ...       ...    ...\n",
              "1995  0.153343  0.104423      1\n",
              "1996  0.383957 -0.340741      1\n",
              "1997 -0.936494  0.528022      0\n",
              "1998  0.839458 -0.626007      1\n",
              "1999  0.151845  0.093563      1\n",
              "\n",
              "[2000 rows x 3 columns]"
            ],
            "text/html": [
              "\n",
              "  <div id=\"df-dc2e3153-5710-4f6a-8ef9-43a97acee85d\">\n",
              "    <div class=\"colab-df-container\">\n",
              "      <div>\n",
              "<style scoped>\n",
              "    .dataframe tbody tr th:only-of-type {\n",
              "        vertical-align: middle;\n",
              "    }\n",
              "\n",
              "    .dataframe tbody tr th {\n",
              "        vertical-align: top;\n",
              "    }\n",
              "\n",
              "    .dataframe thead th {\n",
              "        text-align: right;\n",
              "    }\n",
              "</style>\n",
              "<table border=\"1\" class=\"dataframe\">\n",
              "  <thead>\n",
              "    <tr style=\"text-align: right;\">\n",
              "      <th></th>\n",
              "      <th>X0</th>\n",
              "      <th>X1</th>\n",
              "      <th>label</th>\n",
              "    </tr>\n",
              "  </thead>\n",
              "  <tbody>\n",
              "    <tr>\n",
              "      <th>0</th>\n",
              "      <td>1.776507</td>\n",
              "      <td>0.192752</td>\n",
              "      <td>1</td>\n",
              "    </tr>\n",
              "    <tr>\n",
              "      <th>1</th>\n",
              "      <td>0.397809</td>\n",
              "      <td>0.930390</td>\n",
              "      <td>0</td>\n",
              "    </tr>\n",
              "    <tr>\n",
              "      <th>2</th>\n",
              "      <td>0.495308</td>\n",
              "      <td>-0.318321</td>\n",
              "      <td>1</td>\n",
              "    </tr>\n",
              "    <tr>\n",
              "      <th>3</th>\n",
              "      <td>-0.948944</td>\n",
              "      <td>0.163020</td>\n",
              "      <td>0</td>\n",
              "    </tr>\n",
              "    <tr>\n",
              "      <th>4</th>\n",
              "      <td>0.484957</td>\n",
              "      <td>-0.338160</td>\n",
              "      <td>1</td>\n",
              "    </tr>\n",
              "    <tr>\n",
              "      <th>...</th>\n",
              "      <td>...</td>\n",
              "      <td>...</td>\n",
              "      <td>...</td>\n",
              "    </tr>\n",
              "    <tr>\n",
              "      <th>1995</th>\n",
              "      <td>0.153343</td>\n",
              "      <td>0.104423</td>\n",
              "      <td>1</td>\n",
              "    </tr>\n",
              "    <tr>\n",
              "      <th>1996</th>\n",
              "      <td>0.383957</td>\n",
              "      <td>-0.340741</td>\n",
              "      <td>1</td>\n",
              "    </tr>\n",
              "    <tr>\n",
              "      <th>1997</th>\n",
              "      <td>-0.936494</td>\n",
              "      <td>0.528022</td>\n",
              "      <td>0</td>\n",
              "    </tr>\n",
              "    <tr>\n",
              "      <th>1998</th>\n",
              "      <td>0.839458</td>\n",
              "      <td>-0.626007</td>\n",
              "      <td>1</td>\n",
              "    </tr>\n",
              "    <tr>\n",
              "      <th>1999</th>\n",
              "      <td>0.151845</td>\n",
              "      <td>0.093563</td>\n",
              "      <td>1</td>\n",
              "    </tr>\n",
              "  </tbody>\n",
              "</table>\n",
              "<p>2000 rows × 3 columns</p>\n",
              "</div>\n",
              "      <button class=\"colab-df-convert\" onclick=\"convertToInteractive('df-dc2e3153-5710-4f6a-8ef9-43a97acee85d')\"\n",
              "              title=\"Convert this dataframe to an interactive table.\"\n",
              "              style=\"display:none;\">\n",
              "        \n",
              "  <svg xmlns=\"http://www.w3.org/2000/svg\" height=\"24px\"viewBox=\"0 0 24 24\"\n",
              "       width=\"24px\">\n",
              "    <path d=\"M0 0h24v24H0V0z\" fill=\"none\"/>\n",
              "    <path d=\"M18.56 5.44l.94 2.06.94-2.06 2.06-.94-2.06-.94-.94-2.06-.94 2.06-2.06.94zm-11 1L8.5 8.5l.94-2.06 2.06-.94-2.06-.94L8.5 2.5l-.94 2.06-2.06.94zm10 10l.94 2.06.94-2.06 2.06-.94-2.06-.94-.94-2.06-.94 2.06-2.06.94z\"/><path d=\"M17.41 7.96l-1.37-1.37c-.4-.4-.92-.59-1.43-.59-.52 0-1.04.2-1.43.59L10.3 9.45l-7.72 7.72c-.78.78-.78 2.05 0 2.83L4 21.41c.39.39.9.59 1.41.59.51 0 1.02-.2 1.41-.59l7.78-7.78 2.81-2.81c.8-.78.8-2.07 0-2.86zM5.41 20L4 18.59l7.72-7.72 1.47 1.35L5.41 20z\"/>\n",
              "  </svg>\n",
              "      </button>\n",
              "      \n",
              "  <style>\n",
              "    .colab-df-container {\n",
              "      display:flex;\n",
              "      flex-wrap:wrap;\n",
              "      gap: 12px;\n",
              "    }\n",
              "\n",
              "    .colab-df-convert {\n",
              "      background-color: #E8F0FE;\n",
              "      border: none;\n",
              "      border-radius: 50%;\n",
              "      cursor: pointer;\n",
              "      display: none;\n",
              "      fill: #1967D2;\n",
              "      height: 32px;\n",
              "      padding: 0 0 0 0;\n",
              "      width: 32px;\n",
              "    }\n",
              "\n",
              "    .colab-df-convert:hover {\n",
              "      background-color: #E2EBFA;\n",
              "      box-shadow: 0px 1px 2px rgba(60, 64, 67, 0.3), 0px 1px 3px 1px rgba(60, 64, 67, 0.15);\n",
              "      fill: #174EA6;\n",
              "    }\n",
              "\n",
              "    [theme=dark] .colab-df-convert {\n",
              "      background-color: #3B4455;\n",
              "      fill: #D2E3FC;\n",
              "    }\n",
              "\n",
              "    [theme=dark] .colab-df-convert:hover {\n",
              "      background-color: #434B5C;\n",
              "      box-shadow: 0px 1px 3px 1px rgba(0, 0, 0, 0.15);\n",
              "      filter: drop-shadow(0px 1px 2px rgba(0, 0, 0, 0.3));\n",
              "      fill: #FFFFFF;\n",
              "    }\n",
              "  </style>\n",
              "\n",
              "      <script>\n",
              "        const buttonEl =\n",
              "          document.querySelector('#df-dc2e3153-5710-4f6a-8ef9-43a97acee85d button.colab-df-convert');\n",
              "        buttonEl.style.display =\n",
              "          google.colab.kernel.accessAllowed ? 'block' : 'none';\n",
              "\n",
              "        async function convertToInteractive(key) {\n",
              "          const element = document.querySelector('#df-dc2e3153-5710-4f6a-8ef9-43a97acee85d');\n",
              "          const dataTable =\n",
              "            await google.colab.kernel.invokeFunction('convertToInteractive',\n",
              "                                                     [key], {});\n",
              "          if (!dataTable) return;\n",
              "\n",
              "          const docLinkHtml = 'Like what you see? Visit the ' +\n",
              "            '<a target=\"_blank\" href=https://colab.research.google.com/notebooks/data_table.ipynb>data table notebook</a>'\n",
              "            + ' to learn more about interactive tables.';\n",
              "          element.innerHTML = '';\n",
              "          dataTable['output_type'] = 'display_data';\n",
              "          await google.colab.output.renderOutput(dataTable, element);\n",
              "          const docLink = document.createElement('div');\n",
              "          docLink.innerHTML = docLinkHtml;\n",
              "          element.appendChild(docLink);\n",
              "        }\n",
              "      </script>\n",
              "    </div>\n",
              "  </div>\n",
              "  "
            ]
          },
          "metadata": {},
          "execution_count": 8
        }
      ]
    },
    {
      "cell_type": "code",
      "source": [
        "# Visualise with a plot\n",
        "import matplotlib.pyplot as plt\n",
        "plt.scatter(X[:,0],X[:,1],c=y,cmap=plt.cm.RdYlBu)"
      ],
      "metadata": {
        "colab": {
          "base_uri": "https://localhost:8080/",
          "height": 283
        },
        "id": "6-4fDf6S45PV",
        "outputId": "6f1dbb6a-cd3c-4042-e749-bebc578b7955"
      },
      "execution_count": 9,
      "outputs": [
        {
          "output_type": "execute_result",
          "data": {
            "text/plain": [
              "<matplotlib.collections.PathCollection at 0x7f6c63d738e0>"
            ]
          },
          "metadata": {},
          "execution_count": 9
        },
        {
          "output_type": "display_data",
          "data": {
            "text/plain": [
              "<Figure size 432x288 with 1 Axes>"
            ],
            "image/png": "[encoded data removed]"
          },
          "metadata": {
            "needs_background": "light"
          }
        }
      ]
    },
    {
      "cell_type": "code",
      "source": [
        "#Split regrssion data into training and test sets\n",
        "\n",
        "X_train = X[:1600]\n",
        "X_test = X[1600:]\n",
        "\n",
        "y_train = y[:1600]\n",
        "y_test = y[1600:]"
      ],
      "metadata": {
        "id": "OPwsxbUX5Qu1"
      },
      "execution_count": 10,
      "outputs": []
    },
    {
      "cell_type": "markdown",
      "source": [
        "## Model_0"
      ],
      "metadata": {
        "id": "Jd_EypJn5ARc"
      }
    },
    {
      "cell_type": "code",
      "source": [
        "# Set the random seed\n",
        "tf.random.set_seed(42)\n",
        "\n",
        "#1. create teh model using Sequential API\n",
        "model_0 = tf.keras.Sequential([\n",
        "    tf.keras.layers.Dense(1)\n",
        "])\n",
        "\n",
        "#2. compile the model\n",
        "model_0.compile(loss= tf.keras.losses.BinaryCrossentropy(),\n",
        "                optimizer=tf.keras.optimizers.Adam(),\n",
        "                metrics=[\"accuracy\"])\n",
        "\n",
        "#3. Fit the model\n",
        "history_0=model_0.fit(X_train,y_train,epochs=10)"
      ],
      "metadata": {
        "colab": {
          "base_uri": "https://localhost:8080/"
        },
        "id": "KC_C5rFs5MHM",
        "outputId": "9757111a-e55e-4c45-cb63-76abb99215a9"
      },
      "execution_count": 11,
      "outputs": [
        {
          "output_type": "stream",
          "name": "stdout",
          "text": [
            "Epoch 1/10\n",
            "50/50 [==============================] - 2s 5ms/step - loss: 1.1934 - accuracy: 0.7700\n",
            "Epoch 2/10\n",
            "50/50 [==============================] - 1s 10ms/step - loss: 1.0601 - accuracy: 0.7563\n",
            "Epoch 3/10\n",
            "50/50 [==============================] - 0s 5ms/step - loss: 0.9424 - accuracy: 0.7437\n",
            "Epoch 4/10\n",
            "50/50 [==============================] - 0s 5ms/step - loss: 0.9159 - accuracy: 0.7356\n",
            "Epoch 5/10\n",
            "50/50 [==============================] - 0s 8ms/step - loss: 0.9026 - accuracy: 0.7325\n",
            "Epoch 6/10\n",
            "50/50 [==============================] - 0s 5ms/step - loss: 0.8780 - accuracy: 0.7281\n",
            "Epoch 7/10\n",
            "50/50 [==============================] - 0s 5ms/step - loss: 0.8245 - accuracy: 0.7269\n",
            "Epoch 8/10\n",
            "50/50 [==============================] - 1s 11ms/step - loss: 0.7871 - accuracy: 0.7244\n",
            "Epoch 9/10\n",
            "50/50 [==============================] - 0s 7ms/step - loss: 0.7666 - accuracy: 0.7212\n",
            "Epoch 10/10\n",
            "50/50 [==============================] - 0s 4ms/step - loss: 0.7558 - accuracy: 0.7194\n"
          ]
        }
      ]
    },
    {
      "cell_type": "code",
      "source": [
        "# Make predictions with our trained model\n",
        "y_preds=model_0.predict(X_test)"
      ],
      "metadata": {
        "colab": {
          "base_uri": "https://localhost:8080/"
        },
        "id": "LaBP2uNE6DzC",
        "outputId": "46b533ca-2f21-49a4-8bd4-211e6bf4ea26"
      },
      "execution_count": 12,
      "outputs": [
        {
          "output_type": "stream",
          "name": "stdout",
          "text": [
            "13/13 [==============================] - 0s 5ms/step\n"
          ]
        }
      ]
    },
    {
      "cell_type": "code",
      "source": [
        "model_0_result=model_0.evaluate(X_test,y_test)\n",
        "model_0_result"
      ],
      "metadata": {
        "colab": {
          "base_uri": "https://localhost:8080/"
        },
        "id": "0V6MUD1j7B5d",
        "outputId": "3cce1842-eecf-4ddc-dd6b-dc9b5782d0cb"
      },
      "execution_count": 13,
      "outputs": [
        {
          "output_type": "stream",
          "name": "stdout",
          "text": [
            "13/13 [==============================] - 1s 10ms/step - loss: 0.6576 - accuracy: 0.7425\n"
          ]
        },
        {
          "output_type": "execute_result",
          "data": {
            "text/plain": [
              "[0.6576353311538696, 0.7425000071525574]"
            ]
          },
          "metadata": {},
          "execution_count": 13
        }
      ]
    },
    {
      "cell_type": "code",
      "source": [
        "#Plot the loss curve\n",
        "pd.DataFrame(history_0.history).plot()\n",
        "plt.title(\"Model_0 loss curves\")"
      ],
      "metadata": {
        "colab": {
          "base_uri": "https://localhost:8080/",
          "height": 299
        },
        "id": "QpKdCRlG6iOD",
        "outputId": "398e01fc-7f6e-4185-beeb-a17a98389c5c"
      },
      "execution_count": 14,
      "outputs": [
        {
          "output_type": "execute_result",
          "data": {
            "text/plain": [
              "Text(0.5, 1.0, 'Model_0 loss curves')"
            ]
          },
          "metadata": {},
          "execution_count": 14
        },
        {
          "output_type": "display_data",
          "data": {
            "text/plain": [
              "<Figure size 432x288 with 1 Axes>"
            ],
            "image/png": "[encoded data removed]"
          },
          "metadata": {
            "needs_background": "light"
          }
        }
      ]
    },
    {
      "cell_type": "markdown",
      "source": [
        "##Model_1 : 2 layers"
      ],
      "metadata": {
        "id": "qQhSwJtk65We"
      }
    },
    {
      "cell_type": "code",
      "source": [
        "# Set the random seed\n",
        "tf.random.set_seed(42)\n",
        "\n",
        "#1. create teh model using Sequential API\n",
        "model_1 = tf.keras.Sequential([\n",
        "    tf.keras.layers.Dense(4),\n",
        "    tf.keras.layers.Dense(1)\n",
        "])\n",
        "\n",
        "#2. compile the model\n",
        "model_1.compile(loss= tf.keras.losses.BinaryCrossentropy(),\n",
        "                optimizer=tf.keras.optimizers.Adam(),\n",
        "                metrics=[\"accuracy\"])\n",
        "\n",
        "#3. Fit the model\n",
        "history_1=model_1.fit(X_train,y_train,epochs=10)"
      ],
      "metadata": {
        "colab": {
          "base_uri": "https://localhost:8080/"
        },
        "id": "v6xBm35y7OxC",
        "outputId": "584b5757-7fbe-4b45-ad09-e05314ef1734"
      },
      "execution_count": 15,
      "outputs": [
        {
          "output_type": "stream",
          "name": "stdout",
          "text": [
            "Epoch 1/10\n",
            "50/50 [==============================] - 1s 2ms/step - loss: 3.1101 - accuracy: 0.5113\n",
            "Epoch 2/10\n",
            "50/50 [==============================] - 0s 2ms/step - loss: 1.5834 - accuracy: 0.5156\n",
            "Epoch 3/10\n",
            "50/50 [==============================] - 0s 2ms/step - loss: 0.8297 - accuracy: 0.5638\n",
            "Epoch 4/10\n",
            "50/50 [==============================] - 0s 2ms/step - loss: 0.5785 - accuracy: 0.6500\n",
            "Epoch 5/10\n",
            "50/50 [==============================] - 0s 2ms/step - loss: 0.5036 - accuracy: 0.7194\n",
            "Epoch 6/10\n",
            "50/50 [==============================] - 0s 2ms/step - loss: 0.4463 - accuracy: 0.7769\n",
            "Epoch 7/10\n",
            "50/50 [==============================] - 0s 3ms/step - loss: 0.4032 - accuracy: 0.8138\n",
            "Epoch 8/10\n",
            "50/50 [==============================] - 0s 2ms/step - loss: 0.3659 - accuracy: 0.8487\n",
            "Epoch 9/10\n",
            "50/50 [==============================] - 0s 2ms/step - loss: 0.3337 - accuracy: 0.8644\n",
            "Epoch 10/10\n",
            "50/50 [==============================] - 0s 2ms/step - loss: 0.3050 - accuracy: 0.8725\n"
          ]
        }
      ]
    },
    {
      "cell_type": "code",
      "source": [
        "# Make predictions with our trained model\n",
        "y_preds=model_1.predict(X_test)"
      ],
      "metadata": {
        "colab": {
          "base_uri": "https://localhost:8080/"
        },
        "id": "a1fE_bT67azr",
        "outputId": "84dac588-db2f-4a1d-b0f2-7525584f5c10"
      },
      "execution_count": 16,
      "outputs": [
        {
          "output_type": "stream",
          "name": "stdout",
          "text": [
            "13/13 [==============================] - 0s 2ms/step\n"
          ]
        }
      ]
    },
    {
      "cell_type": "code",
      "source": [
        "model_1_result=model_1.evaluate(X_test,y_test)\n",
        "model_1_result"
      ],
      "metadata": {
        "colab": {
          "base_uri": "https://localhost:8080/"
        },
        "id": "Znd2F09s7sGD",
        "outputId": "f6818069-8411-4f9c-d436-f84e8b2c0b60"
      },
      "execution_count": 17,
      "outputs": [
        {
          "output_type": "stream",
          "name": "stdout",
          "text": [
            "13/13 [==============================] - 0s 2ms/step - loss: 0.2853 - accuracy: 0.8750\n"
          ]
        },
        {
          "output_type": "execute_result",
          "data": {
            "text/plain": [
              "[0.28528517484664917, 0.875]"
            ]
          },
          "metadata": {},
          "execution_count": 17
        }
      ]
    },
    {
      "cell_type": "code",
      "source": [
        "#Plot the loss curve\n",
        "pd.DataFrame(history_1.history).plot()\n",
        "plt.title(\"Model_1 loss curves\")"
      ],
      "metadata": {
        "colab": {
          "base_uri": "https://localhost:8080/",
          "height": 299
        },
        "id": "T1wWh07B7v1Q",
        "outputId": "7d3e697f-6f4e-4730-f978-c61db9a582b1"
      },
      "execution_count": 18,
      "outputs": [
        {
          "output_type": "execute_result",
          "data": {
            "text/plain": [
              "Text(0.5, 1.0, 'Model_1 loss curves')"
            ]
          },
          "metadata": {},
          "execution_count": 18
        },
        {
          "output_type": "display_data",
          "data": {
            "text/plain": [
              "<Figure size 432x288 with 1 Axes>"
            ],
            "image/png": "[encoded data removed]"
          },
          "metadata": {
            "needs_background": "light"
          }
        }
      ]
    },
    {
      "cell_type": "markdown",
      "source": [
        "# 3.Train a model to get 88%+ accuracy on the fashion MNIST test set\n"
      ],
      "metadata": {
        "id": "Kfc81ngu72Pp"
      }
    },
    {
      "cell_type": "code",
      "source": [
        "import tensorflow as tf\n",
        "from tensorflow.keras.datasets import fashion_mnist\n",
        "\n",
        "\n",
        "#The data is already divided into training and test \n",
        "(train_data, train_labels),(test_data, test_labels) = fashion_mnist.load_data()\n"
      ],
      "metadata": {
        "colab": {
          "base_uri": "https://localhost:8080/"
        },
        "id": "CiEOrpDi9CWD",
        "outputId": "1eb0167e-bc02-43b2-aa10-b1efb6b653f3"
      },
      "execution_count": 19,
      "outputs": [
        {
          "output_type": "stream",
          "name": "stdout",
          "text": [
            "Downloading data from https://storage.googleapis.com/tensorflow/tf-keras-datasets/train-labels-idx1-ubyte.gz\n",
            "29515/29515 [==============================] - 0s 0us/step\n",
            "Downloading data from https://storage.googleapis.com/tensorflow/tf-keras-datasets/train-images-idx3-ubyte.gz\n",
            "26421880/26421880 [==============================] - 0s 0us/step\n",
            "Downloading data from https://storage.googleapis.com/tensorflow/tf-keras-datasets/t10k-labels-idx1-ubyte.gz\n",
            "5148/5148 [==============================] - 0s 0us/step\n",
            "Downloading data from https://storage.googleapis.com/tensorflow/tf-keras-datasets/t10k-images-idx3-ubyte.gz\n",
            "4422102/4422102 [==============================] - 0s 0us/step\n"
          ]
        }
      ]
    },
    {
      "cell_type": "code",
      "source": [
        "#CHeck shape of single example\n",
        "train_data[0].shape,train_labels[0].shape"
      ],
      "metadata": {
        "colab": {
          "base_uri": "https://localhost:8080/"
        },
        "id": "JmCfipkT9Fql",
        "outputId": "7ef0c8fb-d2c0-4398-d985-c9084ea36fc8"
      },
      "execution_count": 20,
      "outputs": [
        {
          "output_type": "execute_result",
          "data": {
            "text/plain": [
              "((28, 28), ())"
            ]
          },
          "metadata": {},
          "execution_count": 20
        }
      ]
    },
    {
      "cell_type": "code",
      "source": [
        "class_names=[\"T-shirt/top\",\"Trouser\",\"Pullover\",\"Dress\",\"Coat\",\"Sandal\",\"Shirt\",\"Sneaker\",\"Bag\",\"Ankle boot\"]\n",
        "\n",
        "len(class_names)"
      ],
      "metadata": {
        "colab": {
          "base_uri": "https://localhost:8080/"
        },
        "id": "cvRa9cbX9K5I",
        "outputId": "c7b265c2-40d1-4e2a-fe06-27ab00c7f5c4"
      },
      "execution_count": 21,
      "outputs": [
        {
          "output_type": "execute_result",
          "data": {
            "text/plain": [
              "10"
            ]
          },
          "metadata": {},
          "execution_count": 21
        }
      ]
    },
    {
      "cell_type": "markdown",
      "source": [
        "##Normalise/scaling of data"
      ],
      "metadata": {
        "id": "rufHA2gQ9OEv"
      }
    },
    {
      "cell_type": "code",
      "source": [
        "#training and testing data between 0 and 1 dividing by maximum\n",
        "train_data_norm = train_data /255.0\n",
        "test_data_norm = test_data / 255.0\n",
        "\n",
        "train_data_norm.min(),train_data_norm.max()"
      ],
      "metadata": {
        "colab": {
          "base_uri": "https://localhost:8080/"
        },
        "id": "6SYESSFxCZ8R",
        "outputId": "fe21860e-3ad3-4c4f-9ff8-9621a558da10"
      },
      "execution_count": 22,
      "outputs": [
        {
          "output_type": "execute_result",
          "data": {
            "text/plain": [
              "(0.0, 1.0)"
            ]
          },
          "metadata": {},
          "execution_count": 22
        }
      ]
    },
    {
      "cell_type": "markdown",
      "source": [
        "## Model creation: with the classification tutorial, model with 4 layers , Adam learning rate as 0.01 was having better performance, so going to replicate the same.\n",
        "\n"
      ],
      "metadata": {
        "id": "wNGGJFLICb_s"
      }
    },
    {
      "cell_type": "code",
      "source": [
        "#set random seedd\n",
        "tf.random.set_seed(42)\n",
        "\n",
        "#1.Create model\n",
        "model_0= tf.keras.Sequential([\n",
        "    tf.keras.layers.Flatten(input_shape=(28,28)),\n",
        "    tf.keras.layers.Dense(4,activation =\"relu\"),\n",
        "    tf.keras.layers.Dense(4, activation =\"relu\"),\n",
        "    tf.keras.layers.Dense(10,activation=\"softmax\")])\n",
        "\n",
        "#2. compile the model\n",
        "model_0.compile(loss=tf.keras.losses.SparseCategoricalCrossentropy(),\n",
        "                 optimizer=tf.keras.optimizers.Adam(lr=0.001),\n",
        "                 metrics=[\"accuracy\"])\n",
        "\n",
        "\n",
        "#3.Fit the model\n",
        "history_0=model_0.fit(train_data_norm,train_labels,\n",
        "                              epochs=20,\n",
        "                              validation_data=(test_data_norm,test_labels))"
      ],
      "metadata": {
        "colab": {
          "base_uri": "https://localhost:8080/"
        },
        "id": "TGPa9FDDDAvW",
        "outputId": "3c4cc31a-e399-4945-ac9a-43482e9ea3f6"
      },
      "execution_count": 23,
      "outputs": [
        {
          "output_type": "stream",
          "name": "stderr",
          "text": [
            "/usr/local/lib/python3.8/dist-packages/keras/optimizers/optimizer_v2/adam.py:110: UserWarning: The `lr` argument is deprecated, use `learning_rate` instead.\n",
            "  super(Adam, self).__init__(name, **kwargs)\n"
          ]
        },
        {
          "output_type": "stream",
          "name": "stdout",
          "text": [
            "Epoch 1/20\n",
            "1875/1875 [==============================] - 5s 2ms/step - loss: 1.0348 - accuracy: 0.6474 - val_loss: 0.6937 - val_accuracy: 0.7617\n",
            "Epoch 2/20\n",
            "1875/1875 [==============================] - 4s 2ms/step - loss: 0.6376 - accuracy: 0.7757 - val_loss: 0.6400 - val_accuracy: 0.7820\n",
            "Epoch 3/20\n",
            "1875/1875 [==============================] - 4s 2ms/step - loss: 0.5942 - accuracy: 0.7914 - val_loss: 0.6247 - val_accuracy: 0.7783\n",
            "Epoch 4/20\n",
            "1875/1875 [==============================] - 4s 2ms/step - loss: 0.5750 - accuracy: 0.7979 - val_loss: 0.6078 - val_accuracy: 0.7881\n",
            "Epoch 5/20\n",
            "1875/1875 [==============================] - 4s 2ms/step - loss: 0.5641 - accuracy: 0.8006 - val_loss: 0.6169 - val_accuracy: 0.7881\n",
            "Epoch 6/20\n",
            "1875/1875 [==============================] - 4s 2ms/step - loss: 0.5544 - accuracy: 0.8043 - val_loss: 0.5855 - val_accuracy: 0.7951\n",
            "Epoch 7/20\n",
            "1875/1875 [==============================] - 4s 2ms/step - loss: 0.5488 - accuracy: 0.8063 - val_loss: 0.6097 - val_accuracy: 0.7836\n",
            "Epoch 8/20\n",
            "1875/1875 [==============================] - 4s 2ms/step - loss: 0.5428 - accuracy: 0.8077 - val_loss: 0.5787 - val_accuracy: 0.7971\n",
            "Epoch 9/20\n",
            "1875/1875 [==============================] - 4s 2ms/step - loss: 0.5373 - accuracy: 0.8097 - val_loss: 0.5698 - val_accuracy: 0.7977\n",
            "Epoch 10/20\n",
            "1875/1875 [==============================] - 4s 2ms/step - loss: 0.5360 - accuracy: 0.8124 - val_loss: 0.5658 - val_accuracy: 0.8014\n",
            "Epoch 11/20\n",
            "1875/1875 [==============================] - 4s 2ms/step - loss: 0.5311 - accuracy: 0.8130 - val_loss: 0.5714 - val_accuracy: 0.8002\n",
            "Epoch 12/20\n",
            "1875/1875 [==============================] - 4s 2ms/step - loss: 0.5284 - accuracy: 0.8132 - val_loss: 0.5626 - val_accuracy: 0.8027\n",
            "Epoch 13/20\n",
            "1875/1875 [==============================] - 4s 2ms/step - loss: 0.5271 - accuracy: 0.8138 - val_loss: 0.5619 - val_accuracy: 0.8041\n",
            "Epoch 14/20\n",
            "1875/1875 [==============================] - 4s 2ms/step - loss: 0.5249 - accuracy: 0.8143 - val_loss: 0.5718 - val_accuracy: 0.7991\n",
            "Epoch 15/20\n",
            "1875/1875 [==============================] - 4s 2ms/step - loss: 0.5231 - accuracy: 0.8148 - val_loss: 0.5706 - val_accuracy: 0.8024\n",
            "Epoch 16/20\n",
            "1875/1875 [==============================] - 4s 2ms/step - loss: 0.5203 - accuracy: 0.8162 - val_loss: 0.5731 - val_accuracy: 0.8023\n",
            "Epoch 17/20\n",
            "1875/1875 [==============================] - 4s 2ms/step - loss: 0.5191 - accuracy: 0.8176 - val_loss: 0.5594 - val_accuracy: 0.8030\n",
            "Epoch 18/20\n",
            "1875/1875 [==============================] - 4s 2ms/step - loss: 0.5176 - accuracy: 0.8157 - val_loss: 0.5582 - val_accuracy: 0.8053\n",
            "Epoch 19/20\n",
            "1875/1875 [==============================] - 4s 2ms/step - loss: 0.5156 - accuracy: 0.8169 - val_loss: 0.5644 - val_accuracy: 0.8007\n",
            "Epoch 20/20\n",
            "1875/1875 [==============================] - 4s 2ms/step - loss: 0.5146 - accuracy: 0.8177 - val_loss: 0.5660 - val_accuracy: 0.8075\n"
          ]
        }
      ]
    },
    {
      "cell_type": "code",
      "source": [
        "#Evaluate model on test data\n",
        "model_0_results=model_0.evaluate(test_data_norm,test_labels)\n",
        "model_0_results"
      ],
      "metadata": {
        "colab": {
          "base_uri": "https://localhost:8080/"
        },
        "id": "S3YTYlWRDGCT",
        "outputId": "649a0184-6076-4b25-f4b3-a219a93b65ec"
      },
      "execution_count": 24,
      "outputs": [
        {
          "output_type": "stream",
          "name": "stdout",
          "text": [
            "313/313 [==============================] - 0s 2ms/step - loss: 0.5660 - accuracy: 0.8075\n"
          ]
        },
        {
          "output_type": "execute_result",
          "data": {
            "text/plain": [
              "[0.5659515261650085, 0.8075000047683716]"
            ]
          },
          "metadata": {},
          "execution_count": 24
        }
      ]
    },
    {
      "cell_type": "markdown",
      "source": [
        "## model_1: enhancing the model by adding more dense layers"
      ],
      "metadata": {
        "id": "XHhMA-S-DgX8"
      }
    },
    {
      "cell_type": "code",
      "source": [
        "#set random seedd\n",
        "tf.random.set_seed(42)\n",
        "\n",
        "#1.Create model\n",
        "model_1= tf.keras.Sequential([\n",
        "    tf.keras.layers.Flatten(input_shape=(28,28)),\n",
        "    tf.keras.layers.Dense(50,activation =\"relu\"),\n",
        "    tf.keras.layers.Dense(20, activation =\"relu\"),\n",
        "    tf.keras.layers.Dense(10,activation=\"softmax\")])\n",
        "\n",
        "#2. compile the model\n",
        "model_1.compile(loss=tf.keras.losses.SparseCategoricalCrossentropy(),\n",
        "                 optimizer=tf.keras.optimizers.Adam(lr=0.001),\n",
        "                 metrics=[\"accuracy\"])\n",
        "\n",
        "\n",
        "#3.Fit the model\n",
        "history_1=model_1.fit(train_data_norm,train_labels,\n",
        "                              epochs=20,\n",
        "                              validation_data=(test_data_norm,test_labels))"
      ],
      "metadata": {
        "colab": {
          "base_uri": "https://localhost:8080/"
        },
        "id": "1F8uhZF8D0tO",
        "outputId": "90d9fc20-3c2f-41d5-bc1b-96cef116afa1"
      },
      "execution_count": 25,
      "outputs": [
        {
          "output_type": "stream",
          "name": "stdout",
          "text": [
            "Epoch 1/20\n",
            "1875/1875 [==============================] - 6s 3ms/step - loss: 0.5377 - accuracy: 0.8134 - val_loss: 0.4397 - val_accuracy: 0.8424\n",
            "Epoch 2/20\n",
            "1875/1875 [==============================] - 4s 2ms/step - loss: 0.3991 - accuracy: 0.8577 - val_loss: 0.4575 - val_accuracy: 0.8409\n",
            "Epoch 3/20\n",
            "1875/1875 [==============================] - 4s 2ms/step - loss: 0.3622 - accuracy: 0.8689 - val_loss: 0.4000 - val_accuracy: 0.8534\n",
            "Epoch 4/20\n",
            "1875/1875 [==============================] - 4s 2ms/step - loss: 0.3378 - accuracy: 0.8779 - val_loss: 0.3886 - val_accuracy: 0.8630\n",
            "Epoch 5/20\n",
            "1875/1875 [==============================] - 5s 2ms/step - loss: 0.3200 - accuracy: 0.8834 - val_loss: 0.3889 - val_accuracy: 0.8613\n",
            "Epoch 6/20\n",
            "1875/1875 [==============================] - 5s 2ms/step - loss: 0.3100 - accuracy: 0.8862 - val_loss: 0.3812 - val_accuracy: 0.8602\n",
            "Epoch 7/20\n",
            "1875/1875 [==============================] - 4s 2ms/step - loss: 0.2983 - accuracy: 0.8905 - val_loss: 0.3761 - val_accuracy: 0.8661\n",
            "Epoch 8/20\n",
            "1875/1875 [==============================] - 5s 2ms/step - loss: 0.2888 - accuracy: 0.8935 - val_loss: 0.3458 - val_accuracy: 0.8775\n",
            "Epoch 9/20\n",
            "1875/1875 [==============================] - 4s 2ms/step - loss: 0.2812 - accuracy: 0.8962 - val_loss: 0.3473 - val_accuracy: 0.8780\n",
            "Epoch 10/20\n",
            "1875/1875 [==============================] - 5s 3ms/step - loss: 0.2732 - accuracy: 0.8981 - val_loss: 0.3604 - val_accuracy: 0.8725\n",
            "Epoch 11/20\n",
            "1875/1875 [==============================] - 5s 3ms/step - loss: 0.2665 - accuracy: 0.9005 - val_loss: 0.3736 - val_accuracy: 0.8690\n",
            "Epoch 12/20\n",
            "1875/1875 [==============================] - 5s 3ms/step - loss: 0.2592 - accuracy: 0.9042 - val_loss: 0.3529 - val_accuracy: 0.8757\n",
            "Epoch 13/20\n",
            "1875/1875 [==============================] - 5s 3ms/step - loss: 0.2560 - accuracy: 0.9040 - val_loss: 0.3428 - val_accuracy: 0.8808\n",
            "Epoch 14/20\n",
            "1875/1875 [==============================] - 5s 3ms/step - loss: 0.2503 - accuracy: 0.9074 - val_loss: 0.3384 - val_accuracy: 0.8854\n",
            "Epoch 15/20\n",
            "1875/1875 [==============================] - 5s 3ms/step - loss: 0.2434 - accuracy: 0.9093 - val_loss: 0.3588 - val_accuracy: 0.8754\n",
            "Epoch 16/20\n",
            "1875/1875 [==============================] - 5s 3ms/step - loss: 0.2397 - accuracy: 0.9108 - val_loss: 0.3498 - val_accuracy: 0.8806\n",
            "Epoch 17/20\n",
            "1875/1875 [==============================] - 5s 3ms/step - loss: 0.2349 - accuracy: 0.9120 - val_loss: 0.3574 - val_accuracy: 0.8808\n",
            "Epoch 18/20\n",
            "1875/1875 [==============================] - 5s 3ms/step - loss: 0.2317 - accuracy: 0.9121 - val_loss: 0.3659 - val_accuracy: 0.8787\n",
            "Epoch 19/20\n",
            "1875/1875 [==============================] - 5s 3ms/step - loss: 0.2294 - accuracy: 0.9145 - val_loss: 0.3658 - val_accuracy: 0.8738\n",
            "Epoch 20/20\n",
            "1875/1875 [==============================] - 5s 3ms/step - loss: 0.2238 - accuracy: 0.9169 - val_loss: 0.3677 - val_accuracy: 0.8801\n"
          ]
        }
      ]
    },
    {
      "cell_type": "code",
      "source": [
        "#Evaluate model on test data\n",
        "model_1_results=model_1.evaluate(test_data_norm,test_labels)\n",
        "model_1_results"
      ],
      "metadata": {
        "colab": {
          "base_uri": "https://localhost:8080/"
        },
        "id": "8fFVxZ2Ge8o1",
        "outputId": "e3c49134-eb7b-4ae9-ef0c-9b5e5d770358"
      },
      "execution_count": 26,
      "outputs": [
        {
          "output_type": "stream",
          "name": "stdout",
          "text": [
            "313/313 [==============================] - 0s 2ms/step - loss: 0.3677 - accuracy: 0.8801\n"
          ]
        },
        {
          "output_type": "execute_result",
          "data": {
            "text/plain": [
              "[0.3676620423793793, 0.8801000118255615]"
            ]
          },
          "metadata": {},
          "execution_count": 26
        }
      ]
    },
    {
      "cell_type": "code",
      "source": [
        "#make predictions iwth the model\n",
        "y_probs=model_1.predict(test_data_norm)\n",
        "y_probs[:5]"
      ],
      "metadata": {
        "colab": {
          "base_uri": "https://localhost:8080/"
        },
        "id": "cTFN_HHvgMvj",
        "outputId": "216ea72e-5e8d-478b-9809-f2780413df64"
      },
      "execution_count": 27,
      "outputs": [
        {
          "output_type": "stream",
          "name": "stdout",
          "text": [
            "313/313 [==============================] - 1s 3ms/step\n"
          ]
        },
        {
          "output_type": "execute_result",
          "data": {
            "text/plain": [
              "array([[1.31762556e-09, 5.95623071e-08, 7.67834518e-10, 1.33091788e-07,\n",
              "        1.91952800e-08, 3.69270965e-05, 4.93869612e-09, 1.47536993e-02,\n",
              "        5.27285993e-09, 9.85209227e-01],\n",
              "       [3.26474901e-06, 5.33097497e-16, 9.96249855e-01, 4.56926985e-09,\n",
              "        3.67861986e-03, 5.56510823e-27, 6.82657919e-05, 7.53171145e-32,\n",
              "        1.33956901e-10, 9.56902607e-27],\n",
              "       [8.61788830e-13, 9.99999940e-01, 1.95428306e-14, 1.11952934e-13,\n",
              "        2.38237910e-14, 3.02460013e-19, 2.44233639e-16, 4.09648308e-31,\n",
              "        2.25958380e-17, 3.13101449e-23],\n",
              "       [2.18321802e-11, 9.99999940e-01, 3.15547577e-15, 1.23022800e-10,\n",
              "        4.15212894e-13, 1.07965435e-15, 2.54579971e-14, 5.89341835e-26,\n",
              "        4.45676073e-16, 4.04242868e-17],\n",
              "       [2.35088378e-01, 1.04427988e-13, 6.38582569e-04, 9.22910544e-07,\n",
              "        2.90512951e-04, 8.88730604e-13, 7.63981640e-01, 7.10556683e-17,\n",
              "        5.59157209e-09, 2.00627991e-12]], dtype=float32)"
            ]
          },
          "metadata": {},
          "execution_count": 27
        }
      ]
    },
    {
      "cell_type": "code",
      "source": [
        "#Convert predictions to integer\n",
        "y_preds = y_probs.argmax(axis=1)\n",
        "\n",
        "y_preds[:5]"
      ],
      "metadata": {
        "colab": {
          "base_uri": "https://localhost:8080/"
        },
        "id": "ODB8yWoITpia",
        "outputId": "5fa7498e-d052-444a-e15b-0bb9c2fc77b4"
      },
      "execution_count": 28,
      "outputs": [
        {
          "output_type": "execute_result",
          "data": {
            "text/plain": [
              "array([9, 2, 1, 1, 6])"
            ]
          },
          "metadata": {},
          "execution_count": 28
        }
      ]
    },
    {
      "cell_type": "code",
      "source": [
        "from sklearn.metrics import confusion_matrix\n",
        "confusion_matrix(test_labels,y_preds)"
      ],
      "metadata": {
        "colab": {
          "base_uri": "https://localhost:8080/"
        },
        "id": "jNYpweO2TuJh",
        "outputId": "de1f327e-0fb0-47c1-c3ae-6ee4499d9c41"
      },
      "execution_count": 29,
      "outputs": [
        {
          "output_type": "execute_result",
          "data": {
            "text/plain": [
              "array([[863,   2,  11,  14,   8,   2,  91,   0,   9,   0],\n",
              "       [  3, 978,   2,  11,   4,   0,   0,   0,   2,   0],\n",
              "       [ 23,   1, 810,   3, 113,   0,  50,   0,   0,   0],\n",
              "       [ 40,  13,  15, 817,  81,   0,  27,   0,   7,   0],\n",
              "       [  0,   1,  72,  12, 880,   0,  31,   0,   4,   0],\n",
              "       [  0,   0,   0,   0,   0, 961,   0,  24,   1,  14],\n",
              "       [145,   3,  97,  15, 106,   0, 621,   0,  13,   0],\n",
              "       [  0,   0,   0,   0,   0,  10,   0, 981,   0,   9],\n",
              "       [  8,   0,   3,   2,   6,   2,   4,   3, 972,   0],\n",
              "       [  0,   0,   0,   0,   0,  10,   1,  71,   0, 918]])"
            ]
          },
          "metadata": {},
          "execution_count": 29
        }
      ]
    },
    {
      "cell_type": "code",
      "source": [
        "#Create confusion Matrix\n",
        "from prompt_toolkit.layout.containers import HorizontalAlign\n",
        "from pandas.core.groupby.groupby import F\n",
        "import itertools\n",
        "import numpy as np\n",
        "\n",
        "figsize =(10,10)\n",
        "\n",
        "def make_confusion_matrix(y_true,y_pred,classes=None,\n",
        "                          figsize=(10,10),text_size=15):\n",
        "\n",
        "  #create confusion matrix\n",
        "  cm= confusion_matrix(y_true,tf.round(y_pred))\n",
        "\n",
        "  cm_norm = cm.astype(\"float\")/cm.sum(axis=1)[:,np.newaxis]\n",
        "  n_classes = cm.shape[0]\n",
        "\n",
        "\n",
        "  #Lets prettify it\n",
        "  fig,ax = plt.subplots(figsize=figsize)\n",
        "  #Create a matrix plot\n",
        "  cax = ax.matshow(cm, cmap=plt.cm.Blues)\n",
        "  fig.colorbar(cax)\n",
        "\n",
        "  #set labels to be classes\n",
        "  if classes:\n",
        "    labels = classes\n",
        "  else:\n",
        "    labels = np.arange(cm.shape[0])\n",
        "\n",
        "  #label the axes\n",
        "  ax.set(title=\"Confusion Matrix\",\n",
        "        xlabel=\"Predicted Label\",\n",
        "        ylabel=\"True Label\",\n",
        "        xticks=np.arange(n_classes),\n",
        "        yticks=np.arange(n_classes),\n",
        "        xticklabels=labels,\n",
        "        yticklabels=labels)\n",
        "\n",
        "  #Set x axis labels\n",
        "  ax.xaxis.set_label_position(\"bottom\")\n",
        "  ax.xaxis.tick_bottom()\n",
        "\n",
        "  #Adjust label size\n",
        "  ax.yaxis.label.set_size(text_size)\n",
        "  ax.xaxis.label.set_size(text_size)\n",
        "  ax.title.set_size(text_size)\n",
        "\n",
        "  #set threshold for different colors\n",
        "  threshold= (cm.max()+ cm.min())/2.\n",
        "\n",
        "  #plot the text on each cell\n",
        "  for i,j in itertools.product(range(cm.shape[0]), range(cm.shape[1])):\n",
        "    plt.text(j,i,f\"{cm[i,j]} ({cm_norm[i,j]*100:.1f}%)\",\n",
        "            Horizontalalignment=\"center\",\n",
        "            color=\"white\" if cm[i,j] > threshold else \"black\",\n",
        "            size=text_size)"
      ],
      "metadata": {
        "id": "f-Rdiw7gTwrK"
      },
      "execution_count": 32,
      "outputs": []
    },
    {
      "cell_type": "code",
      "source": [
        "make_confusion_matrix(test_labels,y_preds,figsize=(20,20))"
      ],
      "metadata": {
        "colab": {
          "base_uri": "https://localhost:8080/",
          "height": 1000
        },
        "id": "jmu2xmh3T2dx",
        "outputId": "b9fbab95-f4ee-4c0c-b9bb-9b665b76d091"
      },
      "execution_count": 34,
      "outputs": [
        {
          "output_type": "display_data",
          "data": {
            "text/plain": [
              "<Figure size 1440x1440 with 2 Axes>"
            ],
            "image/png": "[encoded data removed]"
          },
          "metadata": {
            "needs_background": "light"
          }
        }
      ]
    },
    {
      "cell_type": "markdown",
      "source": [
        "# 4.Recreate TensorFlow's softmax activation function in your own code."
      ],
      "metadata": {
        "id": "aBkx5WvPUiMJ"
      }
    },
    {
      "cell_type": "code",
      "source": [
        "#Lets replicate the softmax\n",
        "def softmax(x):\n",
        " e = tf.exp(x)\n",
        " return e / tf.reduce_sum(e)"
      ],
      "metadata": {
        "id": "ocJtASHoT5ld"
      },
      "execution_count": 46,
      "outputs": []
    },
    {
      "cell_type": "markdown",
      "source": [
        "# 5.Create a function (or write code) to visualize multiple image predictions for the fashion MNIST at the same time. Plot at least three different images and their prediction labels at the same time."
      ],
      "metadata": {
        "id": "Iq2jeswJWDM3"
      }
    },
    {
      "cell_type": "code",
      "source": [
        "import random\n",
        "\n",
        "def plot_image(model, images, true_labels, classes):\n",
        "  #loop to iterate over 4 images\n",
        "  for j in range(4):\n",
        "    ax = plt.subplot(2,2,j+1)\n",
        "    #Set up random integer\n",
        "    i = random.randint(0, len(images))\n",
        "    \n",
        "    #create predictions and targets\n",
        "    target_image = images[i]\n",
        "    pred_probs =  model.predict(target_image.reshape(1,28,28))\n",
        "    pred_label = classes[pred_probs.argmax()]\n",
        "    true_label = classes[true_labels[i]]\n",
        "\n",
        "    #Plot the image\n",
        "    plt.imshow(target_image,cmap=plt.cm.binary)\n",
        "\n",
        "    plt.title(f\"Prediction: {pred_label}\")\n",
        "    plt.axis(False)"
      ],
      "metadata": {
        "id": "9HiHFwjoXUSQ"
      },
      "execution_count": 57,
      "outputs": []
    },
    {
      "cell_type": "code",
      "source": [
        "#CHeck out random image and its predictions\n",
        "plot_image(model_1,test_data_norm,test_labels,class_names)"
      ],
      "metadata": {
        "colab": {
          "base_uri": "https://localhost:8080/",
          "height": 335
        },
        "id": "gC7PXDRZYgtj",
        "outputId": "c74726bf-6d6a-43ed-da30-bf404641b4e7"
      },
      "execution_count": 58,
      "outputs": [
        {
          "output_type": "stream",
          "name": "stdout",
          "text": [
            "1/1 [==============================] - 0s 18ms/step\n",
            "1/1 [==============================] - 0s 15ms/step\n",
            "1/1 [==============================] - 0s 17ms/step\n",
            "1/1 [==============================] - 0s 17ms/step\n"
          ]
        },
        {
          "output_type": "display_data",
          "data": {
            "text/plain": [
              "<Figure size 432x288 with 4 Axes>"
            ],
            "image/png": "[encoded data removed]"
          },
          "metadata": {
            "needs_background": "light"
          }
        }
      ]
    },
    {
      "cell_type": "markdown",
      "source": [
        "# 6.Make a function to show an image of a certain class of the fashion MNIST dataset and make a prediction on it. For example, plot 3 images of the T-shirt class with their predictions."
      ],
      "metadata": {
        "id": "w-uk8AxfYjt2"
      }
    },
    {
      "cell_type": "code",
      "source": [
        "def image_class(model, images, true_labels, classes,spec_class):\n",
        "\n",
        "  #getting the index for the specified class\n",
        "  for index in range(len(class_names)):\n",
        "    if class_names[index]==spec_class:\n",
        "      break\n",
        "  \n",
        "  #getting all the images for the specified class\n",
        "  spec_images=[]\n",
        "  for i in range(len(images)):\n",
        "    if true_labels[i]==index:\n",
        "      spec_images.append(images[i])\n",
        "  spec_images=np.array(spec_images)\n",
        "\n",
        "  #loop for 4 images\n",
        "  for j in range(0,4):\n",
        "    ax = plt.subplot(2,2,j+1)\n",
        "    #Set up random integer\n",
        "    i = random.randint(0, len(spec_images))\n",
        "    \n",
        "\n",
        "    #create predictions and targets\n",
        "    target_image = spec_images[i]\n",
        "    pred_probs =  model.predict(target_image.reshape(1,28,28))\n",
        "    pred_label = classes[pred_probs.argmax()]\n",
        "    true_label = classes[index]\n",
        "    \n",
        "    \n",
        "    \n",
        "    #Plot the image\n",
        "    plt.imshow(target_image,cmap=plt.cm.binary)\n",
        "\n",
        "    plt.title(f\"Prediction: {pred_label}\")\n",
        "    plt.axis(False)"
      ],
      "metadata": {
        "id": "ceog8F1KaQ90"
      },
      "execution_count": 91,
      "outputs": []
    },
    {
      "cell_type": "code",
      "source": [
        "image_class(model_1,test_data_norm,test_labels,class_names,'Coat')"
      ],
      "metadata": {
        "colab": {
          "base_uri": "https://localhost:8080/",
          "height": 335
        },
        "id": "6SKvM7znapVP",
        "outputId": "249f9543-1ef8-4119-e97e-ee7caed5574a"
      },
      "execution_count": 93,
      "outputs": [
        {
          "output_type": "stream",
          "name": "stdout",
          "text": [
            "1/1 [==============================] - 0s 29ms/step\n",
            "1/1 [==============================] - 0s 26ms/step\n",
            "1/1 [==============================] - 0s 37ms/step\n",
            "1/1 [==============================] - 0s 72ms/step\n"
          ]
        },
        {
          "output_type": "display_data",
          "data": {
            "text/plain": [
              "<Figure size 432x288 with 4 Axes>"
            ],
            "image/png": "[encoded data removed]"
          },
          "metadata": {
            "needs_background": "light"
          }
        }
      ]
    }
  ]
}