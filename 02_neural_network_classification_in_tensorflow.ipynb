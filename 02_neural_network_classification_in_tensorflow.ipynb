{
  "nbformat": 4,
  "nbformat_minor": 0,
  "metadata": {
    "colab": {
      "provenance": []
    },
    "kernelspec": {
      "name": "python3",
      "display_name": "Python 3"
    },
    "language_info": {
      "name": "python"
    }
  },
  "cells": [
    {
      "cell_type": "markdown",
      "source": [
        " # Introduction to Neural Network Classificcation with Tensorflow"
      ],
      "metadata": {
        "id": "JZnaQJRrqKLR"
      }
    },
    {
      "cell_type": "markdown",
      "source": [
        "1. Binary classification\n",
        "2. Multiclass\n",
        "3. Multilabel"
      ],
      "metadata": {
        "id": "1yRvQHVQ7y5Z"
      }
    },
    {
      "cell_type": "markdown",
      "source": [
        "## Creating data to view and fit"
      ],
      "metadata": {
        "id": "ps4MjGf47v02"
      }
    },
    {
      "cell_type": "code",
      "source": [
        "from sklearn.datasets import make_circles\n",
        "\n",
        "# make 1000 examples\n",
        "n_samples=1000\n",
        "\n",
        "#create circles\n",
        "X,y = make_circles(n_samples,\n",
        "                   noise=0.03,\n",
        "                   random_state=42)"
      ],
      "metadata": {
        "id": "7g8yHbj676gd"
      },
      "execution_count": 36,
      "outputs": []
    },
    {
      "cell_type": "code",
      "source": [
        "# check the features\n",
        "X"
      ],
      "metadata": {
        "colab": {
          "base_uri": "https://localhost:8080/"
        },
        "id": "OLcm48rA-z1q",
        "outputId": "84ad549e-02a1-4b66-e2e5-7141625327c8"
      },
      "execution_count": 3,
      "outputs": [
        {
          "output_type": "execute_result",
          "data": {
            "text/plain": [
              "array([[ 0.75424625,  0.23148074],\n",
              "       [-0.75615888,  0.15325888],\n",
              "       [-0.81539193,  0.17328203],\n",
              "       ...,\n",
              "       [-0.13690036, -0.81001183],\n",
              "       [ 0.67036156, -0.76750154],\n",
              "       [ 0.28105665,  0.96382443]])"
            ]
          },
          "metadata": {},
          "execution_count": 3
        }
      ]
    },
    {
      "cell_type": "code",
      "source": [
        "#check the labels\n",
        "y[:10]"
      ],
      "metadata": {
        "colab": {
          "base_uri": "https://localhost:8080/"
        },
        "id": "jN57wLfu-8aA",
        "outputId": "85cd1cc4-ad6b-4d36-e19b-9022a525797b"
      },
      "execution_count": 4,
      "outputs": [
        {
          "output_type": "execute_result",
          "data": {
            "text/plain": [
              "array([1, 1, 1, 1, 0, 1, 1, 1, 1, 0])"
            ]
          },
          "metadata": {},
          "execution_count": 4
        }
      ]
    },
    {
      "cell_type": "markdown",
      "source": [
        "Visualise data"
      ],
      "metadata": {
        "id": "WVeZibdH_TaT"
      }
    },
    {
      "cell_type": "code",
      "source": [
        "import pandas as pd\n",
        "circles = pd.DataFrame({\"X0\":X[:,0],\"X1\": X[:,1],\"label\":y})\n",
        "circles"
      ],
      "metadata": {
        "colab": {
          "base_uri": "https://localhost:8080/",
          "height": 424
        },
        "id": "c57b2Kf4_VdL",
        "outputId": "45f047d5-b152-48fe-e32f-51a5066e60d6"
      },
      "execution_count": 5,
      "outputs": [
        {
          "output_type": "execute_result",
          "data": {
            "text/plain": [
              "           X0        X1  label\n",
              "0    0.754246  0.231481      1\n",
              "1   -0.756159  0.153259      1\n",
              "2   -0.815392  0.173282      1\n",
              "3   -0.393731  0.692883      1\n",
              "4    0.442208 -0.896723      0\n",
              "..        ...       ...    ...\n",
              "995  0.244054  0.944125      0\n",
              "996 -0.978655 -0.272373      0\n",
              "997 -0.136900 -0.810012      1\n",
              "998  0.670362 -0.767502      0\n",
              "999  0.281057  0.963824      0\n",
              "\n",
              "[1000 rows x 3 columns]"
            ],
            "text/html": [
              "\n",
              "  <div id=\"df-b0f727b5-8e4a-428c-99e3-a954ea81d81e\">\n",
              "    <div class=\"colab-df-container\">\n",
              "      <div>\n",
              "<style scoped>\n",
              "    .dataframe tbody tr th:only-of-type {\n",
              "        vertical-align: middle;\n",
              "    }\n",
              "\n",
              "    .dataframe tbody tr th {\n",
              "        vertical-align: top;\n",
              "    }\n",
              "\n",
              "    .dataframe thead th {\n",
              "        text-align: right;\n",
              "    }\n",
              "</style>\n",
              "<table border=\"1\" class=\"dataframe\">\n",
              "  <thead>\n",
              "    <tr style=\"text-align: right;\">\n",
              "      <th></th>\n",
              "      <th>X0</th>\n",
              "      <th>X1</th>\n",
              "      <th>label</th>\n",
              "    </tr>\n",
              "  </thead>\n",
              "  <tbody>\n",
              "    <tr>\n",
              "      <th>0</th>\n",
              "      <td>0.754246</td>\n",
              "      <td>0.231481</td>\n",
              "      <td>1</td>\n",
              "    </tr>\n",
              "    <tr>\n",
              "      <th>1</th>\n",
              "      <td>-0.756159</td>\n",
              "      <td>0.153259</td>\n",
              "      <td>1</td>\n",
              "    </tr>\n",
              "    <tr>\n",
              "      <th>2</th>\n",
              "      <td>-0.815392</td>\n",
              "      <td>0.173282</td>\n",
              "      <td>1</td>\n",
              "    </tr>\n",
              "    <tr>\n",
              "      <th>3</th>\n",
              "      <td>-0.393731</td>\n",
              "      <td>0.692883</td>\n",
              "      <td>1</td>\n",
              "    </tr>\n",
              "    <tr>\n",
              "      <th>4</th>\n",
              "      <td>0.442208</td>\n",
              "      <td>-0.896723</td>\n",
              "      <td>0</td>\n",
              "    </tr>\n",
              "    <tr>\n",
              "      <th>...</th>\n",
              "      <td>...</td>\n",
              "      <td>...</td>\n",
              "      <td>...</td>\n",
              "    </tr>\n",
              "    <tr>\n",
              "      <th>995</th>\n",
              "      <td>0.244054</td>\n",
              "      <td>0.944125</td>\n",
              "      <td>0</td>\n",
              "    </tr>\n",
              "    <tr>\n",
              "      <th>996</th>\n",
              "      <td>-0.978655</td>\n",
              "      <td>-0.272373</td>\n",
              "      <td>0</td>\n",
              "    </tr>\n",
              "    <tr>\n",
              "      <th>997</th>\n",
              "      <td>-0.136900</td>\n",
              "      <td>-0.810012</td>\n",
              "      <td>1</td>\n",
              "    </tr>\n",
              "    <tr>\n",
              "      <th>998</th>\n",
              "      <td>0.670362</td>\n",
              "      <td>-0.767502</td>\n",
              "      <td>0</td>\n",
              "    </tr>\n",
              "    <tr>\n",
              "      <th>999</th>\n",
              "      <td>0.281057</td>\n",
              "      <td>0.963824</td>\n",
              "      <td>0</td>\n",
              "    </tr>\n",
              "  </tbody>\n",
              "</table>\n",
              "<p>1000 rows × 3 columns</p>\n",
              "</div>\n",
              "      <button class=\"colab-df-convert\" onclick=\"convertToInteractive('df-b0f727b5-8e4a-428c-99e3-a954ea81d81e')\"\n",
              "              title=\"Convert this dataframe to an interactive table.\"\n",
              "              style=\"display:none;\">\n",
              "        \n",
              "  <svg xmlns=\"http://www.w3.org/2000/svg\" height=\"24px\"viewBox=\"0 0 24 24\"\n",
              "       width=\"24px\">\n",
              "    <path d=\"M0 0h24v24H0V0z\" fill=\"none\"/>\n",
              "    <path d=\"M18.56 5.44l.94 2.06.94-2.06 2.06-.94-2.06-.94-.94-2.06-.94 2.06-2.06.94zm-11 1L8.5 8.5l.94-2.06 2.06-.94-2.06-.94L8.5 2.5l-.94 2.06-2.06.94zm10 10l.94 2.06.94-2.06 2.06-.94-2.06-.94-.94-2.06-.94 2.06-2.06.94z\"/><path d=\"M17.41 7.96l-1.37-1.37c-.4-.4-.92-.59-1.43-.59-.52 0-1.04.2-1.43.59L10.3 9.45l-7.72 7.72c-.78.78-.78 2.05 0 2.83L4 21.41c.39.39.9.59 1.41.59.51 0 1.02-.2 1.41-.59l7.78-7.78 2.81-2.81c.8-.78.8-2.07 0-2.86zM5.41 20L4 18.59l7.72-7.72 1.47 1.35L5.41 20z\"/>\n",
              "  </svg>\n",
              "      </button>\n",
              "      \n",
              "  <style>\n",
              "    .colab-df-container {\n",
              "      display:flex;\n",
              "      flex-wrap:wrap;\n",
              "      gap: 12px;\n",
              "    }\n",
              "\n",
              "    .colab-df-convert {\n",
              "      background-color: #E8F0FE;\n",
              "      border: none;\n",
              "      border-radius: 50%;\n",
              "      cursor: pointer;\n",
              "      display: none;\n",
              "      fill: #1967D2;\n",
              "      height: 32px;\n",
              "      padding: 0 0 0 0;\n",
              "      width: 32px;\n",
              "    }\n",
              "\n",
              "    .colab-df-convert:hover {\n",
              "      background-color: #E2EBFA;\n",
              "      box-shadow: 0px 1px 2px rgba(60, 64, 67, 0.3), 0px 1px 3px 1px rgba(60, 64, 67, 0.15);\n",
              "      fill: #174EA6;\n",
              "    }\n",
              "\n",
              "    [theme=dark] .colab-df-convert {\n",
              "      background-color: #3B4455;\n",
              "      fill: #D2E3FC;\n",
              "    }\n",
              "\n",
              "    [theme=dark] .colab-df-convert:hover {\n",
              "      background-color: #434B5C;\n",
              "      box-shadow: 0px 1px 3px 1px rgba(0, 0, 0, 0.15);\n",
              "      filter: drop-shadow(0px 1px 2px rgba(0, 0, 0, 0.3));\n",
              "      fill: #FFFFFF;\n",
              "    }\n",
              "  </style>\n",
              "\n",
              "      <script>\n",
              "        const buttonEl =\n",
              "          document.querySelector('#df-b0f727b5-8e4a-428c-99e3-a954ea81d81e button.colab-df-convert');\n",
              "        buttonEl.style.display =\n",
              "          google.colab.kernel.accessAllowed ? 'block' : 'none';\n",
              "\n",
              "        async function convertToInteractive(key) {\n",
              "          const element = document.querySelector('#df-b0f727b5-8e4a-428c-99e3-a954ea81d81e');\n",
              "          const dataTable =\n",
              "            await google.colab.kernel.invokeFunction('convertToInteractive',\n",
              "                                                     [key], {});\n",
              "          if (!dataTable) return;\n",
              "\n",
              "          const docLinkHtml = 'Like what you see? Visit the ' +\n",
              "            '<a target=\"_blank\" href=https://colab.research.google.com/notebooks/data_table.ipynb>data table notebook</a>'\n",
              "            + ' to learn more about interactive tables.';\n",
              "          element.innerHTML = '';\n",
              "          dataTable['output_type'] = 'display_data';\n",
              "          await google.colab.output.renderOutput(dataTable, element);\n",
              "          const docLink = document.createElement('div');\n",
              "          docLink.innerHTML = docLinkHtml;\n",
              "          element.appendChild(docLink);\n",
              "        }\n",
              "      </script>\n",
              "    </div>\n",
              "  </div>\n",
              "  "
            ]
          },
          "metadata": {},
          "execution_count": 5
        }
      ]
    },
    {
      "cell_type": "code",
      "source": [
        "# Visualise with a plot\n",
        "import matplotlib.pyplot as plt\n",
        "plt.scatter(X[:,0],X[:,1],c=y,cmap=plt.cm.RdYlBu)"
      ],
      "metadata": {
        "colab": {
          "base_uri": "https://localhost:8080/",
          "height": 283
        },
        "id": "chBslbi7_iY1",
        "outputId": "25432d12-2bf6-47a3-8734-061959fa398f"
      },
      "execution_count": 6,
      "outputs": [
        {
          "output_type": "execute_result",
          "data": {
            "text/plain": [
              "<matplotlib.collections.PathCollection at 0x7fee3f2208e0>"
            ]
          },
          "metadata": {},
          "execution_count": 6
        },
        {
          "output_type": "display_data",
          "data": {
            "text/plain": [
              "<Figure size 432x288 with 1 Axes>"
            ],
            "image/png": "[encoded data removed]"
          },
          "metadata": {
            "needs_background": "light"
          }
        }
      ]
    },
    {
      "cell_type": "markdown",
      "source": [
        "## Input and Output Shapes"
      ],
      "metadata": {
        "id": "x_H07y0FAMhW"
      }
    },
    {
      "cell_type": "code",
      "source": [
        "#Check the shapres of our features and labels\n",
        "X.shape, y.shape"
      ],
      "metadata": {
        "colab": {
          "base_uri": "https://localhost:8080/"
        },
        "id": "X8IfIcHrAzXe",
        "outputId": "dacb6764-6b21-4c0d-8fc7-d8a27388f8a7"
      },
      "execution_count": 7,
      "outputs": [
        {
          "output_type": "execute_result",
          "data": {
            "text/plain": [
              "((1000, 2), (1000,))"
            ]
          },
          "metadata": {},
          "execution_count": 7
        }
      ]
    },
    {
      "cell_type": "code",
      "source": [
        "#How many samples we're working\n",
        "len(X), len(y)"
      ],
      "metadata": {
        "colab": {
          "base_uri": "https://localhost:8080/"
        },
        "id": "3AAHoJz6A5a0",
        "outputId": "43b06738-12b4-43dc-b7ce-3004dd7d7933"
      },
      "execution_count": 8,
      "outputs": [
        {
          "output_type": "execute_result",
          "data": {
            "text/plain": [
              "(1000, 1000)"
            ]
          },
          "metadata": {},
          "execution_count": 8
        }
      ]
    },
    {
      "cell_type": "code",
      "source": [
        "#View the first example of features and labels\n",
        "X[5], y[5]"
      ],
      "metadata": {
        "colab": {
          "base_uri": "https://localhost:8080/"
        },
        "id": "zMucmjJ_A-XD",
        "outputId": "c89553ff-195f-42be-eb0f-6956789581d2"
      },
      "execution_count": 9,
      "outputs": [
        {
          "output_type": "execute_result",
          "data": {
            "text/plain": [
              "(array([-0.47964637,  0.67643477]), 1)"
            ]
          },
          "metadata": {},
          "execution_count": 9
        }
      ]
    },
    {
      "cell_type": "markdown",
      "source": [
        "## Steps in modelling"
      ],
      "metadata": {
        "id": "37qjxjSrBDiJ"
      }
    },
    {
      "cell_type": "code",
      "source": [
        "import tensorflow as tf\n",
        "import numpy as np"
      ],
      "metadata": {
        "id": "S4ujs3VZCSzT"
      },
      "execution_count": 10,
      "outputs": []
    },
    {
      "cell_type": "code",
      "source": [
        "# Set the random seed\n",
        "tf.random.set_seed(42)\n",
        "\n",
        "#1. create teh model using Sequential API\n",
        "model_1 = tf.keras.Sequential([\n",
        "    tf.keras.layers.Dense(1)\n",
        "])\n",
        "\n",
        "#2. compile the model\n",
        "model_1.compile(loss= tf.keras.losses.BinaryCrossentropy(),\n",
        "                optimizer=tf.keras.optimizers.SGD(),\n",
        "                metrics=[\"accuracy\"])\n",
        "\n",
        "#3. Fit the model\n",
        "model_1.fit(X,y,epochs=5)"
      ],
      "metadata": {
        "colab": {
          "base_uri": "https://localhost:8080/"
        },
        "id": "U-zhWt7tBKkq",
        "outputId": "3f1415bc-8758-4245-86c7-fe1efb277337"
      },
      "execution_count": 11,
      "outputs": [
        {
          "output_type": "stream",
          "name": "stdout",
          "text": [
            "Epoch 1/5\n",
            "32/32 [==============================] - 1s 7ms/step - loss: 2.8544 - accuracy: 0.4600\n",
            "Epoch 2/5\n",
            "32/32 [==============================] - 0s 8ms/step - loss: 0.7131 - accuracy: 0.5430\n",
            "Epoch 3/5\n",
            "32/32 [==============================] - 0s 3ms/step - loss: 0.6973 - accuracy: 0.5090\n",
            "Epoch 4/5\n",
            "32/32 [==============================] - 0s 3ms/step - loss: 0.6950 - accuracy: 0.5010\n",
            "Epoch 5/5\n",
            "32/32 [==============================] - 0s 3ms/step - loss: 0.6942 - accuracy: 0.4820\n"
          ]
        },
        {
          "output_type": "execute_result",
          "data": {
            "text/plain": [
              "<keras.callbacks.History at 0x7fede3f9b940>"
            ]
          },
          "metadata": {},
          "execution_count": 11
        }
      ]
    },
    {
      "cell_type": "code",
      "source": [
        "# lets try improve our model by training longer\n",
        "model_1.fit(X,y,epochs=200,verbose=0)"
      ],
      "metadata": {
        "colab": {
          "base_uri": "https://localhost:8080/"
        },
        "id": "-2kmbfDACVhG",
        "outputId": "08cbbb24-1fb2-4a1f-eb76-9ce05f2ca610"
      },
      "execution_count": 12,
      "outputs": [
        {
          "output_type": "execute_result",
          "data": {
            "text/plain": [
              "<keras.callbacks.History at 0x7fede259afa0>"
            ]
          },
          "metadata": {},
          "execution_count": 12
        }
      ]
    },
    {
      "cell_type": "code",
      "source": [
        "model_1.evaluate(X,y)"
      ],
      "metadata": {
        "colab": {
          "base_uri": "https://localhost:8080/"
        },
        "id": "_lIc0zd0Dnvk",
        "outputId": "13331660-560d-4276-c30c-e9566e533904"
      },
      "execution_count": 13,
      "outputs": [
        {
          "output_type": "stream",
          "name": "stdout",
          "text": [
            "32/32 [==============================] - 0s 1ms/step - loss: 0.6935 - accuracy: 0.5000\n"
          ]
        },
        {
          "output_type": "execute_result",
          "data": {
            "text/plain": [
              "[0.6934831142425537, 0.5]"
            ]
          },
          "metadata": {},
          "execution_count": 13
        }
      ]
    },
    {
      "cell_type": "markdown",
      "source": [
        "Lets add an extra layer"
      ],
      "metadata": {
        "id": "Xf2luvqfExD5"
      }
    },
    {
      "cell_type": "code",
      "source": [
        "tf.random.set_seed(42)\n",
        "\n",
        "#1. create model\n",
        "model_2 = tf.keras.Sequential([\n",
        "    tf.keras.layers.Dense(1),\n",
        "    tf.keras.layers.Dense(1)\n",
        "])\n",
        "\n",
        "#2. Compile the model\n",
        "model_2.compile(loss = tf.keras.losses.BinaryCrossentropy(),\n",
        "                optimizer=tf.keras.optimizers.SGD(),\n",
        "                metrics=[\"accuracy\"])\n",
        "\n",
        "#3. Fit the model\n",
        "model_2.fit(X,y,epochs=100,verbose=0)"
      ],
      "metadata": {
        "colab": {
          "base_uri": "https://localhost:8080/"
        },
        "id": "uzqP7ucODq8i",
        "outputId": "af6620de-0878-4bb1-d4b1-de1ba90d2778"
      },
      "execution_count": 14,
      "outputs": [
        {
          "output_type": "execute_result",
          "data": {
            "text/plain": [
              "<keras.callbacks.History at 0x7fede14fb580>"
            ]
          },
          "metadata": {},
          "execution_count": 14
        }
      ]
    },
    {
      "cell_type": "code",
      "source": [
        "#4. Evaluate the model\n",
        "model_2.evaluate(X,y)"
      ],
      "metadata": {
        "colab": {
          "base_uri": "https://localhost:8080/"
        },
        "id": "aUfxJ6x9EeLa",
        "outputId": "d3003892-45dd-489d-cbb3-f808fc190be0"
      },
      "execution_count": 15,
      "outputs": [
        {
          "output_type": "stream",
          "name": "stdout",
          "text": [
            "32/32 [==============================] - 0s 1ms/step - loss: 0.6933 - accuracy: 0.5000\n"
          ]
        },
        {
          "output_type": "execute_result",
          "data": {
            "text/plain": [
              "[0.6933314204216003, 0.5]"
            ]
          },
          "metadata": {},
          "execution_count": 15
        }
      ]
    },
    {
      "cell_type": "markdown",
      "source": [
        "## Improving our Model"
      ],
      "metadata": {
        "id": "x0XT682jEi4J"
      }
    },
    {
      "cell_type": "markdown",
      "source": [
        "1. create a model - add more layers or increase no of hidden units within a layer\n",
        "2. compile model - choose a diff optimisation fn such as Adam\n",
        "3. fitting a model - add more epochs"
      ],
      "metadata": {
        "id": "k_B0pvTOE7nn"
      }
    },
    {
      "cell_type": "code",
      "source": [
        "# set the random seed\n",
        "tf.random.set_seed(42)\n",
        "\n",
        "#1. create a model with 3 layers\n",
        "model_3=tf.keras.Sequential([\n",
        "    tf.keras.layers.Dense(100), #add 100 dense neurons\n",
        "    tf.keras.layers.Dense(10), #add another layer with 10 neurons\n",
        "    tf.keras.layers.Dense(1)\n",
        "])\n",
        "\n",
        "\n",
        "#2. compile the model\n",
        "model_3.compile(loss= tf.keras.losses.BinaryCrossentropy(),\n",
        "                optimizer= tf.keras.optimizers.Adam(),\n",
        "                metrics=[\"accuracy\"])\n",
        "\n",
        "#3. fit the model\n",
        "model_3.fit(X,y, epochs=100, verbose=0)"
      ],
      "metadata": {
        "colab": {
          "base_uri": "https://localhost:8080/"
        },
        "id": "ORV3bc6wE06u",
        "outputId": "70352c8c-44eb-42e2-a08e-1da3718cea0b"
      },
      "execution_count": 16,
      "outputs": [
        {
          "output_type": "execute_result",
          "data": {
            "text/plain": [
              "<keras.callbacks.History at 0x7fede3e4e670>"
            ]
          },
          "metadata": {},
          "execution_count": 16
        }
      ]
    },
    {
      "cell_type": "code",
      "source": [
        "#4. Evaluate model\n",
        "model_3.evaluate(X,y)"
      ],
      "metadata": {
        "colab": {
          "base_uri": "https://localhost:8080/"
        },
        "id": "2c5V2Fp9MBEY",
        "outputId": "54d807b9-a697-4665-bc97-43fd91985f2b"
      },
      "execution_count": 17,
      "outputs": [
        {
          "output_type": "stream",
          "name": "stdout",
          "text": [
            "32/32 [==============================] - 0s 2ms/step - loss: 0.6980 - accuracy: 0.5080\n"
          ]
        },
        {
          "output_type": "execute_result",
          "data": {
            "text/plain": [
              "[0.6980254650115967, 0.5080000162124634]"
            ]
          },
          "metadata": {},
          "execution_count": 17
        }
      ]
    },
    {
      "cell_type": "markdown",
      "source": [
        "function to visualise models Predictions\n",
        "\n",
        "1. take trained model, X and y\n",
        "2. create meshgrif of diff X values\n",
        "3. Make prediction acroos meshgrid\n",
        "4. Plot the predictions as well as a line between zones\n"
      ],
      "metadata": {
        "id": "34eIfrqjMGCY"
      }
    },
    {
      "cell_type": "code",
      "source": [
        "def plot_decision_boundary(model,X,y):\n",
        "  #define axis boundaries and create meshgrid\n",
        "  x_min,x_max = X[:,0].min() - 0.1, X[:,0].max() +0.1\n",
        "  y_min,y_max = X[:,1].min()-0.1,X[:,1].max() +0.1\n",
        "  xx, yy = np.meshgrid(np.linspace(x_min,x_max,100),\n",
        "                     np.linspace(y_min,y_max,100))\n",
        "\n",
        "  #Create X values\n",
        "  x_in = np.c_[xx.ravel(),yy.ravel()] #stack 2D arrays together\n",
        "\n",
        "  #Make prediction\n",
        "  y_pred=model.predict(x_in)\n",
        "\n",
        "  #Check for multi-class\n",
        "  if len(y_pred[0]) > 1:\n",
        "    print(\"doing multiclass classification\")\n",
        "\n",
        "    #We have to reshape predictions to get them for plotiing\n",
        "    y_pred = np.argmax(y_pred,axis=1).reshape(xx.shape)\n",
        "\n",
        "  else:\n",
        "    print(\"doing binary classification\")\n",
        "    y_pred = np.round(y_pred).reshape(xx.shape)\n",
        "\n",
        "  #Plot decision boundary\n",
        "  plt.contourf(xx,yy,y_pred, cmap=plt.cm.RdYlBu, alpha=0.7)\n",
        "  plt.scatter(X[:,0],X[:,1],c =y, s=40,cmap=plt.cm.RdYlBu)\n",
        "  plt.xlim(xx.min(),xx.max())\n",
        "  plt.ylim(yy.min(),yy.max())"
      ],
      "metadata": {
        "id": "ZUr-05acOQwc"
      },
      "execution_count": 18,
      "outputs": []
    },
    {
      "cell_type": "code",
      "source": [
        "#Check out the predictions\n",
        "plot_decision_boundary(model = model_3,\n",
        "                       X=X,\n",
        "                       y=y)"
      ],
      "metadata": {
        "colab": {
          "base_uri": "https://localhost:8080/",
          "height": 301
        },
        "id": "GKRl5-fjQvml",
        "outputId": "7e71f762-daf6-45e8-d5f6-051e11d21a05"
      },
      "execution_count": 19,
      "outputs": [
        {
          "output_type": "stream",
          "name": "stdout",
          "text": [
            "313/313 [==============================] - 1s 2ms/step\n",
            "doing binary classification\n"
          ]
        },
        {
          "output_type": "display_data",
          "data": {
            "text/plain": [
              "<Figure size 432x288 with 1 Axes>"
            ],
            "image/png": "[encoded data removed]"
          },
          "metadata": {
            "needs_background": "light"
          }
        }
      ]
    },
    {
      "cell_type": "code",
      "source": [
        " #Lets see if the model can be used for regression model\n",
        "\n",
        " tf.random.set_seed(42)\n",
        "\n",
        " #Create some regreesion data\n",
        " X_regression = np.expand_dims(tf.range(0,1000,5),axis=1)\n",
        " y_regression = np.expand_dims(tf.range(100,1100,5),axis=1) # y =X+10\n",
        "\n",
        " #Split regrssion data into training and test sets\n",
        "\n",
        "X_reg_train = X_regression[:150]\n",
        "X_reg_test = X_regression[150:]\n",
        "\n",
        "y_reg_train = y_regression[:150]\n",
        "y_reg_test = y_regression[150:]\n",
        "\n",
        "#Fit our model to the regression data\n",
        "model_3.fit(X_reg_train,y_reg_train,epochs=100)"
      ],
      "metadata": {
        "id": "LJnzZY5BQ2U1",
        "colab": {
          "base_uri": "https://localhost:8080/",
          "height": 496
        },
        "outputId": "bc75d9a7-2890-4fef-94fb-94e4bdfd15a2"
      },
      "execution_count": 26,
      "outputs": [
        {
          "output_type": "stream",
          "name": "stdout",
          "text": [
            "Epoch 1/100\n"
          ]
        },
        {
          "output_type": "error",
          "ename": "ValueError",
          "evalue": "ignored",
          "traceback": [
            "\u001b[0;31m---------------------------------------------------------------------------\u001b[0m",
            "\u001b[0;31mValueError\u001b[0m                                Traceback (most recent call last)",
            "\u001b[0;32m<ipython-input-26-450c6e1dd8eb>\u001b[0m in \u001b[0;36m<module>\u001b[0;34m\u001b[0m\n\u001b[1;32m     16\u001b[0m \u001b[0;34m\u001b[0m\u001b[0m\n\u001b[1;32m     17\u001b[0m \u001b[0;31m#Fit our model to the regression data\u001b[0m\u001b[0;34m\u001b[0m\u001b[0;34m\u001b[0m\u001b[0;34m\u001b[0m\u001b[0m\n\u001b[0;32m---> 18\u001b[0;31m \u001b[0mmodel_3\u001b[0m\u001b[0;34m.\u001b[0m\u001b[0mfit\u001b[0m\u001b[0;34m(\u001b[0m\u001b[0mX_reg_train\u001b[0m\u001b[0;34m,\u001b[0m\u001b[0my_reg_train\u001b[0m\u001b[0;34m,\u001b[0m\u001b[0mepochs\u001b[0m\u001b[0;34m=\u001b[0m\u001b[0;36m100\u001b[0m\u001b[0;34m)\u001b[0m\u001b[0;34m\u001b[0m\u001b[0;34m\u001b[0m\u001b[0m\n\u001b[0m",
            "\u001b[0;32m/usr/local/lib/python3.8/dist-packages/keras/utils/traceback_utils.py\u001b[0m in \u001b[0;36merror_handler\u001b[0;34m(*args, **kwargs)\u001b[0m\n\u001b[1;32m     65\u001b[0m     \u001b[0;32mexcept\u001b[0m \u001b[0mException\u001b[0m \u001b[0;32mas\u001b[0m \u001b[0me\u001b[0m\u001b[0;34m:\u001b[0m  \u001b[0;31m# pylint: disable=broad-except\u001b[0m\u001b[0;34m\u001b[0m\u001b[0;34m\u001b[0m\u001b[0m\n\u001b[1;32m     66\u001b[0m       \u001b[0mfiltered_tb\u001b[0m \u001b[0;34m=\u001b[0m \u001b[0m_process_traceback_frames\u001b[0m\u001b[0;34m(\u001b[0m\u001b[0me\u001b[0m\u001b[0;34m.\u001b[0m\u001b[0m__traceback__\u001b[0m\u001b[0;34m)\u001b[0m\u001b[0;34m\u001b[0m\u001b[0;34m\u001b[0m\u001b[0m\n\u001b[0;32m---> 67\u001b[0;31m       \u001b[0;32mraise\u001b[0m \u001b[0me\u001b[0m\u001b[0;34m.\u001b[0m\u001b[0mwith_traceback\u001b[0m\u001b[0;34m(\u001b[0m\u001b[0mfiltered_tb\u001b[0m\u001b[0;34m)\u001b[0m \u001b[0;32mfrom\u001b[0m \u001b[0;32mNone\u001b[0m\u001b[0;34m\u001b[0m\u001b[0;34m\u001b[0m\u001b[0m\n\u001b[0m\u001b[1;32m     68\u001b[0m     \u001b[0;32mfinally\u001b[0m\u001b[0;34m:\u001b[0m\u001b[0;34m\u001b[0m\u001b[0;34m\u001b[0m\u001b[0m\n\u001b[1;32m     69\u001b[0m       \u001b[0;32mdel\u001b[0m \u001b[0mfiltered_tb\u001b[0m\u001b[0;34m\u001b[0m\u001b[0;34m\u001b[0m\u001b[0m\n",
            "\u001b[0;32m/usr/local/lib/python3.8/dist-packages/tensorflow/python/eager/def_function.py\u001b[0m in \u001b[0;36m_call\u001b[0;34m(self, *args, **kwds)\u001b[0m\n\u001b[1;32m    954\u001b[0m       \u001b[0mresults\u001b[0m \u001b[0;34m=\u001b[0m \u001b[0mself\u001b[0m\u001b[0;34m.\u001b[0m\u001b[0m_stateful_fn\u001b[0m\u001b[0;34m(\u001b[0m\u001b[0;34m*\u001b[0m\u001b[0margs\u001b[0m\u001b[0;34m,\u001b[0m \u001b[0;34m**\u001b[0m\u001b[0mkwds\u001b[0m\u001b[0;34m)\u001b[0m\u001b[0;34m\u001b[0m\u001b[0;34m\u001b[0m\u001b[0m\n\u001b[1;32m    955\u001b[0m       \u001b[0;32mif\u001b[0m \u001b[0mself\u001b[0m\u001b[0;34m.\u001b[0m\u001b[0m_created_variables\u001b[0m \u001b[0;32mand\u001b[0m \u001b[0;32mnot\u001b[0m \u001b[0mALLOW_DYNAMIC_VARIABLE_CREATION\u001b[0m\u001b[0;34m:\u001b[0m\u001b[0;34m\u001b[0m\u001b[0;34m\u001b[0m\u001b[0m\n\u001b[0;32m--> 956\u001b[0;31m         raise ValueError(\"Creating variables on a non-first call to a function\"\n\u001b[0m\u001b[1;32m    957\u001b[0m                          \" decorated with tf.function.\")\n\u001b[1;32m    958\u001b[0m       \u001b[0;32mreturn\u001b[0m \u001b[0mresults\u001b[0m\u001b[0;34m\u001b[0m\u001b[0;34m\u001b[0m\u001b[0m\n",
            "\u001b[0;31mValueError\u001b[0m: Creating variables on a non-first call to a function decorated with tf.function."
          ]
        }
      ]
    },
    {
      "cell_type": "markdown",
      "source": [
        "Changing the data to accomodate regression"
      ],
      "metadata": {
        "id": "3Ws_jTcmfG00"
      }
    },
    {
      "cell_type": "code",
      "source": [
        "# set the random seed\n",
        "tf.random.set_seed(42)\n",
        "\n",
        "#1. create a model with 3 layers\n",
        "model_3=tf.keras.Sequential([\n",
        "    tf.keras.layers.Dense(100), #add 100 dense neurons\n",
        "    tf.keras.layers.Dense(10), #add another layer with 10 neurons\n",
        "    tf.keras.layers.Dense(1)\n",
        "])\n",
        "\n",
        "\n",
        "#2. compile the model with regression specific loss function\n",
        "model_3.compile(loss= tf.keras.losses.mae,\n",
        "                optimizer= tf.keras.optimizers.Adam(),\n",
        "                metrics=[\"mae\"])\n",
        "\n",
        "#3. fit the model\n",
        "model_3.fit(X_reg_train,y_reg_train, epochs=100)"
      ],
      "metadata": {
        "id": "118qdotFZGJx",
        "colab": {
          "base_uri": "https://localhost:8080/"
        },
        "outputId": "b8d4dc7a-7b13-4581-f24f-22ba29223174"
      },
      "execution_count": 28,
      "outputs": [
        {
          "output_type": "stream",
          "name": "stdout",
          "text": [
            "Epoch 1/100\n",
            "5/5 [==============================] - 1s 4ms/step - loss: 248.2155 - mae: 248.2155\n",
            "Epoch 2/100\n",
            "5/5 [==============================] - 0s 4ms/step - loss: 138.9005 - mae: 138.9005\n",
            "Epoch 3/100\n",
            "5/5 [==============================] - 0s 3ms/step - loss: 53.1039 - mae: 53.1039\n",
            "Epoch 4/100\n",
            "5/5 [==============================] - 0s 5ms/step - loss: 73.5170 - mae: 73.5170\n",
            "Epoch 5/100\n",
            "5/5 [==============================] - 0s 4ms/step - loss: 71.2358 - mae: 71.2358\n",
            "Epoch 6/100\n",
            "5/5 [==============================] - 0s 3ms/step - loss: 47.0040 - mae: 47.0040\n",
            "Epoch 7/100\n",
            "5/5 [==============================] - 0s 3ms/step - loss: 45.9386 - mae: 45.9386\n",
            "Epoch 8/100\n",
            "5/5 [==============================] - 0s 4ms/step - loss: 42.3638 - mae: 42.3638\n",
            "Epoch 9/100\n",
            "5/5 [==============================] - 0s 6ms/step - loss: 43.6831 - mae: 43.6831\n",
            "Epoch 10/100\n",
            "5/5 [==============================] - 0s 4ms/step - loss: 42.6198 - mae: 42.6198\n",
            "Epoch 11/100\n",
            "5/5 [==============================] - 0s 4ms/step - loss: 42.4797 - mae: 42.4797\n",
            "Epoch 12/100\n",
            "5/5 [==============================] - 0s 5ms/step - loss: 41.5537 - mae: 41.5537\n",
            "Epoch 13/100\n",
            "5/5 [==============================] - 0s 4ms/step - loss: 42.0972 - mae: 42.0972\n",
            "Epoch 14/100\n",
            "5/5 [==============================] - 0s 3ms/step - loss: 41.8647 - mae: 41.8647\n",
            "Epoch 15/100\n",
            "5/5 [==============================] - 0s 4ms/step - loss: 41.5342 - mae: 41.5342\n",
            "Epoch 16/100\n",
            "5/5 [==============================] - 0s 3ms/step - loss: 41.4028 - mae: 41.4028\n",
            "Epoch 17/100\n",
            "5/5 [==============================] - 0s 3ms/step - loss: 41.6887 - mae: 41.6887\n",
            "Epoch 18/100\n",
            "5/5 [==============================] - 0s 3ms/step - loss: 41.6137 - mae: 41.6137\n",
            "Epoch 19/100\n",
            "5/5 [==============================] - 0s 3ms/step - loss: 41.2796 - mae: 41.2796\n",
            "Epoch 20/100\n",
            "5/5 [==============================] - 0s 4ms/step - loss: 41.1947 - mae: 41.1947\n",
            "Epoch 21/100\n",
            "5/5 [==============================] - 0s 4ms/step - loss: 41.2130 - mae: 41.2130\n",
            "Epoch 22/100\n",
            "5/5 [==============================] - 0s 3ms/step - loss: 41.0893 - mae: 41.0893\n",
            "Epoch 23/100\n",
            "5/5 [==============================] - 0s 4ms/step - loss: 41.2019 - mae: 41.2019\n",
            "Epoch 24/100\n",
            "5/5 [==============================] - 0s 4ms/step - loss: 40.9989 - mae: 40.9989\n",
            "Epoch 25/100\n",
            "5/5 [==============================] - 0s 3ms/step - loss: 41.0131 - mae: 41.0131\n",
            "Epoch 26/100\n",
            "5/5 [==============================] - 0s 3ms/step - loss: 41.0654 - mae: 41.0654\n",
            "Epoch 27/100\n",
            "5/5 [==============================] - 0s 3ms/step - loss: 40.8764 - mae: 40.8764\n",
            "Epoch 28/100\n",
            "5/5 [==============================] - 0s 5ms/step - loss: 41.0545 - mae: 41.0545\n",
            "Epoch 29/100\n",
            "5/5 [==============================] - 0s 3ms/step - loss: 41.0480 - mae: 41.0480\n",
            "Epoch 30/100\n",
            "5/5 [==============================] - 0s 3ms/step - loss: 40.8807 - mae: 40.8807\n",
            "Epoch 31/100\n",
            "5/5 [==============================] - 0s 3ms/step - loss: 41.2695 - mae: 41.2695\n",
            "Epoch 32/100\n",
            "5/5 [==============================] - 0s 4ms/step - loss: 40.9949 - mae: 40.9949\n",
            "Epoch 33/100\n",
            "5/5 [==============================] - 0s 3ms/step - loss: 41.0760 - mae: 41.0760\n",
            "Epoch 34/100\n",
            "5/5 [==============================] - 0s 4ms/step - loss: 41.2471 - mae: 41.2471\n",
            "Epoch 35/100\n",
            "5/5 [==============================] - 0s 5ms/step - loss: 40.6102 - mae: 40.6102\n",
            "Epoch 36/100\n",
            "5/5 [==============================] - 0s 3ms/step - loss: 41.1093 - mae: 41.1093\n",
            "Epoch 37/100\n",
            "5/5 [==============================] - 0s 4ms/step - loss: 40.8191 - mae: 40.8191\n",
            "Epoch 38/100\n",
            "5/5 [==============================] - 0s 4ms/step - loss: 40.2485 - mae: 40.2485\n",
            "Epoch 39/100\n",
            "5/5 [==============================] - 0s 4ms/step - loss: 41.0625 - mae: 41.0625\n",
            "Epoch 40/100\n",
            "5/5 [==============================] - 0s 3ms/step - loss: 40.5311 - mae: 40.5311\n",
            "Epoch 41/100\n",
            "5/5 [==============================] - 0s 4ms/step - loss: 40.5497 - mae: 40.5497\n",
            "Epoch 42/100\n",
            "5/5 [==============================] - 0s 4ms/step - loss: 40.4322 - mae: 40.4322\n",
            "Epoch 43/100\n",
            "5/5 [==============================] - 0s 3ms/step - loss: 40.5367 - mae: 40.5367\n",
            "Epoch 44/100\n",
            "5/5 [==============================] - 0s 3ms/step - loss: 40.2487 - mae: 40.2487\n",
            "Epoch 45/100\n",
            "5/5 [==============================] - 0s 3ms/step - loss: 40.5152 - mae: 40.5152\n",
            "Epoch 46/100\n",
            "5/5 [==============================] - 0s 3ms/step - loss: 40.3702 - mae: 40.3702\n",
            "Epoch 47/100\n",
            "5/5 [==============================] - 0s 3ms/step - loss: 40.4769 - mae: 40.4769\n",
            "Epoch 48/100\n",
            "5/5 [==============================] - 0s 5ms/step - loss: 40.1532 - mae: 40.1532\n",
            "Epoch 49/100\n",
            "5/5 [==============================] - 0s 4ms/step - loss: 40.7291 - mae: 40.7291\n",
            "Epoch 50/100\n",
            "5/5 [==============================] - 0s 4ms/step - loss: 40.1536 - mae: 40.1536\n",
            "Epoch 51/100\n",
            "5/5 [==============================] - 0s 3ms/step - loss: 40.2711 - mae: 40.2711\n",
            "Epoch 52/100\n",
            "5/5 [==============================] - 0s 4ms/step - loss: 40.6572 - mae: 40.6572\n",
            "Epoch 53/100\n",
            "5/5 [==============================] - 0s 3ms/step - loss: 40.6573 - mae: 40.6573\n",
            "Epoch 54/100\n",
            "5/5 [==============================] - 0s 4ms/step - loss: 40.6894 - mae: 40.6894\n",
            "Epoch 55/100\n",
            "5/5 [==============================] - 0s 5ms/step - loss: 41.2771 - mae: 41.2771\n",
            "Epoch 56/100\n",
            "5/5 [==============================] - 0s 3ms/step - loss: 41.8519 - mae: 41.8519\n",
            "Epoch 57/100\n",
            "5/5 [==============================] - 0s 5ms/step - loss: 40.7903 - mae: 40.7903\n",
            "Epoch 58/100\n",
            "5/5 [==============================] - 0s 5ms/step - loss: 40.3128 - mae: 40.3128\n",
            "Epoch 59/100\n",
            "5/5 [==============================] - 0s 3ms/step - loss: 40.7198 - mae: 40.7198\n",
            "Epoch 60/100\n",
            "5/5 [==============================] - 0s 4ms/step - loss: 40.1478 - mae: 40.1478\n",
            "Epoch 61/100\n",
            "5/5 [==============================] - 0s 4ms/step - loss: 40.1117 - mae: 40.1117\n",
            "Epoch 62/100\n",
            "5/5 [==============================] - 0s 4ms/step - loss: 40.7800 - mae: 40.7800\n",
            "Epoch 63/100\n",
            "5/5 [==============================] - 0s 3ms/step - loss: 39.7242 - mae: 39.7242\n",
            "Epoch 64/100\n",
            "5/5 [==============================] - 0s 5ms/step - loss: 40.1465 - mae: 40.1465\n",
            "Epoch 65/100\n",
            "5/5 [==============================] - 0s 3ms/step - loss: 39.6887 - mae: 39.6887\n",
            "Epoch 66/100\n",
            "5/5 [==============================] - 0s 3ms/step - loss: 40.2840 - mae: 40.2840\n",
            "Epoch 67/100\n",
            "5/5 [==============================] - 0s 4ms/step - loss: 39.5541 - mae: 39.5541\n",
            "Epoch 68/100\n",
            "5/5 [==============================] - 0s 3ms/step - loss: 39.7378 - mae: 39.7378\n",
            "Epoch 69/100\n",
            "5/5 [==============================] - 0s 4ms/step - loss: 39.9784 - mae: 39.9784\n",
            "Epoch 70/100\n",
            "5/5 [==============================] - 0s 5ms/step - loss: 40.0016 - mae: 40.0016\n",
            "Epoch 71/100\n",
            "5/5 [==============================] - 0s 4ms/step - loss: 40.0913 - mae: 40.0913\n",
            "Epoch 72/100\n",
            "5/5 [==============================] - 0s 3ms/step - loss: 39.2547 - mae: 39.2547\n",
            "Epoch 73/100\n",
            "5/5 [==============================] - 0s 4ms/step - loss: 39.6828 - mae: 39.6828\n",
            "Epoch 74/100\n",
            "5/5 [==============================] - 0s 4ms/step - loss: 39.5373 - mae: 39.5373\n",
            "Epoch 75/100\n",
            "5/5 [==============================] - 0s 3ms/step - loss: 39.6266 - mae: 39.6266\n",
            "Epoch 76/100\n",
            "5/5 [==============================] - 0s 4ms/step - loss: 39.3110 - mae: 39.3110\n",
            "Epoch 77/100\n",
            "5/5 [==============================] - 0s 4ms/step - loss: 39.1599 - mae: 39.1599\n",
            "Epoch 78/100\n",
            "5/5 [==============================] - 0s 5ms/step - loss: 39.7550 - mae: 39.7550\n",
            "Epoch 79/100\n",
            "5/5 [==============================] - 0s 4ms/step - loss: 39.2542 - mae: 39.2542\n",
            "Epoch 80/100\n",
            "5/5 [==============================] - 0s 3ms/step - loss: 38.6968 - mae: 38.6968\n",
            "Epoch 81/100\n",
            "5/5 [==============================] - 0s 4ms/step - loss: 39.5442 - mae: 39.5442\n",
            "Epoch 82/100\n",
            "5/5 [==============================] - 0s 4ms/step - loss: 39.8686 - mae: 39.8686\n",
            "Epoch 83/100\n",
            "5/5 [==============================] - 0s 6ms/step - loss: 39.1693 - mae: 39.1693\n",
            "Epoch 84/100\n",
            "5/5 [==============================] - 0s 4ms/step - loss: 38.8840 - mae: 38.8840\n",
            "Epoch 85/100\n",
            "5/5 [==============================] - 0s 4ms/step - loss: 38.8887 - mae: 38.8887\n",
            "Epoch 86/100\n",
            "5/5 [==============================] - 0s 5ms/step - loss: 38.6614 - mae: 38.6614\n",
            "Epoch 87/100\n",
            "5/5 [==============================] - 0s 5ms/step - loss: 38.8398 - mae: 38.8398\n",
            "Epoch 88/100\n",
            "5/5 [==============================] - 0s 5ms/step - loss: 38.6604 - mae: 38.6604\n",
            "Epoch 89/100\n",
            "5/5 [==============================] - 0s 3ms/step - loss: 38.7559 - mae: 38.7559\n",
            "Epoch 90/100\n",
            "5/5 [==============================] - 0s 4ms/step - loss: 38.5442 - mae: 38.5442\n",
            "Epoch 91/100\n",
            "5/5 [==============================] - 0s 3ms/step - loss: 38.3247 - mae: 38.3247\n",
            "Epoch 92/100\n",
            "5/5 [==============================] - 0s 4ms/step - loss: 38.8431 - mae: 38.8431\n",
            "Epoch 93/100\n",
            "5/5 [==============================] - 0s 4ms/step - loss: 39.1137 - mae: 39.1137\n",
            "Epoch 94/100\n",
            "5/5 [==============================] - 0s 4ms/step - loss: 38.1463 - mae: 38.1463\n",
            "Epoch 95/100\n",
            "5/5 [==============================] - 0s 4ms/step - loss: 38.3998 - mae: 38.3998\n",
            "Epoch 96/100\n",
            "5/5 [==============================] - 0s 4ms/step - loss: 38.5599 - mae: 38.5599\n",
            "Epoch 97/100\n",
            "5/5 [==============================] - 0s 4ms/step - loss: 38.1038 - mae: 38.1038\n",
            "Epoch 98/100\n",
            "5/5 [==============================] - 0s 3ms/step - loss: 39.0081 - mae: 39.0081\n",
            "Epoch 99/100\n",
            "5/5 [==============================] - 0s 5ms/step - loss: 38.3056 - mae: 38.3056\n",
            "Epoch 100/100\n",
            "5/5 [==============================] - 0s 4ms/step - loss: 37.9976 - mae: 37.9976\n"
          ]
        },
        {
          "output_type": "execute_result",
          "data": {
            "text/plain": [
              "<keras.callbacks.History at 0x7fede06caf70>"
            ]
          },
          "metadata": {},
          "execution_count": 28
        }
      ]
    },
    {
      "cell_type": "code",
      "source": [
        "# Make predictions with our trained model\n",
        "y_reg_preds=model_3.predict(X_reg_test)\n",
        "\n",
        "\n",
        "#Plot the model predictions against reg data\n",
        "\n",
        "plt.figure(figsize=(10,7))\n",
        "plt.scatter(X_reg_train,y_reg_train,c=\"b\",label=\"Training Data\")\n",
        "plt.scatter(X_reg_test,y_reg_test,c=\"g\",label=\"Testing Data\")\n",
        "plt.scatter(X_reg_test,y_reg_preds,c=\"r\", label=\"Predictions\")\n",
        "plt.legend();"
      ],
      "metadata": {
        "colab": {
          "base_uri": "https://localhost:8080/",
          "height": 446
        },
        "id": "8TwJxehkfWPB",
        "outputId": "59bc65fb-fc3d-41d6-a1c5-22e8a06152ee"
      },
      "execution_count": 31,
      "outputs": [
        {
          "output_type": "stream",
          "name": "stdout",
          "text": [
            "2/2 [==============================] - 0s 14ms/step\n"
          ]
        },
        {
          "output_type": "display_data",
          "data": {
            "text/plain": [
              "<Figure size 720x504 with 1 Axes>"
            ],
            "image/png": "[encoded data removed]"
          },
          "metadata": {
            "needs_background": "light"
          }
        }
      ]
    },
    {
      "cell_type": "markdown",
      "source": [
        "## Missing Piece-Non-linearity"
      ],
      "metadata": {
        "id": "NmjezrgFgXlb"
      }
    },
    {
      "cell_type": "code",
      "source": [
        "#Set random seed\n",
        "tf.random.set_seed(42)\n",
        "\n",
        "#1.Create model\n",
        "model_4 = tf.keras.Sequential([\n",
        "    tf.keras.layers.Dense(1,activation=tf.keras.activations.linear)\n",
        "])\n",
        "\n",
        "#2.Compile the model\n",
        "model_4.compile(loss=tf.keras.losses.BinaryCrossentropy(),\n",
        "                optimizer=tf.keras.optimizers.Adam(lr=0.001),\n",
        "                metrics=[\"accuracy\"])\n",
        "\n",
        "#3. fit the model\n",
        "history = model_4.fit(X,y,epochs=100)"
      ],
      "metadata": {
        "colab": {
          "base_uri": "https://localhost:8080/"
        },
        "id": "Hxl5_3WIgmw2",
        "outputId": "7eaff1dd-20ba-44f8-eb58-347714acb122"
      },
      "execution_count": 37,
      "outputs": [
        {
          "output_type": "stream",
          "name": "stdout",
          "text": [
            "Epoch 1/100\n",
            "32/32 [==============================] - 1s 3ms/step - loss: 4.2979 - accuracy: 0.4670\n",
            "Epoch 2/100\n",
            "32/32 [==============================] - 0s 3ms/step - loss: 4.2317 - accuracy: 0.4400\n",
            "Epoch 3/100\n",
            "32/32 [==============================] - 0s 3ms/step - loss: 4.1610 - accuracy: 0.4310\n",
            "Epoch 4/100\n",
            "32/32 [==============================] - 0s 3ms/step - loss: 4.1183 - accuracy: 0.4270\n",
            "Epoch 5/100\n",
            "32/32 [==============================] - 0s 3ms/step - loss: 4.0784 - accuracy: 0.4240\n",
            "Epoch 6/100\n",
            "32/32 [==============================] - 0s 4ms/step - loss: 3.9620 - accuracy: 0.4170\n",
            "Epoch 7/100\n",
            "32/32 [==============================] - 0s 3ms/step - loss: 3.8984 - accuracy: 0.4110\n",
            "Epoch 8/100\n",
            "32/32 [==============================] - 0s 2ms/step - loss: 3.8595 - accuracy: 0.4110\n",
            "Epoch 9/100\n",
            "32/32 [==============================] - 0s 2ms/step - loss: 3.8580 - accuracy: 0.4110\n",
            "Epoch 10/100\n",
            "32/32 [==============================] - 0s 2ms/step - loss: 3.8575 - accuracy: 0.4110\n",
            "Epoch 11/100\n",
            "32/32 [==============================] - 0s 1ms/step - loss: 3.8570 - accuracy: 0.4110\n",
            "Epoch 12/100\n",
            "32/32 [==============================] - 0s 2ms/step - loss: 3.8566 - accuracy: 0.4110\n",
            "Epoch 13/100\n",
            "32/32 [==============================] - 0s 2ms/step - loss: 3.8563 - accuracy: 0.4110\n",
            "Epoch 14/100\n",
            "32/32 [==============================] - 0s 2ms/step - loss: 3.8559 - accuracy: 0.4120\n",
            "Epoch 15/100\n",
            "32/32 [==============================] - 0s 1ms/step - loss: 3.8556 - accuracy: 0.4120\n",
            "Epoch 16/100\n",
            "32/32 [==============================] - 0s 2ms/step - loss: 3.8553 - accuracy: 0.4120\n",
            "Epoch 17/100\n",
            "32/32 [==============================] - 0s 2ms/step - loss: 3.8313 - accuracy: 0.4100\n",
            "Epoch 18/100\n",
            "32/32 [==============================] - 0s 2ms/step - loss: 3.8039 - accuracy: 0.4120\n",
            "Epoch 19/100\n",
            "32/32 [==============================] - 0s 2ms/step - loss: 3.7935 - accuracy: 0.4120\n",
            "Epoch 20/100\n",
            "32/32 [==============================] - 0s 1ms/step - loss: 3.7913 - accuracy: 0.4120\n",
            "Epoch 21/100\n",
            "32/32 [==============================] - 0s 2ms/step - loss: 3.7838 - accuracy: 0.4120\n",
            "Epoch 22/100\n",
            "32/32 [==============================] - 0s 2ms/step - loss: 3.7780 - accuracy: 0.4120\n",
            "Epoch 23/100\n",
            "32/32 [==============================] - 0s 2ms/step - loss: 3.7771 - accuracy: 0.4120\n",
            "Epoch 24/100\n",
            "32/32 [==============================] - 0s 2ms/step - loss: 3.7763 - accuracy: 0.4100\n",
            "Epoch 25/100\n",
            "32/32 [==============================] - 0s 2ms/step - loss: 3.7757 - accuracy: 0.4100\n",
            "Epoch 26/100\n",
            "32/32 [==============================] - 0s 2ms/step - loss: 3.7751 - accuracy: 0.4100\n",
            "Epoch 27/100\n",
            "32/32 [==============================] - 0s 2ms/step - loss: 3.7745 - accuracy: 0.4100\n",
            "Epoch 28/100\n",
            "32/32 [==============================] - 0s 2ms/step - loss: 3.7740 - accuracy: 0.4100\n",
            "Epoch 29/100\n",
            "32/32 [==============================] - 0s 2ms/step - loss: 3.7734 - accuracy: 0.4100\n",
            "Epoch 30/100\n",
            "32/32 [==============================] - 0s 2ms/step - loss: 3.7730 - accuracy: 0.4100\n",
            "Epoch 31/100\n",
            "32/32 [==============================] - 0s 2ms/step - loss: 3.7725 - accuracy: 0.4100\n",
            "Epoch 32/100\n",
            "32/32 [==============================] - 0s 2ms/step - loss: 3.7720 - accuracy: 0.4100\n",
            "Epoch 33/100\n",
            "32/32 [==============================] - 0s 2ms/step - loss: 3.7715 - accuracy: 0.4100\n",
            "Epoch 34/100\n",
            "32/32 [==============================] - 0s 2ms/step - loss: 3.7711 - accuracy: 0.4090\n",
            "Epoch 35/100\n",
            "32/32 [==============================] - 0s 2ms/step - loss: 3.7706 - accuracy: 0.4090\n",
            "Epoch 36/100\n",
            "32/32 [==============================] - 0s 2ms/step - loss: 3.7702 - accuracy: 0.4090\n",
            "Epoch 37/100\n",
            "32/32 [==============================] - 0s 2ms/step - loss: 3.7698 - accuracy: 0.4090\n",
            "Epoch 38/100\n",
            "32/32 [==============================] - 0s 2ms/step - loss: 3.7629 - accuracy: 0.4090\n",
            "Epoch 39/100\n",
            "32/32 [==============================] - 0s 2ms/step - loss: 3.7596 - accuracy: 0.4100\n",
            "Epoch 40/100\n",
            "32/32 [==============================] - 0s 2ms/step - loss: 3.7588 - accuracy: 0.4100\n",
            "Epoch 41/100\n",
            "32/32 [==============================] - 0s 1ms/step - loss: 3.7582 - accuracy: 0.4100\n",
            "Epoch 42/100\n",
            "32/32 [==============================] - 0s 2ms/step - loss: 3.7576 - accuracy: 0.4100\n",
            "Epoch 43/100\n",
            "32/32 [==============================] - 0s 2ms/step - loss: 3.7571 - accuracy: 0.4100\n",
            "Epoch 44/100\n",
            "32/32 [==============================] - 0s 2ms/step - loss: 3.7565 - accuracy: 0.4100\n",
            "Epoch 45/100\n",
            "32/32 [==============================] - 0s 2ms/step - loss: 3.7561 - accuracy: 0.4100\n",
            "Epoch 46/100\n",
            "32/32 [==============================] - 0s 2ms/step - loss: 3.7556 - accuracy: 0.4100\n",
            "Epoch 47/100\n",
            "32/32 [==============================] - 0s 1ms/step - loss: 3.7551 - accuracy: 0.4110\n",
            "Epoch 48/100\n",
            "32/32 [==============================] - 0s 2ms/step - loss: 3.7547 - accuracy: 0.4110\n",
            "Epoch 49/100\n",
            "32/32 [==============================] - 0s 1ms/step - loss: 3.7542 - accuracy: 0.4110\n",
            "Epoch 50/100\n",
            "32/32 [==============================] - 0s 2ms/step - loss: 3.7538 - accuracy: 0.4110\n",
            "Epoch 51/100\n",
            "32/32 [==============================] - 0s 2ms/step - loss: 3.7473 - accuracy: 0.4110\n",
            "Epoch 52/100\n",
            "32/32 [==============================] - 0s 2ms/step - loss: 3.7291 - accuracy: 0.4120\n",
            "Epoch 53/100\n",
            "32/32 [==============================] - 0s 2ms/step - loss: 3.7282 - accuracy: 0.4120\n",
            "Epoch 54/100\n",
            "32/32 [==============================] - 0s 2ms/step - loss: 3.7277 - accuracy: 0.4130\n",
            "Epoch 55/100\n",
            "32/32 [==============================] - 0s 2ms/step - loss: 3.7273 - accuracy: 0.4130\n",
            "Epoch 56/100\n",
            "32/32 [==============================] - 0s 2ms/step - loss: 3.7268 - accuracy: 0.4130\n",
            "Epoch 57/100\n",
            "32/32 [==============================] - 0s 2ms/step - loss: 3.7264 - accuracy: 0.4130\n",
            "Epoch 58/100\n",
            "32/32 [==============================] - 0s 2ms/step - loss: 3.7259 - accuracy: 0.4130\n",
            "Epoch 59/100\n",
            "32/32 [==============================] - 0s 1ms/step - loss: 3.7255 - accuracy: 0.4130\n",
            "Epoch 60/100\n",
            "32/32 [==============================] - 0s 2ms/step - loss: 3.7250 - accuracy: 0.4130\n",
            "Epoch 61/100\n",
            "32/32 [==============================] - 0s 2ms/step - loss: 3.7246 - accuracy: 0.4130\n",
            "Epoch 62/100\n",
            "32/32 [==============================] - 0s 2ms/step - loss: 3.7242 - accuracy: 0.4130\n",
            "Epoch 63/100\n",
            "32/32 [==============================] - 0s 2ms/step - loss: 3.7238 - accuracy: 0.4130\n",
            "Epoch 64/100\n",
            "32/32 [==============================] - 0s 2ms/step - loss: 3.7234 - accuracy: 0.4130\n",
            "Epoch 65/100\n",
            "32/32 [==============================] - 0s 2ms/step - loss: 3.7230 - accuracy: 0.4140\n",
            "Epoch 66/100\n",
            "32/32 [==============================] - 0s 2ms/step - loss: 3.7226 - accuracy: 0.4140\n",
            "Epoch 67/100\n",
            "32/32 [==============================] - 0s 2ms/step - loss: 3.7222 - accuracy: 0.4140\n",
            "Epoch 68/100\n",
            "32/32 [==============================] - 0s 2ms/step - loss: 3.7218 - accuracy: 0.4160\n",
            "Epoch 69/100\n",
            "32/32 [==============================] - 0s 2ms/step - loss: 3.7215 - accuracy: 0.4160\n",
            "Epoch 70/100\n",
            "32/32 [==============================] - 0s 2ms/step - loss: 3.7211 - accuracy: 0.4160\n",
            "Epoch 71/100\n",
            "32/32 [==============================] - 0s 2ms/step - loss: 3.7207 - accuracy: 0.4160\n",
            "Epoch 72/100\n",
            "32/32 [==============================] - 0s 2ms/step - loss: 3.7203 - accuracy: 0.4160\n",
            "Epoch 73/100\n",
            "32/32 [==============================] - 0s 2ms/step - loss: 3.7200 - accuracy: 0.4180\n",
            "Epoch 74/100\n",
            "32/32 [==============================] - 0s 2ms/step - loss: 3.7196 - accuracy: 0.4180\n",
            "Epoch 75/100\n",
            "32/32 [==============================] - 0s 2ms/step - loss: 3.7192 - accuracy: 0.4180\n",
            "Epoch 76/100\n",
            "32/32 [==============================] - 0s 2ms/step - loss: 3.7189 - accuracy: 0.4180\n",
            "Epoch 77/100\n",
            "32/32 [==============================] - 0s 2ms/step - loss: 3.7185 - accuracy: 0.4180\n",
            "Epoch 78/100\n",
            "32/32 [==============================] - 0s 2ms/step - loss: 3.7181 - accuracy: 0.4180\n",
            "Epoch 79/100\n",
            "32/32 [==============================] - 0s 2ms/step - loss: 3.7177 - accuracy: 0.4180\n",
            "Epoch 80/100\n",
            "32/32 [==============================] - 0s 2ms/step - loss: 3.7173 - accuracy: 0.4180\n",
            "Epoch 81/100\n",
            "32/32 [==============================] - 0s 2ms/step - loss: 3.7169 - accuracy: 0.4180\n",
            "Epoch 82/100\n",
            "32/32 [==============================] - 0s 2ms/step - loss: 3.7166 - accuracy: 0.4180\n",
            "Epoch 83/100\n",
            "32/32 [==============================] - 0s 2ms/step - loss: 3.7162 - accuracy: 0.4180\n",
            "Epoch 84/100\n",
            "32/32 [==============================] - 0s 2ms/step - loss: 3.7158 - accuracy: 0.4180\n",
            "Epoch 85/100\n",
            "32/32 [==============================] - 0s 2ms/step - loss: 3.7155 - accuracy: 0.4180\n",
            "Epoch 86/100\n",
            "32/32 [==============================] - 0s 2ms/step - loss: 3.7151 - accuracy: 0.4180\n",
            "Epoch 87/100\n",
            "32/32 [==============================] - 0s 2ms/step - loss: 3.7148 - accuracy: 0.4180\n",
            "Epoch 88/100\n",
            "32/32 [==============================] - 0s 2ms/step - loss: 3.6964 - accuracy: 0.4180\n",
            "Epoch 89/100\n",
            "32/32 [==============================] - 0s 2ms/step - loss: 3.6876 - accuracy: 0.4190\n",
            "Epoch 90/100\n",
            "32/32 [==============================] - 0s 2ms/step - loss: 3.6872 - accuracy: 0.4200\n",
            "Epoch 91/100\n",
            "32/32 [==============================] - 0s 2ms/step - loss: 3.6868 - accuracy: 0.4200\n",
            "Epoch 92/100\n",
            "32/32 [==============================] - 0s 2ms/step - loss: 3.6864 - accuracy: 0.4200\n",
            "Epoch 93/100\n",
            "32/32 [==============================] - 0s 3ms/step - loss: 3.6860 - accuracy: 0.4210\n",
            "Epoch 94/100\n",
            "32/32 [==============================] - 0s 2ms/step - loss: 3.6856 - accuracy: 0.4210\n",
            "Epoch 95/100\n",
            "32/32 [==============================] - 0s 2ms/step - loss: 3.6852 - accuracy: 0.4200\n",
            "Epoch 96/100\n",
            "32/32 [==============================] - 0s 2ms/step - loss: 3.6848 - accuracy: 0.4200\n",
            "Epoch 97/100\n",
            "32/32 [==============================] - 0s 2ms/step - loss: 3.6844 - accuracy: 0.4220\n",
            "Epoch 98/100\n",
            "32/32 [==============================] - 0s 2ms/step - loss: 3.6841 - accuracy: 0.4220\n",
            "Epoch 99/100\n",
            "32/32 [==============================] - 0s 2ms/step - loss: 3.6837 - accuracy: 0.4230\n",
            "Epoch 100/100\n",
            "32/32 [==============================] - 0s 2ms/step - loss: 3.6833 - accuracy: 0.4220\n"
          ]
        }
      ]
    },
    {
      "cell_type": "code",
      "source": [
        "#Check out the data\n",
        "plt.scatter(X[:,0],X[:,1],c=y,cmap=plt.cm.RdYlBu)"
      ],
      "metadata": {
        "colab": {
          "base_uri": "https://localhost:8080/",
          "height": 283
        },
        "id": "nBq3cYw3hwg6",
        "outputId": "72d6c084-fc2c-408b-f436-71c13e87873c"
      },
      "execution_count": 39,
      "outputs": [
        {
          "output_type": "execute_result",
          "data": {
            "text/plain": [
              "<matplotlib.collections.PathCollection at 0x7feddbcbafd0>"
            ]
          },
          "metadata": {},
          "execution_count": 39
        },
        {
          "output_type": "display_data",
          "data": {
            "text/plain": [
              "<Figure size 432x288 with 1 Axes>"
            ],
            "image/png": "[encoded data removed]"
          },
          "metadata": {
            "needs_background": "light"
          }
        }
      ]
    },
    {
      "cell_type": "code",
      "source": [
        "#Check the decision boundary for latest model\n",
        "plot_decision_boundary(model_4,X,y)"
      ],
      "metadata": {
        "colab": {
          "base_uri": "https://localhost:8080/",
          "height": 301
        },
        "id": "gNq7CShcipt1",
        "outputId": "ba2e6f80-a02e-45bb-abbc-210dafc9940f"
      },
      "execution_count": 40,
      "outputs": [
        {
          "output_type": "stream",
          "name": "stdout",
          "text": [
            "313/313 [==============================] - 1s 3ms/step\n",
            "doing binary classification\n"
          ]
        },
        {
          "output_type": "display_data",
          "data": {
            "text/plain": [
              "<Figure size 432x288 with 1 Axes>"
            ],
            "image/png": "[encoded data removed]"
          },
          "metadata": {
            "needs_background": "light"
          }
        }
      ]
    },
    {
      "cell_type": "markdown",
      "source": [
        "Lets try our first neural network using non linear activation function"
      ],
      "metadata": {
        "id": "sNmUztILjUH7"
      }
    },
    {
      "cell_type": "code",
      "source": [
        "#Change the activation method to ReLU\n",
        "\n",
        "#Set random seed\n",
        "tf.random.set_seed(42)\n",
        "\n",
        "#1.Create model with non-linear activation\n",
        "model_5 = tf.keras.Sequential([\n",
        "    tf.keras.layers.Dense(1,activation=tf.keras.activations.relu)\n",
        "])\n",
        "\n",
        "#2.Compile the model\n",
        "model_5.compile(loss=tf.keras.losses.BinaryCrossentropy(),\n",
        "                optimizer=tf.keras.optimizers.Adam(lr=0.001),\n",
        "                metrics=[\"accuracy\"])\n",
        "\n",
        "#3. fit the model\n",
        "history = model_5.fit(X,y,epochs=100)"
      ],
      "metadata": {
        "colab": {
          "base_uri": "https://localhost:8080/"
        },
        "id": "SnKNlIhFi7pP",
        "outputId": "a5422815-8b6d-429e-e591-50c9a50457ea"
      },
      "execution_count": 42,
      "outputs": [
        {
          "output_type": "stream",
          "name": "stdout",
          "text": [
            "Epoch 1/100\n"
          ]
        },
        {
          "output_type": "stream",
          "name": "stderr",
          "text": [
            "/usr/local/lib/python3.8/dist-packages/keras/optimizers/optimizer_v2/adam.py:110: UserWarning: The `lr` argument is deprecated, use `learning_rate` instead.\n",
            "  super(Adam, self).__init__(name, **kwargs)\n"
          ]
        },
        {
          "output_type": "stream",
          "name": "stdout",
          "text": [
            "32/32 [==============================] - 1s 1ms/step - loss: 4.2979 - accuracy: 0.4670\n",
            "Epoch 2/100\n",
            "32/32 [==============================] - 0s 2ms/step - loss: 4.2317 - accuracy: 0.4400\n",
            "Epoch 3/100\n",
            "32/32 [==============================] - 0s 2ms/step - loss: 4.1610 - accuracy: 0.4310\n",
            "Epoch 4/100\n",
            "32/32 [==============================] - 0s 2ms/step - loss: 4.1183 - accuracy: 0.4270\n",
            "Epoch 5/100\n",
            "32/32 [==============================] - 0s 2ms/step - loss: 4.0784 - accuracy: 0.4240\n",
            "Epoch 6/100\n",
            "32/32 [==============================] - 0s 2ms/step - loss: 3.9620 - accuracy: 0.4170\n",
            "Epoch 7/100\n",
            "32/32 [==============================] - 0s 2ms/step - loss: 3.8984 - accuracy: 0.4110\n",
            "Epoch 8/100\n",
            "32/32 [==============================] - 0s 2ms/step - loss: 3.8595 - accuracy: 0.4110\n",
            "Epoch 9/100\n",
            "32/32 [==============================] - 0s 2ms/step - loss: 3.8580 - accuracy: 0.4110\n",
            "Epoch 10/100\n",
            "32/32 [==============================] - 0s 2ms/step - loss: 3.8575 - accuracy: 0.4110\n",
            "Epoch 11/100\n",
            "32/32 [==============================] - 0s 2ms/step - loss: 3.8570 - accuracy: 0.4110\n",
            "Epoch 12/100\n",
            "32/32 [==============================] - 0s 2ms/step - loss: 3.8566 - accuracy: 0.4110\n",
            "Epoch 13/100\n",
            "32/32 [==============================] - 0s 3ms/step - loss: 3.8563 - accuracy: 0.4110\n",
            "Epoch 14/100\n",
            "32/32 [==============================] - 0s 2ms/step - loss: 3.8559 - accuracy: 0.4120\n",
            "Epoch 15/100\n",
            "32/32 [==============================] - 0s 2ms/step - loss: 3.8556 - accuracy: 0.4120\n",
            "Epoch 16/100\n",
            "32/32 [==============================] - 0s 3ms/step - loss: 3.8553 - accuracy: 0.4120\n",
            "Epoch 17/100\n",
            "32/32 [==============================] - 0s 2ms/step - loss: 3.8313 - accuracy: 0.4100\n",
            "Epoch 18/100\n",
            "32/32 [==============================] - 0s 2ms/step - loss: 3.8039 - accuracy: 0.4120\n",
            "Epoch 19/100\n",
            "32/32 [==============================] - 0s 3ms/step - loss: 3.7935 - accuracy: 0.4120\n",
            "Epoch 20/100\n",
            "32/32 [==============================] - 0s 2ms/step - loss: 3.7913 - accuracy: 0.4120\n",
            "Epoch 21/100\n",
            "32/32 [==============================] - 0s 2ms/step - loss: 3.7838 - accuracy: 0.4120\n",
            "Epoch 22/100\n",
            "32/32 [==============================] - 0s 2ms/step - loss: 3.7780 - accuracy: 0.4120\n",
            "Epoch 23/100\n",
            "32/32 [==============================] - 0s 2ms/step - loss: 3.7771 - accuracy: 0.4120\n",
            "Epoch 24/100\n",
            "32/32 [==============================] - 0s 2ms/step - loss: 3.7763 - accuracy: 0.4100\n",
            "Epoch 25/100\n",
            "32/32 [==============================] - 0s 2ms/step - loss: 3.7757 - accuracy: 0.4100\n",
            "Epoch 26/100\n",
            "32/32 [==============================] - 0s 2ms/step - loss: 3.7751 - accuracy: 0.4100\n",
            "Epoch 27/100\n",
            "32/32 [==============================] - 0s 3ms/step - loss: 3.7745 - accuracy: 0.4100\n",
            "Epoch 28/100\n",
            "32/32 [==============================] - 0s 2ms/step - loss: 3.7740 - accuracy: 0.4100\n",
            "Epoch 29/100\n",
            "32/32 [==============================] - 0s 2ms/step - loss: 3.7734 - accuracy: 0.4100\n",
            "Epoch 30/100\n",
            "32/32 [==============================] - 0s 2ms/step - loss: 3.7730 - accuracy: 0.4100\n",
            "Epoch 31/100\n",
            "32/32 [==============================] - 0s 2ms/step - loss: 3.7725 - accuracy: 0.4100\n",
            "Epoch 32/100\n",
            "32/32 [==============================] - 0s 2ms/step - loss: 3.7720 - accuracy: 0.4100\n",
            "Epoch 33/100\n",
            "32/32 [==============================] - 0s 2ms/step - loss: 3.7715 - accuracy: 0.4100\n",
            "Epoch 34/100\n",
            "32/32 [==============================] - 0s 2ms/step - loss: 3.7711 - accuracy: 0.4090\n",
            "Epoch 35/100\n",
            "32/32 [==============================] - 0s 2ms/step - loss: 3.7706 - accuracy: 0.4090\n",
            "Epoch 36/100\n",
            "32/32 [==============================] - 0s 2ms/step - loss: 3.7702 - accuracy: 0.4090\n",
            "Epoch 37/100\n",
            "32/32 [==============================] - 0s 2ms/step - loss: 3.7698 - accuracy: 0.4090\n",
            "Epoch 38/100\n",
            "32/32 [==============================] - 0s 2ms/step - loss: 3.7629 - accuracy: 0.4090\n",
            "Epoch 39/100\n",
            "32/32 [==============================] - 0s 2ms/step - loss: 3.7596 - accuracy: 0.4100\n",
            "Epoch 40/100\n",
            "32/32 [==============================] - 0s 2ms/step - loss: 3.7588 - accuracy: 0.4100\n",
            "Epoch 41/100\n",
            "32/32 [==============================] - 0s 2ms/step - loss: 3.7582 - accuracy: 0.4100\n",
            "Epoch 42/100\n",
            "32/32 [==============================] - 0s 2ms/step - loss: 3.7576 - accuracy: 0.4100\n",
            "Epoch 43/100\n",
            "32/32 [==============================] - 0s 2ms/step - loss: 3.7571 - accuracy: 0.4100\n",
            "Epoch 44/100\n",
            "32/32 [==============================] - 0s 2ms/step - loss: 3.7565 - accuracy: 0.4100\n",
            "Epoch 45/100\n",
            "32/32 [==============================] - 0s 2ms/step - loss: 3.7561 - accuracy: 0.4100\n",
            "Epoch 46/100\n",
            "32/32 [==============================] - 0s 2ms/step - loss: 3.7556 - accuracy: 0.4100\n",
            "Epoch 47/100\n",
            "32/32 [==============================] - 0s 2ms/step - loss: 3.7551 - accuracy: 0.4110\n",
            "Epoch 48/100\n",
            "32/32 [==============================] - 0s 2ms/step - loss: 3.7547 - accuracy: 0.4110\n",
            "Epoch 49/100\n",
            "32/32 [==============================] - 0s 2ms/step - loss: 3.7542 - accuracy: 0.4110\n",
            "Epoch 50/100\n",
            "32/32 [==============================] - 0s 2ms/step - loss: 3.7538 - accuracy: 0.4110\n",
            "Epoch 51/100\n",
            "32/32 [==============================] - 0s 2ms/step - loss: 3.7473 - accuracy: 0.4110\n",
            "Epoch 52/100\n",
            "32/32 [==============================] - 0s 2ms/step - loss: 3.7291 - accuracy: 0.4120\n",
            "Epoch 53/100\n",
            "32/32 [==============================] - 0s 2ms/step - loss: 3.7282 - accuracy: 0.4120\n",
            "Epoch 54/100\n",
            "32/32 [==============================] - 0s 2ms/step - loss: 3.7277 - accuracy: 0.4130\n",
            "Epoch 55/100\n",
            "32/32 [==============================] - 0s 2ms/step - loss: 3.7273 - accuracy: 0.4130\n",
            "Epoch 56/100\n",
            "32/32 [==============================] - 0s 2ms/step - loss: 3.7268 - accuracy: 0.4130\n",
            "Epoch 57/100\n",
            "32/32 [==============================] - 0s 2ms/step - loss: 3.7264 - accuracy: 0.4130\n",
            "Epoch 58/100\n",
            "32/32 [==============================] - 0s 2ms/step - loss: 3.7259 - accuracy: 0.4130\n",
            "Epoch 59/100\n",
            "32/32 [==============================] - 0s 2ms/step - loss: 3.7255 - accuracy: 0.4130\n",
            "Epoch 60/100\n",
            "32/32 [==============================] - 0s 2ms/step - loss: 3.7250 - accuracy: 0.4130\n",
            "Epoch 61/100\n",
            "32/32 [==============================] - 0s 2ms/step - loss: 3.7246 - accuracy: 0.4130\n",
            "Epoch 62/100\n",
            "32/32 [==============================] - 0s 2ms/step - loss: 3.7242 - accuracy: 0.4130\n",
            "Epoch 63/100\n",
            "32/32 [==============================] - 0s 2ms/step - loss: 3.7238 - accuracy: 0.4130\n",
            "Epoch 64/100\n",
            "32/32 [==============================] - 0s 2ms/step - loss: 3.7234 - accuracy: 0.4130\n",
            "Epoch 65/100\n",
            "32/32 [==============================] - 0s 2ms/step - loss: 3.7230 - accuracy: 0.4140\n",
            "Epoch 66/100\n",
            "32/32 [==============================] - 0s 2ms/step - loss: 3.7226 - accuracy: 0.4140\n",
            "Epoch 67/100\n",
            "32/32 [==============================] - 0s 2ms/step - loss: 3.7222 - accuracy: 0.4140\n",
            "Epoch 68/100\n",
            "32/32 [==============================] - 0s 2ms/step - loss: 3.7218 - accuracy: 0.4160\n",
            "Epoch 69/100\n",
            "32/32 [==============================] - 0s 2ms/step - loss: 3.7215 - accuracy: 0.4160\n",
            "Epoch 70/100\n",
            "32/32 [==============================] - 0s 2ms/step - loss: 3.7211 - accuracy: 0.4160\n",
            "Epoch 71/100\n",
            "32/32 [==============================] - 0s 2ms/step - loss: 3.7207 - accuracy: 0.4160\n",
            "Epoch 72/100\n",
            "32/32 [==============================] - 0s 2ms/step - loss: 3.7203 - accuracy: 0.4160\n",
            "Epoch 73/100\n",
            "32/32 [==============================] - 0s 2ms/step - loss: 3.7200 - accuracy: 0.4180\n",
            "Epoch 74/100\n",
            "32/32 [==============================] - 0s 2ms/step - loss: 3.7196 - accuracy: 0.4180\n",
            "Epoch 75/100\n",
            "32/32 [==============================] - 0s 2ms/step - loss: 3.7192 - accuracy: 0.4180\n",
            "Epoch 76/100\n",
            "32/32 [==============================] - 0s 2ms/step - loss: 3.7189 - accuracy: 0.4180\n",
            "Epoch 77/100\n",
            "32/32 [==============================] - 0s 2ms/step - loss: 3.7185 - accuracy: 0.4180\n",
            "Epoch 78/100\n",
            "32/32 [==============================] - 0s 2ms/step - loss: 3.7181 - accuracy: 0.4180\n",
            "Epoch 79/100\n",
            "32/32 [==============================] - 0s 2ms/step - loss: 3.7177 - accuracy: 0.4180\n",
            "Epoch 80/100\n",
            "32/32 [==============================] - 0s 2ms/step - loss: 3.7173 - accuracy: 0.4180\n",
            "Epoch 81/100\n",
            "32/32 [==============================] - 0s 2ms/step - loss: 3.7169 - accuracy: 0.4180\n",
            "Epoch 82/100\n",
            "32/32 [==============================] - 0s 2ms/step - loss: 3.7166 - accuracy: 0.4180\n",
            "Epoch 83/100\n",
            "32/32 [==============================] - 0s 2ms/step - loss: 3.7162 - accuracy: 0.4180\n",
            "Epoch 84/100\n",
            "32/32 [==============================] - 0s 2ms/step - loss: 3.7158 - accuracy: 0.4180\n",
            "Epoch 85/100\n",
            "32/32 [==============================] - 0s 3ms/step - loss: 3.7155 - accuracy: 0.4180\n",
            "Epoch 86/100\n",
            "32/32 [==============================] - 0s 2ms/step - loss: 3.7151 - accuracy: 0.4180\n",
            "Epoch 87/100\n",
            "32/32 [==============================] - 0s 2ms/step - loss: 3.7148 - accuracy: 0.4180\n",
            "Epoch 88/100\n",
            "32/32 [==============================] - 0s 2ms/step - loss: 3.6964 - accuracy: 0.4180\n",
            "Epoch 89/100\n",
            "32/32 [==============================] - 0s 2ms/step - loss: 3.6876 - accuracy: 0.4190\n",
            "Epoch 90/100\n",
            "32/32 [==============================] - 0s 2ms/step - loss: 3.6872 - accuracy: 0.4200\n",
            "Epoch 91/100\n",
            "32/32 [==============================] - 0s 2ms/step - loss: 3.6868 - accuracy: 0.4200\n",
            "Epoch 92/100\n",
            "32/32 [==============================] - 0s 2ms/step - loss: 3.6864 - accuracy: 0.4200\n",
            "Epoch 93/100\n",
            "32/32 [==============================] - 0s 2ms/step - loss: 3.6860 - accuracy: 0.4210\n",
            "Epoch 94/100\n",
            "32/32 [==============================] - 0s 2ms/step - loss: 3.6856 - accuracy: 0.4210\n",
            "Epoch 95/100\n",
            "32/32 [==============================] - 0s 2ms/step - loss: 3.6852 - accuracy: 0.4200\n",
            "Epoch 96/100\n",
            "32/32 [==============================] - 0s 2ms/step - loss: 3.6848 - accuracy: 0.4200\n",
            "Epoch 97/100\n",
            "32/32 [==============================] - 0s 2ms/step - loss: 3.6844 - accuracy: 0.4220\n",
            "Epoch 98/100\n",
            "32/32 [==============================] - 0s 2ms/step - loss: 3.6841 - accuracy: 0.4220\n",
            "Epoch 99/100\n",
            "32/32 [==============================] - 0s 2ms/step - loss: 3.6837 - accuracy: 0.4230\n",
            "Epoch 100/100\n",
            "32/32 [==============================] - 0s 2ms/step - loss: 3.6833 - accuracy: 0.4220\n"
          ]
        }
      ]
    },
    {
      "cell_type": "code",
      "source": [
        "#Increase the hidden layers\n",
        "\n",
        "#Set random seed\n",
        "tf.random.set_seed(42)\n",
        "\n",
        "#1.Create model with more hidden layers and neurons\n",
        "model_6 = tf.keras.Sequential([\n",
        "    tf.keras.layers.Dense(4,activation=tf.keras.activations.relu),\n",
        "    tf.keras.layers.Dense(4,activation=tf.keras.activations.relu),\n",
        "    tf.keras.layers.Dense(1)\n",
        "])\n",
        "\n",
        "#2.Compile the model\n",
        "model_6.compile(loss=tf.keras.losses.BinaryCrossentropy(),\n",
        "                optimizer=tf.keras.optimizers.Adam(lr=0.001),\n",
        "                metrics=[\"accuracy\"])\n",
        "\n",
        "#3. fit the model\n",
        "history = model_6.fit(X,y,epochs=250)"
      ],
      "metadata": {
        "colab": {
          "base_uri": "https://localhost:8080/"
        },
        "id": "YU_I9mn8jpfr",
        "outputId": "de9cbf66-390b-4d89-fb19-074cb6c36d3d"
      },
      "execution_count": 50,
      "outputs": [
        {
          "output_type": "stream",
          "name": "stdout",
          "text": [
            "Epoch 1/250\n",
            "32/32 [==============================] - 2s 5ms/step - loss: 7.7125 - accuracy: 0.5000\n",
            "Epoch 2/250\n",
            "32/32 [==============================] - 0s 4ms/step - loss: 7.7125 - accuracy: 0.5000\n",
            "Epoch 3/250\n",
            "32/32 [==============================] - 0s 4ms/step - loss: 7.7125 - accuracy: 0.5000\n",
            "Epoch 4/250\n",
            "32/32 [==============================] - 0s 2ms/step - loss: 7.7125 - accuracy: 0.5000\n",
            "Epoch 5/250\n",
            "32/32 [==============================] - 0s 2ms/step - loss: 7.7125 - accuracy: 0.5000\n",
            "Epoch 6/250\n",
            "32/32 [==============================] - 0s 2ms/step - loss: 7.7125 - accuracy: 0.5000\n",
            "Epoch 7/250\n",
            "32/32 [==============================] - 0s 2ms/step - loss: 7.7125 - accuracy: 0.5000\n",
            "Epoch 8/250\n",
            "32/32 [==============================] - 0s 3ms/step - loss: 7.7125 - accuracy: 0.5000\n",
            "Epoch 9/250\n",
            "32/32 [==============================] - 0s 3ms/step - loss: 7.7125 - accuracy: 0.5000\n",
            "Epoch 10/250\n",
            "32/32 [==============================] - 0s 2ms/step - loss: 7.7125 - accuracy: 0.5000\n",
            "Epoch 11/250\n",
            "32/32 [==============================] - 0s 2ms/step - loss: 7.7125 - accuracy: 0.5000\n",
            "Epoch 12/250\n",
            "32/32 [==============================] - 0s 2ms/step - loss: 7.7125 - accuracy: 0.5000\n",
            "Epoch 13/250\n",
            "32/32 [==============================] - 0s 3ms/step - loss: 7.7125 - accuracy: 0.5000\n",
            "Epoch 14/250\n",
            "32/32 [==============================] - 0s 4ms/step - loss: 7.7125 - accuracy: 0.5000\n",
            "Epoch 15/250\n",
            "32/32 [==============================] - 0s 3ms/step - loss: 7.7125 - accuracy: 0.5000\n",
            "Epoch 16/250\n",
            "32/32 [==============================] - 0s 3ms/step - loss: 7.7125 - accuracy: 0.5000\n",
            "Epoch 17/250\n",
            "32/32 [==============================] - 0s 2ms/step - loss: 7.7125 - accuracy: 0.5000\n",
            "Epoch 18/250\n",
            "32/32 [==============================] - 0s 2ms/step - loss: 7.7125 - accuracy: 0.5000\n",
            "Epoch 19/250\n",
            "32/32 [==============================] - 0s 3ms/step - loss: 7.7125 - accuracy: 0.5000\n",
            "Epoch 20/250\n",
            "32/32 [==============================] - 0s 2ms/step - loss: 7.7125 - accuracy: 0.5000\n",
            "Epoch 21/250\n",
            "32/32 [==============================] - 0s 2ms/step - loss: 7.7125 - accuracy: 0.5000\n",
            "Epoch 22/250\n",
            "32/32 [==============================] - 0s 2ms/step - loss: 7.7125 - accuracy: 0.5000\n",
            "Epoch 23/250\n",
            "32/32 [==============================] - 0s 2ms/step - loss: 7.7125 - accuracy: 0.5000\n",
            "Epoch 24/250\n",
            "32/32 [==============================] - 0s 2ms/step - loss: 7.7125 - accuracy: 0.5000\n",
            "Epoch 25/250\n",
            "32/32 [==============================] - 0s 3ms/step - loss: 7.7125 - accuracy: 0.5000\n",
            "Epoch 26/250\n",
            "32/32 [==============================] - 0s 2ms/step - loss: 7.7125 - accuracy: 0.5000\n",
            "Epoch 27/250\n",
            "32/32 [==============================] - 0s 2ms/step - loss: 7.7125 - accuracy: 0.5000\n",
            "Epoch 28/250\n",
            "32/32 [==============================] - 0s 2ms/step - loss: 7.7125 - accuracy: 0.5000\n",
            "Epoch 29/250\n",
            "32/32 [==============================] - 0s 2ms/step - loss: 7.7125 - accuracy: 0.5000\n",
            "Epoch 30/250\n",
            "32/32 [==============================] - 0s 2ms/step - loss: 7.7125 - accuracy: 0.5000\n",
            "Epoch 31/250\n",
            "32/32 [==============================] - 0s 3ms/step - loss: 7.7125 - accuracy: 0.5000\n",
            "Epoch 32/250\n",
            "32/32 [==============================] - 0s 2ms/step - loss: 7.7125 - accuracy: 0.5000\n",
            "Epoch 33/250\n",
            "32/32 [==============================] - 0s 2ms/step - loss: 7.7125 - accuracy: 0.5000\n",
            "Epoch 34/250\n",
            "32/32 [==============================] - 0s 2ms/step - loss: 7.7125 - accuracy: 0.5000\n",
            "Epoch 35/250\n",
            "32/32 [==============================] - 0s 3ms/step - loss: 7.7125 - accuracy: 0.5000\n",
            "Epoch 36/250\n",
            "32/32 [==============================] - 0s 3ms/step - loss: 7.7125 - accuracy: 0.5000\n",
            "Epoch 37/250\n",
            "32/32 [==============================] - 0s 3ms/step - loss: 7.7125 - accuracy: 0.5000\n",
            "Epoch 38/250\n",
            "32/32 [==============================] - 0s 2ms/step - loss: 7.7125 - accuracy: 0.5000\n",
            "Epoch 39/250\n",
            "32/32 [==============================] - 0s 3ms/step - loss: 7.7125 - accuracy: 0.5000\n",
            "Epoch 40/250\n",
            "32/32 [==============================] - 0s 3ms/step - loss: 7.7125 - accuracy: 0.5000\n",
            "Epoch 41/250\n",
            "32/32 [==============================] - 0s 2ms/step - loss: 7.7125 - accuracy: 0.5000\n",
            "Epoch 42/250\n",
            "32/32 [==============================] - 0s 3ms/step - loss: 7.7125 - accuracy: 0.5000\n",
            "Epoch 43/250\n",
            "32/32 [==============================] - 0s 2ms/step - loss: 7.7125 - accuracy: 0.5000\n",
            "Epoch 44/250\n",
            "32/32 [==============================] - 0s 2ms/step - loss: 7.7125 - accuracy: 0.5000\n",
            "Epoch 45/250\n",
            "32/32 [==============================] - 0s 2ms/step - loss: 7.7125 - accuracy: 0.5000\n",
            "Epoch 46/250\n",
            "32/32 [==============================] - 0s 3ms/step - loss: 7.7125 - accuracy: 0.5000\n",
            "Epoch 47/250\n",
            "32/32 [==============================] - 0s 3ms/step - loss: 7.7125 - accuracy: 0.5000\n",
            "Epoch 48/250\n",
            "32/32 [==============================] - 0s 3ms/step - loss: 7.7125 - accuracy: 0.5000\n",
            "Epoch 49/250\n",
            "32/32 [==============================] - 0s 3ms/step - loss: 7.7125 - accuracy: 0.5000\n",
            "Epoch 50/250\n",
            "32/32 [==============================] - 0s 2ms/step - loss: 7.7125 - accuracy: 0.5000\n",
            "Epoch 51/250\n",
            "32/32 [==============================] - 0s 2ms/step - loss: 7.7125 - accuracy: 0.5000\n",
            "Epoch 52/250\n",
            "32/32 [==============================] - 0s 2ms/step - loss: 7.7125 - accuracy: 0.5000\n",
            "Epoch 53/250\n",
            "32/32 [==============================] - 0s 2ms/step - loss: 7.7125 - accuracy: 0.5000\n",
            "Epoch 54/250\n",
            "32/32 [==============================] - 0s 2ms/step - loss: 7.7125 - accuracy: 0.5000\n",
            "Epoch 55/250\n",
            "32/32 [==============================] - 0s 3ms/step - loss: 7.7125 - accuracy: 0.5000\n",
            "Epoch 56/250\n",
            "32/32 [==============================] - 0s 2ms/step - loss: 7.7125 - accuracy: 0.5000\n",
            "Epoch 57/250\n",
            "32/32 [==============================] - 0s 3ms/step - loss: 7.7125 - accuracy: 0.5000\n",
            "Epoch 58/250\n",
            "32/32 [==============================] - 0s 2ms/step - loss: 7.7125 - accuracy: 0.5000\n",
            "Epoch 59/250\n",
            "32/32 [==============================] - 0s 2ms/step - loss: 7.7125 - accuracy: 0.5000\n",
            "Epoch 60/250\n",
            "32/32 [==============================] - 0s 2ms/step - loss: 7.7125 - accuracy: 0.5000\n",
            "Epoch 61/250\n",
            "32/32 [==============================] - 0s 2ms/step - loss: 7.7125 - accuracy: 0.5000\n",
            "Epoch 62/250\n",
            "32/32 [==============================] - 0s 2ms/step - loss: 7.7125 - accuracy: 0.5000\n",
            "Epoch 63/250\n",
            "32/32 [==============================] - 0s 2ms/step - loss: 7.7125 - accuracy: 0.5000\n",
            "Epoch 64/250\n",
            "32/32 [==============================] - 0s 2ms/step - loss: 7.7125 - accuracy: 0.5000\n",
            "Epoch 65/250\n",
            "32/32 [==============================] - 0s 2ms/step - loss: 7.7125 - accuracy: 0.5000\n",
            "Epoch 66/250\n",
            "32/32 [==============================] - 0s 3ms/step - loss: 7.7125 - accuracy: 0.5000\n",
            "Epoch 67/250\n",
            "32/32 [==============================] - 0s 3ms/step - loss: 7.7125 - accuracy: 0.5000\n",
            "Epoch 68/250\n",
            "32/32 [==============================] - 0s 2ms/step - loss: 7.7125 - accuracy: 0.5000\n",
            "Epoch 69/250\n",
            "32/32 [==============================] - 0s 2ms/step - loss: 7.7125 - accuracy: 0.5000\n",
            "Epoch 70/250\n",
            "32/32 [==============================] - 0s 3ms/step - loss: 7.7125 - accuracy: 0.5000\n",
            "Epoch 71/250\n",
            "32/32 [==============================] - 0s 2ms/step - loss: 7.7125 - accuracy: 0.5000\n",
            "Epoch 72/250\n",
            "32/32 [==============================] - 0s 2ms/step - loss: 7.7125 - accuracy: 0.5000\n",
            "Epoch 73/250\n",
            "32/32 [==============================] - 0s 2ms/step - loss: 7.7125 - accuracy: 0.5000\n",
            "Epoch 74/250\n",
            "32/32 [==============================] - 0s 2ms/step - loss: 7.7125 - accuracy: 0.5000\n",
            "Epoch 75/250\n",
            "32/32 [==============================] - 0s 2ms/step - loss: 7.7125 - accuracy: 0.5000\n",
            "Epoch 76/250\n",
            "32/32 [==============================] - 0s 2ms/step - loss: 7.7125 - accuracy: 0.5000\n",
            "Epoch 77/250\n",
            "32/32 [==============================] - 0s 3ms/step - loss: 7.7125 - accuracy: 0.5000\n",
            "Epoch 78/250\n",
            "32/32 [==============================] - 0s 2ms/step - loss: 7.7125 - accuracy: 0.5000\n",
            "Epoch 79/250\n",
            "32/32 [==============================] - 0s 3ms/step - loss: 7.7125 - accuracy: 0.5000\n",
            "Epoch 80/250\n",
            "32/32 [==============================] - 0s 3ms/step - loss: 7.7125 - accuracy: 0.5000\n",
            "Epoch 81/250\n",
            "32/32 [==============================] - 0s 3ms/step - loss: 7.7125 - accuracy: 0.5000\n",
            "Epoch 82/250\n",
            "32/32 [==============================] - 0s 3ms/step - loss: 7.7125 - accuracy: 0.5000\n",
            "Epoch 83/250\n",
            "32/32 [==============================] - 0s 2ms/step - loss: 7.7125 - accuracy: 0.5000\n",
            "Epoch 84/250\n",
            "32/32 [==============================] - 0s 2ms/step - loss: 7.7125 - accuracy: 0.5000\n",
            "Epoch 85/250\n",
            "32/32 [==============================] - 0s 2ms/step - loss: 7.7125 - accuracy: 0.5000\n",
            "Epoch 86/250\n",
            "32/32 [==============================] - 0s 2ms/step - loss: 7.7125 - accuracy: 0.5000\n",
            "Epoch 87/250\n",
            "32/32 [==============================] - 0s 2ms/step - loss: 7.7125 - accuracy: 0.5000\n",
            "Epoch 88/250\n",
            "32/32 [==============================] - 0s 2ms/step - loss: 7.7125 - accuracy: 0.5000\n",
            "Epoch 89/250\n",
            "32/32 [==============================] - 0s 2ms/step - loss: 7.7125 - accuracy: 0.5000\n",
            "Epoch 90/250\n",
            "32/32 [==============================] - 0s 2ms/step - loss: 7.7125 - accuracy: 0.5000\n",
            "Epoch 91/250\n",
            "32/32 [==============================] - 0s 2ms/step - loss: 7.7125 - accuracy: 0.5000\n",
            "Epoch 92/250\n",
            "32/32 [==============================] - 0s 2ms/step - loss: 7.7125 - accuracy: 0.5000\n",
            "Epoch 93/250\n",
            "32/32 [==============================] - 0s 3ms/step - loss: 7.7125 - accuracy: 0.5000\n",
            "Epoch 94/250\n",
            "32/32 [==============================] - 0s 2ms/step - loss: 7.7125 - accuracy: 0.5000\n",
            "Epoch 95/250\n",
            "32/32 [==============================] - 0s 3ms/step - loss: 7.7125 - accuracy: 0.5000\n",
            "Epoch 96/250\n",
            "32/32 [==============================] - 0s 2ms/step - loss: 7.7125 - accuracy: 0.5000\n",
            "Epoch 97/250\n",
            "32/32 [==============================] - 0s 2ms/step - loss: 7.7125 - accuracy: 0.5000\n",
            "Epoch 98/250\n",
            "32/32 [==============================] - 0s 2ms/step - loss: 7.7125 - accuracy: 0.5000\n",
            "Epoch 99/250\n",
            "32/32 [==============================] - 0s 2ms/step - loss: 7.7125 - accuracy: 0.5000\n",
            "Epoch 100/250\n",
            "32/32 [==============================] - 0s 2ms/step - loss: 7.7125 - accuracy: 0.5000\n",
            "Epoch 101/250\n",
            "32/32 [==============================] - 0s 3ms/step - loss: 7.7125 - accuracy: 0.5000\n",
            "Epoch 102/250\n",
            "32/32 [==============================] - 0s 3ms/step - loss: 7.7125 - accuracy: 0.5000\n",
            "Epoch 103/250\n",
            "32/32 [==============================] - 0s 3ms/step - loss: 7.7125 - accuracy: 0.5000\n",
            "Epoch 104/250\n",
            "32/32 [==============================] - 0s 3ms/step - loss: 7.7125 - accuracy: 0.5000\n",
            "Epoch 105/250\n",
            "32/32 [==============================] - 0s 3ms/step - loss: 7.7125 - accuracy: 0.5000\n",
            "Epoch 106/250\n",
            "32/32 [==============================] - 0s 3ms/step - loss: 7.7125 - accuracy: 0.5000\n",
            "Epoch 107/250\n",
            "32/32 [==============================] - 0s 4ms/step - loss: 7.7125 - accuracy: 0.5000\n",
            "Epoch 108/250\n",
            "32/32 [==============================] - 0s 3ms/step - loss: 7.7125 - accuracy: 0.5000\n",
            "Epoch 109/250\n",
            "32/32 [==============================] - 0s 2ms/step - loss: 7.7125 - accuracy: 0.5000\n",
            "Epoch 110/250\n",
            "32/32 [==============================] - 0s 3ms/step - loss: 7.7125 - accuracy: 0.5000\n",
            "Epoch 111/250\n",
            "32/32 [==============================] - 0s 3ms/step - loss: 7.7125 - accuracy: 0.5000\n",
            "Epoch 112/250\n",
            "32/32 [==============================] - 0s 2ms/step - loss: 7.7125 - accuracy: 0.5000\n",
            "Epoch 113/250\n",
            "32/32 [==============================] - 0s 2ms/step - loss: 7.7125 - accuracy: 0.5000\n",
            "Epoch 114/250\n",
            "32/32 [==============================] - 0s 3ms/step - loss: 7.7125 - accuracy: 0.5000\n",
            "Epoch 115/250\n",
            "32/32 [==============================] - 0s 2ms/step - loss: 7.7125 - accuracy: 0.5000\n",
            "Epoch 116/250\n",
            "32/32 [==============================] - 0s 2ms/step - loss: 7.7125 - accuracy: 0.5000\n",
            "Epoch 117/250\n",
            "32/32 [==============================] - 0s 2ms/step - loss: 7.7125 - accuracy: 0.5000\n",
            "Epoch 118/250\n",
            "32/32 [==============================] - 0s 3ms/step - loss: 7.7125 - accuracy: 0.5000\n",
            "Epoch 119/250\n",
            "32/32 [==============================] - 0s 2ms/step - loss: 7.7125 - accuracy: 0.5000\n",
            "Epoch 120/250\n",
            "32/32 [==============================] - 0s 3ms/step - loss: 7.7125 - accuracy: 0.5000\n",
            "Epoch 121/250\n",
            "32/32 [==============================] - 0s 3ms/step - loss: 7.7125 - accuracy: 0.5000\n",
            "Epoch 122/250\n",
            "32/32 [==============================] - 0s 3ms/step - loss: 7.7125 - accuracy: 0.5000\n",
            "Epoch 123/250\n",
            "32/32 [==============================] - 0s 3ms/step - loss: 7.7125 - accuracy: 0.5000\n",
            "Epoch 124/250\n",
            "32/32 [==============================] - 0s 2ms/step - loss: 7.7125 - accuracy: 0.5000\n",
            "Epoch 125/250\n",
            "32/32 [==============================] - 0s 3ms/step - loss: 7.7125 - accuracy: 0.5000\n",
            "Epoch 126/250\n",
            "32/32 [==============================] - 0s 3ms/step - loss: 7.7125 - accuracy: 0.5000\n",
            "Epoch 127/250\n",
            "32/32 [==============================] - 0s 3ms/step - loss: 7.7125 - accuracy: 0.5000\n",
            "Epoch 128/250\n",
            "32/32 [==============================] - 0s 3ms/step - loss: 7.7125 - accuracy: 0.5000\n",
            "Epoch 129/250\n",
            "32/32 [==============================] - 0s 3ms/step - loss: 7.7125 - accuracy: 0.5000\n",
            "Epoch 130/250\n",
            "32/32 [==============================] - 0s 3ms/step - loss: 7.7125 - accuracy: 0.5000\n",
            "Epoch 131/250\n",
            "32/32 [==============================] - 0s 2ms/step - loss: 7.7125 - accuracy: 0.5000\n",
            "Epoch 132/250\n",
            "32/32 [==============================] - 0s 3ms/step - loss: 7.7125 - accuracy: 0.5000\n",
            "Epoch 133/250\n",
            "32/32 [==============================] - 0s 3ms/step - loss: 7.7125 - accuracy: 0.5000\n",
            "Epoch 134/250\n",
            "32/32 [==============================] - 0s 3ms/step - loss: 7.7125 - accuracy: 0.5000\n",
            "Epoch 135/250\n",
            "32/32 [==============================] - 0s 3ms/step - loss: 7.7125 - accuracy: 0.5000\n",
            "Epoch 136/250\n",
            "32/32 [==============================] - 0s 3ms/step - loss: 7.7125 - accuracy: 0.5000\n",
            "Epoch 137/250\n",
            "32/32 [==============================] - 0s 3ms/step - loss: 7.7125 - accuracy: 0.5000\n",
            "Epoch 138/250\n",
            "32/32 [==============================] - 0s 3ms/step - loss: 7.7125 - accuracy: 0.5000\n",
            "Epoch 139/250\n",
            "32/32 [==============================] - 0s 2ms/step - loss: 7.7125 - accuracy: 0.5000\n",
            "Epoch 140/250\n",
            "32/32 [==============================] - 0s 2ms/step - loss: 7.7125 - accuracy: 0.5000\n",
            "Epoch 141/250\n",
            "32/32 [==============================] - 0s 3ms/step - loss: 7.7125 - accuracy: 0.5000\n",
            "Epoch 142/250\n",
            "32/32 [==============================] - 0s 3ms/step - loss: 7.7125 - accuracy: 0.5000\n",
            "Epoch 143/250\n",
            "32/32 [==============================] - 0s 2ms/step - loss: 7.7125 - accuracy: 0.5000\n",
            "Epoch 144/250\n",
            "32/32 [==============================] - 0s 3ms/step - loss: 7.7125 - accuracy: 0.5000\n",
            "Epoch 145/250\n",
            "32/32 [==============================] - 0s 3ms/step - loss: 7.7125 - accuracy: 0.5000\n",
            "Epoch 146/250\n",
            "32/32 [==============================] - 0s 2ms/step - loss: 7.7125 - accuracy: 0.5000\n",
            "Epoch 147/250\n",
            "32/32 [==============================] - 0s 2ms/step - loss: 7.7125 - accuracy: 0.5000\n",
            "Epoch 148/250\n",
            "32/32 [==============================] - 0s 2ms/step - loss: 7.7125 - accuracy: 0.5000\n",
            "Epoch 149/250\n",
            "32/32 [==============================] - 0s 3ms/step - loss: 7.7125 - accuracy: 0.5000\n",
            "Epoch 150/250\n",
            "32/32 [==============================] - 0s 2ms/step - loss: 7.7125 - accuracy: 0.5000\n",
            "Epoch 151/250\n",
            "32/32 [==============================] - 0s 2ms/step - loss: 7.7125 - accuracy: 0.5000\n",
            "Epoch 152/250\n",
            "32/32 [==============================] - 0s 3ms/step - loss: 7.7125 - accuracy: 0.5000\n",
            "Epoch 153/250\n",
            "32/32 [==============================] - 0s 3ms/step - loss: 7.7125 - accuracy: 0.5000\n",
            "Epoch 154/250\n",
            "32/32 [==============================] - 0s 2ms/step - loss: 7.7125 - accuracy: 0.5000\n",
            "Epoch 155/250\n",
            "32/32 [==============================] - 0s 3ms/step - loss: 7.7125 - accuracy: 0.5000\n",
            "Epoch 156/250\n",
            "32/32 [==============================] - 0s 3ms/step - loss: 7.7125 - accuracy: 0.5000\n",
            "Epoch 157/250\n",
            "32/32 [==============================] - 0s 2ms/step - loss: 7.7125 - accuracy: 0.5000\n",
            "Epoch 158/250\n",
            "32/32 [==============================] - 0s 3ms/step - loss: 7.7125 - accuracy: 0.5000\n",
            "Epoch 159/250\n",
            "32/32 [==============================] - 0s 3ms/step - loss: 7.7125 - accuracy: 0.5000\n",
            "Epoch 160/250\n",
            "32/32 [==============================] - 0s 2ms/step - loss: 7.7125 - accuracy: 0.5000\n",
            "Epoch 161/250\n",
            "32/32 [==============================] - 0s 3ms/step - loss: 7.7125 - accuracy: 0.5000\n",
            "Epoch 162/250\n",
            "32/32 [==============================] - 0s 2ms/step - loss: 7.7125 - accuracy: 0.5000\n",
            "Epoch 163/250\n",
            "32/32 [==============================] - 0s 3ms/step - loss: 7.7125 - accuracy: 0.5000\n",
            "Epoch 164/250\n",
            "32/32 [==============================] - 0s 3ms/step - loss: 7.7125 - accuracy: 0.5000\n",
            "Epoch 165/250\n",
            "32/32 [==============================] - 0s 3ms/step - loss: 7.7125 - accuracy: 0.5000\n",
            "Epoch 166/250\n",
            "32/32 [==============================] - 0s 3ms/step - loss: 7.7125 - accuracy: 0.5000\n",
            "Epoch 167/250\n",
            "32/32 [==============================] - 0s 3ms/step - loss: 7.7125 - accuracy: 0.5000\n",
            "Epoch 168/250\n",
            "32/32 [==============================] - 0s 3ms/step - loss: 7.7125 - accuracy: 0.5000\n",
            "Epoch 169/250\n",
            "32/32 [==============================] - 0s 3ms/step - loss: 7.7125 - accuracy: 0.5000\n",
            "Epoch 170/250\n",
            "32/32 [==============================] - 0s 3ms/step - loss: 7.7125 - accuracy: 0.5000\n",
            "Epoch 171/250\n",
            "32/32 [==============================] - 0s 3ms/step - loss: 7.7125 - accuracy: 0.5000\n",
            "Epoch 172/250\n",
            "32/32 [==============================] - 0s 2ms/step - loss: 7.7125 - accuracy: 0.5000\n",
            "Epoch 173/250\n",
            "32/32 [==============================] - 0s 2ms/step - loss: 7.7125 - accuracy: 0.5000\n",
            "Epoch 174/250\n",
            "32/32 [==============================] - 0s 3ms/step - loss: 7.7125 - accuracy: 0.5000\n",
            "Epoch 175/250\n",
            "32/32 [==============================] - 0s 2ms/step - loss: 7.7125 - accuracy: 0.5000\n",
            "Epoch 176/250\n",
            "32/32 [==============================] - 0s 2ms/step - loss: 7.7125 - accuracy: 0.5000\n",
            "Epoch 177/250\n",
            "32/32 [==============================] - 0s 2ms/step - loss: 7.7125 - accuracy: 0.5000\n",
            "Epoch 178/250\n",
            "32/32 [==============================] - 0s 2ms/step - loss: 7.7125 - accuracy: 0.5000\n",
            "Epoch 179/250\n",
            "32/32 [==============================] - 0s 2ms/step - loss: 7.7125 - accuracy: 0.5000\n",
            "Epoch 180/250\n",
            "32/32 [==============================] - 0s 2ms/step - loss: 7.7125 - accuracy: 0.5000\n",
            "Epoch 181/250\n",
            "32/32 [==============================] - 0s 2ms/step - loss: 7.7125 - accuracy: 0.5000\n",
            "Epoch 182/250\n",
            "32/32 [==============================] - 0s 2ms/step - loss: 7.7125 - accuracy: 0.5000\n",
            "Epoch 183/250\n",
            "32/32 [==============================] - 0s 2ms/step - loss: 7.7125 - accuracy: 0.5000\n",
            "Epoch 184/250\n",
            "32/32 [==============================] - 0s 2ms/step - loss: 7.7125 - accuracy: 0.5000\n",
            "Epoch 185/250\n",
            "32/32 [==============================] - 0s 3ms/step - loss: 7.7125 - accuracy: 0.5000\n",
            "Epoch 186/250\n",
            "32/32 [==============================] - 0s 3ms/step - loss: 7.7125 - accuracy: 0.5000\n",
            "Epoch 187/250\n",
            "32/32 [==============================] - 0s 2ms/step - loss: 7.7125 - accuracy: 0.5000\n",
            "Epoch 188/250\n",
            "32/32 [==============================] - 0s 3ms/step - loss: 7.7125 - accuracy: 0.5000\n",
            "Epoch 189/250\n",
            "32/32 [==============================] - 0s 2ms/step - loss: 7.7125 - accuracy: 0.5000\n",
            "Epoch 190/250\n",
            "32/32 [==============================] - 0s 2ms/step - loss: 7.7125 - accuracy: 0.5000\n",
            "Epoch 191/250\n",
            "32/32 [==============================] - 0s 2ms/step - loss: 7.7125 - accuracy: 0.5000\n",
            "Epoch 192/250\n",
            "32/32 [==============================] - 0s 2ms/step - loss: 7.7125 - accuracy: 0.5000\n",
            "Epoch 193/250\n",
            "32/32 [==============================] - 0s 2ms/step - loss: 7.7125 - accuracy: 0.5000\n",
            "Epoch 194/250\n",
            "32/32 [==============================] - 0s 2ms/step - loss: 7.7125 - accuracy: 0.5000\n",
            "Epoch 195/250\n",
            "32/32 [==============================] - 0s 2ms/step - loss: 7.7125 - accuracy: 0.5000\n",
            "Epoch 196/250\n",
            "32/32 [==============================] - 0s 2ms/step - loss: 7.7125 - accuracy: 0.5000\n",
            "Epoch 197/250\n",
            "32/32 [==============================] - 0s 3ms/step - loss: 7.7125 - accuracy: 0.5000\n",
            "Epoch 198/250\n",
            "32/32 [==============================] - 0s 2ms/step - loss: 7.7125 - accuracy: 0.5000\n",
            "Epoch 199/250\n",
            "32/32 [==============================] - 0s 3ms/step - loss: 7.7125 - accuracy: 0.5000\n",
            "Epoch 200/250\n",
            "32/32 [==============================] - 0s 3ms/step - loss: 7.7125 - accuracy: 0.5000\n",
            "Epoch 201/250\n",
            "32/32 [==============================] - 0s 3ms/step - loss: 7.7125 - accuracy: 0.5000\n",
            "Epoch 202/250\n",
            "32/32 [==============================] - 0s 3ms/step - loss: 7.7125 - accuracy: 0.5000\n",
            "Epoch 203/250\n",
            "32/32 [==============================] - 0s 3ms/step - loss: 7.7125 - accuracy: 0.5000\n",
            "Epoch 204/250\n",
            "32/32 [==============================] - 0s 2ms/step - loss: 7.7125 - accuracy: 0.5000\n",
            "Epoch 205/250\n",
            "32/32 [==============================] - 0s 3ms/step - loss: 7.7125 - accuracy: 0.5000\n",
            "Epoch 206/250\n",
            "32/32 [==============================] - 0s 2ms/step - loss: 7.7125 - accuracy: 0.5000\n",
            "Epoch 207/250\n",
            "32/32 [==============================] - 0s 2ms/step - loss: 7.7125 - accuracy: 0.5000\n",
            "Epoch 208/250\n",
            "32/32 [==============================] - 0s 3ms/step - loss: 7.7125 - accuracy: 0.5000\n",
            "Epoch 209/250\n",
            "32/32 [==============================] - 0s 2ms/step - loss: 7.7125 - accuracy: 0.5000\n",
            "Epoch 210/250\n",
            "32/32 [==============================] - 0s 3ms/step - loss: 7.7125 - accuracy: 0.5000\n",
            "Epoch 211/250\n",
            "32/32 [==============================] - 0s 2ms/step - loss: 7.7125 - accuracy: 0.5000\n",
            "Epoch 212/250\n",
            "32/32 [==============================] - 0s 2ms/step - loss: 7.7125 - accuracy: 0.5000\n",
            "Epoch 213/250\n",
            "32/32 [==============================] - 0s 2ms/step - loss: 7.7125 - accuracy: 0.5000\n",
            "Epoch 214/250\n",
            "32/32 [==============================] - 0s 2ms/step - loss: 7.7125 - accuracy: 0.5000\n",
            "Epoch 215/250\n",
            "32/32 [==============================] - 0s 2ms/step - loss: 7.7125 - accuracy: 0.5000\n",
            "Epoch 216/250\n",
            "32/32 [==============================] - 0s 2ms/step - loss: 7.7125 - accuracy: 0.5000\n",
            "Epoch 217/250\n",
            "32/32 [==============================] - 0s 3ms/step - loss: 7.7125 - accuracy: 0.5000\n",
            "Epoch 218/250\n",
            "32/32 [==============================] - 0s 2ms/step - loss: 7.7125 - accuracy: 0.5000\n",
            "Epoch 219/250\n",
            "32/32 [==============================] - 0s 3ms/step - loss: 7.7125 - accuracy: 0.5000\n",
            "Epoch 220/250\n",
            "32/32 [==============================] - 0s 3ms/step - loss: 7.7125 - accuracy: 0.5000\n",
            "Epoch 221/250\n",
            "32/32 [==============================] - 0s 2ms/step - loss: 7.7125 - accuracy: 0.5000\n",
            "Epoch 222/250\n",
            "32/32 [==============================] - 0s 2ms/step - loss: 7.7125 - accuracy: 0.5000\n",
            "Epoch 223/250\n",
            "32/32 [==============================] - 0s 2ms/step - loss: 7.7125 - accuracy: 0.5000\n",
            "Epoch 224/250\n",
            "32/32 [==============================] - 0s 2ms/step - loss: 7.7125 - accuracy: 0.5000\n",
            "Epoch 225/250\n",
            "32/32 [==============================] - 0s 2ms/step - loss: 7.7125 - accuracy: 0.5000\n",
            "Epoch 226/250\n",
            "32/32 [==============================] - 0s 2ms/step - loss: 7.7125 - accuracy: 0.5000\n",
            "Epoch 227/250\n",
            "32/32 [==============================] - 0s 3ms/step - loss: 7.7125 - accuracy: 0.5000\n",
            "Epoch 228/250\n",
            "32/32 [==============================] - 0s 2ms/step - loss: 7.7125 - accuracy: 0.5000\n",
            "Epoch 229/250\n",
            "32/32 [==============================] - 0s 2ms/step - loss: 7.7125 - accuracy: 0.5000\n",
            "Epoch 230/250\n",
            "32/32 [==============================] - 0s 2ms/step - loss: 7.7125 - accuracy: 0.5000\n",
            "Epoch 231/250\n",
            "32/32 [==============================] - 0s 2ms/step - loss: 7.7125 - accuracy: 0.5000\n",
            "Epoch 232/250\n",
            "32/32 [==============================] - 0s 3ms/step - loss: 7.7125 - accuracy: 0.5000\n",
            "Epoch 233/250\n",
            "32/32 [==============================] - 0s 2ms/step - loss: 7.7125 - accuracy: 0.5000\n",
            "Epoch 234/250\n",
            "32/32 [==============================] - 0s 2ms/step - loss: 7.7125 - accuracy: 0.5000\n",
            "Epoch 235/250\n",
            "32/32 [==============================] - 0s 2ms/step - loss: 7.7125 - accuracy: 0.5000\n",
            "Epoch 236/250\n",
            "32/32 [==============================] - 0s 2ms/step - loss: 7.7125 - accuracy: 0.5000\n",
            "Epoch 237/250\n",
            "32/32 [==============================] - 0s 2ms/step - loss: 7.7125 - accuracy: 0.5000\n",
            "Epoch 238/250\n",
            "32/32 [==============================] - 0s 2ms/step - loss: 7.7125 - accuracy: 0.5000\n",
            "Epoch 239/250\n",
            "32/32 [==============================] - 0s 2ms/step - loss: 7.7125 - accuracy: 0.5000\n",
            "Epoch 240/250\n",
            "32/32 [==============================] - 0s 2ms/step - loss: 7.7125 - accuracy: 0.5000\n",
            "Epoch 241/250\n",
            "32/32 [==============================] - 0s 2ms/step - loss: 7.7125 - accuracy: 0.5000\n",
            "Epoch 242/250\n",
            "32/32 [==============================] - 0s 2ms/step - loss: 7.7125 - accuracy: 0.5000\n",
            "Epoch 243/250\n",
            "32/32 [==============================] - 0s 2ms/step - loss: 7.7125 - accuracy: 0.5000\n",
            "Epoch 244/250\n",
            "32/32 [==============================] - 0s 2ms/step - loss: 7.7125 - accuracy: 0.5000\n",
            "Epoch 245/250\n",
            "32/32 [==============================] - 0s 2ms/step - loss: 7.7125 - accuracy: 0.5000\n",
            "Epoch 246/250\n",
            "32/32 [==============================] - 0s 3ms/step - loss: 7.7125 - accuracy: 0.5000\n",
            "Epoch 247/250\n",
            "32/32 [==============================] - 0s 2ms/step - loss: 7.7125 - accuracy: 0.5000\n",
            "Epoch 248/250\n",
            "32/32 [==============================] - 0s 2ms/step - loss: 7.7125 - accuracy: 0.5000\n",
            "Epoch 249/250\n",
            "32/32 [==============================] - 0s 2ms/step - loss: 7.7125 - accuracy: 0.5000\n",
            "Epoch 250/250\n",
            "32/32 [==============================] - 0s 2ms/step - loss: 7.7125 - accuracy: 0.5000\n"
          ]
        }
      ]
    },
    {
      "cell_type": "code",
      "source": [
        "# EValuate the model\n",
        "model_6.evaluate(X,y)"
      ],
      "metadata": {
        "colab": {
          "base_uri": "https://localhost:8080/"
        },
        "id": "s-rECdVkkosN",
        "outputId": "55161555-23cc-4427-c4f5-e7c35dc0958f"
      },
      "execution_count": 51,
      "outputs": [
        {
          "output_type": "stream",
          "name": "stdout",
          "text": [
            "32/32 [==============================] - 0s 1ms/step - loss: 7.7125 - accuracy: 0.5000\n"
          ]
        },
        {
          "output_type": "execute_result",
          "data": {
            "text/plain": [
              "[7.712474346160889, 0.5]"
            ]
          },
          "metadata": {},
          "execution_count": 51
        }
      ]
    },
    {
      "cell_type": "code",
      "source": [
        "#how do the pred look like\n",
        "plot_decision_boundary(model_6,X,y)"
      ],
      "metadata": {
        "colab": {
          "base_uri": "https://localhost:8080/",
          "height": 301
        },
        "id": "P_hJ_ff-kuUk",
        "outputId": "271ab4cd-b355-4797-9ff4-bd19f22e38f3"
      },
      "execution_count": 52,
      "outputs": [
        {
          "output_type": "stream",
          "name": "stdout",
          "text": [
            "313/313 [==============================] - 0s 1ms/step\n",
            "doing binary classification\n"
          ]
        },
        {
          "output_type": "display_data",
          "data": {
            "text/plain": [
              "<Figure size 432x288 with 1 Axes>"
            ],
            "image/png": "[encoded data removed]"
          },
          "metadata": {
            "needs_background": "light"
          }
        }
      ]
    },
    {
      "cell_type": "code",
      "source": [
        "#INtroducting output activation function\n",
        "\n",
        "\n",
        "#Set random seed\n",
        "tf.random.set_seed(42)\n",
        "\n",
        "#1.Create model with more hidden layers and neurons\n",
        "model_7 = tf.keras.Sequential([\n",
        "    tf.keras.layers.Dense(4,activation=tf.keras.activations.relu),\n",
        "    tf.keras.layers.Dense(4,activation=tf.keras.activations.relu),\n",
        "    tf.keras.layers.Dense(1,activation=tf.keras.activations.sigmoid)\n",
        "])\n",
        "\n",
        "#2.Compile the model\n",
        "model_7.compile(loss=tf.keras.losses.BinaryCrossentropy(),\n",
        "                optimizer=tf.keras.optimizers.Adam(lr=0.001),\n",
        "                metrics=[\"accuracy\"])\n",
        "\n",
        "#3. fit the model\n",
        "history = model_7.fit(X,y,epochs=250)"
      ],
      "metadata": {
        "colab": {
          "base_uri": "https://localhost:8080/"
        },
        "id": "7j86N7h_lFYE",
        "outputId": "a64a756d-9cd9-4256-909d-205f186173f9"
      },
      "execution_count": 54,
      "outputs": [
        {
          "output_type": "stream",
          "name": "stdout",
          "text": [
            "Epoch 1/250\n"
          ]
        },
        {
          "output_type": "stream",
          "name": "stderr",
          "text": [
            "/usr/local/lib/python3.8/dist-packages/keras/optimizers/optimizer_v2/adam.py:110: UserWarning: The `lr` argument is deprecated, use `learning_rate` instead.\n",
            "  super(Adam, self).__init__(name, **kwargs)\n"
          ]
        },
        {
          "output_type": "stream",
          "name": "stdout",
          "text": [
            "32/32 [==============================] - 1s 3ms/step - loss: 0.6891 - accuracy: 0.5020\n",
            "Epoch 2/250\n",
            "32/32 [==============================] - 0s 2ms/step - loss: 0.6848 - accuracy: 0.5170\n",
            "Epoch 3/250\n",
            "32/32 [==============================] - 0s 2ms/step - loss: 0.6824 - accuracy: 0.5160\n",
            "Epoch 4/250\n",
            "32/32 [==============================] - 0s 2ms/step - loss: 0.6813 - accuracy: 0.5300\n",
            "Epoch 5/250\n",
            "32/32 [==============================] - 0s 2ms/step - loss: 0.6802 - accuracy: 0.5390\n",
            "Epoch 6/250\n",
            "32/32 [==============================] - 0s 2ms/step - loss: 0.6794 - accuracy: 0.5380\n",
            "Epoch 7/250\n",
            "32/32 [==============================] - 0s 2ms/step - loss: 0.6785 - accuracy: 0.5500\n",
            "Epoch 8/250\n",
            "32/32 [==============================] - 0s 2ms/step - loss: 0.6778 - accuracy: 0.5480\n",
            "Epoch 9/250\n",
            "32/32 [==============================] - 0s 2ms/step - loss: 0.6772 - accuracy: 0.5530\n",
            "Epoch 10/250\n",
            "32/32 [==============================] - 0s 2ms/step - loss: 0.6766 - accuracy: 0.5510\n",
            "Epoch 11/250\n",
            "32/32 [==============================] - 0s 2ms/step - loss: 0.6760 - accuracy: 0.5500\n",
            "Epoch 12/250\n",
            "32/32 [==============================] - 0s 2ms/step - loss: 0.6754 - accuracy: 0.5550\n",
            "Epoch 13/250\n",
            "32/32 [==============================] - 0s 2ms/step - loss: 0.6747 - accuracy: 0.5560\n",
            "Epoch 14/250\n",
            "32/32 [==============================] - 0s 2ms/step - loss: 0.6741 - accuracy: 0.5540\n",
            "Epoch 15/250\n",
            "32/32 [==============================] - 0s 2ms/step - loss: 0.6734 - accuracy: 0.5580\n",
            "Epoch 16/250\n",
            "32/32 [==============================] - 0s 2ms/step - loss: 0.6727 - accuracy: 0.5550\n",
            "Epoch 17/250\n",
            "32/32 [==============================] - 0s 2ms/step - loss: 0.6722 - accuracy: 0.5550\n",
            "Epoch 18/250\n",
            "32/32 [==============================] - 0s 2ms/step - loss: 0.6716 - accuracy: 0.5550\n",
            "Epoch 19/250\n",
            "32/32 [==============================] - 0s 2ms/step - loss: 0.6710 - accuracy: 0.5590\n",
            "Epoch 20/250\n",
            "32/32 [==============================] - 0s 2ms/step - loss: 0.6702 - accuracy: 0.5600\n",
            "Epoch 21/250\n",
            "32/32 [==============================] - 0s 2ms/step - loss: 0.6696 - accuracy: 0.5640\n",
            "Epoch 22/250\n",
            "32/32 [==============================] - 0s 2ms/step - loss: 0.6688 - accuracy: 0.5600\n",
            "Epoch 23/250\n",
            "32/32 [==============================] - 0s 2ms/step - loss: 0.6682 - accuracy: 0.5700\n",
            "Epoch 24/250\n",
            "32/32 [==============================] - 0s 2ms/step - loss: 0.6679 - accuracy: 0.5570\n",
            "Epoch 25/250\n",
            "32/32 [==============================] - 0s 2ms/step - loss: 0.6671 - accuracy: 0.5670\n",
            "Epoch 26/250\n",
            "32/32 [==============================] - 0s 2ms/step - loss: 0.6662 - accuracy: 0.5750\n",
            "Epoch 27/250\n",
            "32/32 [==============================] - 0s 2ms/step - loss: 0.6657 - accuracy: 0.5810\n",
            "Epoch 28/250\n",
            "32/32 [==============================] - 0s 3ms/step - loss: 0.6645 - accuracy: 0.5700\n",
            "Epoch 29/250\n",
            "32/32 [==============================] - 0s 2ms/step - loss: 0.6642 - accuracy: 0.5700\n",
            "Epoch 30/250\n",
            "32/32 [==============================] - 0s 2ms/step - loss: 0.6634 - accuracy: 0.5790\n",
            "Epoch 31/250\n",
            "32/32 [==============================] - 0s 2ms/step - loss: 0.6627 - accuracy: 0.5760\n",
            "Epoch 32/250\n",
            "32/32 [==============================] - 0s 2ms/step - loss: 0.6619 - accuracy: 0.5760\n",
            "Epoch 33/250\n",
            "32/32 [==============================] - 0s 2ms/step - loss: 0.6610 - accuracy: 0.5760\n",
            "Epoch 34/250\n",
            "32/32 [==============================] - 0s 2ms/step - loss: 0.6606 - accuracy: 0.5760\n",
            "Epoch 35/250\n",
            "32/32 [==============================] - 0s 2ms/step - loss: 0.6597 - accuracy: 0.5790\n",
            "Epoch 36/250\n",
            "32/32 [==============================] - 0s 2ms/step - loss: 0.6586 - accuracy: 0.5780\n",
            "Epoch 37/250\n",
            "32/32 [==============================] - 0s 3ms/step - loss: 0.6580 - accuracy: 0.5780\n",
            "Epoch 38/250\n",
            "32/32 [==============================] - 0s 2ms/step - loss: 0.6573 - accuracy: 0.5790\n",
            "Epoch 39/250\n",
            "32/32 [==============================] - 0s 2ms/step - loss: 0.6564 - accuracy: 0.5790\n",
            "Epoch 40/250\n",
            "32/32 [==============================] - 0s 2ms/step - loss: 0.6556 - accuracy: 0.5760\n",
            "Epoch 41/250\n",
            "32/32 [==============================] - 0s 2ms/step - loss: 0.6548 - accuracy: 0.5780\n",
            "Epoch 42/250\n",
            "32/32 [==============================] - 0s 2ms/step - loss: 0.6540 - accuracy: 0.5750\n",
            "Epoch 43/250\n",
            "32/32 [==============================] - 0s 2ms/step - loss: 0.6530 - accuracy: 0.5780\n",
            "Epoch 44/250\n",
            "32/32 [==============================] - 0s 2ms/step - loss: 0.6521 - accuracy: 0.5810\n",
            "Epoch 45/250\n",
            "32/32 [==============================] - 0s 2ms/step - loss: 0.6496 - accuracy: 0.5810\n",
            "Epoch 46/250\n",
            "32/32 [==============================] - 0s 2ms/step - loss: 0.6481 - accuracy: 0.5830\n",
            "Epoch 47/250\n",
            "32/32 [==============================] - 0s 2ms/step - loss: 0.6472 - accuracy: 0.5850\n",
            "Epoch 48/250\n",
            "32/32 [==============================] - 0s 2ms/step - loss: 0.6451 - accuracy: 0.5880\n",
            "Epoch 49/250\n",
            "32/32 [==============================] - 0s 2ms/step - loss: 0.6426 - accuracy: 0.5880\n",
            "Epoch 50/250\n",
            "32/32 [==============================] - 0s 2ms/step - loss: 0.6404 - accuracy: 0.5940\n",
            "Epoch 51/250\n",
            "32/32 [==============================] - 0s 2ms/step - loss: 0.6384 - accuracy: 0.6010\n",
            "Epoch 52/250\n",
            "32/32 [==============================] - 0s 2ms/step - loss: 0.6364 - accuracy: 0.6130\n",
            "Epoch 53/250\n",
            "32/32 [==============================] - 0s 2ms/step - loss: 0.6344 - accuracy: 0.6110\n",
            "Epoch 54/250\n",
            "32/32 [==============================] - 0s 5ms/step - loss: 0.6312 - accuracy: 0.6280\n",
            "Epoch 55/250\n",
            "32/32 [==============================] - 0s 8ms/step - loss: 0.6287 - accuracy: 0.6380\n",
            "Epoch 56/250\n",
            "32/32 [==============================] - 0s 5ms/step - loss: 0.6259 - accuracy: 0.6840\n",
            "Epoch 57/250\n",
            "32/32 [==============================] - 0s 5ms/step - loss: 0.6227 - accuracy: 0.6950\n",
            "Epoch 58/250\n",
            "32/32 [==============================] - 0s 5ms/step - loss: 0.6200 - accuracy: 0.6990\n",
            "Epoch 59/250\n",
            "32/32 [==============================] - 0s 2ms/step - loss: 0.6168 - accuracy: 0.6950\n",
            "Epoch 60/250\n",
            "32/32 [==============================] - 0s 2ms/step - loss: 0.6133 - accuracy: 0.7240\n",
            "Epoch 61/250\n",
            "32/32 [==============================] - 0s 2ms/step - loss: 0.6101 - accuracy: 0.7200\n",
            "Epoch 62/250\n",
            "32/32 [==============================] - 0s 2ms/step - loss: 0.6059 - accuracy: 0.7330\n",
            "Epoch 63/250\n",
            "32/32 [==============================] - 0s 2ms/step - loss: 0.6014 - accuracy: 0.7400\n",
            "Epoch 64/250\n",
            "32/32 [==============================] - 0s 3ms/step - loss: 0.5966 - accuracy: 0.7460\n",
            "Epoch 65/250\n",
            "32/32 [==============================] - 0s 2ms/step - loss: 0.5905 - accuracy: 0.7440\n",
            "Epoch 66/250\n",
            "32/32 [==============================] - 0s 2ms/step - loss: 0.5830 - accuracy: 0.7450\n",
            "Epoch 67/250\n",
            "32/32 [==============================] - 0s 2ms/step - loss: 0.5757 - accuracy: 0.7460\n",
            "Epoch 68/250\n",
            "32/32 [==============================] - 0s 2ms/step - loss: 0.5683 - accuracy: 0.7800\n",
            "Epoch 69/250\n",
            "32/32 [==============================] - 0s 2ms/step - loss: 0.5614 - accuracy: 0.8010\n",
            "Epoch 70/250\n",
            "32/32 [==============================] - 0s 2ms/step - loss: 0.5548 - accuracy: 0.8010\n",
            "Epoch 71/250\n",
            "32/32 [==============================] - 0s 2ms/step - loss: 0.5474 - accuracy: 0.8240\n",
            "Epoch 72/250\n",
            "32/32 [==============================] - 0s 2ms/step - loss: 0.5406 - accuracy: 0.8460\n",
            "Epoch 73/250\n",
            "32/32 [==============================] - 0s 2ms/step - loss: 0.5327 - accuracy: 0.8470\n",
            "Epoch 74/250\n",
            "32/32 [==============================] - 0s 2ms/step - loss: 0.5243 - accuracy: 0.8620\n",
            "Epoch 75/250\n",
            "32/32 [==============================] - 0s 2ms/step - loss: 0.5148 - accuracy: 0.8870\n",
            "Epoch 76/250\n",
            "32/32 [==============================] - 0s 2ms/step - loss: 0.5042 - accuracy: 0.8820\n",
            "Epoch 77/250\n",
            "32/32 [==============================] - 0s 2ms/step - loss: 0.4927 - accuracy: 0.9300\n",
            "Epoch 78/250\n",
            "32/32 [==============================] - 0s 2ms/step - loss: 0.4824 - accuracy: 0.9090\n",
            "Epoch 79/250\n",
            "32/32 [==============================] - 0s 2ms/step - loss: 0.4733 - accuracy: 0.9460\n",
            "Epoch 80/250\n",
            "32/32 [==============================] - 0s 2ms/step - loss: 0.4632 - accuracy: 0.9600\n",
            "Epoch 81/250\n",
            "32/32 [==============================] - 0s 2ms/step - loss: 0.4546 - accuracy: 0.9600\n",
            "Epoch 82/250\n",
            "32/32 [==============================] - 0s 2ms/step - loss: 0.4456 - accuracy: 0.9580\n",
            "Epoch 83/250\n",
            "32/32 [==============================] - 0s 2ms/step - loss: 0.4360 - accuracy: 0.9630\n",
            "Epoch 84/250\n",
            "32/32 [==============================] - 0s 2ms/step - loss: 0.4260 - accuracy: 0.9690\n",
            "Epoch 85/250\n",
            "32/32 [==============================] - 0s 2ms/step - loss: 0.4145 - accuracy: 0.9700\n",
            "Epoch 86/250\n",
            "32/32 [==============================] - 0s 2ms/step - loss: 0.4059 - accuracy: 0.9740\n",
            "Epoch 87/250\n",
            "32/32 [==============================] - 0s 2ms/step - loss: 0.3962 - accuracy: 0.9750\n",
            "Epoch 88/250\n",
            "32/32 [==============================] - 0s 2ms/step - loss: 0.3873 - accuracy: 0.9720\n",
            "Epoch 89/250\n",
            "32/32 [==============================] - 0s 2ms/step - loss: 0.3795 - accuracy: 0.9750\n",
            "Epoch 90/250\n",
            "32/32 [==============================] - 0s 2ms/step - loss: 0.3716 - accuracy: 0.9750\n",
            "Epoch 91/250\n",
            "32/32 [==============================] - 0s 2ms/step - loss: 0.3635 - accuracy: 0.9840\n",
            "Epoch 92/250\n",
            "32/32 [==============================] - 0s 2ms/step - loss: 0.3554 - accuracy: 0.9830\n",
            "Epoch 93/250\n",
            "32/32 [==============================] - 0s 3ms/step - loss: 0.3482 - accuracy: 0.9800\n",
            "Epoch 94/250\n",
            "32/32 [==============================] - 0s 3ms/step - loss: 0.3404 - accuracy: 0.9820\n",
            "Epoch 95/250\n",
            "32/32 [==============================] - 0s 2ms/step - loss: 0.3329 - accuracy: 0.9880\n",
            "Epoch 96/250\n",
            "32/32 [==============================] - 0s 2ms/step - loss: 0.3268 - accuracy: 0.9870\n",
            "Epoch 97/250\n",
            "32/32 [==============================] - 0s 2ms/step - loss: 0.3190 - accuracy: 0.9870\n",
            "Epoch 98/250\n",
            "32/32 [==============================] - 0s 2ms/step - loss: 0.3122 - accuracy: 0.9890\n",
            "Epoch 99/250\n",
            "32/32 [==============================] - 0s 2ms/step - loss: 0.3059 - accuracy: 0.9880\n",
            "Epoch 100/250\n",
            "32/32 [==============================] - 0s 2ms/step - loss: 0.2993 - accuracy: 0.9890\n",
            "Epoch 101/250\n",
            "32/32 [==============================] - 0s 2ms/step - loss: 0.2931 - accuracy: 0.9900\n",
            "Epoch 102/250\n",
            "32/32 [==============================] - 0s 2ms/step - loss: 0.2871 - accuracy: 0.9900\n",
            "Epoch 103/250\n",
            "32/32 [==============================] - 0s 2ms/step - loss: 0.2805 - accuracy: 0.9900\n",
            "Epoch 104/250\n",
            "32/32 [==============================] - 0s 2ms/step - loss: 0.2749 - accuracy: 0.9920\n",
            "Epoch 105/250\n",
            "32/32 [==============================] - 0s 2ms/step - loss: 0.2698 - accuracy: 0.9910\n",
            "Epoch 106/250\n",
            "32/32 [==============================] - 0s 2ms/step - loss: 0.2639 - accuracy: 0.9910\n",
            "Epoch 107/250\n",
            "32/32 [==============================] - 0s 2ms/step - loss: 0.2589 - accuracy: 0.9900\n",
            "Epoch 108/250\n",
            "32/32 [==============================] - 0s 2ms/step - loss: 0.2539 - accuracy: 0.9890\n",
            "Epoch 109/250\n",
            "32/32 [==============================] - 0s 2ms/step - loss: 0.2483 - accuracy: 0.9920\n",
            "Epoch 110/250\n",
            "32/32 [==============================] - 0s 2ms/step - loss: 0.2433 - accuracy: 0.9920\n",
            "Epoch 111/250\n",
            "32/32 [==============================] - 0s 2ms/step - loss: 0.2390 - accuracy: 0.9900\n",
            "Epoch 112/250\n",
            "32/32 [==============================] - 0s 2ms/step - loss: 0.2354 - accuracy: 0.9900\n",
            "Epoch 113/250\n",
            "32/32 [==============================] - 0s 2ms/step - loss: 0.2293 - accuracy: 0.9910\n",
            "Epoch 114/250\n",
            "32/32 [==============================] - 0s 2ms/step - loss: 0.2251 - accuracy: 0.9910\n",
            "Epoch 115/250\n",
            "32/32 [==============================] - 0s 2ms/step - loss: 0.2209 - accuracy: 0.9920\n",
            "Epoch 116/250\n",
            "32/32 [==============================] - 0s 2ms/step - loss: 0.2164 - accuracy: 0.9920\n",
            "Epoch 117/250\n",
            "32/32 [==============================] - 0s 2ms/step - loss: 0.2130 - accuracy: 0.9900\n",
            "Epoch 118/250\n",
            "32/32 [==============================] - 0s 2ms/step - loss: 0.2092 - accuracy: 0.9910\n",
            "Epoch 119/250\n",
            "32/32 [==============================] - 0s 2ms/step - loss: 0.2050 - accuracy: 0.9910\n",
            "Epoch 120/250\n",
            "32/32 [==============================] - 0s 2ms/step - loss: 0.2016 - accuracy: 0.9890\n",
            "Epoch 121/250\n",
            "32/32 [==============================] - 0s 2ms/step - loss: 0.1979 - accuracy: 0.9920\n",
            "Epoch 122/250\n",
            "32/32 [==============================] - 0s 2ms/step - loss: 0.1938 - accuracy: 0.9910\n",
            "Epoch 123/250\n",
            "32/32 [==============================] - 0s 3ms/step - loss: 0.1906 - accuracy: 0.9920\n",
            "Epoch 124/250\n",
            "32/32 [==============================] - 0s 2ms/step - loss: 0.1872 - accuracy: 0.9910\n",
            "Epoch 125/250\n",
            "32/32 [==============================] - 0s 2ms/step - loss: 0.1839 - accuracy: 0.9900\n",
            "Epoch 126/250\n",
            "32/32 [==============================] - 0s 2ms/step - loss: 0.1809 - accuracy: 0.9920\n",
            "Epoch 127/250\n",
            "32/32 [==============================] - 0s 2ms/step - loss: 0.1771 - accuracy: 0.9910\n",
            "Epoch 128/250\n",
            "32/32 [==============================] - 0s 2ms/step - loss: 0.1747 - accuracy: 0.9920\n",
            "Epoch 129/250\n",
            "32/32 [==============================] - 0s 2ms/step - loss: 0.1712 - accuracy: 0.9930\n",
            "Epoch 130/250\n",
            "32/32 [==============================] - 0s 2ms/step - loss: 0.1682 - accuracy: 0.9930\n",
            "Epoch 131/250\n",
            "32/32 [==============================] - 0s 3ms/step - loss: 0.1662 - accuracy: 0.9910\n",
            "Epoch 132/250\n",
            "32/32 [==============================] - 0s 2ms/step - loss: 0.1630 - accuracy: 0.9930\n",
            "Epoch 133/250\n",
            "32/32 [==============================] - 0s 2ms/step - loss: 0.1603 - accuracy: 0.9910\n",
            "Epoch 134/250\n",
            "32/32 [==============================] - 0s 2ms/step - loss: 0.1578 - accuracy: 0.9910\n",
            "Epoch 135/250\n",
            "32/32 [==============================] - 0s 2ms/step - loss: 0.1552 - accuracy: 0.9940\n",
            "Epoch 136/250\n",
            "32/32 [==============================] - 0s 2ms/step - loss: 0.1530 - accuracy: 0.9920\n",
            "Epoch 137/250\n",
            "32/32 [==============================] - 0s 2ms/step - loss: 0.1510 - accuracy: 0.9920\n",
            "Epoch 138/250\n",
            "32/32 [==============================] - 0s 2ms/step - loss: 0.1480 - accuracy: 0.9930\n",
            "Epoch 139/250\n",
            "32/32 [==============================] - 0s 2ms/step - loss: 0.1459 - accuracy: 0.9920\n",
            "Epoch 140/250\n",
            "32/32 [==============================] - 0s 2ms/step - loss: 0.1439 - accuracy: 0.9910\n",
            "Epoch 141/250\n",
            "32/32 [==============================] - 0s 2ms/step - loss: 0.1420 - accuracy: 0.9930\n",
            "Epoch 142/250\n",
            "32/32 [==============================] - 0s 2ms/step - loss: 0.1392 - accuracy: 0.9940\n",
            "Epoch 143/250\n",
            "32/32 [==============================] - 0s 2ms/step - loss: 0.1376 - accuracy: 0.9920\n",
            "Epoch 144/250\n",
            "32/32 [==============================] - 0s 2ms/step - loss: 0.1356 - accuracy: 0.9930\n",
            "Epoch 145/250\n",
            "32/32 [==============================] - 0s 2ms/step - loss: 0.1332 - accuracy: 0.9920\n",
            "Epoch 146/250\n",
            "32/32 [==============================] - 0s 2ms/step - loss: 0.1314 - accuracy: 0.9910\n",
            "Epoch 147/250\n",
            "32/32 [==============================] - 0s 2ms/step - loss: 0.1295 - accuracy: 0.9900\n",
            "Epoch 148/250\n",
            "32/32 [==============================] - 0s 2ms/step - loss: 0.1276 - accuracy: 0.9930\n",
            "Epoch 149/250\n",
            "32/32 [==============================] - 0s 2ms/step - loss: 0.1257 - accuracy: 0.9930\n",
            "Epoch 150/250\n",
            "32/32 [==============================] - 0s 2ms/step - loss: 0.1242 - accuracy: 0.9920\n",
            "Epoch 151/250\n",
            "32/32 [==============================] - 0s 2ms/step - loss: 0.1229 - accuracy: 0.9910\n",
            "Epoch 152/250\n",
            "32/32 [==============================] - 0s 2ms/step - loss: 0.1208 - accuracy: 0.9920\n",
            "Epoch 153/250\n",
            "32/32 [==============================] - 0s 2ms/step - loss: 0.1190 - accuracy: 0.9930\n",
            "Epoch 154/250\n",
            "32/32 [==============================] - 0s 2ms/step - loss: 0.1174 - accuracy: 0.9920\n",
            "Epoch 155/250\n",
            "32/32 [==============================] - 0s 2ms/step - loss: 0.1156 - accuracy: 0.9940\n",
            "Epoch 156/250\n",
            "32/32 [==============================] - 0s 2ms/step - loss: 0.1143 - accuracy: 0.9930\n",
            "Epoch 157/250\n",
            "32/32 [==============================] - 0s 3ms/step - loss: 0.1128 - accuracy: 0.9920\n",
            "Epoch 158/250\n",
            "32/32 [==============================] - 0s 2ms/step - loss: 0.1112 - accuracy: 0.9930\n",
            "Epoch 159/250\n",
            "32/32 [==============================] - 0s 2ms/step - loss: 0.1099 - accuracy: 0.9920\n",
            "Epoch 160/250\n",
            "32/32 [==============================] - 0s 2ms/step - loss: 0.1090 - accuracy: 0.9900\n",
            "Epoch 161/250\n",
            "32/32 [==============================] - 0s 2ms/step - loss: 0.1079 - accuracy: 0.9930\n",
            "Epoch 162/250\n",
            "32/32 [==============================] - 0s 2ms/step - loss: 0.1058 - accuracy: 0.9930\n",
            "Epoch 163/250\n",
            "32/32 [==============================] - 0s 2ms/step - loss: 0.1046 - accuracy: 0.9940\n",
            "Epoch 164/250\n",
            "32/32 [==============================] - 0s 2ms/step - loss: 0.1031 - accuracy: 0.9930\n",
            "Epoch 165/250\n",
            "32/32 [==============================] - 0s 2ms/step - loss: 0.1027 - accuracy: 0.9890\n",
            "Epoch 166/250\n",
            "32/32 [==============================] - 0s 2ms/step - loss: 0.1010 - accuracy: 0.9930\n",
            "Epoch 167/250\n",
            "32/32 [==============================] - 0s 2ms/step - loss: 0.0996 - accuracy: 0.9930\n",
            "Epoch 168/250\n",
            "32/32 [==============================] - 0s 2ms/step - loss: 0.0986 - accuracy: 0.9920\n",
            "Epoch 169/250\n",
            "32/32 [==============================] - 0s 2ms/step - loss: 0.0970 - accuracy: 0.9930\n",
            "Epoch 170/250\n",
            "32/32 [==============================] - 0s 2ms/step - loss: 0.0959 - accuracy: 0.9920\n",
            "Epoch 171/250\n",
            "32/32 [==============================] - 0s 2ms/step - loss: 0.0949 - accuracy: 0.9920\n",
            "Epoch 172/250\n",
            "32/32 [==============================] - 0s 2ms/step - loss: 0.0937 - accuracy: 0.9920\n",
            "Epoch 173/250\n",
            "32/32 [==============================] - 0s 2ms/step - loss: 0.0926 - accuracy: 0.9930\n",
            "Epoch 174/250\n",
            "32/32 [==============================] - 0s 2ms/step - loss: 0.0915 - accuracy: 0.9920\n",
            "Epoch 175/250\n",
            "32/32 [==============================] - 0s 2ms/step - loss: 0.0913 - accuracy: 0.9910\n",
            "Epoch 176/250\n",
            "32/32 [==============================] - 0s 2ms/step - loss: 0.0900 - accuracy: 0.9930\n",
            "Epoch 177/250\n",
            "32/32 [==============================] - 0s 2ms/step - loss: 0.0885 - accuracy: 0.9940\n",
            "Epoch 178/250\n",
            "32/32 [==============================] - 0s 2ms/step - loss: 0.0882 - accuracy: 0.9900\n",
            "Epoch 179/250\n",
            "32/32 [==============================] - 0s 2ms/step - loss: 0.0869 - accuracy: 0.9920\n",
            "Epoch 180/250\n",
            "32/32 [==============================] - 0s 2ms/step - loss: 0.0859 - accuracy: 0.9930\n",
            "Epoch 181/250\n",
            "32/32 [==============================] - 0s 2ms/step - loss: 0.0851 - accuracy: 0.9930\n",
            "Epoch 182/250\n",
            "32/32 [==============================] - 0s 2ms/step - loss: 0.0840 - accuracy: 0.9920\n",
            "Epoch 183/250\n",
            "32/32 [==============================] - 0s 2ms/step - loss: 0.0831 - accuracy: 0.9920\n",
            "Epoch 184/250\n",
            "32/32 [==============================] - 0s 2ms/step - loss: 0.0823 - accuracy: 0.9920\n",
            "Epoch 185/250\n",
            "32/32 [==============================] - 0s 2ms/step - loss: 0.0816 - accuracy: 0.9940\n",
            "Epoch 186/250\n",
            "32/32 [==============================] - 0s 2ms/step - loss: 0.0809 - accuracy: 0.9930\n",
            "Epoch 187/250\n",
            "32/32 [==============================] - 0s 2ms/step - loss: 0.0801 - accuracy: 0.9940\n",
            "Epoch 188/250\n",
            "32/32 [==============================] - 0s 2ms/step - loss: 0.0786 - accuracy: 0.9920\n",
            "Epoch 189/250\n",
            "32/32 [==============================] - 0s 2ms/step - loss: 0.0780 - accuracy: 0.9930\n",
            "Epoch 190/250\n",
            "32/32 [==============================] - 0s 2ms/step - loss: 0.0773 - accuracy: 0.9930\n",
            "Epoch 191/250\n",
            "32/32 [==============================] - 0s 3ms/step - loss: 0.0767 - accuracy: 0.9920\n",
            "Epoch 192/250\n",
            "32/32 [==============================] - 0s 2ms/step - loss: 0.0759 - accuracy: 0.9910\n",
            "Epoch 193/250\n",
            "32/32 [==============================] - 0s 2ms/step - loss: 0.0748 - accuracy: 0.9910\n",
            "Epoch 194/250\n",
            "32/32 [==============================] - 0s 2ms/step - loss: 0.0742 - accuracy: 0.9920\n",
            "Epoch 195/250\n",
            "32/32 [==============================] - 0s 2ms/step - loss: 0.0735 - accuracy: 0.9930\n",
            "Epoch 196/250\n",
            "32/32 [==============================] - 0s 2ms/step - loss: 0.0728 - accuracy: 0.9920\n",
            "Epoch 197/250\n",
            "32/32 [==============================] - 0s 2ms/step - loss: 0.0719 - accuracy: 0.9920\n",
            "Epoch 198/250\n",
            "32/32 [==============================] - 0s 3ms/step - loss: 0.0716 - accuracy: 0.9930\n",
            "Epoch 199/250\n",
            "32/32 [==============================] - 0s 2ms/step - loss: 0.0704 - accuracy: 0.9920\n",
            "Epoch 200/250\n",
            "32/32 [==============================] - 0s 3ms/step - loss: 0.0702 - accuracy: 0.9920\n",
            "Epoch 201/250\n",
            "32/32 [==============================] - 0s 2ms/step - loss: 0.0695 - accuracy: 0.9930\n",
            "Epoch 202/250\n",
            "32/32 [==============================] - 0s 2ms/step - loss: 0.0686 - accuracy: 0.9930\n",
            "Epoch 203/250\n",
            "32/32 [==============================] - 0s 2ms/step - loss: 0.0682 - accuracy: 0.9930\n",
            "Epoch 204/250\n",
            "32/32 [==============================] - 0s 2ms/step - loss: 0.0671 - accuracy: 0.9920\n",
            "Epoch 205/250\n",
            "32/32 [==============================] - 0s 2ms/step - loss: 0.0668 - accuracy: 0.9930\n",
            "Epoch 206/250\n",
            "32/32 [==============================] - 0s 3ms/step - loss: 0.0666 - accuracy: 0.9930\n",
            "Epoch 207/250\n",
            "32/32 [==============================] - 0s 2ms/step - loss: 0.0654 - accuracy: 0.9920\n",
            "Epoch 208/250\n",
            "32/32 [==============================] - 0s 2ms/step - loss: 0.0654 - accuracy: 0.9930\n",
            "Epoch 209/250\n",
            "32/32 [==============================] - 0s 2ms/step - loss: 0.0647 - accuracy: 0.9920\n",
            "Epoch 210/250\n",
            "32/32 [==============================] - 0s 2ms/step - loss: 0.0641 - accuracy: 0.9920\n",
            "Epoch 211/250\n",
            "32/32 [==============================] - 0s 3ms/step - loss: 0.0643 - accuracy: 0.9920\n",
            "Epoch 212/250\n",
            "32/32 [==============================] - 0s 3ms/step - loss: 0.0627 - accuracy: 0.9920\n",
            "Epoch 213/250\n",
            "32/32 [==============================] - 0s 2ms/step - loss: 0.0623 - accuracy: 0.9920\n",
            "Epoch 214/250\n",
            "32/32 [==============================] - 0s 3ms/step - loss: 0.0615 - accuracy: 0.9930\n",
            "Epoch 215/250\n",
            "32/32 [==============================] - 0s 3ms/step - loss: 0.0610 - accuracy: 0.9920\n",
            "Epoch 216/250\n",
            "32/32 [==============================] - 0s 2ms/step - loss: 0.0610 - accuracy: 0.9910\n",
            "Epoch 217/250\n",
            "32/32 [==============================] - 0s 2ms/step - loss: 0.0599 - accuracy: 0.9930\n",
            "Epoch 218/250\n",
            "32/32 [==============================] - 0s 2ms/step - loss: 0.0594 - accuracy: 0.9910\n",
            "Epoch 219/250\n",
            "32/32 [==============================] - 0s 2ms/step - loss: 0.0591 - accuracy: 0.9930\n",
            "Epoch 220/250\n",
            "32/32 [==============================] - 0s 2ms/step - loss: 0.0589 - accuracy: 0.9920\n",
            "Epoch 221/250\n",
            "32/32 [==============================] - 0s 2ms/step - loss: 0.0583 - accuracy: 0.9930\n",
            "Epoch 222/250\n",
            "32/32 [==============================] - 0s 2ms/step - loss: 0.0575 - accuracy: 0.9920\n",
            "Epoch 223/250\n",
            "32/32 [==============================] - 0s 2ms/step - loss: 0.0574 - accuracy: 0.9930\n",
            "Epoch 224/250\n",
            "32/32 [==============================] - 0s 3ms/step - loss: 0.0569 - accuracy: 0.9930\n",
            "Epoch 225/250\n",
            "32/32 [==============================] - 0s 2ms/step - loss: 0.0567 - accuracy: 0.9950\n",
            "Epoch 226/250\n",
            "32/32 [==============================] - 0s 2ms/step - loss: 0.0560 - accuracy: 0.9920\n",
            "Epoch 227/250\n",
            "32/32 [==============================] - 0s 2ms/step - loss: 0.0554 - accuracy: 0.9950\n",
            "Epoch 228/250\n",
            "32/32 [==============================] - 0s 2ms/step - loss: 0.0549 - accuracy: 0.9920\n",
            "Epoch 229/250\n",
            "32/32 [==============================] - 0s 2ms/step - loss: 0.0543 - accuracy: 0.9920\n",
            "Epoch 230/250\n",
            "32/32 [==============================] - 0s 2ms/step - loss: 0.0538 - accuracy: 0.9930\n",
            "Epoch 231/250\n",
            "32/32 [==============================] - 0s 2ms/step - loss: 0.0533 - accuracy: 0.9930\n",
            "Epoch 232/250\n",
            "32/32 [==============================] - 0s 2ms/step - loss: 0.0531 - accuracy: 0.9920\n",
            "Epoch 233/250\n",
            "32/32 [==============================] - 0s 2ms/step - loss: 0.0529 - accuracy: 0.9930\n",
            "Epoch 234/250\n",
            "32/32 [==============================] - 0s 2ms/step - loss: 0.0523 - accuracy: 0.9930\n",
            "Epoch 235/250\n",
            "32/32 [==============================] - 0s 2ms/step - loss: 0.0519 - accuracy: 0.9930\n",
            "Epoch 236/250\n",
            "32/32 [==============================] - 0s 3ms/step - loss: 0.0515 - accuracy: 0.9930\n",
            "Epoch 237/250\n",
            "32/32 [==============================] - 0s 2ms/step - loss: 0.0513 - accuracy: 0.9900\n",
            "Epoch 238/250\n",
            "32/32 [==============================] - 0s 3ms/step - loss: 0.0512 - accuracy: 0.9920\n",
            "Epoch 239/250\n",
            "32/32 [==============================] - 0s 3ms/step - loss: 0.0503 - accuracy: 0.9930\n",
            "Epoch 240/250\n",
            "32/32 [==============================] - 0s 2ms/step - loss: 0.0503 - accuracy: 0.9940\n",
            "Epoch 241/250\n",
            "32/32 [==============================] - 0s 2ms/step - loss: 0.0500 - accuracy: 0.9920\n",
            "Epoch 242/250\n",
            "32/32 [==============================] - 0s 2ms/step - loss: 0.0494 - accuracy: 0.9930\n",
            "Epoch 243/250\n",
            "32/32 [==============================] - 0s 2ms/step - loss: 0.0491 - accuracy: 0.9930\n",
            "Epoch 244/250\n",
            "32/32 [==============================] - 0s 2ms/step - loss: 0.0492 - accuracy: 0.9920\n",
            "Epoch 245/250\n",
            "32/32 [==============================] - 0s 2ms/step - loss: 0.0487 - accuracy: 0.9940\n",
            "Epoch 246/250\n",
            "32/32 [==============================] - 0s 2ms/step - loss: 0.0483 - accuracy: 0.9930\n",
            "Epoch 247/250\n",
            "32/32 [==============================] - 0s 2ms/step - loss: 0.0479 - accuracy: 0.9950\n",
            "Epoch 248/250\n",
            "32/32 [==============================] - 0s 3ms/step - loss: 0.0475 - accuracy: 0.9930\n",
            "Epoch 249/250\n",
            "32/32 [==============================] - 0s 2ms/step - loss: 0.0471 - accuracy: 0.9950\n",
            "Epoch 250/250\n",
            "32/32 [==============================] - 0s 2ms/step - loss: 0.0471 - accuracy: 0.9940\n"
          ]
        }
      ]
    },
    {
      "cell_type": "code",
      "source": [
        "#Evaluate the model\n",
        "model_7.evaluate(X,y)"
      ],
      "metadata": {
        "colab": {
          "base_uri": "https://localhost:8080/"
        },
        "id": "3Drz9ZSQmLiq",
        "outputId": "11e1a059-4208-4c30-e37e-984f00c8ca53"
      },
      "execution_count": 55,
      "outputs": [
        {
          "output_type": "stream",
          "name": "stdout",
          "text": [
            "32/32 [==============================] - 0s 2ms/step - loss: 0.0459 - accuracy: 0.9920\n"
          ]
        },
        {
          "output_type": "execute_result",
          "data": {
            "text/plain": [
              "[0.04593365639448166, 0.9919999837875366]"
            ]
          },
          "metadata": {},
          "execution_count": 55
        }
      ]
    },
    {
      "cell_type": "code",
      "source": [
        "#Plot decisio boundaries\n",
        "plot_decision_boundary(model_7,X,y)"
      ],
      "metadata": {
        "colab": {
          "base_uri": "https://localhost:8080/",
          "height": 301
        },
        "id": "or8AoPR3mZn8",
        "outputId": "816ed675-9fa7-4e00-dc67-477a495b05e9"
      },
      "execution_count": 56,
      "outputs": [
        {
          "output_type": "stream",
          "name": "stdout",
          "text": [
            "313/313 [==============================] - 1s 1ms/step\n",
            "doing binary classification\n"
          ]
        },
        {
          "output_type": "display_data",
          "data": {
            "text/plain": [
              "<Figure size 432x288 with 1 Axes>"
            ],
            "image/png": "[encoded data removed]"
          },
          "metadata": {
            "needs_background": "light"
          }
        }
      ]
    },
    {
      "cell_type": "code",
      "source": [
        "#Create a toy tensor\n",
        "A = tf.cast(tf.range(-10,10),tf.float32)\n",
        "A"
      ],
      "metadata": {
        "colab": {
          "base_uri": "https://localhost:8080/"
        },
        "id": "wJrSCsYvmeFB",
        "outputId": "6470916a-0f6b-4ea4-da92-2c2bfc669090"
      },
      "execution_count": 57,
      "outputs": [
        {
          "output_type": "execute_result",
          "data": {
            "text/plain": [
              "<tf.Tensor: shape=(20,), dtype=float32, numpy=\n",
              "array([-10.,  -9.,  -8.,  -7.,  -6.,  -5.,  -4.,  -3.,  -2.,  -1.,   0.,\n",
              "         1.,   2.,   3.,   4.,   5.,   6.,   7.,   8.,   9.],\n",
              "      dtype=float32)>"
            ]
          },
          "metadata": {},
          "execution_count": 57
        }
      ]
    },
    {
      "cell_type": "code",
      "source": [
        "#visualise the tensor\n",
        "plt.plot(A)"
      ],
      "metadata": {
        "colab": {
          "base_uri": "https://localhost:8080/",
          "height": 283
        },
        "id": "4_uhnJd5nfDJ",
        "outputId": "522f915e-5e3e-4cd8-92b8-b9d528e4331d"
      },
      "execution_count": 58,
      "outputs": [
        {
          "output_type": "execute_result",
          "data": {
            "text/plain": [
              "[<matplotlib.lines.Line2D at 0x7feddbd09dc0>]"
            ]
          },
          "metadata": {},
          "execution_count": 58
        },
        {
          "output_type": "display_data",
          "data": {
            "text/plain": [
              "<Figure size 432x288 with 1 Axes>"
            ],
            "image/png": "[encoded data removed]"
          },
          "metadata": {
            "needs_background": "light"
          }
        }
      ]
    },
    {
      "cell_type": "code",
      "source": [
        "#Lets replicate the sigmoid\n",
        "def sigmoid(x):\n",
        "  return 1/(1+tf.exp(-x))"
      ],
      "metadata": {
        "id": "b95XuS7XnlQv"
      },
      "execution_count": 59,
      "outputs": []
    },
    {
      "cell_type": "code",
      "source": [
        "#Use sigmoid on toy tensor\n",
        "sigmoid(A)"
      ],
      "metadata": {
        "colab": {
          "base_uri": "https://localhost:8080/"
        },
        "id": "LjyNgZTAn_Sm",
        "outputId": "37b10301-d2f3-4e78-a608-eba967214f19"
      },
      "execution_count": 60,
      "outputs": [
        {
          "output_type": "execute_result",
          "data": {
            "text/plain": [
              "<tf.Tensor: shape=(20,), dtype=float32, numpy=\n",
              "array([4.5397872e-05, 1.2339458e-04, 3.3535014e-04, 9.1105117e-04,\n",
              "       2.4726233e-03, 6.6928510e-03, 1.7986210e-02, 4.7425874e-02,\n",
              "       1.1920292e-01, 2.6894143e-01, 5.0000000e-01, 7.3105860e-01,\n",
              "       8.8079703e-01, 9.5257413e-01, 9.8201376e-01, 9.9330717e-01,\n",
              "       9.9752742e-01, 9.9908900e-01, 9.9966466e-01, 9.9987662e-01],\n",
              "      dtype=float32)>"
            ]
          },
          "metadata": {},
          "execution_count": 60
        }
      ]
    },
    {
      "cell_type": "code",
      "source": [
        "#Plot tensor transformedd by sigmoid\n",
        "plt.plot(sigmoid(A))"
      ],
      "metadata": {
        "colab": {
          "base_uri": "https://localhost:8080/",
          "height": 283
        },
        "id": "Xx5Isg9EoDg-",
        "outputId": "5f18f990-d00c-4ca8-c210-c75e3f2bc705"
      },
      "execution_count": 61,
      "outputs": [
        {
          "output_type": "execute_result",
          "data": {
            "text/plain": [
              "[<matplotlib.lines.Line2D at 0x7feddcc37760>]"
            ]
          },
          "metadata": {},
          "execution_count": 61
        },
        {
          "output_type": "display_data",
          "data": {
            "text/plain": [
              "<Figure size 432x288 with 1 Axes>"
            ],
            "image/png": "[encoded data removed]"
          },
          "metadata": {
            "needs_background": "light"
          }
        }
      ]
    },
    {
      "cell_type": "code",
      "source": [
        "def relu(x):\n",
        "  return tf.maximum(0,x)"
      ],
      "metadata": {
        "id": "Kvu4fiTKoI20"
      },
      "execution_count": 62,
      "outputs": []
    },
    {
      "cell_type": "code",
      "source": [
        "relu(A)"
      ],
      "metadata": {
        "colab": {
          "base_uri": "https://localhost:8080/"
        },
        "id": "RVrZF9Q3oqJT",
        "outputId": "ed0f28c4-f5da-48a6-ac9b-f26830359845"
      },
      "execution_count": 64,
      "outputs": [
        {
          "output_type": "execute_result",
          "data": {
            "text/plain": [
              "<tf.Tensor: shape=(20,), dtype=float32, numpy=\n",
              "array([0., 0., 0., 0., 0., 0., 0., 0., 0., 0., 0., 1., 2., 3., 4., 5., 6.,\n",
              "       7., 8., 9.], dtype=float32)>"
            ]
          },
          "metadata": {},
          "execution_count": 64
        }
      ]
    },
    {
      "cell_type": "code",
      "source": [
        "#Plot tensor transformedd by relu\n",
        "plt.plot(relu(A))"
      ],
      "metadata": {
        "colab": {
          "base_uri": "https://localhost:8080/",
          "height": 283
        },
        "id": "wZ6LCJmkolOA",
        "outputId": "a14931e0-2a04-4fbb-a208-d0df69710f61"
      },
      "execution_count": 63,
      "outputs": [
        {
          "output_type": "execute_result",
          "data": {
            "text/plain": [
              "[<matplotlib.lines.Line2D at 0x7feddc1dd370>]"
            ]
          },
          "metadata": {},
          "execution_count": 63
        },
        {
          "output_type": "display_data",
          "data": {
            "text/plain": [
              "<Figure size 432x288 with 1 Axes>"
            ],
            "image/png": "[encoded data removed]"
          },
          "metadata": {
            "needs_background": "light"
          }
        }
      ]
    },
    {
      "cell_type": "code",
      "source": [
        "#linear activation\n",
        "tf.keras.activations.linear(A)\n"
      ],
      "metadata": {
        "colab": {
          "base_uri": "https://localhost:8080/"
        },
        "id": "fWsw1ZAsooAq",
        "outputId": "cedbd62c-e227-4fe7-846b-e2577646231f"
      },
      "execution_count": 65,
      "outputs": [
        {
          "output_type": "execute_result",
          "data": {
            "text/plain": [
              "<tf.Tensor: shape=(20,), dtype=float32, numpy=\n",
              "array([-10.,  -9.,  -8.,  -7.,  -6.,  -5.,  -4.,  -3.,  -2.,  -1.,   0.,\n",
              "         1.,   2.,   3.,   4.,   5.,   6.,   7.,   8.,   9.],\n",
              "      dtype=float32)>"
            ]
          },
          "metadata": {},
          "execution_count": 65
        }
      ]
    },
    {
      "cell_type": "code",
      "source": [
        "#Plot tensor transformedd by relu\n",
        "plt.plot(tf.keras.activations.linear(A))"
      ],
      "metadata": {
        "colab": {
          "base_uri": "https://localhost:8080/",
          "height": 283
        },
        "id": "Kbapn6zno6TU",
        "outputId": "c9f739ef-5c88-4975-dcb4-9a774e294f53"
      },
      "execution_count": 66,
      "outputs": [
        {
          "output_type": "execute_result",
          "data": {
            "text/plain": [
              "[<matplotlib.lines.Line2D at 0x7feddaa09790>]"
            ]
          },
          "metadata": {},
          "execution_count": 66
        },
        {
          "output_type": "display_data",
          "data": {
            "text/plain": [
              "<Figure size 432x288 with 1 Axes>"
            ],
            "image/png": "[encoded data removed]"
          },
          "metadata": {
            "needs_background": "light"
          }
        }
      ]
    },
    {
      "cell_type": "code",
      "source": [],
      "metadata": {
        "id": "RPeXp85epIBg"
      },
      "execution_count": null,
      "outputs": []
    }
  ]
}