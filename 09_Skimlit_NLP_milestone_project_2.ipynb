{
  "nbformat": 4,
  "nbformat_minor": 0,
  "metadata": {
    "colab": {
      "provenance": []
    },
    "kernelspec": {
      "name": "python3",
      "display_name": "Python 3"
    },
    "language_info": {
      "name": "python"
    },
    "accelerator": "GPU",
    "gpuClass": "standard"
  },
  "cells": [
    {
      "cell_type": "markdown",
      "source": [
        "# Milestone Project 2: SkimLit\n",
        "\n",
        "purpose: Build NLP model to male reading medical abstract easier\n",
        "\n",
        "replicating model architecture from : https://arxiv.org/pdf/1612.05251.pdf"
      ],
      "metadata": {
        "id": "KThdYzY8AbMn"
      }
    },
    {
      "cell_type": "markdown",
      "source": [
        "## Confirm access to a GPU"
      ],
      "metadata": {
        "id": "JKwvCgml7jSq"
      }
    },
    {
      "cell_type": "code",
      "source": [
        "!nvidia-smi -L"
      ],
      "metadata": {
        "colab": {
          "base_uri": "https://localhost:8080/"
        },
        "id": "8HwMJk5l70zl",
        "outputId": "a54fd69b-0af0-485c-b2d7-258df4cd2fb1"
      },
      "execution_count": 1,
      "outputs": [
        {
          "output_type": "stream",
          "name": "stdout",
          "text": [
            "GPU 0: Tesla T4 (UUID: GPU-922cf1af-499a-8159-7055-114979b199c5)\n"
          ]
        }
      ]
    },
    {
      "cell_type": "markdown",
      "source": [
        "## Get data\n",
        "\n",
        "Since we are replicating the paper mentioned , lets download the dataset used:\n",
        "getting data from authors Github\n",
        "https://github.com/Franck-Dernoncourt/pubmed-rct"
      ],
      "metadata": {
        "id": "TpNlgAe_735j"
      }
    },
    {
      "cell_type": "code",
      "source": [
        "!git clone https://github.com/Franck-Dernoncourt/pubmed-rct\n",
        "!ls pubmed-rct"
      ],
      "metadata": {
        "colab": {
          "base_uri": "https://localhost:8080/"
        },
        "id": "lCvY3i6j8zLH",
        "outputId": "5617204d-7bba-42be-9d47-cb52afc1f30a"
      },
      "execution_count": 2,
      "outputs": [
        {
          "output_type": "stream",
          "name": "stdout",
          "text": [
            "Cloning into 'pubmed-rct'...\n",
            "remote: Enumerating objects: 33, done.\u001b[K\n",
            "remote: Counting objects: 100% (8/8), done.\u001b[K\n",
            "remote: Compressing objects: 100% (3/3), done.\u001b[K\n",
            "remote: Total 33 (delta 5), reused 5 (delta 5), pack-reused 25\u001b[K\n",
            "Unpacking objects: 100% (33/33), 177.08 MiB | 7.18 MiB/s, done.\n",
            "PubMed_200k_RCT\n",
            "PubMed_200k_RCT_numbers_replaced_with_at_sign\n",
            "PubMed_20k_RCT\n",
            "PubMed_20k_RCT_numbers_replaced_with_at_sign\n",
            "README.md\n"
          ]
        }
      ]
    },
    {
      "cell_type": "code",
      "source": [
        "#Check what files are in PubMed_20K dataset\n",
        "!ls pubmed-rct/PubMed_20k_RCT_numbers_replaced_with_at_sign/"
      ],
      "metadata": {
        "colab": {
          "base_uri": "https://localhost:8080/"
        },
        "id": "NbHDDokH86Pa",
        "outputId": "86437b6a-eeef-4c2e-8ee9-8d08cc36056c"
      },
      "execution_count": 3,
      "outputs": [
        {
          "output_type": "stream",
          "name": "stdout",
          "text": [
            "dev.txt  test.txt  train.txt\n"
          ]
        }
      ]
    },
    {
      "cell_type": "code",
      "source": [
        "#Start experiment using the 20k dataset with numbers replcaed by \"@\" sign\n",
        "data_dir = \"/content/pubmed-rct/PubMed_20k_RCT_numbers_replaced_with_at_sign/\""
      ],
      "metadata": {
        "id": "F5yo-oRd9UU9"
      },
      "execution_count": 4,
      "outputs": []
    },
    {
      "cell_type": "code",
      "source": [
        "#Check all the filenames in the target directory\n",
        "import os\n",
        "filenames =[data_dir + filename for filename in os.listdir(data_dir)]\n",
        "filenames"
      ],
      "metadata": {
        "colab": {
          "base_uri": "https://localhost:8080/"
        },
        "id": "NnLbWBWACHw7",
        "outputId": "104944ed-643d-498c-9368-a3d1c6d394ff"
      },
      "execution_count": 5,
      "outputs": [
        {
          "output_type": "execute_result",
          "data": {
            "text/plain": [
              "['/content/pubmed-rct/PubMed_20k_RCT_numbers_replaced_with_at_sign/train.txt',\n",
              " '/content/pubmed-rct/PubMed_20k_RCT_numbers_replaced_with_at_sign/test.txt',\n",
              " '/content/pubmed-rct/PubMed_20k_RCT_numbers_replaced_with_at_sign/dev.txt']"
            ]
          },
          "metadata": {},
          "execution_count": 5
        }
      ]
    },
    {
      "cell_type": "markdown",
      "source": [
        "## Preprocess data\n",
        "\n",
        "visualising the text data - writing a function to read all of the lines in the target text file"
      ],
      "metadata": {
        "id": "N07Jd0tvCTCP"
      }
    },
    {
      "cell_type": "code",
      "source": [
        "#create function to read the lines of a document\n",
        "def get_lines(filename):\n",
        "  with open(filename,'r') as f:\n",
        "    return f.readlines()"
      ],
      "metadata": {
        "id": "io5Vu0E8CwRv"
      },
      "execution_count": 6,
      "outputs": []
    },
    {
      "cell_type": "code",
      "source": [
        "#Lets read in training lines\n",
        "train_lines = get_lines(data_dir + \"train.txt\")\n",
        "train_lines[:20]"
      ],
      "metadata": {
        "colab": {
          "base_uri": "https://localhost:8080/"
        },
        "id": "IsHR0xKhDHLK",
        "outputId": "eef762ef-2c72-41fd-97ea-8f00d202463c"
      },
      "execution_count": 7,
      "outputs": [
        {
          "output_type": "execute_result",
          "data": {
            "text/plain": [
              "['###24293578\\n',\n",
              " 'OBJECTIVE\\tTo investigate the efficacy of @ weeks of daily low-dose oral prednisolone in improving pain , mobility , and systemic low-grade inflammation in the short term and whether the effect would be sustained at @ weeks in older adults with moderate to severe knee osteoarthritis ( OA ) .\\n',\n",
              " 'METHODS\\tA total of @ patients with primary knee OA were randomized @:@ ; @ received @ mg/day of prednisolone and @ received placebo for @ weeks .\\n',\n",
              " 'METHODS\\tOutcome measures included pain reduction and improvement in function scores and systemic inflammation markers .\\n',\n",
              " 'METHODS\\tPain was assessed using the visual analog pain scale ( @-@ mm ) .\\n',\n",
              " 'METHODS\\tSecondary outcome measures included the Western Ontario and McMaster Universities Osteoarthritis Index scores , patient global assessment ( PGA ) of the severity of knee OA , and @-min walk distance ( @MWD ) .\\n',\n",
              " 'METHODS\\tSerum levels of interleukin @ ( IL-@ ) , IL-@ , tumor necrosis factor ( TNF ) - , and high-sensitivity C-reactive protein ( hsCRP ) were measured .\\n',\n",
              " 'RESULTS\\tThere was a clinically relevant reduction in the intervention group compared to the placebo group for knee pain , physical function , PGA , and @MWD at @ weeks .\\n',\n",
              " 'RESULTS\\tThe mean difference between treatment arms ( @ % CI ) was @ ( @-@ @ ) , p < @ ; @ ( @-@ @ ) , p < @ ; @ ( @-@ @ ) , p < @ ; and @ ( @-@ @ ) , p < @ , respectively .\\n',\n",
              " 'RESULTS\\tFurther , there was a clinically relevant reduction in the serum levels of IL-@ , IL-@ , TNF - , and hsCRP at @ weeks in the intervention group when compared to the placebo group .\\n',\n",
              " 'RESULTS\\tThese differences remained significant at @ weeks .\\n',\n",
              " 'RESULTS\\tThe Outcome Measures in Rheumatology Clinical Trials-Osteoarthritis Research Society International responder rate was @ % in the intervention group and @ % in the placebo group ( p < @ ) .\\n',\n",
              " 'CONCLUSIONS\\tLow-dose oral prednisolone had both a short-term and a longer sustained effect resulting in less knee pain , better physical function , and attenuation of systemic inflammation in older patients with knee OA ( ClinicalTrials.gov identifier NCT@ ) .\\n',\n",
              " '\\n',\n",
              " '###24854809\\n',\n",
              " 'BACKGROUND\\tEmotional eating is associated with overeating and the development of obesity .\\n',\n",
              " 'BACKGROUND\\tYet , empirical evidence for individual ( trait ) differences in emotional eating and cognitive mechanisms that contribute to eating during sad mood remain equivocal .\\n',\n",
              " 'OBJECTIVE\\tThe aim of this study was to test if attention bias for food moderates the effect of self-reported emotional eating during sad mood ( vs neutral mood ) on actual food intake .\\n',\n",
              " 'OBJECTIVE\\tIt was expected that emotional eating is predictive of elevated attention for food and higher food intake after an experimentally induced sad mood and that attentional maintenance on food predicts food intake during a sad versus a neutral mood .\\n',\n",
              " 'METHODS\\tParticipants ( N = @ ) were randomly assigned to one of the two experimental mood induction conditions ( sad/neutral ) .\\n']"
            ]
          },
          "metadata": {},
          "execution_count": 7
        }
      ]
    },
    {
      "cell_type": "code",
      "source": [
        "len(train_lines)"
      ],
      "metadata": {
        "colab": {
          "base_uri": "https://localhost:8080/"
        },
        "id": "R3lXQQlFDReE",
        "outputId": "f096a321-9b24-477d-de17-a830a29d9d19"
      },
      "execution_count": 8,
      "outputs": [
        {
          "output_type": "execute_result",
          "data": {
            "text/plain": [
              "210040"
            ]
          },
          "metadata": {},
          "execution_count": 8
        }
      ]
    },
    {
      "cell_type": "markdown",
      "source": [
        "how the data should look:\n",
        "\n",
        "best represented :\n",
        "\n",
        "\n",
        "[{'line_number': 0,\n",
        "\n",
        "  'target': 'OBJECTIVE',\n",
        "\n",
        "  'text': 'to investigate the efficacy of @ weeks of daily low-dose oral prednisolone in improving pain , mobility , and systemic low-grade inflammation in the short term and whether the effect would be sustained at @ weeks in older adults with moderate to severe knee osteoarthritis ( oa ) .',\n",
        "  \n",
        "  'total_lines': 11}]"
      ],
      "metadata": {
        "id": "suqgWF_oDfe_"
      }
    },
    {
      "cell_type": "markdown",
      "source": [
        "Create a function to represent the lines as dictionary"
      ],
      "metadata": {
        "id": "AxCrzbufEV8p"
      }
    },
    {
      "cell_type": "code",
      "source": [
        "def preprocess_text_with_line_numbers(filename):\n",
        "  input_lines = get_lines(filename) # get all lines from filename\n",
        "  abstract_lines = \"\" # create an empty abstract\n",
        "  abstract_samples = [] # create an empty list of abstracts\n",
        "  \n",
        "  # Loop through each line in target file\n",
        "  for line in input_lines:\n",
        "    if line.startswith(\"###\"): # check to see if line is an ID line\n",
        "      abstract_id = line\n",
        "      abstract_lines = \"\" # reset abstract string\n",
        "    elif line.isspace(): # check to see if line is a new line\n",
        "      abstract_line_split = abstract_lines.splitlines() # split abstract into separate lines\n",
        "\n",
        "      # Iterate through each line in abstract and count them at the same time\n",
        "      for abstract_line_number, abstract_line in enumerate(abstract_line_split):\n",
        "        line_data = {} # create empty dict to store data from line\n",
        "        target_text_split = abstract_line.split(\"\\t\") # split target label from text\n",
        "        line_data[\"target\"] = target_text_split[0] # get target label\n",
        "        line_data[\"text\"] = target_text_split[1].lower() # get target text and lower it\n",
        "        line_data[\"line_number\"] = abstract_line_number # what number line does the line appear in the abstract?\n",
        "        line_data[\"total_lines\"] = len(abstract_line_split) - 1 # how many total lines are in the abstract? (start from 0)\n",
        "        abstract_samples.append(line_data) # add line data to abstract samples list\n",
        "    \n",
        "    else: # if the above conditions aren't fulfilled, the line contains a labelled sentence\n",
        "      abstract_lines += line\n",
        "  \n",
        "  return abstract_samples\n",
        "\n"
      ],
      "metadata": {
        "id": "vECt8wQGEh4Z"
      },
      "execution_count": 9,
      "outputs": []
    },
    {
      "cell_type": "code",
      "source": [
        "# Get data from file and preprocess it\n",
        "%%time\n",
        "train_samples = preprocess_text_with_line_numbers(data_dir + \"train.txt\")\n",
        "val_samples = preprocess_text_with_line_numbers(data_dir + \"dev.txt\")\n",
        "test_samples = preprocess_text_with_line_numbers(data_dir + \"test.txt\")\n",
        "print(len(train_samples),len(val_samples),len(test_samples))"
      ],
      "metadata": {
        "colab": {
          "base_uri": "https://localhost:8080/"
        },
        "id": "xikjrW7PLHGt",
        "outputId": "62071b10-8845-4fa5-f94f-71e75cc00bc9"
      },
      "execution_count": 10,
      "outputs": [
        {
          "output_type": "stream",
          "name": "stdout",
          "text": [
            "180040 30212 30135\n",
            "CPU times: user 377 ms, sys: 74.9 ms, total: 451 ms\n",
            "Wall time: 451 ms\n"
          ]
        }
      ]
    },
    {
      "cell_type": "code",
      "source": [
        "# Check the first abstract of training data\n",
        "train_samples[:10]"
      ],
      "metadata": {
        "colab": {
          "base_uri": "https://localhost:8080/"
        },
        "id": "w0JLh17qLhZt",
        "outputId": "59743e29-3343-4033-b0bf-f3930697fa74"
      },
      "execution_count": 11,
      "outputs": [
        {
          "output_type": "execute_result",
          "data": {
            "text/plain": [
              "[{'target': 'OBJECTIVE',\n",
              "  'text': 'to investigate the efficacy of @ weeks of daily low-dose oral prednisolone in improving pain , mobility , and systemic low-grade inflammation in the short term and whether the effect would be sustained at @ weeks in older adults with moderate to severe knee osteoarthritis ( oa ) .',\n",
              "  'line_number': 0,\n",
              "  'total_lines': 11},\n",
              " {'target': 'METHODS',\n",
              "  'text': 'a total of @ patients with primary knee oa were randomized @:@ ; @ received @ mg/day of prednisolone and @ received placebo for @ weeks .',\n",
              "  'line_number': 1,\n",
              "  'total_lines': 11},\n",
              " {'target': 'METHODS',\n",
              "  'text': 'outcome measures included pain reduction and improvement in function scores and systemic inflammation markers .',\n",
              "  'line_number': 2,\n",
              "  'total_lines': 11},\n",
              " {'target': 'METHODS',\n",
              "  'text': 'pain was assessed using the visual analog pain scale ( @-@ mm ) .',\n",
              "  'line_number': 3,\n",
              "  'total_lines': 11},\n",
              " {'target': 'METHODS',\n",
              "  'text': 'secondary outcome measures included the western ontario and mcmaster universities osteoarthritis index scores , patient global assessment ( pga ) of the severity of knee oa , and @-min walk distance ( @mwd ) .',\n",
              "  'line_number': 4,\n",
              "  'total_lines': 11},\n",
              " {'target': 'METHODS',\n",
              "  'text': 'serum levels of interleukin @ ( il-@ ) , il-@ , tumor necrosis factor ( tnf ) - , and high-sensitivity c-reactive protein ( hscrp ) were measured .',\n",
              "  'line_number': 5,\n",
              "  'total_lines': 11},\n",
              " {'target': 'RESULTS',\n",
              "  'text': 'there was a clinically relevant reduction in the intervention group compared to the placebo group for knee pain , physical function , pga , and @mwd at @ weeks .',\n",
              "  'line_number': 6,\n",
              "  'total_lines': 11},\n",
              " {'target': 'RESULTS',\n",
              "  'text': 'the mean difference between treatment arms ( @ % ci ) was @ ( @-@ @ ) , p < @ ; @ ( @-@ @ ) , p < @ ; @ ( @-@ @ ) , p < @ ; and @ ( @-@ @ ) , p < @ , respectively .',\n",
              "  'line_number': 7,\n",
              "  'total_lines': 11},\n",
              " {'target': 'RESULTS',\n",
              "  'text': 'further , there was a clinically relevant reduction in the serum levels of il-@ , il-@ , tnf - , and hscrp at @ weeks in the intervention group when compared to the placebo group .',\n",
              "  'line_number': 8,\n",
              "  'total_lines': 11},\n",
              " {'target': 'RESULTS',\n",
              "  'text': 'these differences remained significant at @ weeks .',\n",
              "  'line_number': 9,\n",
              "  'total_lines': 11}]"
            ]
          },
          "metadata": {},
          "execution_count": 11
        }
      ]
    },
    {
      "cell_type": "markdown",
      "source": [
        "Converting the  list of dictionaries into pandas DataFrame's so we visualize them bette"
      ],
      "metadata": {
        "id": "BPyEYFloMCqJ"
      }
    },
    {
      "cell_type": "code",
      "source": [
        "import pandas as pd\n",
        "train_df = pd.DataFrame(train_samples)\n",
        "val_df = pd.DataFrame(val_samples)\n",
        "test_df = pd.DataFrame(test_samples)\n",
        "train_df.head(14)"
      ],
      "metadata": {
        "colab": {
          "base_uri": "https://localhost:8080/",
          "height": 488
        },
        "id": "FCN9HmBjMgCV",
        "outputId": "9eb3f9d6-5d23-4b16-8cac-f50c21712621"
      },
      "execution_count": 12,
      "outputs": [
        {
          "output_type": "execute_result",
          "data": {
            "text/plain": [
              "         target                                               text  \\\n",
              "0     OBJECTIVE  to investigate the efficacy of @ weeks of dail...   \n",
              "1       METHODS  a total of @ patients with primary knee oa wer...   \n",
              "2       METHODS  outcome measures included pain reduction and i...   \n",
              "3       METHODS  pain was assessed using the visual analog pain...   \n",
              "4       METHODS  secondary outcome measures included the wester...   \n",
              "5       METHODS  serum levels of interleukin @ ( il-@ ) , il-@ ...   \n",
              "6       RESULTS  there was a clinically relevant reduction in t...   \n",
              "7       RESULTS  the mean difference between treatment arms ( @...   \n",
              "8       RESULTS  further , there was a clinically relevant redu...   \n",
              "9       RESULTS  these differences remained significant at @ we...   \n",
              "10      RESULTS  the outcome measures in rheumatology clinical ...   \n",
              "11  CONCLUSIONS  low-dose oral prednisolone had both a short-te...   \n",
              "12   BACKGROUND  emotional eating is associated with overeating...   \n",
              "13   BACKGROUND  yet , empirical evidence for individual ( trai...   \n",
              "\n",
              "    line_number  total_lines  \n",
              "0             0           11  \n",
              "1             1           11  \n",
              "2             2           11  \n",
              "3             3           11  \n",
              "4             4           11  \n",
              "5             5           11  \n",
              "6             6           11  \n",
              "7             7           11  \n",
              "8             8           11  \n",
              "9             9           11  \n",
              "10           10           11  \n",
              "11           11           11  \n",
              "12            0           10  \n",
              "13            1           10  "
            ],
            "text/html": [
              "\n",
              "  <div id=\"df-46da5a73-6417-4d97-98bb-3308da50650f\">\n",
              "    <div class=\"colab-df-container\">\n",
              "      <div>\n",
              "<style scoped>\n",
              "    .dataframe tbody tr th:only-of-type {\n",
              "        vertical-align: middle;\n",
              "    }\n",
              "\n",
              "    .dataframe tbody tr th {\n",
              "        vertical-align: top;\n",
              "    }\n",
              "\n",
              "    .dataframe thead th {\n",
              "        text-align: right;\n",
              "    }\n",
              "</style>\n",
              "<table border=\"1\" class=\"dataframe\">\n",
              "  <thead>\n",
              "    <tr style=\"text-align: right;\">\n",
              "      <th></th>\n",
              "      <th>target</th>\n",
              "      <th>text</th>\n",
              "      <th>line_number</th>\n",
              "      <th>total_lines</th>\n",
              "    </tr>\n",
              "  </thead>\n",
              "  <tbody>\n",
              "    <tr>\n",
              "      <th>0</th>\n",
              "      <td>OBJECTIVE</td>\n",
              "      <td>to investigate the efficacy of @ weeks of dail...</td>\n",
              "      <td>0</td>\n",
              "      <td>11</td>\n",
              "    </tr>\n",
              "    <tr>\n",
              "      <th>1</th>\n",
              "      <td>METHODS</td>\n",
              "      <td>a total of @ patients with primary knee oa wer...</td>\n",
              "      <td>1</td>\n",
              "      <td>11</td>\n",
              "    </tr>\n",
              "    <tr>\n",
              "      <th>2</th>\n",
              "      <td>METHODS</td>\n",
              "      <td>outcome measures included pain reduction and i...</td>\n",
              "      <td>2</td>\n",
              "      <td>11</td>\n",
              "    </tr>\n",
              "    <tr>\n",
              "      <th>3</th>\n",
              "      <td>METHODS</td>\n",
              "      <td>pain was assessed using the visual analog pain...</td>\n",
              "      <td>3</td>\n",
              "      <td>11</td>\n",
              "    </tr>\n",
              "    <tr>\n",
              "      <th>4</th>\n",
              "      <td>METHODS</td>\n",
              "      <td>secondary outcome measures included the wester...</td>\n",
              "      <td>4</td>\n",
              "      <td>11</td>\n",
              "    </tr>\n",
              "    <tr>\n",
              "      <th>5</th>\n",
              "      <td>METHODS</td>\n",
              "      <td>serum levels of interleukin @ ( il-@ ) , il-@ ...</td>\n",
              "      <td>5</td>\n",
              "      <td>11</td>\n",
              "    </tr>\n",
              "    <tr>\n",
              "      <th>6</th>\n",
              "      <td>RESULTS</td>\n",
              "      <td>there was a clinically relevant reduction in t...</td>\n",
              "      <td>6</td>\n",
              "      <td>11</td>\n",
              "    </tr>\n",
              "    <tr>\n",
              "      <th>7</th>\n",
              "      <td>RESULTS</td>\n",
              "      <td>the mean difference between treatment arms ( @...</td>\n",
              "      <td>7</td>\n",
              "      <td>11</td>\n",
              "    </tr>\n",
              "    <tr>\n",
              "      <th>8</th>\n",
              "      <td>RESULTS</td>\n",
              "      <td>further , there was a clinically relevant redu...</td>\n",
              "      <td>8</td>\n",
              "      <td>11</td>\n",
              "    </tr>\n",
              "    <tr>\n",
              "      <th>9</th>\n",
              "      <td>RESULTS</td>\n",
              "      <td>these differences remained significant at @ we...</td>\n",
              "      <td>9</td>\n",
              "      <td>11</td>\n",
              "    </tr>\n",
              "    <tr>\n",
              "      <th>10</th>\n",
              "      <td>RESULTS</td>\n",
              "      <td>the outcome measures in rheumatology clinical ...</td>\n",
              "      <td>10</td>\n",
              "      <td>11</td>\n",
              "    </tr>\n",
              "    <tr>\n",
              "      <th>11</th>\n",
              "      <td>CONCLUSIONS</td>\n",
              "      <td>low-dose oral prednisolone had both a short-te...</td>\n",
              "      <td>11</td>\n",
              "      <td>11</td>\n",
              "    </tr>\n",
              "    <tr>\n",
              "      <th>12</th>\n",
              "      <td>BACKGROUND</td>\n",
              "      <td>emotional eating is associated with overeating...</td>\n",
              "      <td>0</td>\n",
              "      <td>10</td>\n",
              "    </tr>\n",
              "    <tr>\n",
              "      <th>13</th>\n",
              "      <td>BACKGROUND</td>\n",
              "      <td>yet , empirical evidence for individual ( trai...</td>\n",
              "      <td>1</td>\n",
              "      <td>10</td>\n",
              "    </tr>\n",
              "  </tbody>\n",
              "</table>\n",
              "</div>\n",
              "      <button class=\"colab-df-convert\" onclick=\"convertToInteractive('df-46da5a73-6417-4d97-98bb-3308da50650f')\"\n",
              "              title=\"Convert this dataframe to an interactive table.\"\n",
              "              style=\"display:none;\">\n",
              "        \n",
              "  <svg xmlns=\"http://www.w3.org/2000/svg\" height=\"24px\"viewBox=\"0 0 24 24\"\n",
              "       width=\"24px\">\n",
              "    <path d=\"M0 0h24v24H0V0z\" fill=\"none\"/>\n",
              "    <path d=\"M18.56 5.44l.94 2.06.94-2.06 2.06-.94-2.06-.94-.94-2.06-.94 2.06-2.06.94zm-11 1L8.5 8.5l.94-2.06 2.06-.94-2.06-.94L8.5 2.5l-.94 2.06-2.06.94zm10 10l.94 2.06.94-2.06 2.06-.94-2.06-.94-.94-2.06-.94 2.06-2.06.94z\"/><path d=\"M17.41 7.96l-1.37-1.37c-.4-.4-.92-.59-1.43-.59-.52 0-1.04.2-1.43.59L10.3 9.45l-7.72 7.72c-.78.78-.78 2.05 0 2.83L4 21.41c.39.39.9.59 1.41.59.51 0 1.02-.2 1.41-.59l7.78-7.78 2.81-2.81c.8-.78.8-2.07 0-2.86zM5.41 20L4 18.59l7.72-7.72 1.47 1.35L5.41 20z\"/>\n",
              "  </svg>\n",
              "      </button>\n",
              "      \n",
              "  <style>\n",
              "    .colab-df-container {\n",
              "      display:flex;\n",
              "      flex-wrap:wrap;\n",
              "      gap: 12px;\n",
              "    }\n",
              "\n",
              "    .colab-df-convert {\n",
              "      background-color: #E8F0FE;\n",
              "      border: none;\n",
              "      border-radius: 50%;\n",
              "      cursor: pointer;\n",
              "      display: none;\n",
              "      fill: #1967D2;\n",
              "      height: 32px;\n",
              "      padding: 0 0 0 0;\n",
              "      width: 32px;\n",
              "    }\n",
              "\n",
              "    .colab-df-convert:hover {\n",
              "      background-color: #E2EBFA;\n",
              "      box-shadow: 0px 1px 2px rgba(60, 64, 67, 0.3), 0px 1px 3px 1px rgba(60, 64, 67, 0.15);\n",
              "      fill: #174EA6;\n",
              "    }\n",
              "\n",
              "    [theme=dark] .colab-df-convert {\n",
              "      background-color: #3B4455;\n",
              "      fill: #D2E3FC;\n",
              "    }\n",
              "\n",
              "    [theme=dark] .colab-df-convert:hover {\n",
              "      background-color: #434B5C;\n",
              "      box-shadow: 0px 1px 3px 1px rgba(0, 0, 0, 0.15);\n",
              "      filter: drop-shadow(0px 1px 2px rgba(0, 0, 0, 0.3));\n",
              "      fill: #FFFFFF;\n",
              "    }\n",
              "  </style>\n",
              "\n",
              "      <script>\n",
              "        const buttonEl =\n",
              "          document.querySelector('#df-46da5a73-6417-4d97-98bb-3308da50650f button.colab-df-convert');\n",
              "        buttonEl.style.display =\n",
              "          google.colab.kernel.accessAllowed ? 'block' : 'none';\n",
              "\n",
              "        async function convertToInteractive(key) {\n",
              "          const element = document.querySelector('#df-46da5a73-6417-4d97-98bb-3308da50650f');\n",
              "          const dataTable =\n",
              "            await google.colab.kernel.invokeFunction('convertToInteractive',\n",
              "                                                     [key], {});\n",
              "          if (!dataTable) return;\n",
              "\n",
              "          const docLinkHtml = 'Like what you see? Visit the ' +\n",
              "            '<a target=\"_blank\" href=https://colab.research.google.com/notebooks/data_table.ipynb>data table notebook</a>'\n",
              "            + ' to learn more about interactive tables.';\n",
              "          element.innerHTML = '';\n",
              "          dataTable['output_type'] = 'display_data';\n",
              "          await google.colab.output.renderOutput(dataTable, element);\n",
              "          const docLink = document.createElement('div');\n",
              "          docLink.innerHTML = docLinkHtml;\n",
              "          element.appendChild(docLink);\n",
              "        }\n",
              "      </script>\n",
              "    </div>\n",
              "  </div>\n",
              "  "
            ]
          },
          "metadata": {},
          "execution_count": 12
        }
      ]
    },
    {
      "cell_type": "code",
      "source": [
        "# distribution of labels\n",
        "train_df.target.value_counts()"
      ],
      "metadata": {
        "colab": {
          "base_uri": "https://localhost:8080/"
        },
        "id": "SKBp6ZZFMioI",
        "outputId": "14420c2b-1bec-455c-a84b-5d1107b9adf2"
      },
      "execution_count": 13,
      "outputs": [
        {
          "output_type": "execute_result",
          "data": {
            "text/plain": [
              "METHODS        59353\n",
              "RESULTS        57953\n",
              "CONCLUSIONS    27168\n",
              "BACKGROUND     21727\n",
              "OBJECTIVE      13839\n",
              "Name: target, dtype: int64"
            ]
          },
          "metadata": {},
          "execution_count": 13
        }
      ]
    },
    {
      "cell_type": "code",
      "source": [
        "#length of different lines\n",
        "train_df.total_lines.hist();"
      ],
      "metadata": {
        "colab": {
          "base_uri": "https://localhost:8080/",
          "height": 267
        },
        "id": "qw5Ah0tzMuwg",
        "outputId": "3bd31f1f-9564-4456-bdf6-c188c649c70e"
      },
      "execution_count": 14,
      "outputs": [
        {
          "output_type": "display_data",
          "data": {
            "text/plain": [
              "<Figure size 432x288 with 1 Axes>"
            ],
            "image/png": "[encoded data removed]"
          },
          "metadata": {
            "needs_background": "light"
          }
        }
      ]
    },
    {
      "cell_type": "markdown",
      "source": [
        "### Get the list of snetences\n"
      ],
      "metadata": {
        "id": "B3MAP2u6M322"
      }
    },
    {
      "cell_type": "code",
      "source": [
        "#COnvert abstract text lines into lists\n",
        "train_sentences = train_df[\"text\"].tolist()\n",
        "val_sentences = val_df[\"text\"].tolist()\n",
        "test_sentences = test_df[\"text\"].tolist()\n",
        "len(train_sentences), len(val_sentences), len(test_sentences)"
      ],
      "metadata": {
        "colab": {
          "base_uri": "https://localhost:8080/"
        },
        "id": "E3eDK3cwM-7d",
        "outputId": "999d99b5-863e-4266-f4c5-1185143f436c"
      },
      "execution_count": 15,
      "outputs": [
        {
          "output_type": "execute_result",
          "data": {
            "text/plain": [
              "(180040, 30212, 30135)"
            ]
          },
          "metadata": {},
          "execution_count": 15
        }
      ]
    },
    {
      "cell_type": "code",
      "source": [
        "train_sentences[:10]"
      ],
      "metadata": {
        "colab": {
          "base_uri": "https://localhost:8080/"
        },
        "id": "93VWrDz8NQ_3",
        "outputId": "f578ffec-d170-4387-ed49-9bb2f5e2ba0b"
      },
      "execution_count": 16,
      "outputs": [
        {
          "output_type": "execute_result",
          "data": {
            "text/plain": [
              "['to investigate the efficacy of @ weeks of daily low-dose oral prednisolone in improving pain , mobility , and systemic low-grade inflammation in the short term and whether the effect would be sustained at @ weeks in older adults with moderate to severe knee osteoarthritis ( oa ) .',\n",
              " 'a total of @ patients with primary knee oa were randomized @:@ ; @ received @ mg/day of prednisolone and @ received placebo for @ weeks .',\n",
              " 'outcome measures included pain reduction and improvement in function scores and systemic inflammation markers .',\n",
              " 'pain was assessed using the visual analog pain scale ( @-@ mm ) .',\n",
              " 'secondary outcome measures included the western ontario and mcmaster universities osteoarthritis index scores , patient global assessment ( pga ) of the severity of knee oa , and @-min walk distance ( @mwd ) .',\n",
              " 'serum levels of interleukin @ ( il-@ ) , il-@ , tumor necrosis factor ( tnf ) - , and high-sensitivity c-reactive protein ( hscrp ) were measured .',\n",
              " 'there was a clinically relevant reduction in the intervention group compared to the placebo group for knee pain , physical function , pga , and @mwd at @ weeks .',\n",
              " 'the mean difference between treatment arms ( @ % ci ) was @ ( @-@ @ ) , p < @ ; @ ( @-@ @ ) , p < @ ; @ ( @-@ @ ) , p < @ ; and @ ( @-@ @ ) , p < @ , respectively .',\n",
              " 'further , there was a clinically relevant reduction in the serum levels of il-@ , il-@ , tnf - , and hscrp at @ weeks in the intervention group when compared to the placebo group .',\n",
              " 'these differences remained significant at @ weeks .']"
            ]
          },
          "metadata": {},
          "execution_count": 16
        }
      ]
    },
    {
      "cell_type": "markdown",
      "source": [
        "## Make numeric labels"
      ],
      "metadata": {
        "id": "1POn-lrYNcj4"
      }
    },
    {
      "cell_type": "code",
      "source": [
        "# One hot encode labels\n",
        "from sklearn.preprocessing import OneHotEncoder\n",
        "one_hot_encoder = OneHotEncoder(sparse=False) #we want non sparse matrix\n",
        "train_labels_one_hot = one_hot_encoder.fit_transform(train_df[\"target\"].to_numpy().reshape(-1,1))\n",
        "val_labels_one_hot = one_hot_encoder.transform(val_df[\"target\"].to_numpy().reshape(-1,1))\n",
        "test_labels_one_hot = one_hot_encoder.transform(test_df[\"target\"].to_numpy().reshape(-1,1))\n",
        "\n",
        "\n",
        "#check what one hot encoded labels look like\n",
        "train_labels_one_hot\n"
      ],
      "metadata": {
        "colab": {
          "base_uri": "https://localhost:8080/"
        },
        "id": "7YMSB0-6NkeK",
        "outputId": "5c5eb9e0-95ad-4dbb-e416-0ddfbc6228ad"
      },
      "execution_count": 17,
      "outputs": [
        {
          "output_type": "execute_result",
          "data": {
            "text/plain": [
              "array([[0., 0., 0., 1., 0.],\n",
              "       [0., 0., 1., 0., 0.],\n",
              "       [0., 0., 1., 0., 0.],\n",
              "       ...,\n",
              "       [0., 0., 0., 0., 1.],\n",
              "       [0., 1., 0., 0., 0.],\n",
              "       [0., 1., 0., 0., 0.]])"
            ]
          },
          "metadata": {},
          "execution_count": 17
        }
      ]
    },
    {
      "cell_type": "code",
      "source": [
        "import tensorflow as tf\n",
        "tf.constant(train_labels_one_hot)"
      ],
      "metadata": {
        "colab": {
          "base_uri": "https://localhost:8080/"
        },
        "id": "nLVKbx4jN5Kq",
        "outputId": "2f6eaa20-06df-46e8-8572-97bc5651f867"
      },
      "execution_count": 18,
      "outputs": [
        {
          "output_type": "execute_result",
          "data": {
            "text/plain": [
              "<tf.Tensor: shape=(180040, 5), dtype=float64, numpy=\n",
              "array([[0., 0., 0., 1., 0.],\n",
              "       [0., 0., 1., 0., 0.],\n",
              "       [0., 0., 1., 0., 0.],\n",
              "       ...,\n",
              "       [0., 0., 0., 0., 1.],\n",
              "       [0., 1., 0., 0., 0.],\n",
              "       [0., 1., 0., 0., 0.]])>"
            ]
          },
          "metadata": {},
          "execution_count": 18
        }
      ]
    },
    {
      "cell_type": "markdown",
      "source": [
        "### Label encode labels"
      ],
      "metadata": {
        "id": "JaolbWCpOteH"
      }
    },
    {
      "cell_type": "code",
      "source": [
        "#Extract labels and encode them into integers\n",
        "from sklearn.preprocessing import LabelEncoder\n",
        "label_encoder = LabelEncoder()\n",
        "train_labels_encoded = label_encoder.fit_transform(train_df[\"target\"].to_numpy())\n",
        "val_labels_encoded = label_encoder.transform(val_df[\"target\"].to_numpy())\n",
        "test_labels_encoded = label_encoder.transform(test_df[\"target\"].to_numpy())\n",
        "\n",
        "#check what training labels look like\n",
        "train_labels_encoded"
      ],
      "metadata": {
        "colab": {
          "base_uri": "https://localhost:8080/"
        },
        "id": "cv8p_wVaPe1c",
        "outputId": "ee38519d-1651-44d5-95b4-11b17cffac73"
      },
      "execution_count": 19,
      "outputs": [
        {
          "output_type": "execute_result",
          "data": {
            "text/plain": [
              "array([3, 2, 2, ..., 4, 1, 1])"
            ]
          },
          "metadata": {},
          "execution_count": 19
        }
      ]
    },
    {
      "cell_type": "code",
      "source": [
        "#Get class names and number of classes from LabelEncoder Instance\n",
        "num_classes = len(label_encoder.classes_)\n",
        "class_names = label_encoder.classes_\n",
        "num_classes, class_names"
      ],
      "metadata": {
        "colab": {
          "base_uri": "https://localhost:8080/"
        },
        "id": "T_FuNASpP8H1",
        "outputId": "173c646b-9a71-4a18-f364-0688261c3159"
      },
      "execution_count": 20,
      "outputs": [
        {
          "output_type": "execute_result",
          "data": {
            "text/plain": [
              "(5, array(['BACKGROUND', 'CONCLUSIONS', 'METHODS', 'OBJECTIVE', 'RESULTS'],\n",
              "       dtype=object))"
            ]
          },
          "metadata": {},
          "execution_count": 20
        }
      ]
    },
    {
      "cell_type": "markdown",
      "source": [
        "## Starting a series of modelling experiments\n",
        "\n",
        "\n",
        "starting with TF-IDF Multinomial Naive Bayes classifier"
      ],
      "metadata": {
        "id": "IDrCVm2NQqKq"
      }
    },
    {
      "cell_type": "markdown",
      "source": [
        "## Model 0: Getting a baseline"
      ],
      "metadata": {
        "id": "XfliKDrUQPYV"
      }
    },
    {
      "cell_type": "code",
      "source": [
        "from sklearn.feature_extraction.text import TfidfVectorizer\n",
        "from sklearn.naive_bayes import MultinomialNB\n",
        "from sklearn.pipeline import Pipeline\n",
        "\n",
        "#Create a pipeline\n",
        "model_0 = Pipeline([\n",
        "    (\"tf-idf\",TfidfVectorizer()),\n",
        "    (\"clf\", MultinomialNB())\n",
        "    ])\n",
        "\n",
        "#fit the pipeline to the training data\n",
        "model_0.fit(X= train_sentences,\n",
        "            y = train_labels_encoded)"
      ],
      "metadata": {
        "colab": {
          "base_uri": "https://localhost:8080/"
        },
        "id": "d7OB3JL-Q0dM",
        "outputId": "9e46119f-22a1-4d52-a593-bd6703a910fb"
      },
      "execution_count": 21,
      "outputs": [
        {
          "output_type": "execute_result",
          "data": {
            "text/plain": [
              "Pipeline(steps=[('tf-idf', TfidfVectorizer()), ('clf', MultinomialNB())])"
            ]
          },
          "metadata": {},
          "execution_count": 21
        }
      ]
    },
    {
      "cell_type": "code",
      "source": [
        "#EVvaluate baseline model on validation sentences\n",
        "model_0.score(X = val_sentences,\n",
        "              y = val_labels_encoded)"
      ],
      "metadata": {
        "colab": {
          "base_uri": "https://localhost:8080/"
        },
        "id": "QkG-uJ5JRh2_",
        "outputId": "3a107913-fdf6-46b8-d162-7a2883ad3dd5"
      },
      "execution_count": 22,
      "outputs": [
        {
          "output_type": "execute_result",
          "data": {
            "text/plain": [
              "0.7218323844829869"
            ]
          },
          "metadata": {},
          "execution_count": 22
        }
      ]
    },
    {
      "cell_type": "code",
      "source": [
        "#Make predictions using baseline model\n",
        "baseline_preds = model_0.predict(val_sentences)\n",
        "baseline_preds"
      ],
      "metadata": {
        "colab": {
          "base_uri": "https://localhost:8080/"
        },
        "id": "xUfBiLV8RsSv",
        "outputId": "eac5620c-479c-4fed-d4cd-fad9ef9a5467"
      },
      "execution_count": 23,
      "outputs": [
        {
          "output_type": "execute_result",
          "data": {
            "text/plain": [
              "array([4, 1, 3, ..., 4, 4, 1])"
            ]
          },
          "metadata": {},
          "execution_count": 23
        }
      ]
    },
    {
      "cell_type": "markdown",
      "source": [
        "### Download helper functions scripts\n"
      ],
      "metadata": {
        "id": "dhCDoDYvRzxY"
      }
    },
    {
      "cell_type": "code",
      "source": [
        "!wget https://raw.githubusercontent.com/mrdbourke/tensorflow-deep-learning/main/extras/helper_functions.py"
      ],
      "metadata": {
        "colab": {
          "base_uri": "https://localhost:8080/"
        },
        "id": "YLDGddLjR5ne",
        "outputId": "fff783d3-b0c6-490e-d903-579dae70c16d"
      },
      "execution_count": 24,
      "outputs": [
        {
          "output_type": "stream",
          "name": "stdout",
          "text": [
            "--2023-01-26 01:59:47--  https://raw.githubusercontent.com/mrdbourke/tensorflow-deep-learning/main/extras/helper_functions.py\n",
            "Resolving raw.githubusercontent.com (raw.githubusercontent.com)... 185.199.108.133, 185.199.111.133, 185.199.110.133, ...\n",
            "Connecting to raw.githubusercontent.com (raw.githubusercontent.com)|185.199.108.133|:443... connected.\n",
            "HTTP request sent, awaiting response... 200 OK\n",
            "Length: 10246 (10K) [text/plain]\n",
            "Saving to: ‘helper_functions.py’\n",
            "\n",
            "helper_functions.py 100%[===================>]  10.01K  --.-KB/s    in 0s      \n",
            "\n",
            "2023-01-26 01:59:48 (90.1 MB/s) - ‘helper_functions.py’ saved [10246/10246]\n",
            "\n"
          ]
        }
      ]
    },
    {
      "cell_type": "code",
      "source": [
        "# Import calculate_results helper function\n",
        "from helper_functions import calculate_results"
      ],
      "metadata": {
        "id": "PCtM85kER-Qe"
      },
      "execution_count": 25,
      "outputs": []
    },
    {
      "cell_type": "code",
      "source": [
        "baseline_results = calculate_results(val_labels_encoded,baseline_preds)\n",
        "baseline_results"
      ],
      "metadata": {
        "colab": {
          "base_uri": "https://localhost:8080/"
        },
        "id": "whX4wMKNSCML",
        "outputId": "f112b50e-33b0-4c2f-e083-185c8fdb0814"
      },
      "execution_count": 26,
      "outputs": [
        {
          "output_type": "execute_result",
          "data": {
            "text/plain": [
              "{'accuracy': 72.1832384482987,\n",
              " 'precision': 0.7186466952323352,\n",
              " 'recall': 0.7218323844829869,\n",
              " 'f1': 0.6989250353450294}"
            ]
          },
          "metadata": {},
          "execution_count": 26
        }
      ]
    },
    {
      "cell_type": "markdown",
      "source": [
        "## Preparing our data (the text) for deep sequence models\n",
        "\n",
        "Before we start building deeper models, we've got to create vectorization and embedding layers.\n"
      ],
      "metadata": {
        "id": "A3FT3sq1SI4B"
      }
    },
    {
      "cell_type": "code",
      "source": [
        "import numpy as np\n",
        "import tensorflow as tf\n",
        "from tensorflow.keras import layers"
      ],
      "metadata": {
        "id": "sQ7ckd2HY8_L"
      },
      "execution_count": 27,
      "outputs": []
    },
    {
      "cell_type": "code",
      "source": [
        "train_sentences[:10]"
      ],
      "metadata": {
        "colab": {
          "base_uri": "https://localhost:8080/"
        },
        "id": "gXom1JMeY_KR",
        "outputId": "15202d2e-42ed-4ed7-d4f6-0ebe3dbf9a7e"
      },
      "execution_count": 28,
      "outputs": [
        {
          "output_type": "execute_result",
          "data": {
            "text/plain": [
              "['to investigate the efficacy of @ weeks of daily low-dose oral prednisolone in improving pain , mobility , and systemic low-grade inflammation in the short term and whether the effect would be sustained at @ weeks in older adults with moderate to severe knee osteoarthritis ( oa ) .',\n",
              " 'a total of @ patients with primary knee oa were randomized @:@ ; @ received @ mg/day of prednisolone and @ received placebo for @ weeks .',\n",
              " 'outcome measures included pain reduction and improvement in function scores and systemic inflammation markers .',\n",
              " 'pain was assessed using the visual analog pain scale ( @-@ mm ) .',\n",
              " 'secondary outcome measures included the western ontario and mcmaster universities osteoarthritis index scores , patient global assessment ( pga ) of the severity of knee oa , and @-min walk distance ( @mwd ) .',\n",
              " 'serum levels of interleukin @ ( il-@ ) , il-@ , tumor necrosis factor ( tnf ) - , and high-sensitivity c-reactive protein ( hscrp ) were measured .',\n",
              " 'there was a clinically relevant reduction in the intervention group compared to the placebo group for knee pain , physical function , pga , and @mwd at @ weeks .',\n",
              " 'the mean difference between treatment arms ( @ % ci ) was @ ( @-@ @ ) , p < @ ; @ ( @-@ @ ) , p < @ ; @ ( @-@ @ ) , p < @ ; and @ ( @-@ @ ) , p < @ , respectively .',\n",
              " 'further , there was a clinically relevant reduction in the serum levels of il-@ , il-@ , tnf - , and hscrp at @ weeks in the intervention group when compared to the placebo group .',\n",
              " 'these differences remained significant at @ weeks .']"
            ]
          },
          "metadata": {},
          "execution_count": 28
        }
      ]
    },
    {
      "cell_type": "code",
      "source": [
        "# How long is each sentence on average?\n",
        "sent_lens = [len(sentence.split()) for sentence in train_sentences]\n",
        "avg_sent_len = np.mean(sent_lens)\n",
        "avg_sent_len"
      ],
      "metadata": {
        "colab": {
          "base_uri": "https://localhost:8080/"
        },
        "id": "TPGrB2O2ZBk3",
        "outputId": "134efc2c-dabe-4a39-91fb-700a9c0af901"
      },
      "execution_count": 29,
      "outputs": [
        {
          "output_type": "execute_result",
          "data": {
            "text/plain": [
              "26.338269273494777"
            ]
          },
          "metadata": {},
          "execution_count": 29
        }
      ]
    },
    {
      "cell_type": "code",
      "source": [
        "# What's the distribution look like?\n",
        "import matplotlib.pyplot as plt\n",
        "plt.hist(sent_lens, bins=20);"
      ],
      "metadata": {
        "colab": {
          "base_uri": "https://localhost:8080/",
          "height": 265
        },
        "id": "CKcqn5n9ZRun",
        "outputId": "5d380519-db9f-4989-f623-74779d8407fd"
      },
      "execution_count": 30,
      "outputs": [
        {
          "output_type": "display_data",
          "data": {
            "text/plain": [
              "<Figure size 432x288 with 1 Axes>"
            ],
            "image/png": "[encoded data removed]"
          },
          "metadata": {
            "needs_background": "light"
          }
        }
      ]
    },
    {
      "cell_type": "code",
      "source": [
        "# How long of a setnence lenght covers 95% of examples?\n",
        "output_seq_len = int(np.percentile(sent_lens, 95))\n",
        "output_seq_len"
      ],
      "metadata": {
        "colab": {
          "base_uri": "https://localhost:8080/"
        },
        "id": "atbecC7mZUlh",
        "outputId": "8876675e-2330-4780-b608-817ce94cb8d8"
      },
      "execution_count": 31,
      "outputs": [
        {
          "output_type": "execute_result",
          "data": {
            "text/plain": [
              "55"
            ]
          },
          "metadata": {},
          "execution_count": 31
        }
      ]
    },
    {
      "cell_type": "code",
      "source": [
        "# Maximum sequence length in the training set\n",
        "max(sent_lens)"
      ],
      "metadata": {
        "colab": {
          "base_uri": "https://localhost:8080/"
        },
        "id": "iDfN8hu6ZYyU",
        "outputId": "de9bb926-419e-46f8-8d94-2b48e6aaccfc"
      },
      "execution_count": 32,
      "outputs": [
        {
          "output_type": "execute_result",
          "data": {
            "text/plain": [
              "296"
            ]
          },
          "metadata": {},
          "execution_count": 32
        }
      ]
    },
    {
      "cell_type": "markdown",
      "source": [
        "### Create text vectorizer layer\n",
        "\n",
        "We want to make a layer which maps our texts from words to numbers."
      ],
      "metadata": {
        "id": "M7tiXag3ZcQs"
      }
    },
    {
      "cell_type": "code",
      "source": [
        "# How many words are in our vocab? (taken from table 2 in: https://arxiv.org/pdf/1710.06071.pdf)\n",
        "max_tokens = 68000"
      ],
      "metadata": {
        "id": "lVqSfHJDZir_"
      },
      "execution_count": 33,
      "outputs": []
    },
    {
      "cell_type": "code",
      "source": [
        "# Create text vectorizer\n",
        "from tensorflow.keras.layers.experimental.preprocessing import TextVectorization\n",
        "\n",
        "text_vectorizer = TextVectorization(max_tokens=max_tokens, # number of words in vocabulary\n",
        "                                    output_sequence_length=output_seq_len) # desired output length of vectorized sequences"
      ],
      "metadata": {
        "id": "rROm3GitZmQf"
      },
      "execution_count": 34,
      "outputs": []
    },
    {
      "cell_type": "code",
      "source": [
        "# Adapt text vectorizer to training sentences\n",
        "text_vectorizer.adapt(train_sentences)"
      ],
      "metadata": {
        "id": "ZElLaBe4ZvNv"
      },
      "execution_count": 35,
      "outputs": []
    },
    {
      "cell_type": "code",
      "source": [
        "# Test out text vectorizer on random sentences\n",
        "import random\n",
        "target_sentence = random.choice(train_sentences)\n",
        "print(f\"Text:\\n{target_sentence}\")\n",
        "print(f\"\\nLength of text: {len(target_sentence.split())}\")\n",
        "print(f\"\\nVectorized text: {text_vectorizer([target_sentence])}\")"
      ],
      "metadata": {
        "colab": {
          "base_uri": "https://localhost:8080/"
        },
        "id": "68U26vWgZyWQ",
        "outputId": "7048ec47-5228-442b-986d-976cd8636a97"
      },
      "execution_count": 36,
      "outputs": [
        {
          "output_type": "stream",
          "name": "stdout",
          "text": [
            "Text:\n",
            "sds-@ score was reduced by an estimated @ ( @ % ci , @ to @ ; p = @ ) in the intervention group .\n",
            "\n",
            "Length of text: 26\n",
            "\n",
            "Vectorized text: [[3349  101   10  191   22   26  597   50    6   14    5    2   38   13\n",
            "     0    0    0    0    0    0    0    0    0    0    0    0    0    0\n",
            "     0    0    0    0    0    0    0    0    0    0    0    0    0    0\n",
            "     0    0    0    0    0    0    0    0    0    0    0    0    0]]\n"
          ]
        }
      ]
    },
    {
      "cell_type": "code",
      "source": [
        "# How many words in our training vocabulary\n",
        "rct_20k_text_vocab = text_vectorizer.get_vocabulary()\n",
        "print(f\"Number of words in vocab: {len(rct_20k_text_vocab)}\")\n",
        "print(f\"Most common words in the vocab: {rct_20k_text_vocab[:5]}\")\n",
        "print(f\"Least common words in the vocab: {rct_20k_text_vocab[-5:]}\")"
      ],
      "metadata": {
        "colab": {
          "base_uri": "https://localhost:8080/"
        },
        "id": "RYL398AnZ97n",
        "outputId": "1c925c56-1779-4ac4-d591-07a3b27c2a80"
      },
      "execution_count": 37,
      "outputs": [
        {
          "output_type": "stream",
          "name": "stdout",
          "text": [
            "Number of words in vocab: 64841\n",
            "Most common words in the vocab: ['', '[UNK]', 'the', 'and', 'of']\n",
            "Least common words in the vocab: ['aainduced', 'aaigroup', 'aachener', 'aachen', 'aaacp']\n"
          ]
        }
      ]
    },
    {
      "cell_type": "code",
      "source": [
        "# Get the config of our text vectorizer\n",
        "text_vectorizer.get_config()"
      ],
      "metadata": {
        "colab": {
          "base_uri": "https://localhost:8080/"
        },
        "id": "mrS5GvvKaJeB",
        "outputId": "59518f27-45fa-461e-ba1d-1653df7cadcd"
      },
      "execution_count": 38,
      "outputs": [
        {
          "output_type": "execute_result",
          "data": {
            "text/plain": [
              "{'name': 'text_vectorization',\n",
              " 'trainable': True,\n",
              " 'batch_input_shape': (None,),\n",
              " 'dtype': 'string',\n",
              " 'max_tokens': 68000,\n",
              " 'standardize': 'lower_and_strip_punctuation',\n",
              " 'split': 'whitespace',\n",
              " 'ngrams': None,\n",
              " 'output_mode': 'int',\n",
              " 'output_sequence_length': 55,\n",
              " 'pad_to_max_tokens': False,\n",
              " 'sparse': False,\n",
              " 'ragged': False,\n",
              " 'vocabulary': None,\n",
              " 'idf_weights': None}"
            ]
          },
          "metadata": {},
          "execution_count": 38
        }
      ]
    },
    {
      "cell_type": "markdown",
      "source": [
        "### Create custom text embedding"
      ],
      "metadata": {
        "id": "vNF1rqwPaUTy"
      }
    },
    {
      "cell_type": "code",
      "source": [
        "# Create token embedding layer\n",
        "token_embed = layers.Embedding(input_dim=len(rct_20k_text_vocab), # length of vocabulary\n",
        "                               output_dim=128, # Note: different embedding sizes result in drastically differnt numbers of parameters to train\n",
        "                               mask_zero=True, # use masking to handle variable sequence lengths (save space),\n",
        "                               name=\"token_embedding\")"
      ],
      "metadata": {
        "id": "UfHl659-aZnD"
      },
      "execution_count": 39,
      "outputs": []
    },
    {
      "cell_type": "code",
      "source": [
        "# Show example embedding\n",
        "print(f\"Sentence before vectorization:\\n {target_sentence}\\n\")\n",
        "vectorized_sentence = text_vectorizer([target_sentence])\n",
        "print(f\"Sentence after vectorization (before embedding):\\n {vectorized_sentence}\\n\")\n",
        "embedded_sentence = token_embed(vectorized_sentence)\n",
        "print(f\"Sentence after embedding:\\n {embedded_sentence}\\n\")\n",
        "print(f\"Embedded sentence shape: {embedded_sentence.shape}\")"
      ],
      "metadata": {
        "colab": {
          "base_uri": "https://localhost:8080/"
        },
        "id": "j5alaClQadDC",
        "outputId": "68c4954d-3233-4072-b79c-c32768cf3686"
      },
      "execution_count": 40,
      "outputs": [
        {
          "output_type": "stream",
          "name": "stdout",
          "text": [
            "Sentence before vectorization:\n",
            " sds-@ score was reduced by an estimated @ ( @ % ci , @ to @ ; p = @ ) in the intervention group .\n",
            "\n",
            "Sentence after vectorization (before embedding):\n",
            " [[3349  101   10  191   22   26  597   50    6   14    5    2   38   13\n",
            "     0    0    0    0    0    0    0    0    0    0    0    0    0    0\n",
            "     0    0    0    0    0    0    0    0    0    0    0    0    0    0\n",
            "     0    0    0    0    0    0    0    0    0    0    0    0    0]]\n",
            "\n",
            "Sentence after embedding:\n",
            " [[[-0.04862405 -0.02077371  0.03558189 ... -0.02428364  0.02040375\n",
            "    0.04142716]\n",
            "  [-0.0270399   0.00599353 -0.02236655 ... -0.04796441 -0.04517528\n",
            "   -0.03800292]\n",
            "  [ 0.03421483  0.02326984 -0.00971555 ...  0.01150881  0.03969212\n",
            "   -0.01920827]\n",
            "  ...\n",
            "  [ 0.0412709   0.0065692  -0.02662028 ... -0.04723867  0.0094823\n",
            "    0.00164238]\n",
            "  [ 0.0412709   0.0065692  -0.02662028 ... -0.04723867  0.0094823\n",
            "    0.00164238]\n",
            "  [ 0.0412709   0.0065692  -0.02662028 ... -0.04723867  0.0094823\n",
            "    0.00164238]]]\n",
            "\n",
            "Embedded sentence shape: (1, 55, 128)\n"
          ]
        }
      ]
    },
    {
      "cell_type": "markdown",
      "source": [
        "## Creating datasets (making sure our data loads as fast as possible)\n",
        "\n",
        "We're going to setup our data to run as fast as possible with the TensorFlow tf.data API, many of the steps here are discussed at length in these two resources:\n",
        "\n",
        "1. https://www.tensorflow.org/guide/data_performance\n",
        "2. https://www.tensorflow.org/guide/data"
      ],
      "metadata": {
        "id": "mq-vcR4EagWC"
      }
    },
    {
      "cell_type": "code",
      "source": [
        "# Turn our data into TensorFlow Datasets\n",
        "train_dataset = tf.data.Dataset.from_tensor_slices((train_sentences, train_labels_one_hot))\n",
        "valid_dataset = tf.data.Dataset.from_tensor_slices((val_sentences, val_labels_one_hot))\n",
        "test_dataset = tf.data.Dataset.from_tensor_slices((test_sentences, test_labels_one_hot))\n",
        "\n",
        "train_dataset"
      ],
      "metadata": {
        "colab": {
          "base_uri": "https://localhost:8080/"
        },
        "id": "ezmt3MP2eQ9f",
        "outputId": "bfb49350-1b0e-4d98-a34c-bd377365f037"
      },
      "execution_count": 41,
      "outputs": [
        {
          "output_type": "execute_result",
          "data": {
            "text/plain": [
              "<TensorSliceDataset element_spec=(TensorSpec(shape=(), dtype=tf.string, name=None), TensorSpec(shape=(5,), dtype=tf.float64, name=None))>"
            ]
          },
          "metadata": {},
          "execution_count": 41
        }
      ]
    },
    {
      "cell_type": "code",
      "source": [
        "# Take the TensorSliceDataset's and turn them into prefected datasets\n",
        "train_dataset = train_dataset.batch(32).prefetch(tf.data.AUTOTUNE)\n",
        "valid_dataset = valid_dataset.batch(32).prefetch(tf.data.AUTOTUNE)\n",
        "test_dataset = test_dataset.batch(32).prefetch(tf.data.AUTOTUNE)\n",
        "\n",
        "train_dataset"
      ],
      "metadata": {
        "colab": {
          "base_uri": "https://localhost:8080/"
        },
        "id": "n1fWfuG3eaSu",
        "outputId": "7b024f48-a732-4c8c-8d2e-44ecda71bc26"
      },
      "execution_count": 42,
      "outputs": [
        {
          "output_type": "execute_result",
          "data": {
            "text/plain": [
              "<PrefetchDataset element_spec=(TensorSpec(shape=(None,), dtype=tf.string, name=None), TensorSpec(shape=(None, 5), dtype=tf.float64, name=None))>"
            ]
          },
          "metadata": {},
          "execution_count": 42
        }
      ]
    },
    {
      "cell_type": "markdown",
      "source": [
        "## Model 1: Conv1D with token embeddings"
      ],
      "metadata": {
        "id": "kp0MPn03eph1"
      }
    },
    {
      "cell_type": "code",
      "source": [
        "# Create 1D conv model to process sequences\n",
        "inputs = layers.Input(shape=(1,), dtype=tf.string)\n",
        "text_vectors = text_vectorizer(inputs) # vectorize text inputs\n",
        "token_embeddings = token_embed(text_vectors) # create embedding\n",
        "x = layers.Conv1D(64, kernel_size=5, padding=\"same\", activation=\"relu\")(token_embeddings)\n",
        "x = layers.GlobalAveragePooling1D()(x) # condense the output of our feature vector from conv layer\n",
        "outputs = layers.Dense(num_classes, activation=\"softmax\")(x)\n",
        "model_1 = tf.keras.Model(inputs, outputs)\n",
        "\n",
        "# Compile\n",
        "model_1.compile(loss=\"categorical_crossentropy\",\n",
        "                optimizer=tf.keras.optimizers.Adam(),\n",
        "                metrics=[\"accuracy\"])"
      ],
      "metadata": {
        "id": "BZf067Ase9YU"
      },
      "execution_count": 43,
      "outputs": []
    },
    {
      "cell_type": "code",
      "source": [
        "model_1.summary()"
      ],
      "metadata": {
        "colab": {
          "base_uri": "https://localhost:8080/"
        },
        "id": "5cTx6PTyfXOL",
        "outputId": "74056914-d434-462b-aee2-3f199be5173f"
      },
      "execution_count": 44,
      "outputs": [
        {
          "output_type": "stream",
          "name": "stdout",
          "text": [
            "Model: \"model\"\n",
            "_________________________________________________________________\n",
            " Layer (type)                Output Shape              Param #   \n",
            "=================================================================\n",
            " input_1 (InputLayer)        [(None, 1)]               0         \n",
            "                                                                 \n",
            " text_vectorization (TextVec  (None, 55)               0         \n",
            " torization)                                                     \n",
            "                                                                 \n",
            " token_embedding (Embedding)  (None, 55, 128)          8299648   \n",
            "                                                                 \n",
            " conv1d (Conv1D)             (None, 55, 64)            41024     \n",
            "                                                                 \n",
            " global_average_pooling1d (G  (None, 64)               0         \n",
            " lobalAveragePooling1D)                                          \n",
            "                                                                 \n",
            " dense (Dense)               (None, 5)                 325       \n",
            "                                                                 \n",
            "=================================================================\n",
            "Total params: 8,340,997\n",
            "Trainable params: 8,340,997\n",
            "Non-trainable params: 0\n",
            "_________________________________________________________________\n"
          ]
        }
      ]
    },
    {
      "cell_type": "code",
      "source": [
        "train_dataset"
      ],
      "metadata": {
        "colab": {
          "base_uri": "https://localhost:8080/"
        },
        "id": "PoSSpaJRfZ9L",
        "outputId": "3d32cc7a-b687-494d-feaf-76f6aada9eb9"
      },
      "execution_count": 45,
      "outputs": [
        {
          "output_type": "execute_result",
          "data": {
            "text/plain": [
              "<PrefetchDataset element_spec=(TensorSpec(shape=(None,), dtype=tf.string, name=None), TensorSpec(shape=(None, 5), dtype=tf.float64, name=None))>"
            ]
          },
          "metadata": {},
          "execution_count": 45
        }
      ]
    },
    {
      "cell_type": "code",
      "source": [
        "len(train_dataset)"
      ],
      "metadata": {
        "colab": {
          "base_uri": "https://localhost:8080/"
        },
        "id": "yfbST4EffqRj",
        "outputId": "a6e7377d-d8d5-4100-bbf5-f99e2760037b"
      },
      "execution_count": 46,
      "outputs": [
        {
          "output_type": "execute_result",
          "data": {
            "text/plain": [
              "5627"
            ]
          },
          "metadata": {},
          "execution_count": 46
        }
      ]
    },
    {
      "cell_type": "code",
      "source": [
        "5627*32"
      ],
      "metadata": {
        "colab": {
          "base_uri": "https://localhost:8080/"
        },
        "id": "mIb-xJOlfrUy",
        "outputId": "95cb158a-28f4-4259-94ae-5c13512a5531"
      },
      "execution_count": 47,
      "outputs": [
        {
          "output_type": "execute_result",
          "data": {
            "text/plain": [
              "180064"
            ]
          },
          "metadata": {},
          "execution_count": 47
        }
      ]
    },
    {
      "cell_type": "code",
      "source": [
        "# Fit the model\n",
        "history_model_1 = model_1.fit(train_dataset,\n",
        "                              steps_per_epoch=int(0.1*len(train_dataset)),\n",
        "                              epochs=3,\n",
        "                              validation_data=valid_dataset,\n",
        "                              validation_steps=int(0.1 * len(valid_dataset))) # only validate on 10% of batches"
      ],
      "metadata": {
        "colab": {
          "base_uri": "https://localhost:8080/"
        },
        "id": "BpqSJLuDfujy",
        "outputId": "11c2ebf9-2c9c-4a53-d321-e5b8245f11e8"
      },
      "execution_count": 48,
      "outputs": [
        {
          "output_type": "stream",
          "name": "stdout",
          "text": [
            "Epoch 1/3\n",
            "562/562 [==============================] - 15s 10ms/step - loss: 0.9173 - accuracy: 0.6365 - val_loss: 0.6893 - val_accuracy: 0.7400\n",
            "Epoch 2/3\n",
            "562/562 [==============================] - 5s 9ms/step - loss: 0.6610 - accuracy: 0.7550 - val_loss: 0.6328 - val_accuracy: 0.7653\n",
            "Epoch 3/3\n",
            "562/562 [==============================] - 5s 8ms/step - loss: 0.6197 - accuracy: 0.7751 - val_loss: 0.5956 - val_accuracy: 0.7839\n"
          ]
        }
      ]
    },
    {
      "cell_type": "code",
      "source": [
        "# Evalaute on whole validation dataset\n",
        "model_1.evaluate(valid_dataset)"
      ],
      "metadata": {
        "colab": {
          "base_uri": "https://localhost:8080/"
        },
        "id": "Ko7UYf_bfz6U",
        "outputId": "22bc1909-f108-4ce9-f4e5-7d36423a66fc"
      },
      "execution_count": 49,
      "outputs": [
        {
          "output_type": "stream",
          "name": "stdout",
          "text": [
            "945/945 [==============================] - 3s 3ms/step - loss: 0.5980 - accuracy: 0.7853\n"
          ]
        },
        {
          "output_type": "execute_result",
          "data": {
            "text/plain": [
              "[0.597999095916748, 0.785317063331604]"
            ]
          },
          "metadata": {},
          "execution_count": 49
        }
      ]
    },
    {
      "cell_type": "code",
      "source": [
        "# Make predictions (our model predicts prediction probabilities for each class)\n",
        "model_1_pred_probs = model_1.predict(valid_dataset)\n",
        "model_1_pred_probs, model_1_pred_probs.shape"
      ],
      "metadata": {
        "colab": {
          "base_uri": "https://localhost:8080/"
        },
        "id": "e2lrYLHAf7Eh",
        "outputId": "f244e537-c327-499b-b7a9-85cecc122ad7"
      },
      "execution_count": 50,
      "outputs": [
        {
          "output_type": "stream",
          "name": "stdout",
          "text": [
            "945/945 [==============================] - 2s 2ms/step\n"
          ]
        },
        {
          "output_type": "execute_result",
          "data": {
            "text/plain": [
              "(array([[4.3317339e-01, 1.9843097e-01, 8.9245193e-02, 2.5005507e-01,\n",
              "         2.9095396e-02],\n",
              "        [4.2218536e-01, 2.9952925e-01, 1.0977239e-02, 2.6064306e-01,\n",
              "         6.6649946e-03],\n",
              "        [1.3028654e-01, 8.2456414e-03, 1.6018493e-03, 8.5983121e-01,\n",
              "         3.4790512e-05],\n",
              "        ...,\n",
              "        [2.7183155e-06, 6.9655705e-04, 5.7828578e-04, 1.4027401e-06,\n",
              "         9.9872106e-01],\n",
              "        [6.1619349e-02, 4.9770969e-01, 8.9962050e-02, 6.6842429e-02,\n",
              "         2.8386658e-01],\n",
              "        [2.2704251e-01, 5.6744915e-01, 5.6478050e-02, 6.8424493e-02,\n",
              "         8.0605745e-02]], dtype=float32), (30212, 5))"
            ]
          },
          "metadata": {},
          "execution_count": 50
        }
      ]
    },
    {
      "cell_type": "code",
      "source": [
        "# Convert pred probs to classes\n",
        "model_1_preds = tf.argmax(model_1_pred_probs, axis=1)\n",
        "model_1_preds"
      ],
      "metadata": {
        "colab": {
          "base_uri": "https://localhost:8080/"
        },
        "id": "fAWhCSvogAJZ",
        "outputId": "fce2fe04-7cfc-4990-e259-c2e79475b435"
      },
      "execution_count": 51,
      "outputs": [
        {
          "output_type": "execute_result",
          "data": {
            "text/plain": [
              "<tf.Tensor: shape=(30212,), dtype=int64, numpy=array([0, 0, 3, ..., 4, 1, 1])>"
            ]
          },
          "metadata": {},
          "execution_count": 51
        }
      ]
    },
    {
      "cell_type": "code",
      "source": [
        "# Calculate model_1 results\n",
        "model_1_results = calculate_results(y_true=val_labels_encoded,\n",
        "                                    y_pred=model_1_preds)\n",
        "model_1_results"
      ],
      "metadata": {
        "colab": {
          "base_uri": "https://localhost:8080/"
        },
        "id": "tK_DAF23gDdh",
        "outputId": "cec75fa8-edc0-4047-ecc2-8665d6fa7b45"
      },
      "execution_count": 52,
      "outputs": [
        {
          "output_type": "execute_result",
          "data": {
            "text/plain": [
              "{'accuracy': 78.53170925460083,\n",
              " 'precision': 0.7822484454515132,\n",
              " 'recall': 0.7853170925460082,\n",
              " 'f1': 0.78301601094239}"
            ]
          },
          "metadata": {},
          "execution_count": 52
        }
      ]
    },
    {
      "cell_type": "markdown",
      "source": [
        "## Model 2: Feature extraction with pretrained token embeddings\n",
        "\n",
        "The model structure will look like:\n",
        "\n",
        "Inputs (string) -> Pretrained embeddings from TensorFlow Hub (Universal Sentence Encoder) -> Layers -> Output (prediction probabilities)\n",
        "\n",
        "Now lets use pretrained word embeddings from TensorFlow Hub, more specifically the universal sentence encoder (USE): https://tfhub.dev/google/universal-sentence-encoder/4\n",
        "\n",
        "The paper originally used GloVe embeddings, however, we're going to stick with the later created USE pretrained embeddings."
      ],
      "metadata": {
        "id": "-nDC8HoJgR6S"
      }
    },
    {
      "cell_type": "code",
      "source": [
        "# Download pretrained TensorFlow Hub USE\n",
        "import tensorflow_hub as hub\n",
        "tf_hub_embedding_layer = hub.KerasLayer(\"https://tfhub.dev/google/universal-sentence-encoder/4\",\n",
        "                                        trainable=False,\n",
        "                                        name=\"universal_sentence_encoder\")"
      ],
      "metadata": {
        "id": "a17FhkOsgZ9t"
      },
      "execution_count": 53,
      "outputs": []
    },
    {
      "cell_type": "code",
      "source": [
        "# Test out the pretrained embedding on a random sentence \n",
        "random_train_sentence = random.choice(train_sentences)\n",
        "print(f\"Random sentence:\\n {random_train_sentence}\")\n",
        "use_embedded_sentence = tf_hub_embedding_layer([random_train_sentence])\n",
        "print(f\"Setence after embedding:\\n{use_embedded_sentence[0][:30]}\\n\")\n",
        "print(f\"Length of sentence embedding: {len(use_embedded_sentence[0])}\")"
      ],
      "metadata": {
        "colab": {
          "base_uri": "https://localhost:8080/"
        },
        "id": "VounF3y3gxSl",
        "outputId": "df24f45b-c416-4518-8f35-8c85eb5d3ee8"
      },
      "execution_count": 54,
      "outputs": [
        {
          "output_type": "stream",
          "name": "stdout",
          "text": [
            "Random sentence:\n",
            " each pump refill cycle was @ days .\n",
            "Setence after embedding:\n",
            "[ 0.00362613 -0.05922734  0.02008022  0.07198083 -0.04945492 -0.00130927\n",
            "  0.03581468 -0.01088724  0.02146962 -0.0241513   0.0371113  -0.00968328\n",
            "  0.04722758  0.04248996  0.01842142  0.06354146  0.01518797  0.05375938\n",
            " -0.0589162   0.05575436  0.00928111  0.04784453 -0.02752272 -0.05424641\n",
            "  0.00395994  0.06485587 -0.01639913  0.02216218 -0.0353178  -0.02988911]\n",
            "\n",
            "Length of sentence embedding: 512\n"
          ]
        }
      ]
    },
    {
      "cell_type": "markdown",
      "source": [
        "### Building and fitting an NLP feature extraction model using pretrained embeddings TensorFlow Hub"
      ],
      "metadata": {
        "id": "9Ft2e4dqg4aL"
      }
    },
    {
      "cell_type": "code",
      "source": [
        "# Define feature extraction model using TF Hub layer\n",
        "inputs = layers.Input(shape=[], dtype=tf.string)\n",
        "pretrained_embedding = tf_hub_embedding_layer(inputs) # tokenize text and create embedding of each sequence (512 long vector)\n",
        "x = layers.Dense(128, activation=\"relu\")(pretrained_embedding)\n",
        "# Note: you could add more layers here if you wanted to\n",
        "outputs = layers.Dense(num_classes, activation=\"softmax\")(x) # create the output layer\n",
        "model_2 = tf.keras.Model(inputs=inputs,\n",
        "                         outputs=outputs,\n",
        "                         name=\"model_2_USE_feature_extractor\")\n",
        "\n",
        "# Compile the model\n",
        "model_2.compile(loss=\"categorical_crossentropy\",\n",
        "                optimizer=tf.keras.optimizers.Adam(),\n",
        "                metrics=[\"accuracy\"])"
      ],
      "metadata": {
        "id": "PL0GJMazhFZW"
      },
      "execution_count": 55,
      "outputs": []
    },
    {
      "cell_type": "code",
      "source": [
        "model_2.summary()"
      ],
      "metadata": {
        "colab": {
          "base_uri": "https://localhost:8080/"
        },
        "id": "x0jIx_lAhS_j",
        "outputId": "35db02aa-f17e-4117-cd7c-25e3475765b6"
      },
      "execution_count": 56,
      "outputs": [
        {
          "output_type": "stream",
          "name": "stdout",
          "text": [
            "Model: \"model_2_USE_feature_extractor\"\n",
            "_________________________________________________________________\n",
            " Layer (type)                Output Shape              Param #   \n",
            "=================================================================\n",
            " input_2 (InputLayer)        [(None,)]                 0         \n",
            "                                                                 \n",
            " universal_sentence_encoder   (None, 512)              256797824 \n",
            " (KerasLayer)                                                    \n",
            "                                                                 \n",
            " dense_1 (Dense)             (None, 128)               65664     \n",
            "                                                                 \n",
            " dense_2 (Dense)             (None, 5)                 645       \n",
            "                                                                 \n",
            "=================================================================\n",
            "Total params: 256,864,133\n",
            "Trainable params: 66,309\n",
            "Non-trainable params: 256,797,824\n",
            "_________________________________________________________________\n"
          ]
        }
      ]
    },
    {
      "cell_type": "code",
      "source": [
        "# Fit model_2 to the data\n",
        "history_model_2 = model_2.fit(train_dataset,\n",
        "                              epochs=3,\n",
        "                              steps_per_epoch=int(0.1 * len(train_dataset)),\n",
        "                              validation_data=valid_dataset,\n",
        "                              validation_steps=int(0.1 * len(valid_dataset)))"
      ],
      "metadata": {
        "colab": {
          "base_uri": "https://localhost:8080/"
        },
        "id": "8LvU2jMnhWa5",
        "outputId": "ce88d351-b07a-4e41-9811-968918b088f6"
      },
      "execution_count": 57,
      "outputs": [
        {
          "output_type": "stream",
          "name": "stdout",
          "text": [
            "Epoch 1/3\n",
            "562/562 [==============================] - 9s 12ms/step - loss: 0.9182 - accuracy: 0.6498 - val_loss: 0.7975 - val_accuracy: 0.6908\n",
            "Epoch 2/3\n",
            "562/562 [==============================] - 7s 12ms/step - loss: 0.7694 - accuracy: 0.7030 - val_loss: 0.7554 - val_accuracy: 0.7068\n",
            "Epoch 3/3\n",
            "562/562 [==============================] - 7s 12ms/step - loss: 0.7531 - accuracy: 0.7117 - val_loss: 0.7371 - val_accuracy: 0.7141\n"
          ]
        }
      ]
    },
    {
      "cell_type": "code",
      "source": [
        "# Evaluate on the whole validation dataset\n",
        "model_2.evaluate(valid_dataset)"
      ],
      "metadata": {
        "colab": {
          "base_uri": "https://localhost:8080/"
        },
        "id": "95ZHNd_0hhHH",
        "outputId": "5e5d02f9-bb1e-43cb-8884-cff056b4e85b"
      },
      "execution_count": 58,
      "outputs": [
        {
          "output_type": "stream",
          "name": "stdout",
          "text": [
            "945/945 [==============================] - 17s 18ms/step - loss: 0.7409 - accuracy: 0.7141\n"
          ]
        },
        {
          "output_type": "execute_result",
          "data": {
            "text/plain": [
              "[0.7409193515777588, 0.7141202092170715]"
            ]
          },
          "metadata": {},
          "execution_count": 58
        }
      ]
    },
    {
      "cell_type": "code",
      "source": [
        "# Make predictions with feature extraction model\n",
        "model_2_pred_probs = model_2.predict(valid_dataset)\n",
        "model_2_pred_probs"
      ],
      "metadata": {
        "colab": {
          "base_uri": "https://localhost:8080/"
        },
        "id": "ecQKd_vdhlRd",
        "outputId": "86bafec9-2a85-4ecd-8930-adfa53a23d0c"
      },
      "execution_count": 59,
      "outputs": [
        {
          "output_type": "stream",
          "name": "stdout",
          "text": [
            "945/945 [==============================] - 14s 14ms/step\n"
          ]
        },
        {
          "output_type": "execute_result",
          "data": {
            "text/plain": [
              "array([[0.42381424, 0.36033073, 0.00357084, 0.20373383, 0.00855039],\n",
              "       [0.37175474, 0.4557622 , 0.0046279 , 0.16454487, 0.0033103 ],\n",
              "       [0.23767927, 0.14071867, 0.02189089, 0.56042045, 0.03929069],\n",
              "       ...,\n",
              "       [0.00204339, 0.00749617, 0.06585518, 0.00095815, 0.92364705],\n",
              "       [0.00396562, 0.04344939, 0.1881752 , 0.00158614, 0.7628236 ],\n",
              "       [0.16294286, 0.2474555 , 0.51544476, 0.00595183, 0.06820502]],\n",
              "      dtype=float32)"
            ]
          },
          "metadata": {},
          "execution_count": 59
        }
      ]
    },
    {
      "cell_type": "code",
      "source": [
        "# Convert the prediction probabilities found with feature extraction model to labels\n",
        "model_2_preds = tf.argmax(model_2_pred_probs, axis=1)\n",
        "model_2_preds"
      ],
      "metadata": {
        "colab": {
          "base_uri": "https://localhost:8080/"
        },
        "id": "oru15Rr0hnvO",
        "outputId": "7fcdb030-a5f8-4562-c0ea-767678278a1a"
      },
      "execution_count": 60,
      "outputs": [
        {
          "output_type": "execute_result",
          "data": {
            "text/plain": [
              "<tf.Tensor: shape=(30212,), dtype=int64, numpy=array([0, 1, 3, ..., 4, 4, 2])>"
            ]
          },
          "metadata": {},
          "execution_count": 60
        }
      ]
    },
    {
      "cell_type": "code",
      "source": [
        "# Calculate results from TF Hub pretrained embeddings results on val set\n",
        "model_2_results = calculate_results(y_true=val_labels_encoded,\n",
        "                                   y_pred=model_2_preds)\n",
        "model_2_results"
      ],
      "metadata": {
        "colab": {
          "base_uri": "https://localhost:8080/"
        },
        "id": "_vVnqjUdhqWy",
        "outputId": "55082b30-cc47-46b6-f0c0-ecec6cf18aa8"
      },
      "execution_count": 61,
      "outputs": [
        {
          "output_type": "execute_result",
          "data": {
            "text/plain": [
              "{'accuracy': 71.41202171322654,\n",
              " 'precision': 0.7148750153963755,\n",
              " 'recall': 0.7141202171322654,\n",
              " 'f1': 0.7111569185507177}"
            ]
          },
          "metadata": {},
          "execution_count": 61
        }
      ]
    },
    {
      "cell_type": "markdown",
      "source": [
        "## Model 3: Conv1D with character embeddings\n",
        "\n",
        "\n",
        "The paper which we're replicating states they used a combination of token and character-level embeddings.\n",
        "\n",
        "Previously we've token-level embeddings but we'll need to do similar steps for characters if we want to use char-level embeddings."
      ],
      "metadata": {
        "id": "LSbd9KW7htn4"
      }
    },
    {
      "cell_type": "markdown",
      "source": [
        "### Creating a character-level tokenizer"
      ],
      "metadata": {
        "id": "tbiNgJUbiHuk"
      }
    },
    {
      "cell_type": "code",
      "source": [
        "train_sentences[:10]"
      ],
      "metadata": {
        "colab": {
          "base_uri": "https://localhost:8080/"
        },
        "id": "XGNlHkZYiFi_",
        "outputId": "baebbeeb-4ee6-40c0-9fcd-dd0300161ac8"
      },
      "execution_count": 62,
      "outputs": [
        {
          "output_type": "execute_result",
          "data": {
            "text/plain": [
              "['to investigate the efficacy of @ weeks of daily low-dose oral prednisolone in improving pain , mobility , and systemic low-grade inflammation in the short term and whether the effect would be sustained at @ weeks in older adults with moderate to severe knee osteoarthritis ( oa ) .',\n",
              " 'a total of @ patients with primary knee oa were randomized @:@ ; @ received @ mg/day of prednisolone and @ received placebo for @ weeks .',\n",
              " 'outcome measures included pain reduction and improvement in function scores and systemic inflammation markers .',\n",
              " 'pain was assessed using the visual analog pain scale ( @-@ mm ) .',\n",
              " 'secondary outcome measures included the western ontario and mcmaster universities osteoarthritis index scores , patient global assessment ( pga ) of the severity of knee oa , and @-min walk distance ( @mwd ) .',\n",
              " 'serum levels of interleukin @ ( il-@ ) , il-@ , tumor necrosis factor ( tnf ) - , and high-sensitivity c-reactive protein ( hscrp ) were measured .',\n",
              " 'there was a clinically relevant reduction in the intervention group compared to the placebo group for knee pain , physical function , pga , and @mwd at @ weeks .',\n",
              " 'the mean difference between treatment arms ( @ % ci ) was @ ( @-@ @ ) , p < @ ; @ ( @-@ @ ) , p < @ ; @ ( @-@ @ ) , p < @ ; and @ ( @-@ @ ) , p < @ , respectively .',\n",
              " 'further , there was a clinically relevant reduction in the serum levels of il-@ , il-@ , tnf - , and hscrp at @ weeks in the intervention group when compared to the placebo group .',\n",
              " 'these differences remained significant at @ weeks .']"
            ]
          },
          "metadata": {},
          "execution_count": 62
        }
      ]
    },
    {
      "cell_type": "code",
      "source": [
        "# Make function to split sentences into characters\n",
        "def split_chars(text):\n",
        "  return \" \".join(list(text))\n",
        "\n",
        "# Text splitting non-character-level sequence into characters\n",
        "split_chars(random_train_sentence)"
      ],
      "metadata": {
        "colab": {
          "base_uri": "https://localhost:8080/",
          "height": 35
        },
        "id": "DZCZNRkWiJlL",
        "outputId": "e073d6cc-89d4-4528-f6aa-b2e2e9e27c67"
      },
      "execution_count": 63,
      "outputs": [
        {
          "output_type": "execute_result",
          "data": {
            "text/plain": [
              "'e a c h   p u m p   r e f i l l   c y c l e   w a s   @   d a y s   .'"
            ],
            "application/vnd.google.colaboratory.intrinsic+json": {
              "type": "string"
            }
          },
          "metadata": {},
          "execution_count": 63
        }
      ]
    },
    {
      "cell_type": "code",
      "source": [
        "# Split sequence-level data splits into character-level data splits\n",
        "train_chars = [split_chars(sentence) for sentence in train_sentences]\n",
        "val_chars = [split_chars(sentence) for sentence in val_sentences]\n",
        "test_chars = [split_chars(sentence) for sentence in test_sentences]\n",
        "train_chars[:5]"
      ],
      "metadata": {
        "colab": {
          "base_uri": "https://localhost:8080/"
        },
        "id": "Li5RAxVsiQz2",
        "outputId": "a760c629-7d66-4644-db47-af297e469f94"
      },
      "execution_count": 64,
      "outputs": [
        {
          "output_type": "execute_result",
          "data": {
            "text/plain": [
              "['t o   i n v e s t i g a t e   t h e   e f f i c a c y   o f   @   w e e k s   o f   d a i l y   l o w - d o s e   o r a l   p r e d n i s o l o n e   i n   i m p r o v i n g   p a i n   ,   m o b i l i t y   ,   a n d   s y s t e m i c   l o w - g r a d e   i n f l a m m a t i o n   i n   t h e   s h o r t   t e r m   a n d   w h e t h e r   t h e   e f f e c t   w o u l d   b e   s u s t a i n e d   a t   @   w e e k s   i n   o l d e r   a d u l t s   w i t h   m o d e r a t e   t o   s e v e r e   k n e e   o s t e o a r t h r i t i s   (   o a   )   .',\n",
              " 'a   t o t a l   o f   @   p a t i e n t s   w i t h   p r i m a r y   k n e e   o a   w e r e   r a n d o m i z e d   @ : @   ;   @   r e c e i v e d   @   m g / d a y   o f   p r e d n i s o l o n e   a n d   @   r e c e i v e d   p l a c e b o   f o r   @   w e e k s   .',\n",
              " 'o u t c o m e   m e a s u r e s   i n c l u d e d   p a i n   r e d u c t i o n   a n d   i m p r o v e m e n t   i n   f u n c t i o n   s c o r e s   a n d   s y s t e m i c   i n f l a m m a t i o n   m a r k e r s   .',\n",
              " 'p a i n   w a s   a s s e s s e d   u s i n g   t h e   v i s u a l   a n a l o g   p a i n   s c a l e   (   @ - @   m m   )   .',\n",
              " 's e c o n d a r y   o u t c o m e   m e a s u r e s   i n c l u d e d   t h e   w e s t e r n   o n t a r i o   a n d   m c m a s t e r   u n i v e r s i t i e s   o s t e o a r t h r i t i s   i n d e x   s c o r e s   ,   p a t i e n t   g l o b a l   a s s e s s m e n t   (   p g a   )   o f   t h e   s e v e r i t y   o f   k n e e   o a   ,   a n d   @ - m i n   w a l k   d i s t a n c e   (   @ m w d   )   .']"
            ]
          },
          "metadata": {},
          "execution_count": 64
        }
      ]
    },
    {
      "cell_type": "code",
      "source": [
        "# What's the average character length?\n",
        "char_lens = [len(sentence) for sentence in train_sentences]\n",
        "mean_char_len = np.mean(char_lens)\n",
        "mean_char_len"
      ],
      "metadata": {
        "colab": {
          "base_uri": "https://localhost:8080/"
        },
        "id": "J0CsSaO6iZk8",
        "outputId": "a159e283-3f24-41cf-a93c-17e03a741ff4"
      },
      "execution_count": 65,
      "outputs": [
        {
          "output_type": "execute_result",
          "data": {
            "text/plain": [
              "149.3662574983337"
            ]
          },
          "metadata": {},
          "execution_count": 65
        }
      ]
    },
    {
      "cell_type": "code",
      "source": [
        "# Check the distribution of our sequences at a character-level\n",
        "import matplotlib.pyplot as plt\n",
        "plt.hist(char_lens, bins=7);"
      ],
      "metadata": {
        "colab": {
          "base_uri": "https://localhost:8080/",
          "height": 265
        },
        "id": "37d1JYrGie7X",
        "outputId": "efeec35c-728e-4620-c317-ca69cf9b241a"
      },
      "execution_count": 66,
      "outputs": [
        {
          "output_type": "display_data",
          "data": {
            "text/plain": [
              "<Figure size 432x288 with 1 Axes>"
            ],
            "image/png": "[encoded data removed]"
          },
          "metadata": {
            "needs_background": "light"
          }
        }
      ]
    },
    {
      "cell_type": "code",
      "source": [
        "# Find what character length covers 95% of sequences\n",
        "output_seq_char_len = int(np.percentile(char_lens, 95))\n",
        "output_seq_char_len"
      ],
      "metadata": {
        "colab": {
          "base_uri": "https://localhost:8080/"
        },
        "id": "84YDC9Ccij6z",
        "outputId": "ddac4de2-1314-472a-de71-e31c03bb7548"
      },
      "execution_count": 67,
      "outputs": [
        {
          "output_type": "execute_result",
          "data": {
            "text/plain": [
              "290"
            ]
          },
          "metadata": {},
          "execution_count": 67
        }
      ]
    },
    {
      "cell_type": "code",
      "source": [
        "# Get all keyboard characters for char-level embedding\n",
        "import string\n",
        "alphabet = string.ascii_lowercase + string.digits + string.punctuation\n",
        "alphabet"
      ],
      "metadata": {
        "colab": {
          "base_uri": "https://localhost:8080/",
          "height": 35
        },
        "id": "9Px881pvi2MZ",
        "outputId": "35dd48f9-7d6f-41fc-ab5c-ffc325512181"
      },
      "execution_count": 68,
      "outputs": [
        {
          "output_type": "execute_result",
          "data": {
            "text/plain": [
              "'abcdefghijklmnopqrstuvwxyz0123456789!\"#$%&\\'()*+,-./:;<=>?@[\\\\]^_`{|}~'"
            ],
            "application/vnd.google.colaboratory.intrinsic+json": {
              "type": "string"
            }
          },
          "metadata": {},
          "execution_count": 68
        }
      ]
    },
    {
      "cell_type": "code",
      "source": [
        "# Create char-level token vectorizer instance\n",
        "NUM_CHAR_TOKENS = len(alphabet) + 2 # add 2 for space and OOV token (OOV = out of vocab, '[UNK]')\n",
        "char_vectorizer = TextVectorization(max_tokens=NUM_CHAR_TOKENS,\n",
        "                                    output_sequence_length=output_seq_char_len,\n",
        "                                    # standardize=None, # set standardization to \"None\" if you want to leave punctuation in\n",
        "                                    name=\"char_vectorizer\")"
      ],
      "metadata": {
        "id": "XZ5RsXI5jNXI"
      },
      "execution_count": 69,
      "outputs": []
    },
    {
      "cell_type": "code",
      "source": [
        "# Adapt character vectorizer to training character\n",
        "char_vectorizer.adapt(train_chars)"
      ],
      "metadata": {
        "id": "1jrlOmxnjU6_"
      },
      "execution_count": 70,
      "outputs": []
    },
    {
      "cell_type": "code",
      "source": [
        "# Check character vocab stats\n",
        "char_vocab = char_vectorizer.get_vocabulary()\n",
        "print(f\"Number of different characters in character vocab: {len(char_vocab)}\")\n",
        "print(f\"5 most common characters: {char_vocab[:5]}\")\n",
        "print(f\"5 least common characters: {char_vocab[-5:]}\")"
      ],
      "metadata": {
        "colab": {
          "base_uri": "https://localhost:8080/"
        },
        "id": "pAiExRZajYgs",
        "outputId": "6a2b6631-c3fc-4fbd-92f3-61e841763cf6"
      },
      "execution_count": 71,
      "outputs": [
        {
          "output_type": "stream",
          "name": "stdout",
          "text": [
            "Number of different characters in character vocab: 28\n",
            "5 most common characters: ['', '[UNK]', 'e', 't', 'i']\n",
            "5 least common characters: ['k', 'x', 'z', 'q', 'j']\n"
          ]
        }
      ]
    },
    {
      "cell_type": "code",
      "source": [
        "# Test out character vectorizer\n",
        "random_train_chars = random.choice(train_chars)\n",
        "print(f\"Charified text:\\n {random_train_chars}\")\n",
        "print(f\"\\nLength of random_train_chars: {len(random_train_chars.split())}\")\n",
        "vectorized_chars = char_vectorizer([random_train_chars])\n",
        "print(f\"\\nVectorized chars:\\n {vectorized_chars}\")\n",
        "print(f\"\\nLength of vectorized chars: {len(vectorized_chars[0])}\")"
      ],
      "metadata": {
        "colab": {
          "base_uri": "https://localhost:8080/"
        },
        "id": "48hwX21wjeFI",
        "outputId": "1a5263ef-1a19-42f6-d0e1-c04d431996a1"
      },
      "execution_count": 72,
      "outputs": [
        {
          "output_type": "stream",
          "name": "stdout",
          "text": [
            "Charified text:\n",
            " i n   @   t h e r e   w e r e   @ , @   p e o p l e   i n   a u s t r a l i a   w h o   h a d   a c q u i r e d   b r a i n   i n j u r y   (   a b i   )   w i t h   s o m e   l i m i t a t i o n   o f   a c t i v i t i e s   ;   @   %   o f   t h e s e   w e r e   t r a u m a t i c   b r a i n   i n j u r i e s   (   t b i s   )   a n d   n e a r l y   a   t h i r d   s u s t a i n e d   i n j u r y   b e l o w   a g e   @ y e a r s   .\n",
            "\n",
            "Length of random_train_chars: 179\n",
            "\n",
            "Vectorized chars:\n",
            " [[ 4  6  3 13  2  8  2 20  2  8  2 14  2  7 14 12  2  4  6  5 16  9  3  8\n",
            "   5 12  4  5 20 13  7 13  5 10  5 11 26 16  4  8  2 10 22  8  5  4  6  4\n",
            "   6 27 16  8 19  5 22  4 20  4  3 13  9  7 15  2 12  4 15  4  3  5  3  4\n",
            "   7  6  7 17  5 11  3  4 21  4  3  4  2  9  7 17  3 13  2  9  2 20  2  8\n",
            "   2  3  8  5 16 15  5  3  4 11 22  8  5  4  6  4  6 27 16  8  4  2  9  3\n",
            "  22  4  9  5  6 10  6  2  5  8 12 19  5  3 13  4  8 10  9 16  9  3  5  4\n",
            "   6  2 10  4  6 27 16  8 19 22  2 12  7 20  5 18  2 19  2  5  8  9  0  0\n",
            "   0  0  0  0  0  0  0  0  0  0  0  0  0  0  0  0  0  0  0  0  0  0  0  0\n",
            "   0  0  0  0  0  0  0  0  0  0  0  0  0  0  0  0  0  0  0  0  0  0  0  0\n",
            "   0  0  0  0  0  0  0  0  0  0  0  0  0  0  0  0  0  0  0  0  0  0  0  0\n",
            "   0  0  0  0  0  0  0  0  0  0  0  0  0  0  0  0  0  0  0  0  0  0  0  0\n",
            "   0  0  0  0  0  0  0  0  0  0  0  0  0  0  0  0  0  0  0  0  0  0  0  0\n",
            "   0  0]]\n",
            "\n",
            "Length of vectorized chars: 290\n"
          ]
        }
      ]
    },
    {
      "cell_type": "markdown",
      "source": [
        "### Creating a character-level embedding"
      ],
      "metadata": {
        "id": "f5QR-qsGjh-s"
      }
    },
    {
      "cell_type": "code",
      "source": [
        "# Create char embedding layer\n",
        "char_embed = layers.Embedding(input_dim=len(char_vocab), # number of different characters\n",
        "                              output_dim=25, # this is the size of the char embedding in the paper: https://arxiv.org/pdf/1612.05251.pdf (Figure 1)\n",
        "                              mask_zero=True,\n",
        "                              name=\"char_embed\")"
      ],
      "metadata": {
        "id": "dT4doXArjtNb"
      },
      "execution_count": 73,
      "outputs": []
    },
    {
      "cell_type": "code",
      "source": [
        "# Test our character embedding layer\n",
        "print(f\"Charified text:\\n {random_train_chars}\\n\")\n",
        "char_embed_example = char_embed(char_vectorizer([random_train_chars]))\n",
        "print(f\"Embedded chars (after vectorization and embedding):\\n {char_embed_example}\\n\")\n",
        "print(f\"Character embedding shape: {char_embed_example.shape}\")"
      ],
      "metadata": {
        "colab": {
          "base_uri": "https://localhost:8080/"
        },
        "id": "HhyFdos1j0vX",
        "outputId": "2f4f8b06-d7f4-4d1c-db14-23cba3b0edb2"
      },
      "execution_count": 74,
      "outputs": [
        {
          "output_type": "stream",
          "name": "stdout",
          "text": [
            "Charified text:\n",
            " i n   @   t h e r e   w e r e   @ , @   p e o p l e   i n   a u s t r a l i a   w h o   h a d   a c q u i r e d   b r a i n   i n j u r y   (   a b i   )   w i t h   s o m e   l i m i t a t i o n   o f   a c t i v i t i e s   ;   @   %   o f   t h e s e   w e r e   t r a u m a t i c   b r a i n   i n j u r i e s   (   t b i s   )   a n d   n e a r l y   a   t h i r d   s u s t a i n e d   i n j u r y   b e l o w   a g e   @ y e a r s   .\n",
            "\n",
            "Embedded chars (after vectorization and embedding):\n",
            " [[[-0.04190652  0.04575166 -0.01356006 ... -0.00310642 -0.00333569\n",
            "   -0.00666957]\n",
            "  [-0.02129961 -0.01068047 -0.01669625 ... -0.01436134  0.01623026\n",
            "   -0.01931422]\n",
            "  [-0.04583584 -0.04983083  0.03007937 ...  0.04469481  0.02442548\n",
            "   -0.04691523]\n",
            "  ...\n",
            "  [ 0.04883191 -0.0205719  -0.04868394 ... -0.01439714 -0.01125307\n",
            "   -0.00765724]\n",
            "  [ 0.04883191 -0.0205719  -0.04868394 ... -0.01439714 -0.01125307\n",
            "   -0.00765724]\n",
            "  [ 0.04883191 -0.0205719  -0.04868394 ... -0.01439714 -0.01125307\n",
            "   -0.00765724]]]\n",
            "\n",
            "Character embedding shape: (1, 290, 25)\n"
          ]
        }
      ]
    },
    {
      "cell_type": "markdown",
      "source": [
        "### Building a Conv1D model to fit on character embeddings\n",
        "\n",
        "\n",
        "Input (character-level text) -> Tokenize -> Embedding -> Layers (Conv1D, GlobalMaxPool1D) -> Output (label probability)"
      ],
      "metadata": {
        "id": "d5YnRYHkj5Du"
      }
    },
    {
      "cell_type": "code",
      "source": [
        "# Make Conv1D on chars only\n",
        "inputs = layers.Input(shape=(1,), dtype=\"string\")\n",
        "char_vectors = char_vectorizer(inputs)\n",
        "char_embeddings = char_embed(char_vectors)\n",
        "x = layers.Conv1D(64, kernel_size=5, padding=\"same\", activation=\"relu\")(char_embeddings)\n",
        "x = layers.GlobalMaxPool1D()(x)\n",
        "outputs = layers.Dense(num_classes, activation=\"softmax\")(x)\n",
        "model_3 = tf.keras.Model(inputs=inputs,\n",
        "                         outputs=outputs,\n",
        "                         name=\"model_3_conv1d_char_embeddings\")\n",
        "\n",
        "# Compile\n",
        "model_3.compile(loss=\"categorical_crossentropy\",\n",
        "                optimizer=tf.keras.optimizers.Adam(),\n",
        "                metrics=[\"accuracy\"])"
      ],
      "metadata": {
        "id": "VSYDc40pkPJo"
      },
      "execution_count": 75,
      "outputs": []
    },
    {
      "cell_type": "code",
      "source": [
        "# Summary\n",
        "model_3.summary()"
      ],
      "metadata": {
        "colab": {
          "base_uri": "https://localhost:8080/"
        },
        "id": "sJcsjIO1kZnD",
        "outputId": "0194ded6-f128-4f66-c6c8-da29129f18de"
      },
      "execution_count": 76,
      "outputs": [
        {
          "output_type": "stream",
          "name": "stdout",
          "text": [
            "Model: \"model_3_conv1d_char_embeddings\"\n",
            "_________________________________________________________________\n",
            " Layer (type)                Output Shape              Param #   \n",
            "=================================================================\n",
            " input_3 (InputLayer)        [(None, 1)]               0         \n",
            "                                                                 \n",
            " char_vectorizer (TextVector  (None, 290)              0         \n",
            " ization)                                                        \n",
            "                                                                 \n",
            " char_embed (Embedding)      (None, 290, 25)           700       \n",
            "                                                                 \n",
            " conv1d_1 (Conv1D)           (None, 290, 64)           8064      \n",
            "                                                                 \n",
            " global_max_pooling1d (Globa  (None, 64)               0         \n",
            " lMaxPooling1D)                                                  \n",
            "                                                                 \n",
            " dense_3 (Dense)             (None, 5)                 325       \n",
            "                                                                 \n",
            "=================================================================\n",
            "Total params: 9,089\n",
            "Trainable params: 9,089\n",
            "Non-trainable params: 0\n",
            "_________________________________________________________________\n"
          ]
        }
      ]
    },
    {
      "cell_type": "markdown",
      "source": [
        "Before fitting our model on the data, we'll create char-level batched PrefetchedDataset's."
      ],
      "metadata": {
        "id": "7X6fHA3Vkhnz"
      }
    },
    {
      "cell_type": "code",
      "source": [
        "# Create char level datasets\n",
        "train_char_dataset = tf.data.Dataset.from_tensor_slices((train_chars, train_labels_one_hot)).batch(32).prefetch(tf.data.AUTOTUNE)\n",
        "val_char_dataset = tf.data.Dataset.from_tensor_slices((val_chars, val_labels_one_hot)).batch(32).prefetch(tf.data.AUTOTUNE)\n",
        "test_char_dataset = tf.data.Dataset.from_tensor_slices((test_chars, test_labels_one_hot)).batch(32).prefetch(tf.data.AUTOTUNE)\n",
        "\n",
        "train_char_dataset"
      ],
      "metadata": {
        "colab": {
          "base_uri": "https://localhost:8080/"
        },
        "id": "HcS_iS20kpIq",
        "outputId": "4761af87-4783-409c-e101-01b34b3e67be"
      },
      "execution_count": 77,
      "outputs": [
        {
          "output_type": "execute_result",
          "data": {
            "text/plain": [
              "<PrefetchDataset element_spec=(TensorSpec(shape=(None,), dtype=tf.string, name=None), TensorSpec(shape=(None, 5), dtype=tf.float64, name=None))>"
            ]
          },
          "metadata": {},
          "execution_count": 77
        }
      ]
    },
    {
      "cell_type": "code",
      "source": [
        "# Fit the model on chars only\n",
        "model_3_history = model_3.fit(train_char_dataset,\n",
        "                              steps_per_epoch=int(0.1*len(train_char_dataset)),\n",
        "                              epochs=3,\n",
        "                              validation_data=val_char_dataset,\n",
        "                              validation_steps=int(0.1*len(val_char_dataset)))"
      ],
      "metadata": {
        "colab": {
          "base_uri": "https://localhost:8080/"
        },
        "id": "KOdlsBrQkriJ",
        "outputId": "739dbcd3-0035-4a58-9cfb-b86187d6712c"
      },
      "execution_count": 78,
      "outputs": [
        {
          "output_type": "stream",
          "name": "stdout",
          "text": [
            "Epoch 1/3\n",
            "562/562 [==============================] - 4s 6ms/step - loss: 1.2668 - accuracy: 0.4784 - val_loss: 1.0427 - val_accuracy: 0.5914\n",
            "Epoch 2/3\n",
            "562/562 [==============================] - 4s 7ms/step - loss: 1.0081 - accuracy: 0.5969 - val_loss: 0.9363 - val_accuracy: 0.6243\n",
            "Epoch 3/3\n",
            "562/562 [==============================] - 3s 5ms/step - loss: 0.9295 - accuracy: 0.6361 - val_loss: 0.8684 - val_accuracy: 0.6536\n"
          ]
        }
      ]
    },
    {
      "cell_type": "code",
      "source": [
        "# Make predictions with character model only\n",
        "model_3_pred_probs = model_3.predict(val_char_dataset)\n",
        "model_3_pred_probs"
      ],
      "metadata": {
        "colab": {
          "base_uri": "https://localhost:8080/"
        },
        "id": "n9c8FeGfku61",
        "outputId": "029f0bd2-70e2-4935-ac91-5ddeba92c1f4"
      },
      "execution_count": 79,
      "outputs": [
        {
          "output_type": "stream",
          "name": "stdout",
          "text": [
            "945/945 [==============================] - 3s 3ms/step\n"
          ]
        },
        {
          "output_type": "execute_result",
          "data": {
            "text/plain": [
              "array([[0.21273366, 0.4305256 , 0.07244883, 0.2038389 , 0.08045295],\n",
              "       [0.08941963, 0.8052002 , 0.00248028, 0.08580657, 0.01709336],\n",
              "       [0.10051104, 0.20619835, 0.48087966, 0.17465079, 0.03776024],\n",
              "       ...,\n",
              "       [0.01532437, 0.03225378, 0.17424738, 0.03276887, 0.74540555],\n",
              "       [0.02178961, 0.05223328, 0.31787628, 0.01363596, 0.5944649 ],\n",
              "       [0.21585934, 0.6293904 , 0.07004407, 0.06983268, 0.01487347]],\n",
              "      dtype=float32)"
            ]
          },
          "metadata": {},
          "execution_count": 79
        }
      ]
    },
    {
      "cell_type": "code",
      "source": [
        "# Convert prediction probabilities to class labels\n",
        "model_3_preds = tf.argmax(model_3_pred_probs, axis=1)\n",
        "model_3_preds"
      ],
      "metadata": {
        "colab": {
          "base_uri": "https://localhost:8080/"
        },
        "id": "E3rFMoJukxHZ",
        "outputId": "55131856-63e4-4f79-d628-3708038f3116"
      },
      "execution_count": 80,
      "outputs": [
        {
          "output_type": "execute_result",
          "data": {
            "text/plain": [
              "<tf.Tensor: shape=(30212,), dtype=int64, numpy=array([1, 1, 2, ..., 4, 4, 1])>"
            ]
          },
          "metadata": {},
          "execution_count": 80
        }
      ]
    },
    {
      "cell_type": "code",
      "source": [
        "# Calculate results for Conv1D model chars only\n",
        "model_3_results = calculate_results(y_true=val_labels_encoded,\n",
        "                                    y_pred=model_3_preds)\n",
        "model_3_results"
      ],
      "metadata": {
        "colab": {
          "base_uri": "https://localhost:8080/"
        },
        "id": "tsSHuie3kyyI",
        "outputId": "386fa8f4-3616-4ee7-cfc9-48311bb180c6"
      },
      "execution_count": 81,
      "outputs": [
        {
          "output_type": "execute_result",
          "data": {
            "text/plain": [
              "{'accuracy': 65.09003045147624,\n",
              " 'precision': 0.6463435657064424,\n",
              " 'recall': 0.6509003045147623,\n",
              " 'f1': 0.640345838972335}"
            ]
          },
          "metadata": {},
          "execution_count": 81
        }
      ]
    },
    {
      "cell_type": "markdown",
      "source": [
        "## Model 4: Combining pretrained token embeddings + characters embeddings (hybrid embedding layer)\n",
        "\n",
        "\n",
        "steps:\n",
        "\n",
        "1. Create a token-level embedding model (similar model_1)\n",
        "2. Create a character-level model (similar to model_3 with a slight modification)\n",
        "3. Combine 1 & 2 with a concatenate (layers.Concatenate)\n",
        "4. Build a series of output layers on top of 3 similar to Figure 1 and section 4.2 of https://arxiv.org/pdf/1612.05251.pdf\n",
        "5. Construct a model which takes token and character-level sequences as input and produces sequence label probabilities as output"
      ],
      "metadata": {
        "id": "twYJH80Kk0tY"
      }
    },
    {
      "cell_type": "code",
      "source": [
        "# 1. Setup token inputs/model\n",
        "token_inputs = layers.Input(shape=[], dtype=tf.string, name=\"token_input\")\n",
        "token_embeddings = tf_hub_embedding_layer(token_inputs)\n",
        "token_outputs = layers.Dense(128, activation=\"relu\")(token_embeddings)\n",
        "token_model = tf.keras.Model(inputs=token_inputs,\n",
        "                             outputs=token_outputs)\n",
        "\n",
        "# 2. Setup char inputs/model\n",
        "char_inputs = layers.Input(shape=(1,), dtype=tf.string, name=\"char_input\")\n",
        "char_vectors = char_vectorizer(char_inputs)\n",
        "char_embeddings = char_embed(char_vectors)\n",
        "char_bi_lstm = layers.Bidirectional(layers.LSTM(24))(char_embeddings) # bi-LSTM shown in Figure 1 of https://arxiv.org/pdf/1612.05251.pdf\n",
        "char_model = tf.keras.Model(inputs=char_inputs,\n",
        "                            outputs=char_bi_lstm)\n",
        "\n",
        "# 3. Concatenate token and char inputs (create hybrid token embedding)\n",
        "token_char_concat = layers.Concatenate(name=\"token_char_hybrid\")([token_model.output,\n",
        "                                                                  char_model.output])\n",
        "\n",
        "# 4. Create output layers - adding in Dropout, discussed in section 4.2 of https://arxiv.org/pdf/1612.05251.pdf\n",
        "combined_dropout = layers.Dropout(0.5)(token_char_concat)\n",
        "combined_dense = layers.Dense(128, activation=\"relu\")(combined_dropout)\n",
        "final_dropout = layers.Dropout(0.5)(combined_dense)\n",
        "output_layer = layers.Dense(num_classes, activation=\"softmax\")(final_dropout)\n",
        "\n",
        "# 5. Construct model with char and token inputs\n",
        "model_4 = tf.keras.Model(inputs=[token_model.input, char_model.input],\n",
        "                         outputs=output_layer,\n",
        "                         name=\"model_4_token_and_char_embeddings\")"
      ],
      "metadata": {
        "id": "1HFNLjfnk6km"
      },
      "execution_count": 82,
      "outputs": []
    },
    {
      "cell_type": "code",
      "source": [
        "# Get a summary of our model\n",
        "model_4.summary()"
      ],
      "metadata": {
        "colab": {
          "base_uri": "https://localhost:8080/"
        },
        "id": "pJleddANmEGb",
        "outputId": "d40fa0b4-02f7-4f8c-d2ba-ab6e0367849b"
      },
      "execution_count": 83,
      "outputs": [
        {
          "output_type": "stream",
          "name": "stdout",
          "text": [
            "Model: \"model_4_token_and_char_embeddings\"\n",
            "__________________________________________________________________________________________________\n",
            " Layer (type)                   Output Shape         Param #     Connected to                     \n",
            "==================================================================================================\n",
            " char_input (InputLayer)        [(None, 1)]          0           []                               \n",
            "                                                                                                  \n",
            " token_input (InputLayer)       [(None,)]            0           []                               \n",
            "                                                                                                  \n",
            " char_vectorizer (TextVectoriza  (None, 290)         0           ['char_input[0][0]']             \n",
            " tion)                                                                                            \n",
            "                                                                                                  \n",
            " universal_sentence_encoder (Ke  (None, 512)         256797824   ['token_input[0][0]']            \n",
            " rasLayer)                                                                                        \n",
            "                                                                                                  \n",
            " char_embed (Embedding)         (None, 290, 25)      700         ['char_vectorizer[1][0]']        \n",
            "                                                                                                  \n",
            " dense_4 (Dense)                (None, 128)          65664       ['universal_sentence_encoder[1][0\n",
            "                                                                 ]']                              \n",
            "                                                                                                  \n",
            " bidirectional (Bidirectional)  (None, 48)           9600        ['char_embed[1][0]']             \n",
            "                                                                                                  \n",
            " token_char_hybrid (Concatenate  (None, 176)         0           ['dense_4[0][0]',                \n",
            " )                                                                'bidirectional[0][0]']          \n",
            "                                                                                                  \n",
            " dropout (Dropout)              (None, 176)          0           ['token_char_hybrid[0][0]']      \n",
            "                                                                                                  \n",
            " dense_5 (Dense)                (None, 128)          22656       ['dropout[0][0]']                \n",
            "                                                                                                  \n",
            " dropout_1 (Dropout)            (None, 128)          0           ['dense_5[0][0]']                \n",
            "                                                                                                  \n",
            " dense_6 (Dense)                (None, 5)            645         ['dropout_1[0][0]']              \n",
            "                                                                                                  \n",
            "==================================================================================================\n",
            "Total params: 256,897,089\n",
            "Trainable params: 99,265\n",
            "Non-trainable params: 256,797,824\n",
            "__________________________________________________________________________________________________\n"
          ]
        }
      ]
    },
    {
      "cell_type": "code",
      "source": [
        "# Plot hybrid token and character model\n",
        "from keras.utils import plot_model\n",
        "plot_model(model_4, show_shapes=True)"
      ],
      "metadata": {
        "colab": {
          "base_uri": "https://localhost:8080/",
          "height": 976
        },
        "id": "NFi8_kKimHQ4",
        "outputId": "8fbcb38c-2b71-4e67-af94-f55572043395"
      },
      "execution_count": 84,
      "outputs": [
        {
          "output_type": "execute_result",
          "data": {
            "image/png": "[encoded data removed]",
            "text/plain": [
              "<IPython.core.display.Image object>"
            ]
          },
          "metadata": {},
          "execution_count": 84
        }
      ]
    },
    {
      "cell_type": "code",
      "source": [
        "# Compile token char model\n",
        "model_4.compile(loss=\"categorical_crossentropy\",\n",
        "                optimizer=tf.keras.optimizers.Adam(), # section 4.2 of the paper says they use SGD, you might want to try this\n",
        "                metrics=[\"accuracy\"])"
      ],
      "metadata": {
        "id": "-RtsBxbsmLtG"
      },
      "execution_count": 85,
      "outputs": []
    },
    {
      "cell_type": "markdown",
      "source": [
        "### Combining token and character data into a tf.data Dataset"
      ],
      "metadata": {
        "id": "8pz2mU5pmZW-"
      }
    },
    {
      "cell_type": "code",
      "source": [
        "# Combine chars and tokens into a dataset\n",
        "train_char_token_data = tf.data.Dataset.from_tensor_slices((train_sentences, train_chars)) # make data\n",
        "train_char_token_labels = tf.data.Dataset.from_tensor_slices(train_labels_one_hot) # make labels\n",
        "train_char_token_dataset = tf.data.Dataset.zip((train_char_token_data, train_char_token_labels)) # combine data and labels\n",
        "\n",
        "# Prefetch and batch train data\n",
        "train_char_token_dataset = train_char_token_dataset.batch(32).prefetch(tf.data.AUTOTUNE)"
      ],
      "metadata": {
        "id": "rAtA-ecxmd4Z"
      },
      "execution_count": 86,
      "outputs": []
    },
    {
      "cell_type": "code",
      "source": [
        "# Repeat the above steps for our validation data\n",
        "val_char_token_data = tf.data.Dataset.from_tensor_slices((val_sentences, val_chars)) # make data\n",
        "val_char_token_labels = tf.data.Dataset.from_tensor_slices(val_labels_one_hot) # make labels\n",
        "val_char_token_dataset = tf.data.Dataset.zip((val_char_token_data, val_char_token_labels)) # combine data and labels\n",
        "val_char_token_dataset = val_char_token_dataset.batch(32).prefetch(tf.data.AUTOTUNE)"
      ],
      "metadata": {
        "id": "NFAInlHdmpmW"
      },
      "execution_count": 87,
      "outputs": []
    },
    {
      "cell_type": "code",
      "source": [
        "# Check out our training char and token embedding dataset\n",
        "train_char_token_dataset, val_char_token_dataset"
      ],
      "metadata": {
        "colab": {
          "base_uri": "https://localhost:8080/"
        },
        "id": "F6GqxCFemtPU",
        "outputId": "525d2995-a708-4f6f-c05c-8c3fb6b0d7ee"
      },
      "execution_count": 88,
      "outputs": [
        {
          "output_type": "execute_result",
          "data": {
            "text/plain": [
              "(<PrefetchDataset element_spec=((TensorSpec(shape=(None,), dtype=tf.string, name=None), TensorSpec(shape=(None,), dtype=tf.string, name=None)), TensorSpec(shape=(None, 5), dtype=tf.float64, name=None))>,\n",
              " <PrefetchDataset element_spec=((TensorSpec(shape=(None,), dtype=tf.string, name=None), TensorSpec(shape=(None,), dtype=tf.string, name=None)), TensorSpec(shape=(None, 5), dtype=tf.float64, name=None))>)"
            ]
          },
          "metadata": {},
          "execution_count": 88
        }
      ]
    },
    {
      "cell_type": "markdown",
      "source": [
        "### Fitting a model on token and character-level sequences"
      ],
      "metadata": {
        "id": "4xyHQxSWmvMO"
      }
    },
    {
      "cell_type": "code",
      "source": [
        "# Fit the model on tokens and chars\n",
        "history_model_4 = model_4.fit(train_char_token_dataset,\n",
        "                              steps_per_epoch=int(0.1 * len(train_char_token_dataset)),\n",
        "                              epochs=3,\n",
        "                              validation_data=val_char_token_dataset,\n",
        "                              validation_steps=int(0.1 * len(val_char_token_dataset)))"
      ],
      "metadata": {
        "colab": {
          "base_uri": "https://localhost:8080/"
        },
        "id": "8OegZlKem6Mn",
        "outputId": "63551a6a-f2f7-4880-f1a0-f04e98c2fd45"
      },
      "execution_count": 89,
      "outputs": [
        {
          "output_type": "stream",
          "name": "stdout",
          "text": [
            "Epoch 1/3\n",
            "562/562 [==============================] - 40s 56ms/step - loss: 0.9924 - accuracy: 0.6042 - val_loss: 0.7812 - val_accuracy: 0.6978\n",
            "Epoch 2/3\n",
            "562/562 [==============================] - 26s 47ms/step - loss: 0.8002 - accuracy: 0.6861 - val_loss: 0.7167 - val_accuracy: 0.7317\n",
            "Epoch 3/3\n",
            "562/562 [==============================] - 23s 41ms/step - loss: 0.7692 - accuracy: 0.7085 - val_loss: 0.6891 - val_accuracy: 0.7427\n"
          ]
        }
      ]
    },
    {
      "cell_type": "code",
      "source": [
        "# Evaluate one the whole validation dataset\n",
        "model_4.evaluate(val_char_token_dataset)"
      ],
      "metadata": {
        "colab": {
          "base_uri": "https://localhost:8080/"
        },
        "id": "sxIaEyZAm8YX",
        "outputId": "0e2f21a4-c800-4b45-ef67-3eed0de22a39"
      },
      "execution_count": 90,
      "outputs": [
        {
          "output_type": "stream",
          "name": "stdout",
          "text": [
            "945/945 [==============================] - 23s 24ms/step - loss: 0.6949 - accuracy: 0.7364\n"
          ]
        },
        {
          "output_type": "execute_result",
          "data": {
            "text/plain": [
              "[0.6948878169059753, 0.7363961338996887]"
            ]
          },
          "metadata": {},
          "execution_count": 90
        }
      ]
    },
    {
      "cell_type": "code",
      "source": [
        "# Make predictions using the token-character model hybrid\n",
        "model_4_pred_probs = model_4.predict(val_char_token_dataset)\n",
        "model_4_pred_probs"
      ],
      "metadata": {
        "colab": {
          "base_uri": "https://localhost:8080/"
        },
        "id": "S7YCgNsLm_08",
        "outputId": "b94e3058-1491-47f2-bc4d-b1c51d108f69"
      },
      "execution_count": 91,
      "outputs": [
        {
          "output_type": "stream",
          "name": "stdout",
          "text": [
            "945/945 [==============================] - 23s 20ms/step\n"
          ]
        },
        {
          "output_type": "execute_result",
          "data": {
            "text/plain": [
              "array([[3.4216040e-01, 4.5950010e-01, 7.2877882e-03, 1.7596418e-01,\n",
              "        1.5087543e-02],\n",
              "       [3.8969296e-01, 3.8876784e-01, 6.6119889e-03, 2.1146409e-01,\n",
              "        3.4630734e-03],\n",
              "       [3.1159744e-01, 9.2666931e-02, 8.5978538e-02, 4.6567997e-01,\n",
              "        4.4077046e-02],\n",
              "       ...,\n",
              "       [7.0641446e-04, 7.7070454e-03, 7.1650319e-02, 2.3519500e-04,\n",
              "        9.1970104e-01],\n",
              "       [8.0694873e-03, 6.4696923e-02, 1.7257448e-01, 3.0027670e-03,\n",
              "        7.5165635e-01],\n",
              "       [1.8860629e-01, 4.8787600e-01, 2.2759508e-01, 2.8544232e-02,\n",
              "        6.7378372e-02]], dtype=float32)"
            ]
          },
          "metadata": {},
          "execution_count": 91
        }
      ]
    },
    {
      "cell_type": "code",
      "source": [
        "# Format pred probs into pred labels\n",
        "model_4_preds = tf.argmax(model_4_pred_probs, axis=1)\n",
        "model_4_preds"
      ],
      "metadata": {
        "colab": {
          "base_uri": "https://localhost:8080/"
        },
        "id": "D8U00ENFnCJy",
        "outputId": "891c8cee-6dbd-4f33-d10f-dd993e141465"
      },
      "execution_count": 92,
      "outputs": [
        {
          "output_type": "execute_result",
          "data": {
            "text/plain": [
              "<tf.Tensor: shape=(30212,), dtype=int64, numpy=array([1, 0, 3, ..., 4, 4, 1])>"
            ]
          },
          "metadata": {},
          "execution_count": 92
        }
      ]
    },
    {
      "cell_type": "code",
      "source": [
        "# Get results of token-char-hybrid model\n",
        "model_4_results = calculate_results(y_true=val_labels_encoded,\n",
        "                                    y_pred=model_4_preds)\n",
        "model_4_results"
      ],
      "metadata": {
        "colab": {
          "base_uri": "https://localhost:8080/"
        },
        "id": "PfdLfNmenD6F",
        "outputId": "d11f9756-accb-4551-baf4-cde2855eb6c4"
      },
      "execution_count": 93,
      "outputs": [
        {
          "output_type": "execute_result",
          "data": {
            "text/plain": [
              "{'accuracy': 73.63961339864954,\n",
              " 'precision': 0.736087495246801,\n",
              " 'recall': 0.7363961339864954,\n",
              " 'f1': 0.7337207012614646}"
            ]
          },
          "metadata": {},
          "execution_count": 93
        }
      ]
    },
    {
      "cell_type": "markdown",
      "source": [
        "## Model 5: Transfer Learning with pretrained token embeddings + character embeddings + positional embeddings"
      ],
      "metadata": {
        "id": "rUruuEfrnJuj"
      }
    },
    {
      "cell_type": "code",
      "source": [
        "train_df.head()"
      ],
      "metadata": {
        "colab": {
          "base_uri": "https://localhost:8080/",
          "height": 206
        },
        "id": "MMr80UnPnUgk",
        "outputId": "fd6a438f-fd32-4204-ccf3-92b5b650088d"
      },
      "execution_count": 94,
      "outputs": [
        {
          "output_type": "execute_result",
          "data": {
            "text/plain": [
              "      target                                               text  line_number  \\\n",
              "0  OBJECTIVE  to investigate the efficacy of @ weeks of dail...            0   \n",
              "1    METHODS  a total of @ patients with primary knee oa wer...            1   \n",
              "2    METHODS  outcome measures included pain reduction and i...            2   \n",
              "3    METHODS  pain was assessed using the visual analog pain...            3   \n",
              "4    METHODS  secondary outcome measures included the wester...            4   \n",
              "\n",
              "   total_lines  \n",
              "0           11  \n",
              "1           11  \n",
              "2           11  \n",
              "3           11  \n",
              "4           11  "
            ],
            "text/html": [
              "\n",
              "  <div id=\"df-f5a30abc-a2c9-498e-90b9-e094cadca06d\">\n",
              "    <div class=\"colab-df-container\">\n",
              "      <div>\n",
              "<style scoped>\n",
              "    .dataframe tbody tr th:only-of-type {\n",
              "        vertical-align: middle;\n",
              "    }\n",
              "\n",
              "    .dataframe tbody tr th {\n",
              "        vertical-align: top;\n",
              "    }\n",
              "\n",
              "    .dataframe thead th {\n",
              "        text-align: right;\n",
              "    }\n",
              "</style>\n",
              "<table border=\"1\" class=\"dataframe\">\n",
              "  <thead>\n",
              "    <tr style=\"text-align: right;\">\n",
              "      <th></th>\n",
              "      <th>target</th>\n",
              "      <th>text</th>\n",
              "      <th>line_number</th>\n",
              "      <th>total_lines</th>\n",
              "    </tr>\n",
              "  </thead>\n",
              "  <tbody>\n",
              "    <tr>\n",
              "      <th>0</th>\n",
              "      <td>OBJECTIVE</td>\n",
              "      <td>to investigate the efficacy of @ weeks of dail...</td>\n",
              "      <td>0</td>\n",
              "      <td>11</td>\n",
              "    </tr>\n",
              "    <tr>\n",
              "      <th>1</th>\n",
              "      <td>METHODS</td>\n",
              "      <td>a total of @ patients with primary knee oa wer...</td>\n",
              "      <td>1</td>\n",
              "      <td>11</td>\n",
              "    </tr>\n",
              "    <tr>\n",
              "      <th>2</th>\n",
              "      <td>METHODS</td>\n",
              "      <td>outcome measures included pain reduction and i...</td>\n",
              "      <td>2</td>\n",
              "      <td>11</td>\n",
              "    </tr>\n",
              "    <tr>\n",
              "      <th>3</th>\n",
              "      <td>METHODS</td>\n",
              "      <td>pain was assessed using the visual analog pain...</td>\n",
              "      <td>3</td>\n",
              "      <td>11</td>\n",
              "    </tr>\n",
              "    <tr>\n",
              "      <th>4</th>\n",
              "      <td>METHODS</td>\n",
              "      <td>secondary outcome measures included the wester...</td>\n",
              "      <td>4</td>\n",
              "      <td>11</td>\n",
              "    </tr>\n",
              "  </tbody>\n",
              "</table>\n",
              "</div>\n",
              "      <button class=\"colab-df-convert\" onclick=\"convertToInteractive('df-f5a30abc-a2c9-498e-90b9-e094cadca06d')\"\n",
              "              title=\"Convert this dataframe to an interactive table.\"\n",
              "              style=\"display:none;\">\n",
              "        \n",
              "  <svg xmlns=\"http://www.w3.org/2000/svg\" height=\"24px\"viewBox=\"0 0 24 24\"\n",
              "       width=\"24px\">\n",
              "    <path d=\"M0 0h24v24H0V0z\" fill=\"none\"/>\n",
              "    <path d=\"M18.56 5.44l.94 2.06.94-2.06 2.06-.94-2.06-.94-.94-2.06-.94 2.06-2.06.94zm-11 1L8.5 8.5l.94-2.06 2.06-.94-2.06-.94L8.5 2.5l-.94 2.06-2.06.94zm10 10l.94 2.06.94-2.06 2.06-.94-2.06-.94-.94-2.06-.94 2.06-2.06.94z\"/><path d=\"M17.41 7.96l-1.37-1.37c-.4-.4-.92-.59-1.43-.59-.52 0-1.04.2-1.43.59L10.3 9.45l-7.72 7.72c-.78.78-.78 2.05 0 2.83L4 21.41c.39.39.9.59 1.41.59.51 0 1.02-.2 1.41-.59l7.78-7.78 2.81-2.81c.8-.78.8-2.07 0-2.86zM5.41 20L4 18.59l7.72-7.72 1.47 1.35L5.41 20z\"/>\n",
              "  </svg>\n",
              "      </button>\n",
              "      \n",
              "  <style>\n",
              "    .colab-df-container {\n",
              "      display:flex;\n",
              "      flex-wrap:wrap;\n",
              "      gap: 12px;\n",
              "    }\n",
              "\n",
              "    .colab-df-convert {\n",
              "      background-color: #E8F0FE;\n",
              "      border: none;\n",
              "      border-radius: 50%;\n",
              "      cursor: pointer;\n",
              "      display: none;\n",
              "      fill: #1967D2;\n",
              "      height: 32px;\n",
              "      padding: 0 0 0 0;\n",
              "      width: 32px;\n",
              "    }\n",
              "\n",
              "    .colab-df-convert:hover {\n",
              "      background-color: #E2EBFA;\n",
              "      box-shadow: 0px 1px 2px rgba(60, 64, 67, 0.3), 0px 1px 3px 1px rgba(60, 64, 67, 0.15);\n",
              "      fill: #174EA6;\n",
              "    }\n",
              "\n",
              "    [theme=dark] .colab-df-convert {\n",
              "      background-color: #3B4455;\n",
              "      fill: #D2E3FC;\n",
              "    }\n",
              "\n",
              "    [theme=dark] .colab-df-convert:hover {\n",
              "      background-color: #434B5C;\n",
              "      box-shadow: 0px 1px 3px 1px rgba(0, 0, 0, 0.15);\n",
              "      filter: drop-shadow(0px 1px 2px rgba(0, 0, 0, 0.3));\n",
              "      fill: #FFFFFF;\n",
              "    }\n",
              "  </style>\n",
              "\n",
              "      <script>\n",
              "        const buttonEl =\n",
              "          document.querySelector('#df-f5a30abc-a2c9-498e-90b9-e094cadca06d button.colab-df-convert');\n",
              "        buttonEl.style.display =\n",
              "          google.colab.kernel.accessAllowed ? 'block' : 'none';\n",
              "\n",
              "        async function convertToInteractive(key) {\n",
              "          const element = document.querySelector('#df-f5a30abc-a2c9-498e-90b9-e094cadca06d');\n",
              "          const dataTable =\n",
              "            await google.colab.kernel.invokeFunction('convertToInteractive',\n",
              "                                                     [key], {});\n",
              "          if (!dataTable) return;\n",
              "\n",
              "          const docLinkHtml = 'Like what you see? Visit the ' +\n",
              "            '<a target=\"_blank\" href=https://colab.research.google.com/notebooks/data_table.ipynb>data table notebook</a>'\n",
              "            + ' to learn more about interactive tables.';\n",
              "          element.innerHTML = '';\n",
              "          dataTable['output_type'] = 'display_data';\n",
              "          await google.colab.output.renderOutput(dataTable, element);\n",
              "          const docLink = document.createElement('div');\n",
              "          docLink.innerHTML = docLinkHtml;\n",
              "          element.appendChild(docLink);\n",
              "        }\n",
              "      </script>\n",
              "    </div>\n",
              "  </div>\n",
              "  "
            ]
          },
          "metadata": {},
          "execution_count": 94
        }
      ]
    },
    {
      "cell_type": "markdown",
      "source": [
        "Any engineered features used to train a model need to be available at test time. In our case, line numbers and total lines are available"
      ],
      "metadata": {
        "id": "QMgnS4BqnrXl"
      }
    },
    {
      "cell_type": "markdown",
      "source": [
        "### Create positional embeddings"
      ],
      "metadata": {
        "id": "J3tGTceNnxLt"
      }
    },
    {
      "cell_type": "code",
      "source": [
        "# How many different line numbers are there?\n",
        "train_df[\"line_number\"].value_counts()"
      ],
      "metadata": {
        "colab": {
          "base_uri": "https://localhost:8080/"
        },
        "id": "OVe0XDVVn0i9",
        "outputId": "5b70fae6-69f4-4e09-a5ae-02caa3bce790"
      },
      "execution_count": 95,
      "outputs": [
        {
          "output_type": "execute_result",
          "data": {
            "text/plain": [
              "0     15000\n",
              "1     15000\n",
              "2     15000\n",
              "3     15000\n",
              "4     14992\n",
              "5     14949\n",
              "6     14758\n",
              "7     14279\n",
              "8     13346\n",
              "9     11981\n",
              "10    10041\n",
              "11     7892\n",
              "12     5853\n",
              "13     4152\n",
              "14     2835\n",
              "15     1861\n",
              "16     1188\n",
              "17      751\n",
              "18      462\n",
              "19      286\n",
              "20      162\n",
              "21      101\n",
              "22       66\n",
              "23       33\n",
              "24       22\n",
              "25       14\n",
              "26        7\n",
              "27        4\n",
              "28        3\n",
              "29        1\n",
              "30        1\n",
              "Name: line_number, dtype: int64"
            ]
          },
          "metadata": {},
          "execution_count": 95
        }
      ]
    },
    {
      "cell_type": "code",
      "source": [
        "# Check the distribution of \"line_number\" column\n",
        "train_df.line_number.plot.hist()"
      ],
      "metadata": {
        "colab": {
          "base_uri": "https://localhost:8080/",
          "height": 283
        },
        "id": "5ujxN_7QoJ1u",
        "outputId": "6a296d76-4e88-427c-ac9d-574a1a7a8fb5"
      },
      "execution_count": 96,
      "outputs": [
        {
          "output_type": "execute_result",
          "data": {
            "text/plain": [
              "<matplotlib.axes._subplots.AxesSubplot at 0x7f7c8dac60a0>"
            ]
          },
          "metadata": {},
          "execution_count": 96
        },
        {
          "output_type": "display_data",
          "data": {
            "text/plain": [
              "<Figure size 432x288 with 1 Axes>"
            ],
            "image/png": "[encoded data removed]"
          },
          "metadata": {
            "needs_background": "light"
          }
        }
      ]
    },
    {
      "cell_type": "markdown",
      "source": [
        "Looking at the distribution of the \"line_number\" column, it looks like the majority of lines have a position of 15 or less.\n",
        "\n",
        "Knowing this, let's set the depth parameter of tf.one_hot to 15."
      ],
      "metadata": {
        "id": "TbTcs5oTohEz"
      }
    },
    {
      "cell_type": "code",
      "source": [
        "# Use TensorFlow to create one-hot-encoded tensors of our \"line_number\" column\n",
        "train_line_numbers_one_hot = tf.one_hot(train_df[\"line_number\"].to_numpy(), depth=15)\n",
        "val_line_numbers_one_hot = tf.one_hot(val_df[\"line_number\"].to_numpy(), depth=15)\n",
        "test_line_numbers_one_hot = tf.one_hot(test_df[\"line_number\"].to_numpy(), depth=15)\n",
        "train_line_numbers_one_hot[:14], train_line_numbers_one_hot.shape"
      ],
      "metadata": {
        "colab": {
          "base_uri": "https://localhost:8080/"
        },
        "id": "E-rqEA_ZoNB-",
        "outputId": "8938a22f-089b-48ce-81e7-572a87cb8774"
      },
      "execution_count": 97,
      "outputs": [
        {
          "output_type": "execute_result",
          "data": {
            "text/plain": [
              "(<tf.Tensor: shape=(14, 15), dtype=float32, numpy=\n",
              " array([[1., 0., 0., 0., 0., 0., 0., 0., 0., 0., 0., 0., 0., 0., 0.],\n",
              "        [0., 1., 0., 0., 0., 0., 0., 0., 0., 0., 0., 0., 0., 0., 0.],\n",
              "        [0., 0., 1., 0., 0., 0., 0., 0., 0., 0., 0., 0., 0., 0., 0.],\n",
              "        [0., 0., 0., 1., 0., 0., 0., 0., 0., 0., 0., 0., 0., 0., 0.],\n",
              "        [0., 0., 0., 0., 1., 0., 0., 0., 0., 0., 0., 0., 0., 0., 0.],\n",
              "        [0., 0., 0., 0., 0., 1., 0., 0., 0., 0., 0., 0., 0., 0., 0.],\n",
              "        [0., 0., 0., 0., 0., 0., 1., 0., 0., 0., 0., 0., 0., 0., 0.],\n",
              "        [0., 0., 0., 0., 0., 0., 0., 1., 0., 0., 0., 0., 0., 0., 0.],\n",
              "        [0., 0., 0., 0., 0., 0., 0., 0., 1., 0., 0., 0., 0., 0., 0.],\n",
              "        [0., 0., 0., 0., 0., 0., 0., 0., 0., 1., 0., 0., 0., 0., 0.],\n",
              "        [0., 0., 0., 0., 0., 0., 0., 0., 0., 0., 1., 0., 0., 0., 0.],\n",
              "        [0., 0., 0., 0., 0., 0., 0., 0., 0., 0., 0., 1., 0., 0., 0.],\n",
              "        [1., 0., 0., 0., 0., 0., 0., 0., 0., 0., 0., 0., 0., 0., 0.],\n",
              "        [0., 1., 0., 0., 0., 0., 0., 0., 0., 0., 0., 0., 0., 0., 0.]],\n",
              "       dtype=float32)>, TensorShape([180040, 15]))"
            ]
          },
          "metadata": {},
          "execution_count": 97
        }
      ]
    },
    {
      "cell_type": "markdown",
      "source": [
        "Setting the depth parameter of tf.one_hot to 15 means any sample with a \"line_number\" value of over 15 gets set to a tensor of all 0's, where as any sample with a \"line_number\" of under 15 gets turned into a tensor of all 0's but with a 1 at the index equal to the \"line_number\" value."
      ],
      "metadata": {
        "id": "6qIoFXMKolbG"
      }
    },
    {
      "cell_type": "markdown",
      "source": [
        "Now we've encoded our line numbers feature, let's do the same for our total lines feature..."
      ],
      "metadata": {
        "id": "9kS3qPTGoSP1"
      }
    },
    {
      "cell_type": "code",
      "source": [
        "# How many different numbers of lines are there?\n",
        "train_df[\"total_lines\"].value_counts()"
      ],
      "metadata": {
        "colab": {
          "base_uri": "https://localhost:8080/"
        },
        "id": "0OfTsMK0oat1",
        "outputId": "68b24ee3-533b-49f7-b1f5-5210396a963a"
      },
      "execution_count": 98,
      "outputs": [
        {
          "output_type": "execute_result",
          "data": {
            "text/plain": [
              "11    24468\n",
              "10    23639\n",
              "12    22113\n",
              "9     19400\n",
              "13    18438\n",
              "14    14610\n",
              "8     12285\n",
              "15    10768\n",
              "7      7464\n",
              "16     7429\n",
              "17     5202\n",
              "6      3353\n",
              "18     3344\n",
              "19     2480\n",
              "20     1281\n",
              "5      1146\n",
              "21      770\n",
              "22      759\n",
              "23      264\n",
              "4       215\n",
              "24      200\n",
              "25      182\n",
              "26       81\n",
              "28       58\n",
              "3        32\n",
              "30       31\n",
              "27       28\n",
              "Name: total_lines, dtype: int64"
            ]
          },
          "metadata": {},
          "execution_count": 98
        }
      ]
    },
    {
      "cell_type": "code",
      "source": [
        "# Check the distributions of total lines\n",
        "train_df.total_lines.plot.hist();"
      ],
      "metadata": {
        "colab": {
          "base_uri": "https://localhost:8080/",
          "height": 267
        },
        "id": "tzAG0K-rovby",
        "outputId": "0f6eabfc-1afe-4cbc-8e64-3a9411dc0a2c"
      },
      "execution_count": 99,
      "outputs": [
        {
          "output_type": "display_data",
          "data": {
            "text/plain": [
              "<Figure size 432x288 with 1 Axes>"
            ],
            "image/png": "[encoded data removed]"
          },
          "metadata": {
            "needs_background": "light"
          }
        }
      ]
    },
    {
      "cell_type": "markdown",
      "source": [
        "Looking at the distribution of our \"total_lines\" column, a value of 20 looks like it covers the majority of samples.\n",
        "\n",
        "We can confirm this with np.percentile()."
      ],
      "metadata": {
        "id": "rWEtJjF5oxoX"
      }
    },
    {
      "cell_type": "code",
      "source": [
        "# Check the coverage of a \"total_lines\" value of 20\n",
        "np.percentile(train_df.total_lines, 98)"
      ],
      "metadata": {
        "colab": {
          "base_uri": "https://localhost:8080/"
        },
        "id": "-2hbRfZto22J",
        "outputId": "cc3456bf-df03-4ecc-c772-bdbdda5d4e19"
      },
      "execution_count": 100,
      "outputs": [
        {
          "output_type": "execute_result",
          "data": {
            "text/plain": [
              "20.0"
            ]
          },
          "metadata": {},
          "execution_count": 100
        }
      ]
    },
    {
      "cell_type": "code",
      "source": [
        "# Use TensorFlow to create one-hot-encoded tensors of our \"total_lines\" feature\n",
        "train_total_lines_one_hot = tf.one_hot(train_df[\"total_lines\"].to_numpy(), depth=20)\n",
        "val_total_lines_one_hot = tf.one_hot(val_df[\"total_lines\"].to_numpy(), depth=20)\n",
        "test_total_lines_one_hot = tf.one_hot(test_df[\"total_lines\"].to_numpy(), depth=20)\n",
        "train_total_lines_one_hot.shape, train_total_lines_one_hot[:10]"
      ],
      "metadata": {
        "colab": {
          "base_uri": "https://localhost:8080/"
        },
        "id": "QojYhsqQo5GQ",
        "outputId": "3c57768c-efaa-4783-c9e7-aad0158695b0"
      },
      "execution_count": 101,
      "outputs": [
        {
          "output_type": "execute_result",
          "data": {
            "text/plain": [
              "(TensorShape([180040, 20]), <tf.Tensor: shape=(10, 20), dtype=float32, numpy=\n",
              " array([[0., 0., 0., 0., 0., 0., 0., 0., 0., 0., 0., 1., 0., 0., 0., 0.,\n",
              "         0., 0., 0., 0.],\n",
              "        [0., 0., 0., 0., 0., 0., 0., 0., 0., 0., 0., 1., 0., 0., 0., 0.,\n",
              "         0., 0., 0., 0.],\n",
              "        [0., 0., 0., 0., 0., 0., 0., 0., 0., 0., 0., 1., 0., 0., 0., 0.,\n",
              "         0., 0., 0., 0.],\n",
              "        [0., 0., 0., 0., 0., 0., 0., 0., 0., 0., 0., 1., 0., 0., 0., 0.,\n",
              "         0., 0., 0., 0.],\n",
              "        [0., 0., 0., 0., 0., 0., 0., 0., 0., 0., 0., 1., 0., 0., 0., 0.,\n",
              "         0., 0., 0., 0.],\n",
              "        [0., 0., 0., 0., 0., 0., 0., 0., 0., 0., 0., 1., 0., 0., 0., 0.,\n",
              "         0., 0., 0., 0.],\n",
              "        [0., 0., 0., 0., 0., 0., 0., 0., 0., 0., 0., 1., 0., 0., 0., 0.,\n",
              "         0., 0., 0., 0.],\n",
              "        [0., 0., 0., 0., 0., 0., 0., 0., 0., 0., 0., 1., 0., 0., 0., 0.,\n",
              "         0., 0., 0., 0.],\n",
              "        [0., 0., 0., 0., 0., 0., 0., 0., 0., 0., 0., 1., 0., 0., 0., 0.,\n",
              "         0., 0., 0., 0.],\n",
              "        [0., 0., 0., 0., 0., 0., 0., 0., 0., 0., 0., 1., 0., 0., 0., 0.,\n",
              "         0., 0., 0., 0.]], dtype=float32)>)"
            ]
          },
          "metadata": {},
          "execution_count": 101
        }
      ]
    },
    {
      "cell_type": "markdown",
      "source": [
        "### Building a tribrid embedding model\n",
        "\n",
        "1. Create a token-level model\n",
        "2. Create a character-level model\n",
        "3. Create a model for the \"line_number\" feature\n",
        "4. Create a model for the \"total_lines\" feature\n",
        "5. Combine the outputs of 1 & 2 using tf.keras.layers.Concatenate\n",
        "6. Combine the outputs of 3, 4, 5 using tf.keras.layers.Concatenate\n",
        "7. Create an output layer to accept the tribrid embedding and output label probabilities\n",
        "8. Combine the inputs of 1, 2, 3, 4 and outputs of into a tf.keras.Model"
      ],
      "metadata": {
        "id": "DL5zhXxyo7Rg"
      }
    },
    {
      "cell_type": "code",
      "source": [
        "# 1. Token inputs\n",
        "token_inputs = layers.Input(shape=[], dtype=\"string\", name=\"token_inputs\")\n",
        "token_embeddings = tf_hub_embedding_layer(token_inputs)\n",
        "token_outputs = layers.Dense(128, activation=\"relu\")(token_embeddings)\n",
        "token_model = tf.keras.Model(inputs=token_inputs,\n",
        "                             outputs=token_outputs)\n",
        "\n",
        "# 2. Char inputs\n",
        "char_inputs = layers.Input(shape=(1, ), dtype=\"string\", name=\"char_inputs\")\n",
        "char_vectors = char_vectorizer(char_inputs)\n",
        "char_embeddings = char_embed(char_vectors)\n",
        "char_bi_lstm = layers.Bidirectional(layers.LSTM(24))(char_embeddings)\n",
        "char_model = tf.keras.Model(inputs=char_inputs,\n",
        "                            outputs=char_bi_lstm)\n",
        "\n",
        "# 3. Line numbers model\n",
        "# inputs, shape = ?\n",
        "line_number_inputs = layers.Input(shape=(15,), dtype=tf.float32, name=\"line_number_input\")\n",
        "# dense layer with 32 units & relu activation\n",
        "x = layers.Dense(32, activation=\"relu\")(line_number_inputs)\n",
        "# combine inputs & dense layer into model\n",
        "line_number_model = tf.keras.Model(inputs=line_number_inputs,\n",
        "                                   outputs=x)\n",
        "\n",
        "# 4. Total lines model\n",
        "total_lines_inputs = layers.Input(shape=(20,), dtype=tf.float32, name=\"total_lines_input\")\n",
        "y = layers.Dense(32, activation=\"relu\")(total_lines_inputs)\n",
        "total_lines_model = tf.keras.Model(inputs=total_lines_inputs,\n",
        "                                   outputs=y)\n",
        "\n",
        "# 5. Combine token and char embeddings into a hybrid embedding\n",
        "combined_embeddings = layers.Concatenate(name=\"char_token_hybrid_embedding\")([token_model.output,\n",
        "                                                                              char_model.output])\n",
        "\n",
        "z = layers.Dense(256, activation=\"relu\")(combined_embeddings)\n",
        "z = layers.Dropout(0.5)(z)\n",
        "\n",
        "# 6. Combine positional embedding with combined token and char embeddings\n",
        "tribrid_embeddings = layers.Concatenate(name=\"char_token_positional_embedding\")([line_number_model.output,\n",
        "                                                                                 total_lines_model.output,\n",
        "                                                                                 z])\n",
        "\n",
        "# 7. Create output layer\n",
        "output_layer = layers.Dense(num_classes, activation=\"softmax\", name=\"output_layer\")(tribrid_embeddings)\n",
        "\n",
        "# 8. Put together model with all kinds of inputs\n",
        "model_5 = tf.keras.Model(inputs=[line_number_model.input,\n",
        "                                 total_lines_model.input,\n",
        "                                 token_model.input,\n",
        "                                 char_model.input],\n",
        "                         outputs=output_layer,\n",
        "                         name=\"model_5_tribrid_embedding_model\")"
      ],
      "metadata": {
        "id": "rJV-QtyOpI0p"
      },
      "execution_count": 102,
      "outputs": []
    },
    {
      "cell_type": "code",
      "source": [
        "# Get a summary of our token, char and positional embedding model\n",
        "model_5.summary()"
      ],
      "metadata": {
        "colab": {
          "base_uri": "https://localhost:8080/"
        },
        "id": "Rf_I28ZBpoKr",
        "outputId": "4857124a-615b-4308-c5c6-9ff82874755f"
      },
      "execution_count": 103,
      "outputs": [
        {
          "output_type": "stream",
          "name": "stdout",
          "text": [
            "Model: \"model_5_tribrid_embedding_model\"\n",
            "__________________________________________________________________________________________________\n",
            " Layer (type)                   Output Shape         Param #     Connected to                     \n",
            "==================================================================================================\n",
            " char_inputs (InputLayer)       [(None, 1)]          0           []                               \n",
            "                                                                                                  \n",
            " token_inputs (InputLayer)      [(None,)]            0           []                               \n",
            "                                                                                                  \n",
            " char_vectorizer (TextVectoriza  (None, 290)         0           ['char_inputs[0][0]']            \n",
            " tion)                                                                                            \n",
            "                                                                                                  \n",
            " universal_sentence_encoder (Ke  (None, 512)         256797824   ['token_inputs[0][0]']           \n",
            " rasLayer)                                                                                        \n",
            "                                                                                                  \n",
            " char_embed (Embedding)         (None, 290, 25)      700         ['char_vectorizer[2][0]']        \n",
            "                                                                                                  \n",
            " dense_7 (Dense)                (None, 128)          65664       ['universal_sentence_encoder[2][0\n",
            "                                                                 ]']                              \n",
            "                                                                                                  \n",
            " bidirectional_1 (Bidirectional  (None, 48)          9600        ['char_embed[2][0]']             \n",
            " )                                                                                                \n",
            "                                                                                                  \n",
            " char_token_hybrid_embedding (C  (None, 176)         0           ['dense_7[0][0]',                \n",
            " oncatenate)                                                      'bidirectional_1[0][0]']        \n",
            "                                                                                                  \n",
            " line_number_input (InputLayer)  [(None, 15)]        0           []                               \n",
            "                                                                                                  \n",
            " total_lines_input (InputLayer)  [(None, 20)]        0           []                               \n",
            "                                                                                                  \n",
            " dense_10 (Dense)               (None, 256)          45312       ['char_token_hybrid_embedding[0][\n",
            "                                                                 0]']                             \n",
            "                                                                                                  \n",
            " dense_8 (Dense)                (None, 32)           512         ['line_number_input[0][0]']      \n",
            "                                                                                                  \n",
            " dense_9 (Dense)                (None, 32)           672         ['total_lines_input[0][0]']      \n",
            "                                                                                                  \n",
            " dropout_2 (Dropout)            (None, 256)          0           ['dense_10[0][0]']               \n",
            "                                                                                                  \n",
            " char_token_positional_embeddin  (None, 320)         0           ['dense_8[0][0]',                \n",
            " g (Concatenate)                                                  'dense_9[0][0]',                \n",
            "                                                                  'dropout_2[0][0]']              \n",
            "                                                                                                  \n",
            " output_layer (Dense)           (None, 5)            1605        ['char_token_positional_embedding\n",
            "                                                                 [0][0]']                         \n",
            "                                                                                                  \n",
            "==================================================================================================\n",
            "Total params: 256,921,889\n",
            "Trainable params: 124,065\n",
            "Non-trainable params: 256,797,824\n",
            "__________________________________________________________________________________________________\n"
          ]
        }
      ]
    },
    {
      "cell_type": "code",
      "source": [
        "# Plot the token, char, positional embedding model\n",
        "from tensorflow.keras.utils import plot_model\n",
        "plot_model(model_5)"
      ],
      "metadata": {
        "colab": {
          "base_uri": "https://localhost:8080/",
          "height": 856
        },
        "id": "E0IFgQhVqF1a",
        "outputId": "5a509fbf-17d5-4558-f481-e8fdbde14552"
      },
      "execution_count": 104,
      "outputs": [
        {
          "output_type": "execute_result",
          "data": {
            "image/png": "[encoded data removed]",
            "text/plain": [
              "<IPython.core.display.Image object>"
            ]
          },
          "metadata": {},
          "execution_count": 104
        }
      ]
    },
    {
      "cell_type": "markdown",
      "source": [
        "What is label smoothing?\n",
        "\n",
        "For example, if our model gets too confident on a single class (e.g. its prediction probability is really high), it may get stuck on that class and not consider other classes...\n",
        "\n",
        "Really confident: [0.0, 0.0, 1.0, 0.0, 0.0]\n",
        "\n",
        "What label smoothing does is it assigns some of the value from the highest pred prob to other classes, in turn, hopefully improving generalization: [0.01, 0.01, 0.96, 0.01, 0.01]"
      ],
      "metadata": {
        "id": "-36OB3vkqJh-"
      }
    },
    {
      "cell_type": "code",
      "source": [
        "# Compile token, char, and positional embedding model\n",
        "model_5.compile(loss=tf.keras.losses.CategoricalCrossentropy(label_smoothing=0.2), # helps to prevent overfitting\n",
        "                optimizer=tf.keras.optimizers.Adam(),\n",
        "                metrics=[\"accuracy\"])"
      ],
      "metadata": {
        "id": "Y57VYrUwqWnq"
      },
      "execution_count": 105,
      "outputs": []
    },
    {
      "cell_type": "markdown",
      "source": [
        "### Create tribrid embedding datasets using tf.data\n",
        "\n",
        "\n",
        "This time our model requires four feature inputs:\n",
        "\n",
        "1. Train line numbers one-hot tensor (train_line_numbers_one_hot)\n",
        "2. Train total lines one-hot tensor (train_total_lines_one_hot)\n",
        "3. Token-level sequences tensor (train_sentences)\n",
        "4. Char-level sequences tensor (train_chars)\n",
        "5. We can pass these as tuples to our tf.data.Dataset.from_tensor_slices() method to create appropriately shaped and batched PrefetchedDataset's."
      ],
      "metadata": {
        "id": "HklYfdC2qdyl"
      }
    },
    {
      "cell_type": "code",
      "source": [
        "# Create training and validation datasets (with all four kinds of input data)\n",
        "train_char_token_pos_data = tf.data.Dataset.from_tensor_slices((train_line_numbers_one_hot,\n",
        "                                                                train_total_lines_one_hot,\n",
        "                                                                train_sentences,\n",
        "                                                                train_chars))\n",
        "train_char_token_pos_labels = tf.data.Dataset.from_tensor_slices(train_labels_one_hot)\n",
        "train_char_token_pos_dataset = tf.data.Dataset.zip((train_char_token_pos_data, train_char_token_pos_labels))\n",
        "train_char_token_pos_dataset = train_char_token_pos_dataset.batch(32).prefetch(tf.data.AUTOTUNE)\n",
        "\n",
        "# Do the same as above but for the validation dataset\n",
        "val_char_token_pos_data = tf.data.Dataset.from_tensor_slices((val_line_numbers_one_hot,\n",
        "                                                              val_total_lines_one_hot,\n",
        "                                                              val_sentences,\n",
        "                                                              val_chars))\n",
        "val_char_token_pos_labels = tf.data.Dataset.from_tensor_slices(val_labels_one_hot)\n",
        "val_char_token_pos_dataset = tf.data.Dataset.zip((val_char_token_pos_data, val_char_token_pos_labels))\n",
        "val_char_token_pos_dataset = val_char_token_pos_dataset.batch(32).prefetch(tf.data.AUTOTUNE)"
      ],
      "metadata": {
        "id": "jfP9HhM2qhzz"
      },
      "execution_count": 106,
      "outputs": []
    },
    {
      "cell_type": "markdown",
      "source": [
        "### Fitting, evaluating and making predicitions with our tribrid model"
      ],
      "metadata": {
        "id": "Nni0UJP_sGgn"
      }
    },
    {
      "cell_type": "code",
      "source": [
        "# Fit the token, char and positional embedding model\n",
        "history_model_5 = model_5.fit(train_char_token_pos_dataset,\n",
        "                              steps_per_epoch=int(0.1 * len(train_char_token_pos_dataset)),\n",
        "                              epochs=3,\n",
        "                              validation_data=val_char_token_pos_dataset,\n",
        "                              validation_steps=int(0.1 * len(val_char_token_pos_dataset)))"
      ],
      "metadata": {
        "colab": {
          "base_uri": "https://localhost:8080/"
        },
        "id": "AcSWxKDtqnh0",
        "outputId": "80cabc35-a7a6-4d31-d153-bd1ea5706803"
      },
      "execution_count": 107,
      "outputs": [
        {
          "output_type": "stream",
          "name": "stdout",
          "text": [
            "Epoch 1/3\n",
            "562/562 [==============================] - 36s 51ms/step - loss: 1.0930 - accuracy: 0.7258 - val_loss: 0.9856 - val_accuracy: 0.7995\n",
            "Epoch 2/3\n",
            "562/562 [==============================] - 26s 46ms/step - loss: 0.9678 - accuracy: 0.8147 - val_loss: 0.9484 - val_accuracy: 0.8281\n",
            "Epoch 3/3\n",
            "562/562 [==============================] - 26s 46ms/step - loss: 0.9483 - accuracy: 0.8245 - val_loss: 0.9395 - val_accuracy: 0.8285\n"
          ]
        }
      ]
    },
    {
      "cell_type": "code",
      "source": [
        "# Make predictions with token-char-positional hybrid model\n",
        "model_5_pred_probs = model_5.predict(val_char_token_pos_dataset, verbose=1)\n",
        "model_5_pred_probs"
      ],
      "metadata": {
        "colab": {
          "base_uri": "https://localhost:8080/"
        },
        "id": "MDfT7YvarZ8j",
        "outputId": "78557679-350d-4eee-a7e1-9b010e6cc447"
      },
      "execution_count": 108,
      "outputs": [
        {
          "output_type": "stream",
          "name": "stdout",
          "text": [
            "945/945 [==============================] - 26s 24ms/step\n"
          ]
        },
        {
          "output_type": "execute_result",
          "data": {
            "text/plain": [
              "array([[0.50504535, 0.10746743, 0.01115748, 0.35928965, 0.01704005],\n",
              "       [0.5168538 , 0.11643059, 0.0531349 , 0.3028978 , 0.01068288],\n",
              "       [0.29630384, 0.11163488, 0.12801981, 0.40692425, 0.05711715],\n",
              "       ...,\n",
              "       [0.0316653 , 0.08836739, 0.0358312 , 0.03294266, 0.8111934 ],\n",
              "       [0.03318984, 0.32207248, 0.07954287, 0.02569673, 0.5394981 ],\n",
              "       [0.24027559, 0.5681521 , 0.09051649, 0.04079392, 0.06026191]],\n",
              "      dtype=float32)"
            ]
          },
          "metadata": {},
          "execution_count": 108
        }
      ]
    },
    {
      "cell_type": "code",
      "source": [
        "# Turn prediction probabilities into prediction classes\n",
        "model_5_preds = tf.argmax(model_5_pred_probs, axis=1)\n",
        "model_5_preds"
      ],
      "metadata": {
        "colab": {
          "base_uri": "https://localhost:8080/"
        },
        "id": "OQDuj2exr6ZC",
        "outputId": "2e634123-d217-4ad1-a47f-d399e15cd9f2"
      },
      "execution_count": 109,
      "outputs": [
        {
          "output_type": "execute_result",
          "data": {
            "text/plain": [
              "<tf.Tensor: shape=(30212,), dtype=int64, numpy=array([0, 0, 3, ..., 4, 4, 1])>"
            ]
          },
          "metadata": {},
          "execution_count": 109
        }
      ]
    },
    {
      "cell_type": "code",
      "source": [
        "# Calculate results of token-char-positional hybrid model\n",
        "model_5_results = calculate_results(y_true=val_labels_encoded,\n",
        "                                    y_pred=model_5_preds)\n",
        "model_5_results"
      ],
      "metadata": {
        "colab": {
          "base_uri": "https://localhost:8080/"
        },
        "id": "Wdzy-1bvr8UT",
        "outputId": "cea5f930-aca6-4eaa-8d6b-5b8900cc43fb"
      },
      "execution_count": 110,
      "outputs": [
        {
          "output_type": "execute_result",
          "data": {
            "text/plain": [
              "{'accuracy': 83.38408579372435,\n",
              " 'precision': 0.8331034208224197,\n",
              " 'recall': 0.8338408579372435,\n",
              " 'f1': 0.8328647172987476}"
            ]
          },
          "metadata": {},
          "execution_count": 110
        }
      ]
    },
    {
      "cell_type": "markdown",
      "source": [
        "## Compare model results\n",
        "\n"
      ],
      "metadata": {
        "id": "_XTQKVtor-hh"
      }
    },
    {
      "cell_type": "code",
      "source": [
        "# Combine model results into a dataframe\n",
        "all_model_results = pd.DataFrame({\"model_0_baseline\": baseline_results,\n",
        "                                  \"model_1_custom_token_embedding\": model_1_results,\n",
        "                                  \"model_2_pretrained_token_embedding\": model_2_results,\n",
        "                                  \"model_3_custom_char_embedding\": model_3_results,\n",
        "                                  \"model_4_hybrid_char_token_embedding\": model_4_results,\n",
        "                                  \"model_5_pos_char_token_embedding\": model_5_results})\n",
        "all_model_results = all_model_results.transpose()\n",
        "all_model_results"
      ],
      "metadata": {
        "colab": {
          "base_uri": "https://localhost:8080/",
          "height": 238
        },
        "id": "0f5lDHROsQjO",
        "outputId": "1c56e088-d6f7-4a1b-e641-ff2b69b09604"
      },
      "execution_count": 111,
      "outputs": [
        {
          "output_type": "execute_result",
          "data": {
            "text/plain": [
              "                                      accuracy  precision    recall        f1\n",
              "model_0_baseline                     72.183238   0.718647  0.721832  0.698925\n",
              "model_1_custom_token_embedding       78.531709   0.782248  0.785317  0.783016\n",
              "model_2_pretrained_token_embedding   71.412022   0.714875  0.714120  0.711157\n",
              "model_3_custom_char_embedding        65.090030   0.646344  0.650900  0.640346\n",
              "model_4_hybrid_char_token_embedding  73.639613   0.736087  0.736396  0.733721\n",
              "model_5_pos_char_token_embedding     83.384086   0.833103  0.833841  0.832865"
            ],
            "text/html": [
              "\n",
              "  <div id=\"df-513207e6-c429-4d6b-80ea-67442823357a\">\n",
              "    <div class=\"colab-df-container\">\n",
              "      <div>\n",
              "<style scoped>\n",
              "    .dataframe tbody tr th:only-of-type {\n",
              "        vertical-align: middle;\n",
              "    }\n",
              "\n",
              "    .dataframe tbody tr th {\n",
              "        vertical-align: top;\n",
              "    }\n",
              "\n",
              "    .dataframe thead th {\n",
              "        text-align: right;\n",
              "    }\n",
              "</style>\n",
              "<table border=\"1\" class=\"dataframe\">\n",
              "  <thead>\n",
              "    <tr style=\"text-align: right;\">\n",
              "      <th></th>\n",
              "      <th>accuracy</th>\n",
              "      <th>precision</th>\n",
              "      <th>recall</th>\n",
              "      <th>f1</th>\n",
              "    </tr>\n",
              "  </thead>\n",
              "  <tbody>\n",
              "    <tr>\n",
              "      <th>model_0_baseline</th>\n",
              "      <td>72.183238</td>\n",
              "      <td>0.718647</td>\n",
              "      <td>0.721832</td>\n",
              "      <td>0.698925</td>\n",
              "    </tr>\n",
              "    <tr>\n",
              "      <th>model_1_custom_token_embedding</th>\n",
              "      <td>78.531709</td>\n",
              "      <td>0.782248</td>\n",
              "      <td>0.785317</td>\n",
              "      <td>0.783016</td>\n",
              "    </tr>\n",
              "    <tr>\n",
              "      <th>model_2_pretrained_token_embedding</th>\n",
              "      <td>71.412022</td>\n",
              "      <td>0.714875</td>\n",
              "      <td>0.714120</td>\n",
              "      <td>0.711157</td>\n",
              "    </tr>\n",
              "    <tr>\n",
              "      <th>model_3_custom_char_embedding</th>\n",
              "      <td>65.090030</td>\n",
              "      <td>0.646344</td>\n",
              "      <td>0.650900</td>\n",
              "      <td>0.640346</td>\n",
              "    </tr>\n",
              "    <tr>\n",
              "      <th>model_4_hybrid_char_token_embedding</th>\n",
              "      <td>73.639613</td>\n",
              "      <td>0.736087</td>\n",
              "      <td>0.736396</td>\n",
              "      <td>0.733721</td>\n",
              "    </tr>\n",
              "    <tr>\n",
              "      <th>model_5_pos_char_token_embedding</th>\n",
              "      <td>83.384086</td>\n",
              "      <td>0.833103</td>\n",
              "      <td>0.833841</td>\n",
              "      <td>0.832865</td>\n",
              "    </tr>\n",
              "  </tbody>\n",
              "</table>\n",
              "</div>\n",
              "      <button class=\"colab-df-convert\" onclick=\"convertToInteractive('df-513207e6-c429-4d6b-80ea-67442823357a')\"\n",
              "              title=\"Convert this dataframe to an interactive table.\"\n",
              "              style=\"display:none;\">\n",
              "        \n",
              "  <svg xmlns=\"http://www.w3.org/2000/svg\" height=\"24px\"viewBox=\"0 0 24 24\"\n",
              "       width=\"24px\">\n",
              "    <path d=\"M0 0h24v24H0V0z\" fill=\"none\"/>\n",
              "    <path d=\"M18.56 5.44l.94 2.06.94-2.06 2.06-.94-2.06-.94-.94-2.06-.94 2.06-2.06.94zm-11 1L8.5 8.5l.94-2.06 2.06-.94-2.06-.94L8.5 2.5l-.94 2.06-2.06.94zm10 10l.94 2.06.94-2.06 2.06-.94-2.06-.94-.94-2.06-.94 2.06-2.06.94z\"/><path d=\"M17.41 7.96l-1.37-1.37c-.4-.4-.92-.59-1.43-.59-.52 0-1.04.2-1.43.59L10.3 9.45l-7.72 7.72c-.78.78-.78 2.05 0 2.83L4 21.41c.39.39.9.59 1.41.59.51 0 1.02-.2 1.41-.59l7.78-7.78 2.81-2.81c.8-.78.8-2.07 0-2.86zM5.41 20L4 18.59l7.72-7.72 1.47 1.35L5.41 20z\"/>\n",
              "  </svg>\n",
              "      </button>\n",
              "      \n",
              "  <style>\n",
              "    .colab-df-container {\n",
              "      display:flex;\n",
              "      flex-wrap:wrap;\n",
              "      gap: 12px;\n",
              "    }\n",
              "\n",
              "    .colab-df-convert {\n",
              "      background-color: #E8F0FE;\n",
              "      border: none;\n",
              "      border-radius: 50%;\n",
              "      cursor: pointer;\n",
              "      display: none;\n",
              "      fill: #1967D2;\n",
              "      height: 32px;\n",
              "      padding: 0 0 0 0;\n",
              "      width: 32px;\n",
              "    }\n",
              "\n",
              "    .colab-df-convert:hover {\n",
              "      background-color: #E2EBFA;\n",
              "      box-shadow: 0px 1px 2px rgba(60, 64, 67, 0.3), 0px 1px 3px 1px rgba(60, 64, 67, 0.15);\n",
              "      fill: #174EA6;\n",
              "    }\n",
              "\n",
              "    [theme=dark] .colab-df-convert {\n",
              "      background-color: #3B4455;\n",
              "      fill: #D2E3FC;\n",
              "    }\n",
              "\n",
              "    [theme=dark] .colab-df-convert:hover {\n",
              "      background-color: #434B5C;\n",
              "      box-shadow: 0px 1px 3px 1px rgba(0, 0, 0, 0.15);\n",
              "      filter: drop-shadow(0px 1px 2px rgba(0, 0, 0, 0.3));\n",
              "      fill: #FFFFFF;\n",
              "    }\n",
              "  </style>\n",
              "\n",
              "      <script>\n",
              "        const buttonEl =\n",
              "          document.querySelector('#df-513207e6-c429-4d6b-80ea-67442823357a button.colab-df-convert');\n",
              "        buttonEl.style.display =\n",
              "          google.colab.kernel.accessAllowed ? 'block' : 'none';\n",
              "\n",
              "        async function convertToInteractive(key) {\n",
              "          const element = document.querySelector('#df-513207e6-c429-4d6b-80ea-67442823357a');\n",
              "          const dataTable =\n",
              "            await google.colab.kernel.invokeFunction('convertToInteractive',\n",
              "                                                     [key], {});\n",
              "          if (!dataTable) return;\n",
              "\n",
              "          const docLinkHtml = 'Like what you see? Visit the ' +\n",
              "            '<a target=\"_blank\" href=https://colab.research.google.com/notebooks/data_table.ipynb>data table notebook</a>'\n",
              "            + ' to learn more about interactive tables.';\n",
              "          element.innerHTML = '';\n",
              "          dataTable['output_type'] = 'display_data';\n",
              "          await google.colab.output.renderOutput(dataTable, element);\n",
              "          const docLink = document.createElement('div');\n",
              "          docLink.innerHTML = docLinkHtml;\n",
              "          element.appendChild(docLink);\n",
              "        }\n",
              "      </script>\n",
              "    </div>\n",
              "  </div>\n",
              "  "
            ]
          },
          "metadata": {},
          "execution_count": 111
        }
      ]
    },
    {
      "cell_type": "code",
      "source": [
        "# Reduce the accuracy to same scale as other metrics\n",
        "all_model_results[\"accuracy\"] = all_model_results[\"accuracy\"]/100"
      ],
      "metadata": {
        "id": "AjDDjncIsRD1"
      },
      "execution_count": 112,
      "outputs": []
    },
    {
      "cell_type": "code",
      "source": [
        "# Plot and compare all model results\n",
        "all_model_results.plot(kind=\"bar\", figsize=(10, 7)).legend(bbox_to_anchor=(1.0, 1.0));"
      ],
      "metadata": {
        "colab": {
          "base_uri": "https://localhost:8080/",
          "height": 619
        },
        "id": "lEmj-AS1sdri",
        "outputId": "6dd99e8d-30b4-458f-ffaa-21a200529d25"
      },
      "execution_count": 113,
      "outputs": [
        {
          "output_type": "display_data",
          "data": {
            "text/plain": [
              "<Figure size 720x504 with 1 Axes>"
            ],
            "image/png": "[encoded data removed]"
          },
          "metadata": {
            "needs_background": "light"
          }
        }
      ]
    },
    {
      "cell_type": "code",
      "source": [
        "# Sort models results by f1-score\n",
        "all_model_results.sort_values(\"f1\", ascending=True)[\"f1\"].plot(kind=\"bar\", figsize=(10, 7));"
      ],
      "metadata": {
        "colab": {
          "base_uri": "https://localhost:8080/",
          "height": 619
        },
        "id": "rpZ2cUyZsjWo",
        "outputId": "aedd3880-c01d-43af-ba52-22c88446a215"
      },
      "execution_count": 114,
      "outputs": [
        {
          "output_type": "display_data",
          "data": {
            "text/plain": [
              "<Figure size 720x504 with 1 Axes>"
            ],
            "image/png": "[encoded data removed]"
          },
          "metadata": {
            "needs_background": "light"
          }
        }
      ]
    },
    {
      "cell_type": "markdown",
      "source": [
        "There are some things to note about this difference:\n",
        "\n",
        "Our models (with an exception for the baseline) have been trained on ~18,000 (10% of batches) samples of sequences and labels rather than the full ~180,000 in the 20k RCT dataset.\n",
        "This is often the case in machine learning experiments though, make sure training works on a smaller number of samples, then upscale when needed (an extension to this project will be training a model on the full dataset).\n",
        "Our model's prediction performance levels have been evaluated on the validation dataset not the test dataset (we'll evaluate our best model on the test dataset shortly)."
      ],
      "metadata": {
        "id": "5rhcAAh9snGi"
      }
    },
    {
      "cell_type": "markdown",
      "source": [
        "## Save and load best performing model"
      ],
      "metadata": {
        "id": "WaXLUI6fzb0A"
      }
    },
    {
      "cell_type": "code",
      "source": [
        "# Save the best performing model to SavedModel format (default)\n",
        "model_5.save(\"skimlit_tribrid_model\")"
      ],
      "metadata": {
        "colab": {
          "base_uri": "https://localhost:8080/"
        },
        "id": "riY9tRb1zeXz",
        "outputId": "19f205db-615e-445a-d37b-f96e8766bf95"
      },
      "execution_count": 115,
      "outputs": [
        {
          "output_type": "stream",
          "name": "stderr",
          "text": [
            "WARNING:absl:Found untraced functions such as lstm_cell_4_layer_call_fn, lstm_cell_4_layer_call_and_return_conditional_losses, lstm_cell_5_layer_call_fn, lstm_cell_5_layer_call_and_return_conditional_losses while saving (showing 4 of 4). These functions will not be directly callable after loading.\n"
          ]
        }
      ]
    },
    {
      "cell_type": "code",
      "source": [
        "# Load in best performing model\n",
        "loaded_model = tf.keras.models.load_model(\"skimlit_tribrid_model\")"
      ],
      "metadata": {
        "id": "jFBx9uRyzhhV"
      },
      "execution_count": 116,
      "outputs": []
    },
    {
      "cell_type": "code",
      "source": [
        "# Make predictions with the loaded moel on the validation set\n",
        "loaded_pred_probs = loaded_model.predict(val_char_token_pos_dataset)\n",
        "loaded_preds = tf.argmax(loaded_pred_probs, axis=1)\n",
        "loaded_preds[:10]"
      ],
      "metadata": {
        "colab": {
          "base_uri": "https://localhost:8080/"
        },
        "id": "8cv3tByTzjUn",
        "outputId": "377d6831-3950-4a21-f188-5a1e980430e9"
      },
      "execution_count": 117,
      "outputs": [
        {
          "output_type": "stream",
          "name": "stdout",
          "text": [
            "945/945 [==============================] - 24s 22ms/step\n"
          ]
        },
        {
          "output_type": "execute_result",
          "data": {
            "text/plain": [
              "<tf.Tensor: shape=(10,), dtype=int64, numpy=array([0, 0, 3, 2, 2, 4, 4, 4, 4, 1])>"
            ]
          },
          "metadata": {},
          "execution_count": 117
        }
      ]
    },
    {
      "cell_type": "code",
      "source": [
        "# Calculate the results of our loaded model\n",
        "loaded_model_results = calculate_results(y_true=val_labels_encoded,\n",
        "                                         y_pred=loaded_preds)\n",
        "loaded_model_results"
      ],
      "metadata": {
        "colab": {
          "base_uri": "https://localhost:8080/"
        },
        "id": "MQAfQseezlD9",
        "outputId": "e3e48da6-856f-4c3e-fa1d-085f3e12f2f1"
      },
      "execution_count": 118,
      "outputs": [
        {
          "output_type": "execute_result",
          "data": {
            "text/plain": [
              "{'accuracy': 83.38408579372435,\n",
              " 'precision': 0.8331034208224197,\n",
              " 'recall': 0.8338408579372435,\n",
              " 'f1': 0.8328647172987476}"
            ]
          },
          "metadata": {},
          "execution_count": 118
        }
      ]
    },
    {
      "cell_type": "markdown",
      "source": [
        "Now let's compare our loaded model's predictions with the prediction results we obtained before saving our model."
      ],
      "metadata": {
        "id": "ZYXD98flz0En"
      }
    },
    {
      "cell_type": "code",
      "source": [
        "# Compare loaded model results with original trained model results (should be quite close)\n",
        "np.isclose(list(model_5_results.values()), list(loaded_model_results.values()), rtol=1e-02)"
      ],
      "metadata": {
        "colab": {
          "base_uri": "https://localhost:8080/"
        },
        "id": "P2PlCEIIz1it",
        "outputId": "27dfdbcb-caf1-444b-e1ee-f8bafa934cf2"
      },
      "execution_count": 120,
      "outputs": [
        {
          "output_type": "execute_result",
          "data": {
            "text/plain": [
              "array([ True,  True,  True,  True])"
            ]
          },
          "metadata": {},
          "execution_count": 120
        }
      ]
    },
    {
      "cell_type": "code",
      "source": [
        "assert model_5_results == loaded_model_results"
      ],
      "metadata": {
        "id": "DhVQmT5bznsX"
      },
      "execution_count": 119,
      "outputs": []
    },
    {
      "cell_type": "code",
      "source": [
        "# Check the loaded model summary\n",
        "loaded_model.summary()"
      ],
      "metadata": {
        "colab": {
          "base_uri": "https://localhost:8080/"
        },
        "id": "k2t-iVHOz5jb",
        "outputId": "31a33827-9349-439f-db1b-109b4a01b292"
      },
      "execution_count": 121,
      "outputs": [
        {
          "output_type": "stream",
          "name": "stdout",
          "text": [
            "Model: \"model_5_tribrid_embedding_model\"\n",
            "__________________________________________________________________________________________________\n",
            " Layer (type)                   Output Shape         Param #     Connected to                     \n",
            "==================================================================================================\n",
            " char_inputs (InputLayer)       [(None, 1)]          0           []                               \n",
            "                                                                                                  \n",
            " token_inputs (InputLayer)      [(None,)]            0           []                               \n",
            "                                                                                                  \n",
            " char_vectorizer (TextVectoriza  (None, 290)         0           ['char_inputs[0][0]']            \n",
            " tion)                                                                                            \n",
            "                                                                                                  \n",
            " universal_sentence_encoder (Ke  (None, 512)         256797824   ['token_inputs[0][0]']           \n",
            " rasLayer)                                                                                        \n",
            "                                                                                                  \n",
            " char_embed (Embedding)         (None, 290, 25)      700         ['char_vectorizer[0][0]']        \n",
            "                                                                                                  \n",
            " dense_7 (Dense)                (None, 128)          65664       ['universal_sentence_encoder[0][0\n",
            "                                                                 ]']                              \n",
            "                                                                                                  \n",
            " bidirectional_1 (Bidirectional  (None, 48)          9600        ['char_embed[0][0]']             \n",
            " )                                                                                                \n",
            "                                                                                                  \n",
            " char_token_hybrid_embedding (C  (None, 176)         0           ['dense_7[0][0]',                \n",
            " oncatenate)                                                      'bidirectional_1[0][0]']        \n",
            "                                                                                                  \n",
            " line_number_input (InputLayer)  [(None, 15)]        0           []                               \n",
            "                                                                                                  \n",
            " total_lines_input (InputLayer)  [(None, 20)]        0           []                               \n",
            "                                                                                                  \n",
            " dense_10 (Dense)               (None, 256)          45312       ['char_token_hybrid_embedding[0][\n",
            "                                                                 0]']                             \n",
            "                                                                                                  \n",
            " dense_8 (Dense)                (None, 32)           512         ['line_number_input[0][0]']      \n",
            "                                                                                                  \n",
            " dense_9 (Dense)                (None, 32)           672         ['total_lines_input[0][0]']      \n",
            "                                                                                                  \n",
            " dropout_2 (Dropout)            (None, 256)          0           ['dense_10[0][0]']               \n",
            "                                                                                                  \n",
            " char_token_positional_embeddin  (None, 320)         0           ['dense_8[0][0]',                \n",
            " g (Concatenate)                                                  'dense_9[0][0]',                \n",
            "                                                                  'dropout_2[0][0]']              \n",
            "                                                                                                  \n",
            " output_layer (Dense)           (None, 5)            1605        ['char_token_positional_embedding\n",
            "                                                                 [0][0]']                         \n",
            "                                                                                                  \n",
            "==================================================================================================\n",
            "Total params: 256,921,889\n",
            "Trainable params: 124,065\n",
            "Non-trainable params: 256,797,824\n",
            "__________________________________________________________________________________________________\n"
          ]
        }
      ]
    },
    {
      "cell_type": "markdown",
      "source": [
        "## Download and load in a pretrained model from Google Storage"
      ],
      "metadata": {
        "id": "CD25mhzozpsg"
      }
    },
    {
      "cell_type": "code",
      "source": [
        "import tensorflow as tf\n",
        "import tensorflow_hub as hub\n",
        "from tensorflow.keras.layers.experimental.preprocessing import TextVectorization"
      ],
      "metadata": {
        "id": "Mwuxd9gk0Cj_"
      },
      "execution_count": 122,
      "outputs": []
    },
    {
      "cell_type": "code",
      "source": [
        "!wget https://storage.googleapis.com/ztm_tf_course/skimlit/skimlit_tribrid_model.zip\n",
        "!mkdir skimlit_gs_model\n",
        "!unzip skimlit_tribrid_model.zip -d skimlit_gs_model"
      ],
      "metadata": {
        "colab": {
          "base_uri": "https://localhost:8080/"
        },
        "id": "tG4xJN0o0E0-",
        "outputId": "9df03e30-18ed-4a07-d01e-98808fb11880"
      },
      "execution_count": 123,
      "outputs": [
        {
          "output_type": "stream",
          "name": "stdout",
          "text": [
            "--2023-01-26 02:08:34--  https://storage.googleapis.com/ztm_tf_course/skimlit/skimlit_tribrid_model.zip\n",
            "Resolving storage.googleapis.com (storage.googleapis.com)... 142.251.12.128, 172.217.194.128, 74.125.200.128, ...\n",
            "Connecting to storage.googleapis.com (storage.googleapis.com)|142.251.12.128|:443... connected.\n",
            "HTTP request sent, awaiting response... 200 OK\n",
            "Length: 962561955 (918M) [application/zip]\n",
            "Saving to: ‘skimlit_tribrid_model.zip’\n",
            "\n",
            "skimlit_tribrid_mod 100%[===================>] 917.97M  22.4MB/s    in 41s     \n",
            "\n",
            "2023-01-26 02:09:15 (22.4 MB/s) - ‘skimlit_tribrid_model.zip’ saved [962561955/962561955]\n",
            "\n",
            "Archive:  skimlit_tribrid_model.zip\n",
            "   creating: skimlit_gs_model/skimlit_tribrid_model/\n",
            "   creating: skimlit_gs_model/skimlit_tribrid_model/variables/\n",
            "  inflating: skimlit_gs_model/skimlit_tribrid_model/variables/variables.index  \n",
            "  inflating: skimlit_gs_model/skimlit_tribrid_model/variables/variables.data-00000-of-00001  \n",
            "  inflating: skimlit_gs_model/skimlit_tribrid_model/keras_metadata.pb  \n",
            "  inflating: skimlit_gs_model/skimlit_tribrid_model/saved_model.pb  \n",
            "   creating: skimlit_gs_model/skimlit_tribrid_model/assets/\n"
          ]
        }
      ]
    },
    {
      "cell_type": "code",
      "source": [
        "# Load in downloaded Google Storage model\n",
        "#loaded_gs_model = tf.keras.models.load_model(\"skimlit_gs_model/skimlit_tribrid_model\")"
      ],
      "metadata": {
        "id": "5rxxqAKp0IN_"
      },
      "execution_count": 130,
      "outputs": []
    },
    {
      "cell_type": "code",
      "source": [
        "# Evalaute the loaded Google Storage model\n",
        "loaded_model.evaluate(val_char_token_pos_dataset)"
      ],
      "metadata": {
        "colab": {
          "base_uri": "https://localhost:8080/"
        },
        "id": "-kppc7210gdo",
        "outputId": "bba749b6-59b8-488e-a8d2-a1147ff2f424"
      },
      "execution_count": 131,
      "outputs": [
        {
          "output_type": "stream",
          "name": "stdout",
          "text": [
            "945/945 [==============================] - 24s 22ms/step - loss: 0.9358 - accuracy: 0.8338\n"
          ]
        },
        {
          "output_type": "execute_result",
          "data": {
            "text/plain": [
              "[0.9358450770378113, 0.8338408470153809]"
            ]
          },
          "metadata": {},
          "execution_count": 131
        }
      ]
    },
    {
      "cell_type": "markdown",
      "source": [
        "## Evaluate model on test dataset"
      ],
      "metadata": {
        "id": "6RLiW2ZQ0hvP"
      }
    },
    {
      "cell_type": "code",
      "source": [
        "# Create test dataset batch and prefetched\n",
        "test_pos_char_token_data = tf.data.Dataset.from_tensor_slices((test_line_numbers_one_hot,\n",
        "                                                               test_total_lines_one_hot,\n",
        "                                                               test_sentences,\n",
        "                                                               test_chars))\n",
        "test_pos_char_token_labels = tf.data.Dataset.from_tensor_slices(test_labels_one_hot)\n",
        "test_pos_char_token_dataset = tf.data.Dataset.zip((test_pos_char_token_data, test_pos_char_token_labels))\n",
        "test_pos_char_token_dataset = test_pos_char_token_dataset.batch(32).prefetch(tf.data.AUTOTUNE)\n",
        "\n",
        "# Check shapes\n",
        "test_pos_char_token_dataset"
      ],
      "metadata": {
        "colab": {
          "base_uri": "https://localhost:8080/"
        },
        "id": "Xei_NbK209Nu",
        "outputId": "581ec6c2-d18c-4689-d117-20f82ddeceaf"
      },
      "execution_count": 132,
      "outputs": [
        {
          "output_type": "execute_result",
          "data": {
            "text/plain": [
              "<PrefetchDataset element_spec=((TensorSpec(shape=(None, 15), dtype=tf.float32, name=None), TensorSpec(shape=(None, 20), dtype=tf.float32, name=None), TensorSpec(shape=(None,), dtype=tf.string, name=None), TensorSpec(shape=(None,), dtype=tf.string, name=None)), TensorSpec(shape=(None, 5), dtype=tf.float64, name=None))>"
            ]
          },
          "metadata": {},
          "execution_count": 132
        }
      ]
    },
    {
      "cell_type": "code",
      "source": [
        "# Make predictions on the test dataset\n",
        "test_pred_probs = loaded_model.predict(test_pos_char_token_dataset,\n",
        "                                       verbose=1)\n",
        "test_preds = tf.argmax(test_pred_probs, axis=1)\n",
        "test_preds[:10]"
      ],
      "metadata": {
        "colab": {
          "base_uri": "https://localhost:8080/"
        },
        "id": "bIXOp8fu1ALv",
        "outputId": "4208f5a2-0093-479d-b19c-d341dd5d8a4f"
      },
      "execution_count": 133,
      "outputs": [
        {
          "output_type": "stream",
          "name": "stdout",
          "text": [
            "942/942 [==============================] - 22s 24ms/step\n"
          ]
        },
        {
          "output_type": "execute_result",
          "data": {
            "text/plain": [
              "<tf.Tensor: shape=(10,), dtype=int64, numpy=array([3, 3, 2, 2, 4, 4, 4, 1, 1, 0])>"
            ]
          },
          "metadata": {},
          "execution_count": 133
        }
      ]
    },
    {
      "cell_type": "code",
      "source": [
        "# Evaluate loaded model test predictions\n",
        "loaded_model_test_results = calculate_results(y_true=test_labels_encoded,\n",
        "                                              y_pred=test_preds)\n",
        "loaded_model_test_results"
      ],
      "metadata": {
        "colab": {
          "base_uri": "https://localhost:8080/"
        },
        "id": "bIRGmKzq1CNY",
        "outputId": "6199ebaf-5e61-4447-c339-eb56b3f16b5e"
      },
      "execution_count": 134,
      "outputs": [
        {
          "output_type": "execute_result",
          "data": {
            "text/plain": [
              "{'accuracy': 82.87373485979758,\n",
              " 'precision': 0.8275514249943836,\n",
              " 'recall': 0.8287373485979758,\n",
              " 'f1': 0.8276242292633285}"
            ]
          },
          "metadata": {},
          "execution_count": 134
        }
      ]
    },
    {
      "cell_type": "code",
      "source": [
        "all_model_results"
      ],
      "metadata": {
        "colab": {
          "base_uri": "https://localhost:8080/",
          "height": 238
        },
        "id": "sz6J_XYb1JK1",
        "outputId": "91431086-2ca5-491b-bf9f-af39ed7b2a8f"
      },
      "execution_count": 135,
      "outputs": [
        {
          "output_type": "execute_result",
          "data": {
            "text/plain": [
              "                                     accuracy  precision    recall        f1\n",
              "model_0_baseline                     0.721832   0.718647  0.721832  0.698925\n",
              "model_1_custom_token_embedding       0.785317   0.782248  0.785317  0.783016\n",
              "model_2_pretrained_token_embedding   0.714120   0.714875  0.714120  0.711157\n",
              "model_3_custom_char_embedding        0.650900   0.646344  0.650900  0.640346\n",
              "model_4_hybrid_char_token_embedding  0.736396   0.736087  0.736396  0.733721\n",
              "model_5_pos_char_token_embedding     0.833841   0.833103  0.833841  0.832865"
            ],
            "text/html": [
              "\n",
              "  <div id=\"df-71d69692-c9e1-4f1b-b8ed-779ea00b7389\">\n",
              "    <div class=\"colab-df-container\">\n",
              "      <div>\n",
              "<style scoped>\n",
              "    .dataframe tbody tr th:only-of-type {\n",
              "        vertical-align: middle;\n",
              "    }\n",
              "\n",
              "    .dataframe tbody tr th {\n",
              "        vertical-align: top;\n",
              "    }\n",
              "\n",
              "    .dataframe thead th {\n",
              "        text-align: right;\n",
              "    }\n",
              "</style>\n",
              "<table border=\"1\" class=\"dataframe\">\n",
              "  <thead>\n",
              "    <tr style=\"text-align: right;\">\n",
              "      <th></th>\n",
              "      <th>accuracy</th>\n",
              "      <th>precision</th>\n",
              "      <th>recall</th>\n",
              "      <th>f1</th>\n",
              "    </tr>\n",
              "  </thead>\n",
              "  <tbody>\n",
              "    <tr>\n",
              "      <th>model_0_baseline</th>\n",
              "      <td>0.721832</td>\n",
              "      <td>0.718647</td>\n",
              "      <td>0.721832</td>\n",
              "      <td>0.698925</td>\n",
              "    </tr>\n",
              "    <tr>\n",
              "      <th>model_1_custom_token_embedding</th>\n",
              "      <td>0.785317</td>\n",
              "      <td>0.782248</td>\n",
              "      <td>0.785317</td>\n",
              "      <td>0.783016</td>\n",
              "    </tr>\n",
              "    <tr>\n",
              "      <th>model_2_pretrained_token_embedding</th>\n",
              "      <td>0.714120</td>\n",
              "      <td>0.714875</td>\n",
              "      <td>0.714120</td>\n",
              "      <td>0.711157</td>\n",
              "    </tr>\n",
              "    <tr>\n",
              "      <th>model_3_custom_char_embedding</th>\n",
              "      <td>0.650900</td>\n",
              "      <td>0.646344</td>\n",
              "      <td>0.650900</td>\n",
              "      <td>0.640346</td>\n",
              "    </tr>\n",
              "    <tr>\n",
              "      <th>model_4_hybrid_char_token_embedding</th>\n",
              "      <td>0.736396</td>\n",
              "      <td>0.736087</td>\n",
              "      <td>0.736396</td>\n",
              "      <td>0.733721</td>\n",
              "    </tr>\n",
              "    <tr>\n",
              "      <th>model_5_pos_char_token_embedding</th>\n",
              "      <td>0.833841</td>\n",
              "      <td>0.833103</td>\n",
              "      <td>0.833841</td>\n",
              "      <td>0.832865</td>\n",
              "    </tr>\n",
              "  </tbody>\n",
              "</table>\n",
              "</div>\n",
              "      <button class=\"colab-df-convert\" onclick=\"convertToInteractive('df-71d69692-c9e1-4f1b-b8ed-779ea00b7389')\"\n",
              "              title=\"Convert this dataframe to an interactive table.\"\n",
              "              style=\"display:none;\">\n",
              "        \n",
              "  <svg xmlns=\"http://www.w3.org/2000/svg\" height=\"24px\"viewBox=\"0 0 24 24\"\n",
              "       width=\"24px\">\n",
              "    <path d=\"M0 0h24v24H0V0z\" fill=\"none\"/>\n",
              "    <path d=\"M18.56 5.44l.94 2.06.94-2.06 2.06-.94-2.06-.94-.94-2.06-.94 2.06-2.06.94zm-11 1L8.5 8.5l.94-2.06 2.06-.94-2.06-.94L8.5 2.5l-.94 2.06-2.06.94zm10 10l.94 2.06.94-2.06 2.06-.94-2.06-.94-.94-2.06-.94 2.06-2.06.94z\"/><path d=\"M17.41 7.96l-1.37-1.37c-.4-.4-.92-.59-1.43-.59-.52 0-1.04.2-1.43.59L10.3 9.45l-7.72 7.72c-.78.78-.78 2.05 0 2.83L4 21.41c.39.39.9.59 1.41.59.51 0 1.02-.2 1.41-.59l7.78-7.78 2.81-2.81c.8-.78.8-2.07 0-2.86zM5.41 20L4 18.59l7.72-7.72 1.47 1.35L5.41 20z\"/>\n",
              "  </svg>\n",
              "      </button>\n",
              "      \n",
              "  <style>\n",
              "    .colab-df-container {\n",
              "      display:flex;\n",
              "      flex-wrap:wrap;\n",
              "      gap: 12px;\n",
              "    }\n",
              "\n",
              "    .colab-df-convert {\n",
              "      background-color: #E8F0FE;\n",
              "      border: none;\n",
              "      border-radius: 50%;\n",
              "      cursor: pointer;\n",
              "      display: none;\n",
              "      fill: #1967D2;\n",
              "      height: 32px;\n",
              "      padding: 0 0 0 0;\n",
              "      width: 32px;\n",
              "    }\n",
              "\n",
              "    .colab-df-convert:hover {\n",
              "      background-color: #E2EBFA;\n",
              "      box-shadow: 0px 1px 2px rgba(60, 64, 67, 0.3), 0px 1px 3px 1px rgba(60, 64, 67, 0.15);\n",
              "      fill: #174EA6;\n",
              "    }\n",
              "\n",
              "    [theme=dark] .colab-df-convert {\n",
              "      background-color: #3B4455;\n",
              "      fill: #D2E3FC;\n",
              "    }\n",
              "\n",
              "    [theme=dark] .colab-df-convert:hover {\n",
              "      background-color: #434B5C;\n",
              "      box-shadow: 0px 1px 3px 1px rgba(0, 0, 0, 0.15);\n",
              "      filter: drop-shadow(0px 1px 2px rgba(0, 0, 0, 0.3));\n",
              "      fill: #FFFFFF;\n",
              "    }\n",
              "  </style>\n",
              "\n",
              "      <script>\n",
              "        const buttonEl =\n",
              "          document.querySelector('#df-71d69692-c9e1-4f1b-b8ed-779ea00b7389 button.colab-df-convert');\n",
              "        buttonEl.style.display =\n",
              "          google.colab.kernel.accessAllowed ? 'block' : 'none';\n",
              "\n",
              "        async function convertToInteractive(key) {\n",
              "          const element = document.querySelector('#df-71d69692-c9e1-4f1b-b8ed-779ea00b7389');\n",
              "          const dataTable =\n",
              "            await google.colab.kernel.invokeFunction('convertToInteractive',\n",
              "                                                     [key], {});\n",
              "          if (!dataTable) return;\n",
              "\n",
              "          const docLinkHtml = 'Like what you see? Visit the ' +\n",
              "            '<a target=\"_blank\" href=https://colab.research.google.com/notebooks/data_table.ipynb>data table notebook</a>'\n",
              "            + ' to learn more about interactive tables.';\n",
              "          element.innerHTML = '';\n",
              "          dataTable['output_type'] = 'display_data';\n",
              "          await google.colab.output.renderOutput(dataTable, element);\n",
              "          const docLink = document.createElement('div');\n",
              "          docLink.innerHTML = docLinkHtml;\n",
              "          element.appendChild(docLink);\n",
              "        }\n",
              "      </script>\n",
              "    </div>\n",
              "  </div>\n",
              "  "
            ]
          },
          "metadata": {},
          "execution_count": 135
        }
      ]
    },
    {
      "cell_type": "markdown",
      "source": [
        "## Find most wrong"
      ],
      "metadata": {
        "id": "0KLY_2eN1VMo"
      }
    },
    {
      "cell_type": "code",
      "source": [
        "%%time\n",
        "# Get list of class names of test predictions\n",
        "test_pred_classes = [label_encoder.classes_[pred] for pred in test_preds]\n",
        "test_pred_classes"
      ],
      "metadata": {
        "colab": {
          "base_uri": "https://localhost:8080/"
        },
        "id": "QJJk6ble1Yt9",
        "outputId": "b7262cd0-6483-4a7d-ea67-c654fb5f3ef6"
      },
      "execution_count": 136,
      "outputs": [
        {
          "output_type": "stream",
          "name": "stdout",
          "text": [
            "CPU times: user 11.6 s, sys: 616 ms, total: 12.2 s\n",
            "Wall time: 10.6 s\n"
          ]
        },
        {
          "output_type": "execute_result",
          "data": {
            "text/plain": [
              "['OBJECTIVE',\n",
              " 'OBJECTIVE',\n",
              " 'METHODS',\n",
              " 'METHODS',\n",
              " 'RESULTS',\n",
              " 'RESULTS',\n",
              " 'RESULTS',\n",
              " 'CONCLUSIONS',\n",
              " 'CONCLUSIONS',\n",
              " 'BACKGROUND',\n",
              " 'OBJECTIVE',\n",
              " 'METHODS',\n",
              " 'METHODS',\n",
              " 'METHODS',\n",
              " 'RESULTS',\n",
              " 'RESULTS',\n",
              " 'RESULTS',\n",
              " 'RESULTS',\n",
              " 'RESULTS',\n",
              " 'RESULTS',\n",
              " 'CONCLUSIONS',\n",
              " 'CONCLUSIONS',\n",
              " 'BACKGROUND',\n",
              " 'OBJECTIVE',\n",
              " 'METHODS',\n",
              " 'METHODS',\n",
              " 'RESULTS',\n",
              " 'RESULTS',\n",
              " 'RESULTS',\n",
              " 'CONCLUSIONS',\n",
              " 'CONCLUSIONS',\n",
              " 'BACKGROUND',\n",
              " 'METHODS',\n",
              " 'BACKGROUND',\n",
              " 'METHODS',\n",
              " 'METHODS',\n",
              " 'METHODS',\n",
              " 'METHODS',\n",
              " 'RESULTS',\n",
              " 'RESULTS',\n",
              " 'RESULTS',\n",
              " 'RESULTS',\n",
              " 'CONCLUSIONS',\n",
              " 'CONCLUSIONS',\n",
              " 'BACKGROUND',\n",
              " 'BACKGROUND',\n",
              " 'BACKGROUND',\n",
              " 'OBJECTIVE',\n",
              " 'METHODS',\n",
              " 'METHODS',\n",
              " 'METHODS',\n",
              " 'METHODS',\n",
              " 'METHODS',\n",
              " 'METHODS',\n",
              " 'RESULTS',\n",
              " 'RESULTS',\n",
              " 'CONCLUSIONS',\n",
              " 'CONCLUSIONS',\n",
              " 'OBJECTIVE',\n",
              " 'METHODS',\n",
              " 'METHODS',\n",
              " 'METHODS',\n",
              " 'METHODS',\n",
              " 'METHODS',\n",
              " 'RESULTS',\n",
              " 'RESULTS',\n",
              " 'RESULTS',\n",
              " 'CONCLUSIONS',\n",
              " 'RESULTS',\n",
              " 'OBJECTIVE',\n",
              " 'METHODS',\n",
              " 'METHODS',\n",
              " 'METHODS',\n",
              " 'RESULTS',\n",
              " 'METHODS',\n",
              " 'RESULTS',\n",
              " 'RESULTS',\n",
              " 'RESULTS',\n",
              " 'RESULTS',\n",
              " 'CONCLUSIONS',\n",
              " 'CONCLUSIONS',\n",
              " 'BACKGROUND',\n",
              " 'OBJECTIVE',\n",
              " 'METHODS',\n",
              " 'METHODS',\n",
              " 'METHODS',\n",
              " 'RESULTS',\n",
              " 'METHODS',\n",
              " 'METHODS',\n",
              " 'METHODS',\n",
              " 'RESULTS',\n",
              " 'RESULTS',\n",
              " 'RESULTS',\n",
              " 'CONCLUSIONS',\n",
              " 'BACKGROUND',\n",
              " 'OBJECTIVE',\n",
              " 'METHODS',\n",
              " 'RESULTS',\n",
              " 'RESULTS',\n",
              " 'RESULTS',\n",
              " 'CONCLUSIONS',\n",
              " 'OBJECTIVE',\n",
              " 'METHODS',\n",
              " 'METHODS',\n",
              " 'METHODS',\n",
              " 'METHODS',\n",
              " 'METHODS',\n",
              " 'METHODS',\n",
              " 'METHODS',\n",
              " 'RESULTS',\n",
              " 'RESULTS',\n",
              " 'RESULTS',\n",
              " 'CONCLUSIONS',\n",
              " 'BACKGROUND',\n",
              " 'BACKGROUND',\n",
              " 'METHODS',\n",
              " 'METHODS',\n",
              " 'METHODS',\n",
              " 'METHODS',\n",
              " 'METHODS',\n",
              " 'METHODS',\n",
              " 'BACKGROUND',\n",
              " 'RESULTS',\n",
              " 'RESULTS',\n",
              " 'RESULTS',\n",
              " 'RESULTS',\n",
              " 'RESULTS',\n",
              " 'CONCLUSIONS',\n",
              " 'BACKGROUND',\n",
              " 'OBJECTIVE',\n",
              " 'METHODS',\n",
              " 'METHODS',\n",
              " 'RESULTS',\n",
              " 'METHODS',\n",
              " 'RESULTS',\n",
              " 'RESULTS',\n",
              " 'RESULTS',\n",
              " 'RESULTS',\n",
              " 'OBJECTIVE',\n",
              " 'METHODS',\n",
              " 'METHODS',\n",
              " 'METHODS',\n",
              " 'RESULTS',\n",
              " 'RESULTS',\n",
              " 'RESULTS',\n",
              " 'RESULTS',\n",
              " 'RESULTS',\n",
              " 'RESULTS',\n",
              " 'CONCLUSIONS',\n",
              " 'CONCLUSIONS',\n",
              " 'BACKGROUND',\n",
              " 'BACKGROUND',\n",
              " 'METHODS',\n",
              " 'BACKGROUND',\n",
              " 'METHODS',\n",
              " 'METHODS',\n",
              " 'METHODS',\n",
              " 'METHODS',\n",
              " 'METHODS',\n",
              " 'METHODS',\n",
              " 'CONCLUSIONS',\n",
              " 'CONCLUSIONS',\n",
              " 'RESULTS',\n",
              " 'BACKGROUND',\n",
              " 'CONCLUSIONS',\n",
              " 'BACKGROUND',\n",
              " 'BACKGROUND',\n",
              " 'METHODS',\n",
              " 'METHODS',\n",
              " 'METHODS',\n",
              " 'RESULTS',\n",
              " 'RESULTS',\n",
              " 'RESULTS',\n",
              " 'RESULTS',\n",
              " 'RESULTS',\n",
              " 'CONCLUSIONS',\n",
              " 'OBJECTIVE',\n",
              " 'OBJECTIVE',\n",
              " 'METHODS',\n",
              " 'METHODS',\n",
              " 'METHODS',\n",
              " 'RESULTS',\n",
              " 'RESULTS',\n",
              " 'RESULTS',\n",
              " 'RESULTS',\n",
              " 'RESULTS',\n",
              " 'RESULTS',\n",
              " 'RESULTS',\n",
              " 'CONCLUSIONS',\n",
              " 'BACKGROUND',\n",
              " 'BACKGROUND',\n",
              " 'METHODS',\n",
              " 'METHODS',\n",
              " 'METHODS',\n",
              " 'METHODS',\n",
              " 'BACKGROUND',\n",
              " 'RESULTS',\n",
              " 'RESULTS',\n",
              " 'BACKGROUND',\n",
              " 'RESULTS',\n",
              " 'RESULTS',\n",
              " 'CONCLUSIONS',\n",
              " 'CONCLUSIONS',\n",
              " 'CONCLUSIONS',\n",
              " 'OBJECTIVE',\n",
              " 'METHODS',\n",
              " 'METHODS',\n",
              " 'METHODS',\n",
              " 'METHODS',\n",
              " 'RESULTS',\n",
              " 'RESULTS',\n",
              " 'RESULTS',\n",
              " 'RESULTS',\n",
              " 'CONCLUSIONS',\n",
              " 'BACKGROUND',\n",
              " 'METHODS',\n",
              " 'METHODS',\n",
              " 'METHODS',\n",
              " 'METHODS',\n",
              " 'METHODS',\n",
              " 'RESULTS',\n",
              " 'RESULTS',\n",
              " 'RESULTS',\n",
              " 'RESULTS',\n",
              " 'CONCLUSIONS',\n",
              " 'RESULTS',\n",
              " 'RESULTS',\n",
              " 'BACKGROUND',\n",
              " 'OBJECTIVE',\n",
              " 'BACKGROUND',\n",
              " 'METHODS',\n",
              " 'METHODS',\n",
              " 'RESULTS',\n",
              " 'METHODS',\n",
              " 'METHODS',\n",
              " 'RESULTS',\n",
              " 'RESULTS',\n",
              " 'CONCLUSIONS',\n",
              " 'OBJECTIVE',\n",
              " 'BACKGROUND',\n",
              " 'OBJECTIVE',\n",
              " 'METHODS',\n",
              " 'METHODS',\n",
              " 'METHODS',\n",
              " 'RESULTS',\n",
              " 'RESULTS',\n",
              " 'RESULTS',\n",
              " 'CONCLUSIONS',\n",
              " 'CONCLUSIONS',\n",
              " 'BACKGROUND',\n",
              " 'METHODS',\n",
              " 'METHODS',\n",
              " 'METHODS',\n",
              " 'RESULTS',\n",
              " 'RESULTS',\n",
              " 'RESULTS',\n",
              " 'RESULTS',\n",
              " 'RESULTS',\n",
              " 'CONCLUSIONS',\n",
              " 'CONCLUSIONS',\n",
              " 'BACKGROUND',\n",
              " 'OBJECTIVE',\n",
              " 'METHODS',\n",
              " 'METHODS',\n",
              " 'METHODS',\n",
              " 'METHODS',\n",
              " 'METHODS',\n",
              " 'METHODS',\n",
              " 'RESULTS',\n",
              " 'METHODS',\n",
              " 'RESULTS',\n",
              " 'RESULTS',\n",
              " 'RESULTS',\n",
              " 'CONCLUSIONS',\n",
              " 'RESULTS',\n",
              " 'CONCLUSIONS',\n",
              " 'METHODS',\n",
              " 'CONCLUSIONS',\n",
              " 'BACKGROUND',\n",
              " 'OBJECTIVE',\n",
              " 'METHODS',\n",
              " 'METHODS',\n",
              " 'METHODS',\n",
              " 'METHODS',\n",
              " 'METHODS',\n",
              " 'RESULTS',\n",
              " 'METHODS',\n",
              " 'CONCLUSIONS',\n",
              " 'BACKGROUND',\n",
              " 'BACKGROUND',\n",
              " 'METHODS',\n",
              " 'METHODS',\n",
              " 'METHODS',\n",
              " 'METHODS',\n",
              " 'RESULTS',\n",
              " 'RESULTS',\n",
              " 'RESULTS',\n",
              " 'RESULTS',\n",
              " 'CONCLUSIONS',\n",
              " 'CONCLUSIONS',\n",
              " 'BACKGROUND',\n",
              " 'BACKGROUND',\n",
              " 'METHODS',\n",
              " 'METHODS',\n",
              " 'METHODS',\n",
              " 'RESULTS',\n",
              " 'RESULTS',\n",
              " 'RESULTS',\n",
              " 'CONCLUSIONS',\n",
              " 'CONCLUSIONS',\n",
              " 'CONCLUSIONS',\n",
              " 'OBJECTIVE',\n",
              " 'METHODS',\n",
              " 'METHODS',\n",
              " 'METHODS',\n",
              " 'RESULTS',\n",
              " 'RESULTS',\n",
              " 'RESULTS',\n",
              " 'RESULTS',\n",
              " 'RESULTS',\n",
              " 'RESULTS',\n",
              " 'BACKGROUND',\n",
              " 'METHODS',\n",
              " 'METHODS',\n",
              " 'RESULTS',\n",
              " 'RESULTS',\n",
              " 'RESULTS',\n",
              " 'RESULTS',\n",
              " 'CONCLUSIONS',\n",
              " 'BACKGROUND',\n",
              " 'BACKGROUND',\n",
              " 'METHODS',\n",
              " 'METHODS',\n",
              " 'RESULTS',\n",
              " 'RESULTS',\n",
              " 'RESULTS',\n",
              " 'RESULTS',\n",
              " 'RESULTS',\n",
              " 'RESULTS',\n",
              " 'CONCLUSIONS',\n",
              " 'CONCLUSIONS',\n",
              " 'OBJECTIVE',\n",
              " 'METHODS',\n",
              " 'METHODS',\n",
              " 'METHODS',\n",
              " 'METHODS',\n",
              " 'RESULTS',\n",
              " 'RESULTS',\n",
              " 'RESULTS',\n",
              " 'RESULTS',\n",
              " 'RESULTS',\n",
              " 'CONCLUSIONS',\n",
              " 'RESULTS',\n",
              " 'BACKGROUND',\n",
              " 'BACKGROUND',\n",
              " 'BACKGROUND',\n",
              " 'METHODS',\n",
              " 'METHODS',\n",
              " 'METHODS',\n",
              " 'METHODS',\n",
              " 'RESULTS',\n",
              " 'RESULTS',\n",
              " 'RESULTS',\n",
              " 'RESULTS',\n",
              " 'RESULTS',\n",
              " 'RESULTS',\n",
              " 'RESULTS',\n",
              " 'RESULTS',\n",
              " 'CONCLUSIONS',\n",
              " 'CONCLUSIONS',\n",
              " 'CONCLUSIONS',\n",
              " 'BACKGROUND',\n",
              " 'BACKGROUND',\n",
              " 'BACKGROUND',\n",
              " 'METHODS',\n",
              " 'METHODS',\n",
              " 'RESULTS',\n",
              " 'METHODS',\n",
              " 'RESULTS',\n",
              " 'RESULTS',\n",
              " 'RESULTS',\n",
              " 'RESULTS',\n",
              " 'RESULTS',\n",
              " 'RESULTS',\n",
              " 'CONCLUSIONS',\n",
              " 'CONCLUSIONS',\n",
              " 'BACKGROUND',\n",
              " 'OBJECTIVE',\n",
              " 'RESULTS',\n",
              " 'RESULTS',\n",
              " 'METHODS',\n",
              " 'RESULTS',\n",
              " 'RESULTS',\n",
              " 'RESULTS',\n",
              " 'RESULTS',\n",
              " 'RESULTS',\n",
              " 'CONCLUSIONS',\n",
              " 'CONCLUSIONS',\n",
              " 'OBJECTIVE',\n",
              " 'OBJECTIVE',\n",
              " 'METHODS',\n",
              " 'METHODS',\n",
              " 'METHODS',\n",
              " 'METHODS',\n",
              " 'RESULTS',\n",
              " 'RESULTS',\n",
              " 'RESULTS',\n",
              " 'CONCLUSIONS',\n",
              " 'OBJECTIVE',\n",
              " 'METHODS',\n",
              " 'METHODS',\n",
              " 'METHODS',\n",
              " 'RESULTS',\n",
              " 'RESULTS',\n",
              " 'RESULTS',\n",
              " 'RESULTS',\n",
              " 'RESULTS',\n",
              " 'CONCLUSIONS',\n",
              " 'CONCLUSIONS',\n",
              " 'OBJECTIVE',\n",
              " 'METHODS',\n",
              " 'METHODS',\n",
              " 'METHODS',\n",
              " 'RESULTS',\n",
              " 'RESULTS',\n",
              " 'RESULTS',\n",
              " 'RESULTS',\n",
              " 'RESULTS',\n",
              " 'RESULTS',\n",
              " 'RESULTS',\n",
              " 'CONCLUSIONS',\n",
              " 'OBJECTIVE',\n",
              " 'OBJECTIVE',\n",
              " 'RESULTS',\n",
              " 'RESULTS',\n",
              " 'RESULTS',\n",
              " 'RESULTS',\n",
              " 'METHODS',\n",
              " 'METHODS',\n",
              " 'RESULTS',\n",
              " 'BACKGROUND',\n",
              " 'BACKGROUND',\n",
              " 'METHODS',\n",
              " 'METHODS',\n",
              " 'RESULTS',\n",
              " 'RESULTS',\n",
              " 'RESULTS',\n",
              " 'RESULTS',\n",
              " 'CONCLUSIONS',\n",
              " 'CONCLUSIONS',\n",
              " 'CONCLUSIONS',\n",
              " 'BACKGROUND',\n",
              " 'BACKGROUND',\n",
              " 'BACKGROUND',\n",
              " 'BACKGROUND',\n",
              " 'METHODS',\n",
              " 'METHODS',\n",
              " 'METHODS',\n",
              " 'RESULTS',\n",
              " 'CONCLUSIONS',\n",
              " 'METHODS',\n",
              " 'CONCLUSIONS',\n",
              " 'BACKGROUND',\n",
              " 'BACKGROUND',\n",
              " 'BACKGROUND',\n",
              " 'BACKGROUND',\n",
              " 'METHODS',\n",
              " 'METHODS',\n",
              " 'METHODS',\n",
              " 'RESULTS',\n",
              " 'RESULTS',\n",
              " 'RESULTS',\n",
              " 'RESULTS',\n",
              " 'CONCLUSIONS',\n",
              " 'CONCLUSIONS',\n",
              " 'CONCLUSIONS',\n",
              " 'CONCLUSIONS',\n",
              " 'BACKGROUND',\n",
              " 'BACKGROUND',\n",
              " 'BACKGROUND',\n",
              " 'METHODS',\n",
              " 'METHODS',\n",
              " 'METHODS',\n",
              " 'METHODS',\n",
              " 'RESULTS',\n",
              " 'RESULTS',\n",
              " 'RESULTS',\n",
              " 'RESULTS',\n",
              " 'CONCLUSIONS',\n",
              " 'CONCLUSIONS',\n",
              " 'CONCLUSIONS',\n",
              " 'BACKGROUND',\n",
              " 'BACKGROUND',\n",
              " 'BACKGROUND',\n",
              " 'OBJECTIVE',\n",
              " 'METHODS',\n",
              " 'METHODS',\n",
              " 'RESULTS',\n",
              " 'RESULTS',\n",
              " 'RESULTS',\n",
              " 'CONCLUSIONS',\n",
              " 'CONCLUSIONS',\n",
              " 'BACKGROUND',\n",
              " 'BACKGROUND',\n",
              " 'METHODS',\n",
              " 'METHODS',\n",
              " 'RESULTS',\n",
              " 'RESULTS',\n",
              " 'RESULTS',\n",
              " 'RESULTS',\n",
              " 'RESULTS',\n",
              " 'CONCLUSIONS',\n",
              " 'CONCLUSIONS',\n",
              " 'BACKGROUND',\n",
              " 'OBJECTIVE',\n",
              " 'METHODS',\n",
              " 'METHODS',\n",
              " 'METHODS',\n",
              " 'RESULTS',\n",
              " 'RESULTS',\n",
              " 'RESULTS',\n",
              " 'RESULTS',\n",
              " 'RESULTS',\n",
              " 'CONCLUSIONS',\n",
              " 'CONCLUSIONS',\n",
              " 'BACKGROUND',\n",
              " 'OBJECTIVE',\n",
              " 'METHODS',\n",
              " 'RESULTS',\n",
              " 'METHODS',\n",
              " 'RESULTS',\n",
              " 'RESULTS',\n",
              " 'CONCLUSIONS',\n",
              " 'CONCLUSIONS',\n",
              " 'OBJECTIVE',\n",
              " 'METHODS',\n",
              " 'METHODS',\n",
              " 'RESULTS',\n",
              " 'RESULTS',\n",
              " 'RESULTS',\n",
              " 'RESULTS',\n",
              " 'RESULTS',\n",
              " 'CONCLUSIONS',\n",
              " 'BACKGROUND',\n",
              " 'BACKGROUND',\n",
              " 'METHODS',\n",
              " 'METHODS',\n",
              " 'METHODS',\n",
              " 'RESULTS',\n",
              " 'RESULTS',\n",
              " 'RESULTS',\n",
              " 'RESULTS',\n",
              " 'RESULTS',\n",
              " 'RESULTS',\n",
              " 'CONCLUSIONS',\n",
              " 'BACKGROUND',\n",
              " 'BACKGROUND',\n",
              " 'BACKGROUND',\n",
              " 'BACKGROUND',\n",
              " 'OBJECTIVE',\n",
              " 'METHODS',\n",
              " 'METHODS',\n",
              " 'METHODS',\n",
              " 'METHODS',\n",
              " 'METHODS',\n",
              " 'RESULTS',\n",
              " 'RESULTS',\n",
              " 'RESULTS',\n",
              " 'CONCLUSIONS',\n",
              " 'CONCLUSIONS',\n",
              " 'OBJECTIVE',\n",
              " 'OBJECTIVE',\n",
              " 'METHODS',\n",
              " 'METHODS',\n",
              " 'RESULTS',\n",
              " 'RESULTS',\n",
              " 'RESULTS',\n",
              " 'CONCLUSIONS',\n",
              " 'CONCLUSIONS',\n",
              " 'BACKGROUND',\n",
              " 'BACKGROUND',\n",
              " 'BACKGROUND',\n",
              " 'METHODS',\n",
              " 'METHODS',\n",
              " 'METHODS',\n",
              " 'METHODS',\n",
              " 'METHODS',\n",
              " 'METHODS',\n",
              " 'RESULTS',\n",
              " 'RESULTS',\n",
              " 'RESULTS',\n",
              " 'CONCLUSIONS',\n",
              " 'METHODS',\n",
              " 'METHODS',\n",
              " 'RESULTS',\n",
              " 'RESULTS',\n",
              " 'RESULTS',\n",
              " 'RESULTS',\n",
              " 'BACKGROUND',\n",
              " 'OBJECTIVE',\n",
              " 'METHODS',\n",
              " 'METHODS',\n",
              " 'METHODS',\n",
              " 'RESULTS',\n",
              " 'METHODS',\n",
              " 'RESULTS',\n",
              " 'RESULTS',\n",
              " 'RESULTS',\n",
              " 'RESULTS',\n",
              " 'CONCLUSIONS',\n",
              " 'CONCLUSIONS',\n",
              " 'CONCLUSIONS',\n",
              " 'CONCLUSIONS',\n",
              " 'BACKGROUND',\n",
              " 'BACKGROUND',\n",
              " 'METHODS',\n",
              " 'METHODS',\n",
              " 'RESULTS',\n",
              " 'METHODS',\n",
              " 'METHODS',\n",
              " 'METHODS',\n",
              " 'RESULTS',\n",
              " 'RESULTS',\n",
              " 'CONCLUSIONS',\n",
              " 'CONCLUSIONS',\n",
              " 'CONCLUSIONS',\n",
              " 'BACKGROUND',\n",
              " 'BACKGROUND',\n",
              " 'BACKGROUND',\n",
              " 'METHODS',\n",
              " 'METHODS',\n",
              " 'RESULTS',\n",
              " 'RESULTS',\n",
              " 'RESULTS',\n",
              " 'RESULTS',\n",
              " 'RESULTS',\n",
              " 'RESULTS',\n",
              " 'CONCLUSIONS',\n",
              " 'CONCLUSIONS',\n",
              " 'BACKGROUND',\n",
              " 'OBJECTIVE',\n",
              " 'METHODS',\n",
              " 'METHODS',\n",
              " 'RESULTS',\n",
              " 'RESULTS',\n",
              " 'RESULTS',\n",
              " 'CONCLUSIONS',\n",
              " 'CONCLUSIONS',\n",
              " 'OBJECTIVE',\n",
              " 'METHODS',\n",
              " 'METHODS',\n",
              " 'CONCLUSIONS',\n",
              " 'METHODS',\n",
              " 'CONCLUSIONS',\n",
              " 'RESULTS',\n",
              " 'OBJECTIVE',\n",
              " 'BACKGROUND',\n",
              " 'BACKGROUND',\n",
              " 'METHODS',\n",
              " 'METHODS',\n",
              " 'METHODS',\n",
              " 'METHODS',\n",
              " 'RESULTS',\n",
              " 'RESULTS',\n",
              " 'METHODS',\n",
              " 'METHODS',\n",
              " 'CONCLUSIONS',\n",
              " 'CONCLUSIONS',\n",
              " 'CONCLUSIONS',\n",
              " 'CONCLUSIONS',\n",
              " 'CONCLUSIONS',\n",
              " 'OBJECTIVE',\n",
              " 'METHODS',\n",
              " 'METHODS',\n",
              " 'RESULTS',\n",
              " 'RESULTS',\n",
              " 'METHODS',\n",
              " 'RESULTS',\n",
              " 'CONCLUSIONS',\n",
              " 'OBJECTIVE',\n",
              " 'BACKGROUND',\n",
              " 'METHODS',\n",
              " 'METHODS',\n",
              " 'METHODS',\n",
              " 'METHODS',\n",
              " 'RESULTS',\n",
              " 'RESULTS',\n",
              " 'RESULTS',\n",
              " 'RESULTS',\n",
              " 'RESULTS',\n",
              " 'RESULTS',\n",
              " 'CONCLUSIONS',\n",
              " 'CONCLUSIONS',\n",
              " 'BACKGROUND',\n",
              " 'BACKGROUND',\n",
              " 'BACKGROUND',\n",
              " 'METHODS',\n",
              " 'METHODS',\n",
              " 'METHODS',\n",
              " 'METHODS',\n",
              " 'RESULTS',\n",
              " 'METHODS',\n",
              " 'RESULTS',\n",
              " 'RESULTS',\n",
              " 'CONCLUSIONS',\n",
              " 'CONCLUSIONS',\n",
              " 'CONCLUSIONS',\n",
              " 'CONCLUSIONS',\n",
              " 'OBJECTIVE',\n",
              " 'METHODS',\n",
              " 'METHODS',\n",
              " 'METHODS',\n",
              " 'METHODS',\n",
              " 'METHODS',\n",
              " 'METHODS',\n",
              " 'RESULTS',\n",
              " 'RESULTS',\n",
              " 'RESULTS',\n",
              " 'RESULTS',\n",
              " 'RESULTS',\n",
              " 'RESULTS',\n",
              " 'CONCLUSIONS',\n",
              " 'CONCLUSIONS',\n",
              " 'BACKGROUND',\n",
              " 'METHODS',\n",
              " 'BACKGROUND',\n",
              " 'BACKGROUND',\n",
              " 'METHODS',\n",
              " 'RESULTS',\n",
              " 'METHODS',\n",
              " 'RESULTS',\n",
              " 'RESULTS',\n",
              " 'RESULTS',\n",
              " 'CONCLUSIONS',\n",
              " 'CONCLUSIONS',\n",
              " 'BACKGROUND',\n",
              " 'BACKGROUND',\n",
              " 'METHODS',\n",
              " 'METHODS',\n",
              " 'METHODS',\n",
              " 'RESULTS',\n",
              " 'RESULTS',\n",
              " 'RESULTS',\n",
              " 'RESULTS',\n",
              " 'RESULTS',\n",
              " 'RESULTS',\n",
              " 'CONCLUSIONS',\n",
              " 'CONCLUSIONS',\n",
              " 'BACKGROUND',\n",
              " 'BACKGROUND',\n",
              " 'BACKGROUND',\n",
              " 'OBJECTIVE',\n",
              " 'METHODS',\n",
              " 'METHODS',\n",
              " 'METHODS',\n",
              " 'METHODS',\n",
              " 'METHODS',\n",
              " 'METHODS',\n",
              " 'RESULTS',\n",
              " 'RESULTS',\n",
              " 'RESULTS',\n",
              " 'RESULTS',\n",
              " 'RESULTS',\n",
              " 'RESULTS',\n",
              " 'RESULTS',\n",
              " 'RESULTS',\n",
              " 'RESULTS',\n",
              " 'CONCLUSIONS',\n",
              " 'CONCLUSIONS',\n",
              " 'BACKGROUND',\n",
              " 'OBJECTIVE',\n",
              " 'METHODS',\n",
              " 'METHODS',\n",
              " 'METHODS',\n",
              " 'METHODS',\n",
              " 'RESULTS',\n",
              " 'RESULTS',\n",
              " 'RESULTS',\n",
              " 'CONCLUSIONS',\n",
              " 'CONCLUSIONS',\n",
              " 'CONCLUSIONS',\n",
              " 'BACKGROUND',\n",
              " 'BACKGROUND',\n",
              " 'METHODS',\n",
              " 'METHODS',\n",
              " 'METHODS',\n",
              " 'METHODS',\n",
              " 'METHODS',\n",
              " 'METHODS',\n",
              " 'RESULTS',\n",
              " 'RESULTS',\n",
              " 'CONCLUSIONS',\n",
              " 'CONCLUSIONS',\n",
              " 'CONCLUSIONS',\n",
              " 'BACKGROUND',\n",
              " 'BACKGROUND',\n",
              " 'BACKGROUND',\n",
              " 'BACKGROUND',\n",
              " 'BACKGROUND',\n",
              " 'OBJECTIVE',\n",
              " 'METHODS',\n",
              " 'METHODS',\n",
              " 'RESULTS',\n",
              " 'RESULTS',\n",
              " 'RESULTS',\n",
              " 'CONCLUSIONS',\n",
              " 'CONCLUSIONS',\n",
              " 'BACKGROUND',\n",
              " 'BACKGROUND',\n",
              " 'BACKGROUND',\n",
              " 'BACKGROUND',\n",
              " 'METHODS',\n",
              " 'METHODS',\n",
              " 'METHODS',\n",
              " 'METHODS',\n",
              " 'RESULTS',\n",
              " 'RESULTS',\n",
              " 'RESULTS',\n",
              " 'RESULTS',\n",
              " 'RESULTS',\n",
              " 'CONCLUSIONS',\n",
              " 'CONCLUSIONS',\n",
              " 'BACKGROUND',\n",
              " 'BACKGROUND',\n",
              " 'BACKGROUND',\n",
              " 'METHODS',\n",
              " 'METHODS',\n",
              " 'METHODS',\n",
              " 'RESULTS',\n",
              " 'METHODS',\n",
              " 'RESULTS',\n",
              " 'RESULTS',\n",
              " 'RESULTS',\n",
              " 'RESULTS',\n",
              " 'CONCLUSIONS',\n",
              " 'OBJECTIVE',\n",
              " 'BACKGROUND',\n",
              " 'METHODS',\n",
              " 'RESULTS',\n",
              " 'RESULTS',\n",
              " 'RESULTS',\n",
              " 'RESULTS',\n",
              " 'RESULTS',\n",
              " 'CONCLUSIONS',\n",
              " 'RESULTS',\n",
              " 'CONCLUSIONS',\n",
              " 'CONCLUSIONS',\n",
              " 'BACKGROUND',\n",
              " 'OBJECTIVE',\n",
              " 'METHODS',\n",
              " 'METHODS',\n",
              " 'RESULTS',\n",
              " 'RESULTS',\n",
              " 'METHODS',\n",
              " 'RESULTS',\n",
              " 'RESULTS',\n",
              " 'CONCLUSIONS',\n",
              " 'CONCLUSIONS',\n",
              " 'CONCLUSIONS',\n",
              " 'BACKGROUND',\n",
              " 'BACKGROUND',\n",
              " 'METHODS',\n",
              " 'METHODS',\n",
              " 'METHODS',\n",
              " 'METHODS',\n",
              " 'METHODS',\n",
              " 'RESULTS',\n",
              " 'RESULTS',\n",
              " 'RESULTS',\n",
              " 'RESULTS',\n",
              " 'CONCLUSIONS',\n",
              " 'OBJECTIVE',\n",
              " 'METHODS',\n",
              " 'METHODS',\n",
              " 'METHODS',\n",
              " 'METHODS',\n",
              " 'RESULTS',\n",
              " 'RESULTS',\n",
              " 'RESULTS',\n",
              " 'CONCLUSIONS',\n",
              " 'RESULTS',\n",
              " 'BACKGROUND',\n",
              " 'BACKGROUND',\n",
              " 'METHODS',\n",
              " 'METHODS',\n",
              " 'METHODS',\n",
              " 'METHODS',\n",
              " 'METHODS',\n",
              " 'RESULTS',\n",
              " 'RESULTS',\n",
              " 'RESULTS',\n",
              " 'RESULTS',\n",
              " 'RESULTS',\n",
              " 'CONCLUSIONS',\n",
              " 'BACKGROUND',\n",
              " 'METHODS',\n",
              " 'RESULTS',\n",
              " 'RESULTS',\n",
              " 'RESULTS',\n",
              " 'RESULTS',\n",
              " 'RESULTS',\n",
              " 'RESULTS',\n",
              " 'CONCLUSIONS',\n",
              " 'BACKGROUND',\n",
              " 'BACKGROUND',\n",
              " 'BACKGROUND',\n",
              " 'BACKGROUND',\n",
              " 'METHODS',\n",
              " 'RESULTS',\n",
              " 'METHODS',\n",
              " 'METHODS',\n",
              " 'RESULTS',\n",
              " 'RESULTS',\n",
              " 'METHODS',\n",
              " 'RESULTS',\n",
              " 'RESULTS',\n",
              " 'CONCLUSIONS',\n",
              " 'CONCLUSIONS',\n",
              " 'BACKGROUND',\n",
              " 'BACKGROUND',\n",
              " 'METHODS',\n",
              " 'METHODS',\n",
              " 'METHODS',\n",
              " 'RESULTS',\n",
              " 'METHODS',\n",
              " 'METHODS',\n",
              " 'RESULTS',\n",
              " 'RESULTS',\n",
              " 'RESULTS',\n",
              " 'CONCLUSIONS',\n",
              " 'CONCLUSIONS',\n",
              " 'CONCLUSIONS',\n",
              " 'CONCLUSIONS',\n",
              " 'OBJECTIVE',\n",
              " 'METHODS',\n",
              " 'METHODS',\n",
              " 'RESULTS',\n",
              " 'METHODS',\n",
              " 'METHODS',\n",
              " 'RESULTS',\n",
              " 'RESULTS',\n",
              " 'RESULTS',\n",
              " 'RESULTS',\n",
              " 'RESULTS',\n",
              " 'RESULTS',\n",
              " 'CONCLUSIONS',\n",
              " 'RESULTS',\n",
              " 'METHODS',\n",
              " 'OBJECTIVE',\n",
              " 'METHODS',\n",
              " 'RESULTS',\n",
              " 'METHODS',\n",
              " 'RESULTS',\n",
              " 'RESULTS',\n",
              " 'RESULTS',\n",
              " 'RESULTS',\n",
              " 'RESULTS',\n",
              " 'CONCLUSIONS',\n",
              " 'CONCLUSIONS',\n",
              " 'BACKGROUND',\n",
              " 'BACKGROUND',\n",
              " 'BACKGROUND',\n",
              " 'OBJECTIVE',\n",
              " 'METHODS',\n",
              " 'METHODS',\n",
              " 'METHODS',\n",
              " 'METHODS',\n",
              " 'RESULTS',\n",
              " 'RESULTS',\n",
              " 'RESULTS',\n",
              " 'RESULTS',\n",
              " 'RESULTS',\n",
              " 'RESULTS',\n",
              " 'RESULTS',\n",
              " 'CONCLUSIONS',\n",
              " 'RESULTS',\n",
              " 'CONCLUSIONS',\n",
              " 'CONCLUSIONS',\n",
              " 'BACKGROUND',\n",
              " 'OBJECTIVE',\n",
              " 'METHODS',\n",
              " 'METHODS',\n",
              " 'METHODS',\n",
              " 'RESULTS',\n",
              " 'RESULTS',\n",
              " 'RESULTS',\n",
              " 'CONCLUSIONS',\n",
              " 'BACKGROUND',\n",
              " 'BACKGROUND',\n",
              " 'METHODS',\n",
              " 'METHODS',\n",
              " 'METHODS',\n",
              " 'METHODS',\n",
              " 'METHODS',\n",
              " 'METHODS',\n",
              " 'RESULTS',\n",
              " 'RESULTS',\n",
              " 'RESULTS',\n",
              " 'CONCLUSIONS',\n",
              " 'CONCLUSIONS',\n",
              " ...]"
            ]
          },
          "metadata": {},
          "execution_count": 136
        }
      ]
    },
    {
      "cell_type": "code",
      "source": [
        "# Create prediction-enriched test dataframe\n",
        "test_df[\"prediction\"] = test_pred_classes # create column with test prediction class names\n",
        "test_df[\"pred_prob\"] = tf.reduce_max(test_pred_probs, axis=1).numpy() # get the maximum prediction probability\n",
        "test_df[\"correct\"] = test_df[\"prediction\"] == test_df[\"target\"] # create binary column for whether the prediction is right or not\n",
        "test_df.head(20)"
      ],
      "metadata": {
        "colab": {
          "base_uri": "https://localhost:8080/",
          "height": 677
        },
        "id": "wO6tbK8J1bNR",
        "outputId": "fd279984-e7fe-4d97-eddb-db338c55bf22"
      },
      "execution_count": 137,
      "outputs": [
        {
          "output_type": "execute_result",
          "data": {
            "text/plain": [
              "         target                                               text  \\\n",
              "0    BACKGROUND  this study analyzed liver function abnormaliti...   \n",
              "1       RESULTS  a post hoc analysis was conducted with the use...   \n",
              "2       RESULTS  liver function tests ( lfts ) were measured at...   \n",
              "3       RESULTS  survival analyses were used to assess the asso...   \n",
              "4       RESULTS  the percentage of patients with abnormal lfts ...   \n",
              "5       RESULTS  when mean hemodynamic profiles were compared i...   \n",
              "6       RESULTS  multivariable analyses revealed that patients ...   \n",
              "7   CONCLUSIONS  abnormal lfts are common in the adhf populatio...   \n",
              "8   CONCLUSIONS  elevated meld-xi scores are associated with po...   \n",
              "9    BACKGROUND  minimally invasive endovascular aneurysm repai...   \n",
              "10   BACKGROUND  the aim of this study was to analyse the cost-...   \n",
              "11      METHODS  resource use was determined from the amsterdam...   \n",
              "12      METHODS  the analysis was performed from a provider per...   \n",
              "13      METHODS  all costs were calculated as if all patients h...   \n",
              "14      RESULTS            a total of @ patients were randomized .   \n",
              "15      RESULTS  the @-day mortality rate was @ per cent after ...   \n",
              "16      RESULTS  at @months , the total mortality rate for evar...   \n",
              "17      RESULTS  the mean cost difference between evar and or w...   \n",
              "18      RESULTS  the incremental cost-effectiveness ratio per p...   \n",
              "19      RESULTS  there was no significant difference in quality...   \n",
              "\n",
              "    line_number  total_lines   prediction  pred_prob  correct  \n",
              "0             0            8    OBJECTIVE   0.479340    False  \n",
              "1             1            8    OBJECTIVE   0.322674    False  \n",
              "2             2            8      METHODS   0.739509    False  \n",
              "3             3            8      METHODS   0.630900    False  \n",
              "4             4            8      RESULTS   0.731725     True  \n",
              "5             5            8      RESULTS   0.892037     True  \n",
              "6             6            8      RESULTS   0.573035     True  \n",
              "7             7            8  CONCLUSIONS   0.540346     True  \n",
              "8             8            8  CONCLUSIONS   0.518278     True  \n",
              "9             0           12   BACKGROUND   0.571416     True  \n",
              "10            1           12    OBJECTIVE   0.467610    False  \n",
              "11            2           12      METHODS   0.631629     True  \n",
              "12            3           12      METHODS   0.865319     True  \n",
              "13            4           12      METHODS   0.556135     True  \n",
              "14            5           12      RESULTS   0.685004     True  \n",
              "15            6           12      RESULTS   0.692498     True  \n",
              "16            7           12      RESULTS   0.880237     True  \n",
              "17            8           12      RESULTS   0.864539     True  \n",
              "18            9           12      RESULTS   0.813536     True  \n",
              "19           10           12      RESULTS   0.744722     True  "
            ],
            "text/html": [
              "\n",
              "  <div id=\"df-d942f277-8c1e-4569-afc8-a96ac2bcce1d\">\n",
              "    <div class=\"colab-df-container\">\n",
              "      <div>\n",
              "<style scoped>\n",
              "    .dataframe tbody tr th:only-of-type {\n",
              "        vertical-align: middle;\n",
              "    }\n",
              "\n",
              "    .dataframe tbody tr th {\n",
              "        vertical-align: top;\n",
              "    }\n",
              "\n",
              "    .dataframe thead th {\n",
              "        text-align: right;\n",
              "    }\n",
              "</style>\n",
              "<table border=\"1\" class=\"dataframe\">\n",
              "  <thead>\n",
              "    <tr style=\"text-align: right;\">\n",
              "      <th></th>\n",
              "      <th>target</th>\n",
              "      <th>text</th>\n",
              "      <th>line_number</th>\n",
              "      <th>total_lines</th>\n",
              "      <th>prediction</th>\n",
              "      <th>pred_prob</th>\n",
              "      <th>correct</th>\n",
              "    </tr>\n",
              "  </thead>\n",
              "  <tbody>\n",
              "    <tr>\n",
              "      <th>0</th>\n",
              "      <td>BACKGROUND</td>\n",
              "      <td>this study analyzed liver function abnormaliti...</td>\n",
              "      <td>0</td>\n",
              "      <td>8</td>\n",
              "      <td>OBJECTIVE</td>\n",
              "      <td>0.479340</td>\n",
              "      <td>False</td>\n",
              "    </tr>\n",
              "    <tr>\n",
              "      <th>1</th>\n",
              "      <td>RESULTS</td>\n",
              "      <td>a post hoc analysis was conducted with the use...</td>\n",
              "      <td>1</td>\n",
              "      <td>8</td>\n",
              "      <td>OBJECTIVE</td>\n",
              "      <td>0.322674</td>\n",
              "      <td>False</td>\n",
              "    </tr>\n",
              "    <tr>\n",
              "      <th>2</th>\n",
              "      <td>RESULTS</td>\n",
              "      <td>liver function tests ( lfts ) were measured at...</td>\n",
              "      <td>2</td>\n",
              "      <td>8</td>\n",
              "      <td>METHODS</td>\n",
              "      <td>0.739509</td>\n",
              "      <td>False</td>\n",
              "    </tr>\n",
              "    <tr>\n",
              "      <th>3</th>\n",
              "      <td>RESULTS</td>\n",
              "      <td>survival analyses were used to assess the asso...</td>\n",
              "      <td>3</td>\n",
              "      <td>8</td>\n",
              "      <td>METHODS</td>\n",
              "      <td>0.630900</td>\n",
              "      <td>False</td>\n",
              "    </tr>\n",
              "    <tr>\n",
              "      <th>4</th>\n",
              "      <td>RESULTS</td>\n",
              "      <td>the percentage of patients with abnormal lfts ...</td>\n",
              "      <td>4</td>\n",
              "      <td>8</td>\n",
              "      <td>RESULTS</td>\n",
              "      <td>0.731725</td>\n",
              "      <td>True</td>\n",
              "    </tr>\n",
              "    <tr>\n",
              "      <th>5</th>\n",
              "      <td>RESULTS</td>\n",
              "      <td>when mean hemodynamic profiles were compared i...</td>\n",
              "      <td>5</td>\n",
              "      <td>8</td>\n",
              "      <td>RESULTS</td>\n",
              "      <td>0.892037</td>\n",
              "      <td>True</td>\n",
              "    </tr>\n",
              "    <tr>\n",
              "      <th>6</th>\n",
              "      <td>RESULTS</td>\n",
              "      <td>multivariable analyses revealed that patients ...</td>\n",
              "      <td>6</td>\n",
              "      <td>8</td>\n",
              "      <td>RESULTS</td>\n",
              "      <td>0.573035</td>\n",
              "      <td>True</td>\n",
              "    </tr>\n",
              "    <tr>\n",
              "      <th>7</th>\n",
              "      <td>CONCLUSIONS</td>\n",
              "      <td>abnormal lfts are common in the adhf populatio...</td>\n",
              "      <td>7</td>\n",
              "      <td>8</td>\n",
              "      <td>CONCLUSIONS</td>\n",
              "      <td>0.540346</td>\n",
              "      <td>True</td>\n",
              "    </tr>\n",
              "    <tr>\n",
              "      <th>8</th>\n",
              "      <td>CONCLUSIONS</td>\n",
              "      <td>elevated meld-xi scores are associated with po...</td>\n",
              "      <td>8</td>\n",
              "      <td>8</td>\n",
              "      <td>CONCLUSIONS</td>\n",
              "      <td>0.518278</td>\n",
              "      <td>True</td>\n",
              "    </tr>\n",
              "    <tr>\n",
              "      <th>9</th>\n",
              "      <td>BACKGROUND</td>\n",
              "      <td>minimally invasive endovascular aneurysm repai...</td>\n",
              "      <td>0</td>\n",
              "      <td>12</td>\n",
              "      <td>BACKGROUND</td>\n",
              "      <td>0.571416</td>\n",
              "      <td>True</td>\n",
              "    </tr>\n",
              "    <tr>\n",
              "      <th>10</th>\n",
              "      <td>BACKGROUND</td>\n",
              "      <td>the aim of this study was to analyse the cost-...</td>\n",
              "      <td>1</td>\n",
              "      <td>12</td>\n",
              "      <td>OBJECTIVE</td>\n",
              "      <td>0.467610</td>\n",
              "      <td>False</td>\n",
              "    </tr>\n",
              "    <tr>\n",
              "      <th>11</th>\n",
              "      <td>METHODS</td>\n",
              "      <td>resource use was determined from the amsterdam...</td>\n",
              "      <td>2</td>\n",
              "      <td>12</td>\n",
              "      <td>METHODS</td>\n",
              "      <td>0.631629</td>\n",
              "      <td>True</td>\n",
              "    </tr>\n",
              "    <tr>\n",
              "      <th>12</th>\n",
              "      <td>METHODS</td>\n",
              "      <td>the analysis was performed from a provider per...</td>\n",
              "      <td>3</td>\n",
              "      <td>12</td>\n",
              "      <td>METHODS</td>\n",
              "      <td>0.865319</td>\n",
              "      <td>True</td>\n",
              "    </tr>\n",
              "    <tr>\n",
              "      <th>13</th>\n",
              "      <td>METHODS</td>\n",
              "      <td>all costs were calculated as if all patients h...</td>\n",
              "      <td>4</td>\n",
              "      <td>12</td>\n",
              "      <td>METHODS</td>\n",
              "      <td>0.556135</td>\n",
              "      <td>True</td>\n",
              "    </tr>\n",
              "    <tr>\n",
              "      <th>14</th>\n",
              "      <td>RESULTS</td>\n",
              "      <td>a total of @ patients were randomized .</td>\n",
              "      <td>5</td>\n",
              "      <td>12</td>\n",
              "      <td>RESULTS</td>\n",
              "      <td>0.685004</td>\n",
              "      <td>True</td>\n",
              "    </tr>\n",
              "    <tr>\n",
              "      <th>15</th>\n",
              "      <td>RESULTS</td>\n",
              "      <td>the @-day mortality rate was @ per cent after ...</td>\n",
              "      <td>6</td>\n",
              "      <td>12</td>\n",
              "      <td>RESULTS</td>\n",
              "      <td>0.692498</td>\n",
              "      <td>True</td>\n",
              "    </tr>\n",
              "    <tr>\n",
              "      <th>16</th>\n",
              "      <td>RESULTS</td>\n",
              "      <td>at @months , the total mortality rate for evar...</td>\n",
              "      <td>7</td>\n",
              "      <td>12</td>\n",
              "      <td>RESULTS</td>\n",
              "      <td>0.880237</td>\n",
              "      <td>True</td>\n",
              "    </tr>\n",
              "    <tr>\n",
              "      <th>17</th>\n",
              "      <td>RESULTS</td>\n",
              "      <td>the mean cost difference between evar and or w...</td>\n",
              "      <td>8</td>\n",
              "      <td>12</td>\n",
              "      <td>RESULTS</td>\n",
              "      <td>0.864539</td>\n",
              "      <td>True</td>\n",
              "    </tr>\n",
              "    <tr>\n",
              "      <th>18</th>\n",
              "      <td>RESULTS</td>\n",
              "      <td>the incremental cost-effectiveness ratio per p...</td>\n",
              "      <td>9</td>\n",
              "      <td>12</td>\n",
              "      <td>RESULTS</td>\n",
              "      <td>0.813536</td>\n",
              "      <td>True</td>\n",
              "    </tr>\n",
              "    <tr>\n",
              "      <th>19</th>\n",
              "      <td>RESULTS</td>\n",
              "      <td>there was no significant difference in quality...</td>\n",
              "      <td>10</td>\n",
              "      <td>12</td>\n",
              "      <td>RESULTS</td>\n",
              "      <td>0.744722</td>\n",
              "      <td>True</td>\n",
              "    </tr>\n",
              "  </tbody>\n",
              "</table>\n",
              "</div>\n",
              "      <button class=\"colab-df-convert\" onclick=\"convertToInteractive('df-d942f277-8c1e-4569-afc8-a96ac2bcce1d')\"\n",
              "              title=\"Convert this dataframe to an interactive table.\"\n",
              "              style=\"display:none;\">\n",
              "        \n",
              "  <svg xmlns=\"http://www.w3.org/2000/svg\" height=\"24px\"viewBox=\"0 0 24 24\"\n",
              "       width=\"24px\">\n",
              "    <path d=\"M0 0h24v24H0V0z\" fill=\"none\"/>\n",
              "    <path d=\"M18.56 5.44l.94 2.06.94-2.06 2.06-.94-2.06-.94-.94-2.06-.94 2.06-2.06.94zm-11 1L8.5 8.5l.94-2.06 2.06-.94-2.06-.94L8.5 2.5l-.94 2.06-2.06.94zm10 10l.94 2.06.94-2.06 2.06-.94-2.06-.94-.94-2.06-.94 2.06-2.06.94z\"/><path d=\"M17.41 7.96l-1.37-1.37c-.4-.4-.92-.59-1.43-.59-.52 0-1.04.2-1.43.59L10.3 9.45l-7.72 7.72c-.78.78-.78 2.05 0 2.83L4 21.41c.39.39.9.59 1.41.59.51 0 1.02-.2 1.41-.59l7.78-7.78 2.81-2.81c.8-.78.8-2.07 0-2.86zM5.41 20L4 18.59l7.72-7.72 1.47 1.35L5.41 20z\"/>\n",
              "  </svg>\n",
              "      </button>\n",
              "      \n",
              "  <style>\n",
              "    .colab-df-container {\n",
              "      display:flex;\n",
              "      flex-wrap:wrap;\n",
              "      gap: 12px;\n",
              "    }\n",
              "\n",
              "    .colab-df-convert {\n",
              "      background-color: #E8F0FE;\n",
              "      border: none;\n",
              "      border-radius: 50%;\n",
              "      cursor: pointer;\n",
              "      display: none;\n",
              "      fill: #1967D2;\n",
              "      height: 32px;\n",
              "      padding: 0 0 0 0;\n",
              "      width: 32px;\n",
              "    }\n",
              "\n",
              "    .colab-df-convert:hover {\n",
              "      background-color: #E2EBFA;\n",
              "      box-shadow: 0px 1px 2px rgba(60, 64, 67, 0.3), 0px 1px 3px 1px rgba(60, 64, 67, 0.15);\n",
              "      fill: #174EA6;\n",
              "    }\n",
              "\n",
              "    [theme=dark] .colab-df-convert {\n",
              "      background-color: #3B4455;\n",
              "      fill: #D2E3FC;\n",
              "    }\n",
              "\n",
              "    [theme=dark] .colab-df-convert:hover {\n",
              "      background-color: #434B5C;\n",
              "      box-shadow: 0px 1px 3px 1px rgba(0, 0, 0, 0.15);\n",
              "      filter: drop-shadow(0px 1px 2px rgba(0, 0, 0, 0.3));\n",
              "      fill: #FFFFFF;\n",
              "    }\n",
              "  </style>\n",
              "\n",
              "      <script>\n",
              "        const buttonEl =\n",
              "          document.querySelector('#df-d942f277-8c1e-4569-afc8-a96ac2bcce1d button.colab-df-convert');\n",
              "        buttonEl.style.display =\n",
              "          google.colab.kernel.accessAllowed ? 'block' : 'none';\n",
              "\n",
              "        async function convertToInteractive(key) {\n",
              "          const element = document.querySelector('#df-d942f277-8c1e-4569-afc8-a96ac2bcce1d');\n",
              "          const dataTable =\n",
              "            await google.colab.kernel.invokeFunction('convertToInteractive',\n",
              "                                                     [key], {});\n",
              "          if (!dataTable) return;\n",
              "\n",
              "          const docLinkHtml = 'Like what you see? Visit the ' +\n",
              "            '<a target=\"_blank\" href=https://colab.research.google.com/notebooks/data_table.ipynb>data table notebook</a>'\n",
              "            + ' to learn more about interactive tables.';\n",
              "          element.innerHTML = '';\n",
              "          dataTable['output_type'] = 'display_data';\n",
              "          await google.colab.output.renderOutput(dataTable, element);\n",
              "          const docLink = document.createElement('div');\n",
              "          docLink.innerHTML = docLinkHtml;\n",
              "          element.appendChild(docLink);\n",
              "        }\n",
              "      </script>\n",
              "    </div>\n",
              "  </div>\n",
              "  "
            ]
          },
          "metadata": {},
          "execution_count": 137
        }
      ]
    },
    {
      "cell_type": "code",
      "source": [
        "# Find top 100 most wrong samples (note: 100 is an abitrary number, you could go through all of them if you wanted)\n",
        "top_100_wrong = test_df[test_df[\"correct\"] == False].sort_values(\"pred_prob\", ascending=False)[:100]\n",
        "top_100_wrong"
      ],
      "metadata": {
        "colab": {
          "base_uri": "https://localhost:8080/",
          "height": 424
        },
        "id": "666lVQcd1mCv",
        "outputId": "5e53d75a-ef36-48c7-f459-d5847d5dac2c"
      },
      "execution_count": 138,
      "outputs": [
        {
          "output_type": "execute_result",
          "data": {
            "text/plain": [
              "            target                                               text  \\\n",
              "16633  CONCLUSIONS             clinicaltrials.gov identifier : nct@ .   \n",
              "13874  CONCLUSIONS  symptom outcomes will be assessed and estimate...   \n",
              "2388       RESULTS  the primary endpoint is the cumulative three-y...   \n",
              "1827   CONCLUSIONS                      nct@ ( clinicaltrials.gov ) .   \n",
              "835     BACKGROUND  to assess the temporal patterns of late gastro...   \n",
              "...            ...                                                ...   \n",
              "9881       RESULTS  the primary outcome was bp control , and secon...   \n",
              "24785   BACKGROUND  to test the hypothesis that this electronic ac...   \n",
              "7823   CONCLUSIONS  at @ year , mortality rates in the pi and ppci...   \n",
              "9470   CONCLUSIONS  a significantly lower proinflammatory index of...   \n",
              "137    CONCLUSIONS  compared to group s , there was a transient im...   \n",
              "\n",
              "       line_number  total_lines  prediction  pred_prob  correct  \n",
              "16633           19           19  BACKGROUND   0.936837    False  \n",
              "13874            4            6     METHODS   0.935808    False  \n",
              "2388             4           13     METHODS   0.930080    False  \n",
              "1827            18           18  BACKGROUND   0.926798    False  \n",
              "835              0           11   OBJECTIVE   0.924083    False  \n",
              "...            ...          ...         ...        ...      ...  \n",
              "9881             4           11     METHODS   0.848974    False  \n",
              "24785            2           13   OBJECTIVE   0.848242    False  \n",
              "7823             8           10     RESULTS   0.847515    False  \n",
              "9470             9            9     RESULTS   0.847030    False  \n",
              "137              8            8     RESULTS   0.845449    False  \n",
              "\n",
              "[100 rows x 7 columns]"
            ],
            "text/html": [
              "\n",
              "  <div id=\"df-0381b941-c9c2-44b8-88b6-2a94c1f97178\">\n",
              "    <div class=\"colab-df-container\">\n",
              "      <div>\n",
              "<style scoped>\n",
              "    .dataframe tbody tr th:only-of-type {\n",
              "        vertical-align: middle;\n",
              "    }\n",
              "\n",
              "    .dataframe tbody tr th {\n",
              "        vertical-align: top;\n",
              "    }\n",
              "\n",
              "    .dataframe thead th {\n",
              "        text-align: right;\n",
              "    }\n",
              "</style>\n",
              "<table border=\"1\" class=\"dataframe\">\n",
              "  <thead>\n",
              "    <tr style=\"text-align: right;\">\n",
              "      <th></th>\n",
              "      <th>target</th>\n",
              "      <th>text</th>\n",
              "      <th>line_number</th>\n",
              "      <th>total_lines</th>\n",
              "      <th>prediction</th>\n",
              "      <th>pred_prob</th>\n",
              "      <th>correct</th>\n",
              "    </tr>\n",
              "  </thead>\n",
              "  <tbody>\n",
              "    <tr>\n",
              "      <th>16633</th>\n",
              "      <td>CONCLUSIONS</td>\n",
              "      <td>clinicaltrials.gov identifier : nct@ .</td>\n",
              "      <td>19</td>\n",
              "      <td>19</td>\n",
              "      <td>BACKGROUND</td>\n",
              "      <td>0.936837</td>\n",
              "      <td>False</td>\n",
              "    </tr>\n",
              "    <tr>\n",
              "      <th>13874</th>\n",
              "      <td>CONCLUSIONS</td>\n",
              "      <td>symptom outcomes will be assessed and estimate...</td>\n",
              "      <td>4</td>\n",
              "      <td>6</td>\n",
              "      <td>METHODS</td>\n",
              "      <td>0.935808</td>\n",
              "      <td>False</td>\n",
              "    </tr>\n",
              "    <tr>\n",
              "      <th>2388</th>\n",
              "      <td>RESULTS</td>\n",
              "      <td>the primary endpoint is the cumulative three-y...</td>\n",
              "      <td>4</td>\n",
              "      <td>13</td>\n",
              "      <td>METHODS</td>\n",
              "      <td>0.930080</td>\n",
              "      <td>False</td>\n",
              "    </tr>\n",
              "    <tr>\n",
              "      <th>1827</th>\n",
              "      <td>CONCLUSIONS</td>\n",
              "      <td>nct@ ( clinicaltrials.gov ) .</td>\n",
              "      <td>18</td>\n",
              "      <td>18</td>\n",
              "      <td>BACKGROUND</td>\n",
              "      <td>0.926798</td>\n",
              "      <td>False</td>\n",
              "    </tr>\n",
              "    <tr>\n",
              "      <th>835</th>\n",
              "      <td>BACKGROUND</td>\n",
              "      <td>to assess the temporal patterns of late gastro...</td>\n",
              "      <td>0</td>\n",
              "      <td>11</td>\n",
              "      <td>OBJECTIVE</td>\n",
              "      <td>0.924083</td>\n",
              "      <td>False</td>\n",
              "    </tr>\n",
              "    <tr>\n",
              "      <th>...</th>\n",
              "      <td>...</td>\n",
              "      <td>...</td>\n",
              "      <td>...</td>\n",
              "      <td>...</td>\n",
              "      <td>...</td>\n",
              "      <td>...</td>\n",
              "      <td>...</td>\n",
              "    </tr>\n",
              "    <tr>\n",
              "      <th>9881</th>\n",
              "      <td>RESULTS</td>\n",
              "      <td>the primary outcome was bp control , and secon...</td>\n",
              "      <td>4</td>\n",
              "      <td>11</td>\n",
              "      <td>METHODS</td>\n",
              "      <td>0.848974</td>\n",
              "      <td>False</td>\n",
              "    </tr>\n",
              "    <tr>\n",
              "      <th>24785</th>\n",
              "      <td>BACKGROUND</td>\n",
              "      <td>to test the hypothesis that this electronic ac...</td>\n",
              "      <td>2</td>\n",
              "      <td>13</td>\n",
              "      <td>OBJECTIVE</td>\n",
              "      <td>0.848242</td>\n",
              "      <td>False</td>\n",
              "    </tr>\n",
              "    <tr>\n",
              "      <th>7823</th>\n",
              "      <td>CONCLUSIONS</td>\n",
              "      <td>at @ year , mortality rates in the pi and ppci...</td>\n",
              "      <td>8</td>\n",
              "      <td>10</td>\n",
              "      <td>RESULTS</td>\n",
              "      <td>0.847515</td>\n",
              "      <td>False</td>\n",
              "    </tr>\n",
              "    <tr>\n",
              "      <th>9470</th>\n",
              "      <td>CONCLUSIONS</td>\n",
              "      <td>a significantly lower proinflammatory index of...</td>\n",
              "      <td>9</td>\n",
              "      <td>9</td>\n",
              "      <td>RESULTS</td>\n",
              "      <td>0.847030</td>\n",
              "      <td>False</td>\n",
              "    </tr>\n",
              "    <tr>\n",
              "      <th>137</th>\n",
              "      <td>CONCLUSIONS</td>\n",
              "      <td>compared to group s , there was a transient im...</td>\n",
              "      <td>8</td>\n",
              "      <td>8</td>\n",
              "      <td>RESULTS</td>\n",
              "      <td>0.845449</td>\n",
              "      <td>False</td>\n",
              "    </tr>\n",
              "  </tbody>\n",
              "</table>\n",
              "<p>100 rows × 7 columns</p>\n",
              "</div>\n",
              "      <button class=\"colab-df-convert\" onclick=\"convertToInteractive('df-0381b941-c9c2-44b8-88b6-2a94c1f97178')\"\n",
              "              title=\"Convert this dataframe to an interactive table.\"\n",
              "              style=\"display:none;\">\n",
              "        \n",
              "  <svg xmlns=\"http://www.w3.org/2000/svg\" height=\"24px\"viewBox=\"0 0 24 24\"\n",
              "       width=\"24px\">\n",
              "    <path d=\"M0 0h24v24H0V0z\" fill=\"none\"/>\n",
              "    <path d=\"M18.56 5.44l.94 2.06.94-2.06 2.06-.94-2.06-.94-.94-2.06-.94 2.06-2.06.94zm-11 1L8.5 8.5l.94-2.06 2.06-.94-2.06-.94L8.5 2.5l-.94 2.06-2.06.94zm10 10l.94 2.06.94-2.06 2.06-.94-2.06-.94-.94-2.06-.94 2.06-2.06.94z\"/><path d=\"M17.41 7.96l-1.37-1.37c-.4-.4-.92-.59-1.43-.59-.52 0-1.04.2-1.43.59L10.3 9.45l-7.72 7.72c-.78.78-.78 2.05 0 2.83L4 21.41c.39.39.9.59 1.41.59.51 0 1.02-.2 1.41-.59l7.78-7.78 2.81-2.81c.8-.78.8-2.07 0-2.86zM5.41 20L4 18.59l7.72-7.72 1.47 1.35L5.41 20z\"/>\n",
              "  </svg>\n",
              "      </button>\n",
              "      \n",
              "  <style>\n",
              "    .colab-df-container {\n",
              "      display:flex;\n",
              "      flex-wrap:wrap;\n",
              "      gap: 12px;\n",
              "    }\n",
              "\n",
              "    .colab-df-convert {\n",
              "      background-color: #E8F0FE;\n",
              "      border: none;\n",
              "      border-radius: 50%;\n",
              "      cursor: pointer;\n",
              "      display: none;\n",
              "      fill: #1967D2;\n",
              "      height: 32px;\n",
              "      padding: 0 0 0 0;\n",
              "      width: 32px;\n",
              "    }\n",
              "\n",
              "    .colab-df-convert:hover {\n",
              "      background-color: #E2EBFA;\n",
              "      box-shadow: 0px 1px 2px rgba(60, 64, 67, 0.3), 0px 1px 3px 1px rgba(60, 64, 67, 0.15);\n",
              "      fill: #174EA6;\n",
              "    }\n",
              "\n",
              "    [theme=dark] .colab-df-convert {\n",
              "      background-color: #3B4455;\n",
              "      fill: #D2E3FC;\n",
              "    }\n",
              "\n",
              "    [theme=dark] .colab-df-convert:hover {\n",
              "      background-color: #434B5C;\n",
              "      box-shadow: 0px 1px 3px 1px rgba(0, 0, 0, 0.15);\n",
              "      filter: drop-shadow(0px 1px 2px rgba(0, 0, 0, 0.3));\n",
              "      fill: #FFFFFF;\n",
              "    }\n",
              "  </style>\n",
              "\n",
              "      <script>\n",
              "        const buttonEl =\n",
              "          document.querySelector('#df-0381b941-c9c2-44b8-88b6-2a94c1f97178 button.colab-df-convert');\n",
              "        buttonEl.style.display =\n",
              "          google.colab.kernel.accessAllowed ? 'block' : 'none';\n",
              "\n",
              "        async function convertToInteractive(key) {\n",
              "          const element = document.querySelector('#df-0381b941-c9c2-44b8-88b6-2a94c1f97178');\n",
              "          const dataTable =\n",
              "            await google.colab.kernel.invokeFunction('convertToInteractive',\n",
              "                                                     [key], {});\n",
              "          if (!dataTable) return;\n",
              "\n",
              "          const docLinkHtml = 'Like what you see? Visit the ' +\n",
              "            '<a target=\"_blank\" href=https://colab.research.google.com/notebooks/data_table.ipynb>data table notebook</a>'\n",
              "            + ' to learn more about interactive tables.';\n",
              "          element.innerHTML = '';\n",
              "          dataTable['output_type'] = 'display_data';\n",
              "          await google.colab.output.renderOutput(dataTable, element);\n",
              "          const docLink = document.createElement('div');\n",
              "          docLink.innerHTML = docLinkHtml;\n",
              "          element.appendChild(docLink);\n",
              "        }\n",
              "      </script>\n",
              "    </div>\n",
              "  </div>\n",
              "  "
            ]
          },
          "metadata": {},
          "execution_count": 138
        }
      ]
    },
    {
      "cell_type": "code",
      "source": [
        "# Investigate top wrong preds\n",
        "for row in top_100_wrong[0:10].itertuples(): # adjust indexes to view different samples\n",
        "  _, target, text, line_number, total_lines, prediction, pred_prob, _ = row\n",
        "  print(f\"Target: {target}, Pred: {prediction}, Prob: {pred_prob}, Line number: {line_number}, Total lines: {total_lines}\\n\")\n",
        "  print(f\"Text:\\n{text}\\n\")\n",
        "  print(\"-----\\n\")"
      ],
      "metadata": {
        "colab": {
          "base_uri": "https://localhost:8080/"
        },
        "id": "kqtZ5Zie1q1z",
        "outputId": "a399a515-d6dd-4d1b-cd6b-07ca4c846624"
      },
      "execution_count": 139,
      "outputs": [
        {
          "output_type": "stream",
          "name": "stdout",
          "text": [
            "Target: CONCLUSIONS, Pred: BACKGROUND, Prob: 0.9368368983268738, Line number: 19, Total lines: 19\n",
            "\n",
            "Text:\n",
            "clinicaltrials.gov identifier : nct@ .\n",
            "\n",
            "-----\n",
            "\n",
            "Target: CONCLUSIONS, Pred: METHODS, Prob: 0.9358077645301819, Line number: 4, Total lines: 6\n",
            "\n",
            "Text:\n",
            "symptom outcomes will be assessed and estimates of cost-effectiveness made .\n",
            "\n",
            "-----\n",
            "\n",
            "Target: RESULTS, Pred: METHODS, Prob: 0.9300798773765564, Line number: 4, Total lines: 13\n",
            "\n",
            "Text:\n",
            "the primary endpoint is the cumulative three-year hiv incidence .\n",
            "\n",
            "-----\n",
            "\n",
            "Target: CONCLUSIONS, Pred: BACKGROUND, Prob: 0.9267981648445129, Line number: 18, Total lines: 18\n",
            "\n",
            "Text:\n",
            "nct@ ( clinicaltrials.gov ) .\n",
            "\n",
            "-----\n",
            "\n",
            "Target: BACKGROUND, Pred: OBJECTIVE, Prob: 0.9240826368331909, Line number: 0, Total lines: 11\n",
            "\n",
            "Text:\n",
            "to assess the temporal patterns of late gastrointestinal ( gi ) and genitourinary ( gu ) radiotherapy toxicity and resolution rates in a randomised controlled trial ( all-ireland cooperative oncology research group @-@ ) assessing duration of neo-adjuvant ( na ) hormone therapy for localised prostate cancer .\n",
            "\n",
            "-----\n",
            "\n",
            "Target: BACKGROUND, Pred: OBJECTIVE, Prob: 0.9232790470123291, Line number: 0, Total lines: 12\n",
            "\n",
            "Text:\n",
            "to evaluate the effects of the lactic acid bacterium lactobacillus salivarius on caries risk factors .\n",
            "\n",
            "-----\n",
            "\n",
            "Target: CONCLUSIONS, Pred: BACKGROUND, Prob: 0.9229132533073425, Line number: 15, Total lines: 15\n",
            "\n",
            "Text:\n",
            "-lsb- netherlands trial register ( http://www.trialregister.nl/trialreg/index.asp ) , nr @ , date of registration @ december @ . -rsb-\n",
            "\n",
            "-----\n",
            "\n",
            "Target: CONCLUSIONS, Pred: BACKGROUND, Prob: 0.9182678461074829, Line number: 15, Total lines: 15\n",
            "\n",
            "Text:\n",
            "unique identifier : nct@ .\n",
            "\n",
            "-----\n",
            "\n",
            "Target: RESULTS, Pred: METHODS, Prob: 0.9172576069831848, Line number: 4, Total lines: 13\n",
            "\n",
            "Text:\n",
            "baseline measures included sociodemographics , standardized anthropometrics , asthma control test ( act ) , gerd symptom assessment scale , pittsburgh sleep quality index , and berlin questionnaire for sleep apnea .\n",
            "\n",
            "-----\n",
            "\n",
            "Target: METHODS, Pred: BACKGROUND, Prob: 0.9171777963638306, Line number: 4, Total lines: 9\n",
            "\n",
            "Text:\n",
            "clinicaltrials.gov identifier : nct@ .\n",
            "\n",
            "-----\n",
            "\n"
          ]
        }
      ]
    },
    {
      "cell_type": "markdown",
      "source": [
        "## Make example predictions\n",
        "\n",
        "\n",
        "need to preprocess the abstract\n",
        "\n",
        "1. Split it into sentences (lines).\n",
        "2. Split it into characters.\n",
        "3. Find the number of each line.\n",
        "4. Find the total number of lines."
      ],
      "metadata": {
        "id": "_aNTYH8X1v69"
      }
    },
    {
      "cell_type": "code",
      "source": [
        "import json"
      ],
      "metadata": {
        "id": "8lxDoNuI4bBm"
      },
      "execution_count": 142,
      "outputs": []
    },
    {
      "cell_type": "code",
      "source": [
        "# Download and open example abstracts (copy and pasted from PubMed)\n",
        "!wget https://raw.githubusercontent.com/mrdbourke/tensorflow-deep-learning/main/extras/skimlit_example_abstracts.json\n",
        "\n",
        "with open(\"skimlit_example_abstracts.json\", \"r\") as f:\n",
        "  example_abstracts = json.load(f)\n",
        "\n",
        "example_abstracts"
      ],
      "metadata": {
        "colab": {
          "base_uri": "https://localhost:8080/"
        },
        "id": "mZpCynM33myF",
        "outputId": "d7cfb238-e31b-4cfb-dc97-51d86289fa67"
      },
      "execution_count": 143,
      "outputs": [
        {
          "output_type": "stream",
          "name": "stdout",
          "text": [
            "--2023-01-26 02:21:59--  https://raw.githubusercontent.com/mrdbourke/tensorflow-deep-learning/main/extras/skimlit_example_abstracts.json\n",
            "Resolving raw.githubusercontent.com (raw.githubusercontent.com)... 185.199.108.133, 185.199.109.133, 185.199.110.133, ...\n",
            "Connecting to raw.githubusercontent.com (raw.githubusercontent.com)|185.199.108.133|:443... connected.\n",
            "HTTP request sent, awaiting response... 200 OK\n",
            "Length: 6737 (6.6K) [text/plain]\n",
            "Saving to: ‘skimlit_example_abstracts.json.1’\n",
            "\n",
            "\r          skimlit_e   0%[                    ]       0  --.-KB/s               \rskimlit_example_abs 100%[===================>]   6.58K  --.-KB/s    in 0s      \n",
            "\n",
            "2023-01-26 02:21:59 (70.0 MB/s) - ‘skimlit_example_abstracts.json.1’ saved [6737/6737]\n",
            "\n"
          ]
        },
        {
          "output_type": "execute_result",
          "data": {
            "text/plain": [
              "[{'abstract': 'This RCT examined the efficacy of a manualized social intervention for children with HFASDs. Participants were randomly assigned to treatment or wait-list conditions. Treatment included instruction and therapeutic activities targeting social skills, face-emotion recognition, interest expansion, and interpretation of non-literal language. A response-cost program was applied to reduce problem behaviors and foster skills acquisition. Significant treatment effects were found for five of seven primary outcome measures (parent ratings and direct child measures). Secondary measures based on staff ratings (treatment group only) corroborated gains reported by parents. High levels of parent, child and staff satisfaction were reported, along with high levels of treatment fidelity. Standardized effect size estimates were primarily in the medium and large ranges and favored the treatment group.',\n",
              "  'source': 'https://pubmed.ncbi.nlm.nih.gov/20232240/',\n",
              "  'details': 'RCT of a manualized social treatment for high-functioning autism spectrum disorders'},\n",
              " {'abstract': \"Postpartum depression (PPD) is the most prevalent mood disorder associated with childbirth. No single cause of PPD has been identified, however the increased risk of nutritional deficiencies incurred through the high nutritional requirements of pregnancy may play a role in the pathology of depressive symptoms. Three nutritional interventions have drawn particular interest as possible non-invasive and cost-effective prevention and/or treatment strategies for PPD; omega-3 (n-3) long chain polyunsaturated fatty acids (LCPUFA), vitamin D and overall diet. We searched for meta-analyses of randomised controlled trials (RCT's) of nutritional interventions during the perinatal period with PPD as an outcome, and checked for any trials published subsequently to the meta-analyses. Fish oil: Eleven RCT's of prenatal fish oil supplementation RCT's show null and positive effects on PPD symptoms. Vitamin D: no relevant RCT's were identified, however seven observational studies of maternal vitamin D levels with PPD outcomes showed inconsistent associations. Diet: Two Australian RCT's with dietary advice interventions in pregnancy had a positive and null result on PPD. With the exception of fish oil, few RCT's with nutritional interventions during pregnancy assess PPD. Further research is needed to determine whether nutritional intervention strategies during pregnancy can protect against symptoms of PPD. Given the prevalence of PPD and ease of administering PPD measures, we recommend future prenatal nutritional RCT's include PPD as an outcome.\",\n",
              "  'source': 'https://pubmed.ncbi.nlm.nih.gov/28012571/',\n",
              "  'details': 'Formatting removed (can be used to compare model to actual example)'},\n",
              " {'abstract': 'Mental illness, including depression, anxiety and bipolar disorder, accounts for a significant proportion of global disability and poses a substantial social, economic and heath burden. Treatment is presently dominated by pharmacotherapy, such as antidepressants, and psychotherapy, such as cognitive behavioural therapy; however, such treatments avert less than half of the disease burden, suggesting that additional strategies are needed to prevent and treat mental disorders. There are now consistent mechanistic, observational and interventional data to suggest diet quality may be a modifiable risk factor for mental illness. This review provides an overview of the nutritional psychiatry field. It includes a discussion of the neurobiological mechanisms likely modulated by diet, the use of dietary and nutraceutical interventions in mental disorders, and recommendations for further research. Potential biological pathways related to mental disorders include inflammation, oxidative stress, the gut microbiome, epigenetic modifications and neuroplasticity. Consistent epidemiological evidence, particularly for depression, suggests an association between measures of diet quality and mental health, across multiple populations and age groups; these do not appear to be explained by other demographic, lifestyle factors or reverse causality. Our recently published intervention trial provides preliminary clinical evidence that dietary interventions in clinically diagnosed populations are feasible and can provide significant clinical benefit. Furthermore, nutraceuticals including n-3 fatty acids, folate, S-adenosylmethionine, N-acetyl cysteine and probiotics, among others, are promising avenues for future research. Continued research is now required to investigate the efficacy of intervention studies in large cohorts and within clinically relevant populations, particularly in patients with schizophrenia, bipolar and anxiety disorders.',\n",
              "  'source': 'https://pubmed.ncbi.nlm.nih.gov/28942748/',\n",
              "  'details': 'Effect of nutrition on mental health'},\n",
              " {'abstract': \"Hepatitis C virus (HCV) and alcoholic liver disease (ALD), either alone or in combination, count for more than two thirds of all liver diseases in the Western world. There is no safe level of drinking in HCV-infected patients and the most effective goal for these patients is total abstinence. Baclofen, a GABA(B) receptor agonist, represents a promising pharmacotherapy for alcohol dependence (AD). Previously, we performed a randomized clinical trial (RCT), which demonstrated the safety and efficacy of baclofen in patients affected by AD and cirrhosis. The goal of this post-hoc analysis was to explore baclofen's effect in a subgroup of alcohol-dependent HCV-infected cirrhotic patients. Any patient with HCV infection was selected for this analysis. Among the 84 subjects randomized in the main trial, 24 alcohol-dependent cirrhotic patients had a HCV infection; 12 received baclofen 10mg t.i.d. and 12 received placebo for 12-weeks. With respect to the placebo group (3/12, 25.0%), a significantly higher number of patients who achieved and maintained total alcohol abstinence was found in the baclofen group (10/12, 83.3%; p=0.0123). Furthermore, in the baclofen group, compared to placebo, there was a significantly higher increase in albumin values from baseline (p=0.0132) and a trend toward a significant reduction in INR levels from baseline (p=0.0716). In conclusion, baclofen was safe and significantly more effective than placebo in promoting alcohol abstinence, and improving some Liver Function Tests (LFTs) (i.e. albumin, INR) in alcohol-dependent HCV-infected cirrhotic patients. Baclofen may represent a clinically relevant alcohol pharmacotherapy for these patients.\",\n",
              "  'source': 'https://pubmed.ncbi.nlm.nih.gov/22244707/',\n",
              "  'details': 'Baclofen promotes alcohol abstinence in alcohol dependent cirrhotic patients with hepatitis C virus (HCV) infection'}]"
            ]
          },
          "metadata": {},
          "execution_count": 143
        }
      ]
    },
    {
      "cell_type": "code",
      "source": [
        "# See what our example abstracts look like\n",
        "abstracts = pd.DataFrame(example_abstracts)\n",
        "abstracts"
      ],
      "metadata": {
        "colab": {
          "base_uri": "https://localhost:8080/",
          "height": 175
        },
        "id": "15PeV29Z4LLe",
        "outputId": "5451e8ab-21ee-48ba-98de-14571f6a41d3"
      },
      "execution_count": 144,
      "outputs": [
        {
          "output_type": "execute_result",
          "data": {
            "text/plain": [
              "                                            abstract  \\\n",
              "0  This RCT examined the efficacy of a manualized...   \n",
              "1  Postpartum depression (PPD) is the most preval...   \n",
              "2  Mental illness, including depression, anxiety ...   \n",
              "3  Hepatitis C virus (HCV) and alcoholic liver di...   \n",
              "\n",
              "                                      source  \\\n",
              "0  https://pubmed.ncbi.nlm.nih.gov/20232240/   \n",
              "1  https://pubmed.ncbi.nlm.nih.gov/28012571/   \n",
              "2  https://pubmed.ncbi.nlm.nih.gov/28942748/   \n",
              "3  https://pubmed.ncbi.nlm.nih.gov/22244707/   \n",
              "\n",
              "                                             details  \n",
              "0  RCT of a manualized social treatment for high-...  \n",
              "1  Formatting removed (can be used to compare mod...  \n",
              "2               Effect of nutrition on mental health  \n",
              "3  Baclofen promotes alcohol abstinence in alcoho...  "
            ],
            "text/html": [
              "\n",
              "  <div id=\"df-d94c597b-bdf4-41cf-99c8-ebdc223361a6\">\n",
              "    <div class=\"colab-df-container\">\n",
              "      <div>\n",
              "<style scoped>\n",
              "    .dataframe tbody tr th:only-of-type {\n",
              "        vertical-align: middle;\n",
              "    }\n",
              "\n",
              "    .dataframe tbody tr th {\n",
              "        vertical-align: top;\n",
              "    }\n",
              "\n",
              "    .dataframe thead th {\n",
              "        text-align: right;\n",
              "    }\n",
              "</style>\n",
              "<table border=\"1\" class=\"dataframe\">\n",
              "  <thead>\n",
              "    <tr style=\"text-align: right;\">\n",
              "      <th></th>\n",
              "      <th>abstract</th>\n",
              "      <th>source</th>\n",
              "      <th>details</th>\n",
              "    </tr>\n",
              "  </thead>\n",
              "  <tbody>\n",
              "    <tr>\n",
              "      <th>0</th>\n",
              "      <td>This RCT examined the efficacy of a manualized...</td>\n",
              "      <td>https://pubmed.ncbi.nlm.nih.gov/20232240/</td>\n",
              "      <td>RCT of a manualized social treatment for high-...</td>\n",
              "    </tr>\n",
              "    <tr>\n",
              "      <th>1</th>\n",
              "      <td>Postpartum depression (PPD) is the most preval...</td>\n",
              "      <td>https://pubmed.ncbi.nlm.nih.gov/28012571/</td>\n",
              "      <td>Formatting removed (can be used to compare mod...</td>\n",
              "    </tr>\n",
              "    <tr>\n",
              "      <th>2</th>\n",
              "      <td>Mental illness, including depression, anxiety ...</td>\n",
              "      <td>https://pubmed.ncbi.nlm.nih.gov/28942748/</td>\n",
              "      <td>Effect of nutrition on mental health</td>\n",
              "    </tr>\n",
              "    <tr>\n",
              "      <th>3</th>\n",
              "      <td>Hepatitis C virus (HCV) and alcoholic liver di...</td>\n",
              "      <td>https://pubmed.ncbi.nlm.nih.gov/22244707/</td>\n",
              "      <td>Baclofen promotes alcohol abstinence in alcoho...</td>\n",
              "    </tr>\n",
              "  </tbody>\n",
              "</table>\n",
              "</div>\n",
              "      <button class=\"colab-df-convert\" onclick=\"convertToInteractive('df-d94c597b-bdf4-41cf-99c8-ebdc223361a6')\"\n",
              "              title=\"Convert this dataframe to an interactive table.\"\n",
              "              style=\"display:none;\">\n",
              "        \n",
              "  <svg xmlns=\"http://www.w3.org/2000/svg\" height=\"24px\"viewBox=\"0 0 24 24\"\n",
              "       width=\"24px\">\n",
              "    <path d=\"M0 0h24v24H0V0z\" fill=\"none\"/>\n",
              "    <path d=\"M18.56 5.44l.94 2.06.94-2.06 2.06-.94-2.06-.94-.94-2.06-.94 2.06-2.06.94zm-11 1L8.5 8.5l.94-2.06 2.06-.94-2.06-.94L8.5 2.5l-.94 2.06-2.06.94zm10 10l.94 2.06.94-2.06 2.06-.94-2.06-.94-.94-2.06-.94 2.06-2.06.94z\"/><path d=\"M17.41 7.96l-1.37-1.37c-.4-.4-.92-.59-1.43-.59-.52 0-1.04.2-1.43.59L10.3 9.45l-7.72 7.72c-.78.78-.78 2.05 0 2.83L4 21.41c.39.39.9.59 1.41.59.51 0 1.02-.2 1.41-.59l7.78-7.78 2.81-2.81c.8-.78.8-2.07 0-2.86zM5.41 20L4 18.59l7.72-7.72 1.47 1.35L5.41 20z\"/>\n",
              "  </svg>\n",
              "      </button>\n",
              "      \n",
              "  <style>\n",
              "    .colab-df-container {\n",
              "      display:flex;\n",
              "      flex-wrap:wrap;\n",
              "      gap: 12px;\n",
              "    }\n",
              "\n",
              "    .colab-df-convert {\n",
              "      background-color: #E8F0FE;\n",
              "      border: none;\n",
              "      border-radius: 50%;\n",
              "      cursor: pointer;\n",
              "      display: none;\n",
              "      fill: #1967D2;\n",
              "      height: 32px;\n",
              "      padding: 0 0 0 0;\n",
              "      width: 32px;\n",
              "    }\n",
              "\n",
              "    .colab-df-convert:hover {\n",
              "      background-color: #E2EBFA;\n",
              "      box-shadow: 0px 1px 2px rgba(60, 64, 67, 0.3), 0px 1px 3px 1px rgba(60, 64, 67, 0.15);\n",
              "      fill: #174EA6;\n",
              "    }\n",
              "\n",
              "    [theme=dark] .colab-df-convert {\n",
              "      background-color: #3B4455;\n",
              "      fill: #D2E3FC;\n",
              "    }\n",
              "\n",
              "    [theme=dark] .colab-df-convert:hover {\n",
              "      background-color: #434B5C;\n",
              "      box-shadow: 0px 1px 3px 1px rgba(0, 0, 0, 0.15);\n",
              "      filter: drop-shadow(0px 1px 2px rgba(0, 0, 0, 0.3));\n",
              "      fill: #FFFFFF;\n",
              "    }\n",
              "  </style>\n",
              "\n",
              "      <script>\n",
              "        const buttonEl =\n",
              "          document.querySelector('#df-d94c597b-bdf4-41cf-99c8-ebdc223361a6 button.colab-df-convert');\n",
              "        buttonEl.style.display =\n",
              "          google.colab.kernel.accessAllowed ? 'block' : 'none';\n",
              "\n",
              "        async function convertToInteractive(key) {\n",
              "          const element = document.querySelector('#df-d94c597b-bdf4-41cf-99c8-ebdc223361a6');\n",
              "          const dataTable =\n",
              "            await google.colab.kernel.invokeFunction('convertToInteractive',\n",
              "                                                     [key], {});\n",
              "          if (!dataTable) return;\n",
              "\n",
              "          const docLinkHtml = 'Like what you see? Visit the ' +\n",
              "            '<a target=\"_blank\" href=https://colab.research.google.com/notebooks/data_table.ipynb>data table notebook</a>'\n",
              "            + ' to learn more about interactive tables.';\n",
              "          element.innerHTML = '';\n",
              "          dataTable['output_type'] = 'display_data';\n",
              "          await google.colab.output.renderOutput(dataTable, element);\n",
              "          const docLink = document.createElement('div');\n",
              "          docLink.innerHTML = docLinkHtml;\n",
              "          element.appendChild(docLink);\n",
              "        }\n",
              "      </script>\n",
              "    </div>\n",
              "  </div>\n",
              "  "
            ]
          },
          "metadata": {},
          "execution_count": 144
        }
      ]
    },
    {
      "cell_type": "code",
      "source": [
        "# Create sentencizer - Source: https://spacy.io/usage/linguistic-features#sbd \n",
        "from spacy.lang.en import English\n",
        "nlp = English() # setup English sentence parser\n",
        "sentencizer = nlp.create_pipe(\"sentencizer\") # create sentence splitting pipeline object\n",
        "nlp.add_pipe('sentencizer') # add sentence splitting pipeline object to sentence parser\n",
        "doc = nlp(example_abstracts[0][\"abstract\"]) # create \"doc\" of parsed sequences, change index for a different abstract\n",
        "abstract_lines = [str(sent) for sent in list(doc.sents)] # return detected sentences from doc in string type (not spaCy token type)\n",
        "abstract_lines"
      ],
      "metadata": {
        "colab": {
          "base_uri": "https://localhost:8080/"
        },
        "id": "-o6Wb5LD4S9P",
        "outputId": "ac38c3c6-1652-4677-bbe6-6cfebdd4b54d"
      },
      "execution_count": 146,
      "outputs": [
        {
          "output_type": "execute_result",
          "data": {
            "text/plain": [
              "['This RCT examined the efficacy of a manualized social intervention for children with HFASDs.',\n",
              " 'Participants were randomly assigned to treatment or wait-list conditions.',\n",
              " 'Treatment included instruction and therapeutic activities targeting social skills, face-emotion recognition, interest expansion, and interpretation of non-literal language.',\n",
              " 'A response-cost program was applied to reduce problem behaviors and foster skills acquisition.',\n",
              " 'Significant treatment effects were found for five of seven primary outcome measures (parent ratings and direct child measures).',\n",
              " 'Secondary measures based on staff ratings (treatment group only) corroborated gains reported by parents.',\n",
              " 'High levels of parent, child and staff satisfaction were reported, along with high levels of treatment fidelity.',\n",
              " 'Standardized effect size estimates were primarily in the medium and large ranges and favored the treatment group.']"
            ]
          },
          "metadata": {},
          "execution_count": 146
        }
      ]
    },
    {
      "cell_type": "code",
      "source": [
        "# Get total number of lines\n",
        "total_lines_in_sample = len(abstract_lines)\n",
        "\n",
        "# Go through each line in abstract and create a list of dictionaries containing features for each line\n",
        "sample_lines = []\n",
        "for i, line in enumerate(abstract_lines):\n",
        "  sample_dict = {}\n",
        "  sample_dict[\"text\"] = str(line)\n",
        "  sample_dict[\"line_number\"] = i\n",
        "  sample_dict[\"total_lines\"] = total_lines_in_sample - 1\n",
        "  sample_lines.append(sample_dict)\n",
        "sample_lines"
      ],
      "metadata": {
        "colab": {
          "base_uri": "https://localhost:8080/"
        },
        "id": "ZxySPmrZ4gix",
        "outputId": "deb452d8-eafe-44d0-83b3-81f9ec06a3c5"
      },
      "execution_count": 149,
      "outputs": [
        {
          "output_type": "execute_result",
          "data": {
            "text/plain": [
              "[{'text': 'This RCT examined the efficacy of a manualized social intervention for children with HFASDs.',\n",
              "  'line_number': 0,\n",
              "  'total_lines': 7},\n",
              " {'text': 'Participants were randomly assigned to treatment or wait-list conditions.',\n",
              "  'line_number': 1,\n",
              "  'total_lines': 7},\n",
              " {'text': 'Treatment included instruction and therapeutic activities targeting social skills, face-emotion recognition, interest expansion, and interpretation of non-literal language.',\n",
              "  'line_number': 2,\n",
              "  'total_lines': 7},\n",
              " {'text': 'A response-cost program was applied to reduce problem behaviors and foster skills acquisition.',\n",
              "  'line_number': 3,\n",
              "  'total_lines': 7},\n",
              " {'text': 'Significant treatment effects were found for five of seven primary outcome measures (parent ratings and direct child measures).',\n",
              "  'line_number': 4,\n",
              "  'total_lines': 7},\n",
              " {'text': 'Secondary measures based on staff ratings (treatment group only) corroborated gains reported by parents.',\n",
              "  'line_number': 5,\n",
              "  'total_lines': 7},\n",
              " {'text': 'High levels of parent, child and staff satisfaction were reported, along with high levels of treatment fidelity.',\n",
              "  'line_number': 6,\n",
              "  'total_lines': 7},\n",
              " {'text': 'Standardized effect size estimates were primarily in the medium and large ranges and favored the treatment group.',\n",
              "  'line_number': 7,\n",
              "  'total_lines': 7}]"
            ]
          },
          "metadata": {},
          "execution_count": 149
        }
      ]
    },
    {
      "cell_type": "code",
      "source": [
        "# Get all line_number values from sample abstract\n",
        "test_abstract_line_numbers = [line[\"line_number\"] for line in sample_lines]\n",
        "# One-hot encode to same depth as training data, so model accepts right input shape\n",
        "test_abstract_line_numbers_one_hot = tf.one_hot(test_abstract_line_numbers, depth=15) \n",
        "test_abstract_line_numbers_one_hot"
      ],
      "metadata": {
        "colab": {
          "base_uri": "https://localhost:8080/"
        },
        "id": "hYbKvVoi5Df9",
        "outputId": "ba1c720e-83a2-4eaa-9fb0-aed12f1ed5b6"
      },
      "execution_count": 150,
      "outputs": [
        {
          "output_type": "execute_result",
          "data": {
            "text/plain": [
              "<tf.Tensor: shape=(8, 15), dtype=float32, numpy=\n",
              "array([[1., 0., 0., 0., 0., 0., 0., 0., 0., 0., 0., 0., 0., 0., 0.],\n",
              "       [0., 1., 0., 0., 0., 0., 0., 0., 0., 0., 0., 0., 0., 0., 0.],\n",
              "       [0., 0., 1., 0., 0., 0., 0., 0., 0., 0., 0., 0., 0., 0., 0.],\n",
              "       [0., 0., 0., 1., 0., 0., 0., 0., 0., 0., 0., 0., 0., 0., 0.],\n",
              "       [0., 0., 0., 0., 1., 0., 0., 0., 0., 0., 0., 0., 0., 0., 0.],\n",
              "       [0., 0., 0., 0., 0., 1., 0., 0., 0., 0., 0., 0., 0., 0., 0.],\n",
              "       [0., 0., 0., 0., 0., 0., 1., 0., 0., 0., 0., 0., 0., 0., 0.],\n",
              "       [0., 0., 0., 0., 0., 0., 0., 1., 0., 0., 0., 0., 0., 0., 0.]],\n",
              "      dtype=float32)>"
            ]
          },
          "metadata": {},
          "execution_count": 150
        }
      ]
    },
    {
      "cell_type": "code",
      "source": [
        "# Get all total_lines values from sample abstract\n",
        "test_abstract_total_lines = [line[\"total_lines\"] for line in sample_lines]\n",
        "# One-hot encode to same depth as training data, so model accepts right input shape\n",
        "test_abstract_total_lines_one_hot = tf.one_hot(test_abstract_total_lines, depth=20)\n",
        "test_abstract_total_lines_one_hot"
      ],
      "metadata": {
        "colab": {
          "base_uri": "https://localhost:8080/"
        },
        "id": "4SvqMrlI5ku0",
        "outputId": "05e33a19-0711-432c-c7dd-24ebdfbc25c0"
      },
      "execution_count": 151,
      "outputs": [
        {
          "output_type": "execute_result",
          "data": {
            "text/plain": [
              "<tf.Tensor: shape=(8, 20), dtype=float32, numpy=\n",
              "array([[0., 0., 0., 0., 0., 0., 0., 1., 0., 0., 0., 0., 0., 0., 0., 0.,\n",
              "        0., 0., 0., 0.],\n",
              "       [0., 0., 0., 0., 0., 0., 0., 1., 0., 0., 0., 0., 0., 0., 0., 0.,\n",
              "        0., 0., 0., 0.],\n",
              "       [0., 0., 0., 0., 0., 0., 0., 1., 0., 0., 0., 0., 0., 0., 0., 0.,\n",
              "        0., 0., 0., 0.],\n",
              "       [0., 0., 0., 0., 0., 0., 0., 1., 0., 0., 0., 0., 0., 0., 0., 0.,\n",
              "        0., 0., 0., 0.],\n",
              "       [0., 0., 0., 0., 0., 0., 0., 1., 0., 0., 0., 0., 0., 0., 0., 0.,\n",
              "        0., 0., 0., 0.],\n",
              "       [0., 0., 0., 0., 0., 0., 0., 1., 0., 0., 0., 0., 0., 0., 0., 0.,\n",
              "        0., 0., 0., 0.],\n",
              "       [0., 0., 0., 0., 0., 0., 0., 1., 0., 0., 0., 0., 0., 0., 0., 0.,\n",
              "        0., 0., 0., 0.],\n",
              "       [0., 0., 0., 0., 0., 0., 0., 1., 0., 0., 0., 0., 0., 0., 0., 0.,\n",
              "        0., 0., 0., 0.]], dtype=float32)>"
            ]
          },
          "metadata": {},
          "execution_count": 151
        }
      ]
    },
    {
      "cell_type": "code",
      "source": [
        "# Split abstract lines into characters\n",
        "abstract_chars = [split_chars(sentence) for sentence in abstract_lines]\n",
        "abstract_chars"
      ],
      "metadata": {
        "colab": {
          "base_uri": "https://localhost:8080/"
        },
        "id": "EVWGnyGL5mih",
        "outputId": "8d08a0a5-bbef-4dcd-e08f-eec6cd7d851b"
      },
      "execution_count": 152,
      "outputs": [
        {
          "output_type": "execute_result",
          "data": {
            "text/plain": [
              "['T h i s   R C T   e x a m i n e d   t h e   e f f i c a c y   o f   a   m a n u a l i z e d   s o c i a l   i n t e r v e n t i o n   f o r   c h i l d r e n   w i t h   H F A S D s .',\n",
              " 'P a r t i c i p a n t s   w e r e   r a n d o m l y   a s s i g n e d   t o   t r e a t m e n t   o r   w a i t - l i s t   c o n d i t i o n s .',\n",
              " 'T r e a t m e n t   i n c l u d e d   i n s t r u c t i o n   a n d   t h e r a p e u t i c   a c t i v i t i e s   t a r g e t i n g   s o c i a l   s k i l l s ,   f a c e - e m o t i o n   r e c o g n i t i o n ,   i n t e r e s t   e x p a n s i o n ,   a n d   i n t e r p r e t a t i o n   o f   n o n - l i t e r a l   l a n g u a g e .',\n",
              " 'A   r e s p o n s e - c o s t   p r o g r a m   w a s   a p p l i e d   t o   r e d u c e   p r o b l e m   b e h a v i o r s   a n d   f o s t e r   s k i l l s   a c q u i s i t i o n .',\n",
              " 'S i g n i f i c a n t   t r e a t m e n t   e f f e c t s   w e r e   f o u n d   f o r   f i v e   o f   s e v e n   p r i m a r y   o u t c o m e   m e a s u r e s   ( p a r e n t   r a t i n g s   a n d   d i r e c t   c h i l d   m e a s u r e s ) .',\n",
              " 'S e c o n d a r y   m e a s u r e s   b a s e d   o n   s t a f f   r a t i n g s   ( t r e a t m e n t   g r o u p   o n l y )   c o r r o b o r a t e d   g a i n s   r e p o r t e d   b y   p a r e n t s .',\n",
              " 'H i g h   l e v e l s   o f   p a r e n t ,   c h i l d   a n d   s t a f f   s a t i s f a c t i o n   w e r e   r e p o r t e d ,   a l o n g   w i t h   h i g h   l e v e l s   o f   t r e a t m e n t   f i d e l i t y .',\n",
              " 'S t a n d a r d i z e d   e f f e c t   s i z e   e s t i m a t e s   w e r e   p r i m a r i l y   i n   t h e   m e d i u m   a n d   l a r g e   r a n g e s   a n d   f a v o r e d   t h e   t r e a t m e n t   g r o u p .']"
            ]
          },
          "metadata": {},
          "execution_count": 152
        }
      ]
    },
    {
      "cell_type": "code",
      "source": [
        "# Make predictions on sample abstract features\n",
        "%%time\n",
        "test_abstract_pred_probs = loaded_model.predict(x=(test_abstract_line_numbers_one_hot,\n",
        "                                                   test_abstract_total_lines_one_hot,\n",
        "                                                   tf.constant(abstract_lines),\n",
        "                                                   tf.constant(abstract_chars)))\n",
        "test_abstract_pred_probs"
      ],
      "metadata": {
        "colab": {
          "base_uri": "https://localhost:8080/"
        },
        "id": "QDNQJnrh5otr",
        "outputId": "541b24bb-4175-4c83-de2d-473a165e82e9"
      },
      "execution_count": 153,
      "outputs": [
        {
          "output_type": "stream",
          "name": "stdout",
          "text": [
            "1/1 [==============================] - 4s 4s/step\n",
            "CPU times: user 3.73 s, sys: 69.9 ms, total: 3.8 s\n",
            "Wall time: 4.26 s\n"
          ]
        },
        {
          "output_type": "execute_result",
          "data": {
            "text/plain": [
              "array([[0.3219558 , 0.1073962 , 0.01658036, 0.5314614 , 0.02260624],\n",
              "       [0.08431024, 0.02599758, 0.7364717 , 0.10932168, 0.04389879],\n",
              "       [0.13006988, 0.05127499, 0.54969466, 0.19367617, 0.07528432],\n",
              "       [0.11809304, 0.12762892, 0.54512703, 0.0916831 , 0.11746792],\n",
              "       [0.05318144, 0.08045878, 0.44895652, 0.05028362, 0.36711964],\n",
              "       [0.03702763, 0.10476285, 0.61094   , 0.04656616, 0.20070335],\n",
              "       [0.03081662, 0.14180017, 0.06791014, 0.02635016, 0.73312294],\n",
              "       [0.02171962, 0.10270109, 0.26055056, 0.03945293, 0.57557577]],\n",
              "      dtype=float32)"
            ]
          },
          "metadata": {},
          "execution_count": 153
        }
      ]
    },
    {
      "cell_type": "code",
      "source": [
        "# Turn prediction probabilities into prediction classes\n",
        "test_abstract_preds = tf.argmax(test_abstract_pred_probs, axis=1)\n",
        "test_abstract_preds"
      ],
      "metadata": {
        "colab": {
          "base_uri": "https://localhost:8080/"
        },
        "id": "kETrbR2N5qdR",
        "outputId": "13a679d2-e90b-4dcc-c837-ef812aa422ab"
      },
      "execution_count": 154,
      "outputs": [
        {
          "output_type": "execute_result",
          "data": {
            "text/plain": [
              "<tf.Tensor: shape=(8,), dtype=int64, numpy=array([3, 2, 2, 2, 2, 2, 4, 4])>"
            ]
          },
          "metadata": {},
          "execution_count": 154
        }
      ]
    },
    {
      "cell_type": "code",
      "source": [
        "# Turn prediction class integers into string class names\n",
        "test_abstract_pred_classes = [label_encoder.classes_[i] for i in test_abstract_preds]\n",
        "test_abstract_pred_classes"
      ],
      "metadata": {
        "colab": {
          "base_uri": "https://localhost:8080/"
        },
        "id": "7U0ChOjX5sPj",
        "outputId": "e1f88e71-30bd-4543-8db0-5a59fe67d252"
      },
      "execution_count": 155,
      "outputs": [
        {
          "output_type": "execute_result",
          "data": {
            "text/plain": [
              "['OBJECTIVE',\n",
              " 'METHODS',\n",
              " 'METHODS',\n",
              " 'METHODS',\n",
              " 'METHODS',\n",
              " 'METHODS',\n",
              " 'RESULTS',\n",
              " 'RESULTS']"
            ]
          },
          "metadata": {},
          "execution_count": 155
        }
      ]
    },
    {
      "cell_type": "code",
      "source": [
        "# Visualize abstract lines and predicted sequence labels\n",
        "for i, line in enumerate(abstract_lines):\n",
        "  print(f\"{test_abstract_pred_classes[i]}: {line}\")"
      ],
      "metadata": {
        "colab": {
          "base_uri": "https://localhost:8080/"
        },
        "id": "kwr9-V3u5uno",
        "outputId": "7537ea64-e5b7-42eb-a5c3-f83d806b4a95"
      },
      "execution_count": 156,
      "outputs": [
        {
          "output_type": "stream",
          "name": "stdout",
          "text": [
            "OBJECTIVE: This RCT examined the efficacy of a manualized social intervention for children with HFASDs.\n",
            "METHODS: Participants were randomly assigned to treatment or wait-list conditions.\n",
            "METHODS: Treatment included instruction and therapeutic activities targeting social skills, face-emotion recognition, interest expansion, and interpretation of non-literal language.\n",
            "METHODS: A response-cost program was applied to reduce problem behaviors and foster skills acquisition.\n",
            "METHODS: Significant treatment effects were found for five of seven primary outcome measures (parent ratings and direct child measures).\n",
            "METHODS: Secondary measures based on staff ratings (treatment group only) corroborated gains reported by parents.\n",
            "RESULTS: High levels of parent, child and staff satisfaction were reported, along with high levels of treatment fidelity.\n",
            "RESULTS: Standardized effect size estimates were primarily in the medium and large ranges and favored the treatment group.\n"
          ]
        }
      ]
    },
    {
      "cell_type": "code",
      "source": [],
      "metadata": {
        "id": "X4DqJRVX5xra"
      },
      "execution_count": null,
      "outputs": []
    }
  ]
}