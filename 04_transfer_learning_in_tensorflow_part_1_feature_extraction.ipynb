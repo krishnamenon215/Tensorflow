{
  "nbformat": 4,
  "nbformat_minor": 0,
  "metadata": {
    "colab": {
      "provenance": []
    },
    "kernelspec": {
      "name": "python3",
      "display_name": "Python 3"
    },
    "language_info": {
      "name": "python"
    },
    "accelerator": "GPU",
    "gpuClass": "standard"
  },
  "cells": [
    {
      "cell_type": "markdown",
      "source": [
        "#Transfer Learning with tensorflow part 1 feature extraction\n",
        "\n",
        "Transfer learning is levaraging a working models existing archtitecture and learned patterns of our own problem\n",
        "2 main benefits:\n",
        "\n",
        "1. can leverage an existing neural network architecture proven to work on problems similar to oue own\n",
        "2. can leverage a working neural netwrok architecture which has already learned patterns on similar data to our own then we can adapt those patterns to our own data"
      ],
      "metadata": {
        "id": "a20rFmFXe6d-"
      }
    },
    {
      "cell_type": "markdown",
      "source": [
        "## Downloading and becoming one with data"
      ],
      "metadata": {
        "id": "T07B3kPMhQgP"
      }
    },
    {
      "cell_type": "code",
      "source": [
        "# Get data (10% of 10 food classes from Food101)\n",
        "import zipfile\n",
        "\n",
        "#Download the data\n",
        "!wget https://storage.googleapis.com/ztm_tf_course/food_vision/10_food_classes_10_percent.zip\n",
        "\n",
        "#Unzip the downloaded file\n",
        "zip_ref = zipfile.ZipFile(\"10_food_classes_10_percent.zip\")\n",
        "zip_ref.extractall()\n",
        "zip_ref.close()"
      ],
      "metadata": {
        "colab": {
          "base_uri": "https://localhost:8080/"
        },
        "id": "KrXkumqohcdW",
        "outputId": "ec40927c-0a50-4cc1-f3a5-89bc209a2ac4"
      },
      "execution_count": 4,
      "outputs": [
        {
          "output_type": "stream",
          "name": "stdout",
          "text": [
            "--2023-01-13 23:49:41--  https://storage.googleapis.com/ztm_tf_course/food_vision/10_food_classes_10_percent.zip\n",
            "Resolving storage.googleapis.com (storage.googleapis.com)... 74.125.68.128, 74.125.24.128, 142.250.4.128, ...\n",
            "Connecting to storage.googleapis.com (storage.googleapis.com)|74.125.68.128|:443... connected.\n",
            "HTTP request sent, awaiting response... 200 OK\n",
            "Length: 168546183 (161M) [application/zip]\n",
            "Saving to: ‘10_food_classes_10_percent.zip’\n",
            "\n",
            "10_food_classes_10_ 100%[===================>] 160.74M  23.4MB/s    in 7.9s    \n",
            "\n",
            "2023-01-13 23:49:50 (20.3 MB/s) - ‘10_food_classes_10_percent.zip’ saved [168546183/168546183]\n",
            "\n"
          ]
        }
      ]
    },
    {
      "cell_type": "code",
      "source": [
        "#How many images in each folder\n",
        "import os\n",
        "\n",
        "#walk through 10 percent data directory and list number of files\n",
        "for dirpath,dirnames,filename in os.walk(\"10_food_classes_10_percent\"):\n",
        "  print(f\"There are {len(dirnames)} directories and {len(filename)} images in '{dirpath}'.\")"
      ],
      "metadata": {
        "colab": {
          "base_uri": "https://localhost:8080/"
        },
        "id": "DISAlpIYiJAB",
        "outputId": "158923bc-d3a5-4764-e4cc-035e1d8be24b"
      },
      "execution_count": 7,
      "outputs": [
        {
          "output_type": "stream",
          "name": "stdout",
          "text": [
            "There are 2 directories and 0 images in '10_food_classes_10_percent'.\n",
            "There are 10 directories and 0 images in '10_food_classes_10_percent/test'.\n",
            "There are 0 directories and 250 images in '10_food_classes_10_percent/test/sushi'.\n",
            "There are 0 directories and 250 images in '10_food_classes_10_percent/test/ice_cream'.\n",
            "There are 0 directories and 250 images in '10_food_classes_10_percent/test/hamburger'.\n",
            "There are 0 directories and 250 images in '10_food_classes_10_percent/test/pizza'.\n",
            "There are 0 directories and 250 images in '10_food_classes_10_percent/test/chicken_wings'.\n",
            "There are 0 directories and 250 images in '10_food_classes_10_percent/test/grilled_salmon'.\n",
            "There are 0 directories and 250 images in '10_food_classes_10_percent/test/fried_rice'.\n",
            "There are 0 directories and 250 images in '10_food_classes_10_percent/test/ramen'.\n",
            "There are 0 directories and 250 images in '10_food_classes_10_percent/test/steak'.\n",
            "There are 0 directories and 250 images in '10_food_classes_10_percent/test/chicken_curry'.\n",
            "There are 10 directories and 0 images in '10_food_classes_10_percent/train'.\n",
            "There are 0 directories and 75 images in '10_food_classes_10_percent/train/sushi'.\n",
            "There are 0 directories and 75 images in '10_food_classes_10_percent/train/ice_cream'.\n",
            "There are 0 directories and 75 images in '10_food_classes_10_percent/train/hamburger'.\n",
            "There are 0 directories and 75 images in '10_food_classes_10_percent/train/pizza'.\n",
            "There are 0 directories and 75 images in '10_food_classes_10_percent/train/chicken_wings'.\n",
            "There are 0 directories and 75 images in '10_food_classes_10_percent/train/grilled_salmon'.\n",
            "There are 0 directories and 75 images in '10_food_classes_10_percent/train/fried_rice'.\n",
            "There are 0 directories and 75 images in '10_food_classes_10_percent/train/ramen'.\n",
            "There are 0 directories and 75 images in '10_food_classes_10_percent/train/steak'.\n",
            "There are 0 directories and 75 images in '10_food_classes_10_percent/train/chicken_curry'.\n"
          ]
        }
      ]
    },
    {
      "cell_type": "markdown",
      "source": [
        "## Create data loaders(preparing the data)\n",
        "\n",
        "We will use the ImageDataGenerator class to load in our images in batches"
      ],
      "metadata": {
        "id": "Yw-j5vIEivdx"
      }
    },
    {
      "cell_type": "code",
      "source": [
        "#Setup data inputs\n",
        "from tensorflow.keras.preprocessing.image import ImageDataGenerator\n",
        "\n",
        "IMAGE_SHAPE=(224,224)\n",
        "BATCH_SIZE=32\n",
        "\n",
        "train_dir = \"10_food_classes_10_percent/train/\"\n",
        "test_dir = \"10_food_classes_10_percent/test/\"\n",
        "\n",
        "\n",
        "train_datagen = ImageDataGenerator(rescale =1/255.)\n",
        "test_datagen = ImageDataGenerator(rescale =1/255.)\n",
        "\n",
        "print(\"Training Images:\")\n",
        "\n",
        "train_data_10_percent = train_datagen.flow_from_directory(train_dir,\n",
        "                                                          target_size=IMAGE_SHAPE,\n",
        "                                                          batch_size=BATCH_SIZE,\n",
        "                                                          class_mode =\"categorical\")\n",
        "\n",
        "print(\"Testing Images:\")\n",
        "test_data_10_percent = test_datagen.flow_from_directory(test_dir,\n",
        "                                                          target_size=IMAGE_SHAPE,\n",
        "                                                          batch_size=BATCH_SIZE,\n",
        "                                                          class_mode =\"categorical\")\n"
      ],
      "metadata": {
        "colab": {
          "base_uri": "https://localhost:8080/"
        },
        "id": "Jj8IIr6GjWlP",
        "outputId": "6ac7a867-a1ac-4162-f473-aba0ca7164e0"
      },
      "execution_count": 10,
      "outputs": [
        {
          "output_type": "stream",
          "name": "stdout",
          "text": [
            "Training Images:\n",
            "Found 750 images belonging to 10 classes.\n",
            "Testing Images:\n",
            "Found 2500 images belonging to 10 classes.\n"
          ]
        }
      ]
    },
    {
      "cell_type": "markdown",
      "source": [
        "## Setting up Callbacks(things to run whilst our model trains)\n",
        "\n",
        "Callbacks are extra functionality which can be added to the models to be performed during or after training. some of the most popular callbacks:\n",
        "\n",
        "1. Tracking experiments with the TensorBoard\n",
        "2. Model checkpointing\n",
        "3. early stopping-stopping a model from training"
      ],
      "metadata": {
        "id": "vjDhL4EvkPsj"
      }
    },
    {
      "cell_type": "code",
      "source": [
        "#Create TensorBoard callback(functionized because we need to create a new one for eachmodel)\n",
        "import datetime\n",
        "import tensorflow as tf\n",
        "\n",
        "def create_tensorboard_callback(dir_name,experiment_name):\n",
        "  log_dir = dir_name + \"/\" + experiment_name + \"/\" + datetime.datetime.now().strftime(\"%Y%m%d-%H%M%S\")\n",
        "  tensorboard_callback = tf.keras.callbacks.TensorBoard(log_dir=log_dir)\n",
        "  print(f'Saving Tensorboard log files to :{log_dir}')\n",
        "  return tensorboard_callback"
      ],
      "metadata": {
        "id": "mqCdAcBqlIVP"
      },
      "execution_count": 13,
      "outputs": []
    },
    {
      "cell_type": "markdown",
      "source": [
        "##Creating models using TensorFlow Hub\n",
        "\n",
        "past: Used tensorflow to create the models layer by layer from scratch\n",
        "\n",
        "Now we are going to do a similar process, except the majority of the models layers are going to come from TensorFlow Hub.\n",
        "\n",
        "We can access pretrained models on : https://tfhub.dev\n",
        "\n",
        "Browsing the tensorflow hub page and sorting for image classifciation, we found the following feature vector model link:\n",
        "https://tfhub.dev/tensorflow/efficientnet/b0/feature-vector/1\n"
      ],
      "metadata": {
        "id": "z8F8B7dHmI0r"
      }
    },
    {
      "cell_type": "code",
      "source": [
        "#Lets compare following 2 models\n",
        "\n",
        "resnet_url = \"https://tfhub.dev/google/imagenet/resnet_v2_50/feature_vector/4\"\n",
        "\n",
        "efficientnet_url = \"https://tfhub.dev/tensorflow/efficientnet/b0/feature-vector/1\""
      ],
      "metadata": {
        "id": "fuCSCeX9mXVE"
      },
      "execution_count": 14,
      "outputs": []
    },
    {
      "cell_type": "code",
      "source": [
        "#import dependencies\n",
        "import tensorflow as tf\n",
        "import tensorflow_hub as hub\n",
        "from tensorflow.keras import layers"
      ],
      "metadata": {
        "id": "eSquvAIQsWAx"
      },
      "execution_count": 15,
      "outputs": []
    },
    {
      "cell_type": "code",
      "source": [
        "#Lets make a create model) function to create a model from a URL\n",
        "def create_model(model_url,num_classes=10):\n",
        "  #Download pretrained model and save it as keras layer\n",
        "  feature_extraction_layer = hub.KerasLayer(model_url,\n",
        "                                            trainable = False,\n",
        "                                            name = \"feature_extraction_layer\",\n",
        "                                            input_shape = IMAGE_SHAPE+(3,))\n",
        "  \n",
        "  #Create our model\n",
        "  model = tf.keras.Sequential([\n",
        "      feature_extraction_layer,\n",
        "      layers.Dense(num_classes, activation =\"softmax\", name=\"output_layer\")\n",
        "  ])\n",
        "\n",
        "  return model"
      ],
      "metadata": {
        "id": "eoza1V7lwECF"
      },
      "execution_count": 16,
      "outputs": []
    },
    {
      "cell_type": "markdown",
      "source": [
        "###Creating and testing  Resnet Tensorflow hub feature extraction model "
      ],
      "metadata": {
        "id": "3KFk0S0U3NwP"
      }
    },
    {
      "cell_type": "code",
      "source": [
        "#Create Resnet model\n",
        "resnet_model = create_model(resnet_url,\n",
        "                             num_classes = train_data_10_percent.num_classes)\n"
      ],
      "metadata": {
        "id": "sQlbTNjS3b0-"
      },
      "execution_count": 17,
      "outputs": []
    },
    {
      "cell_type": "code",
      "source": [
        "#Compile our resnet model\n",
        "resnet_model.compile(loss=\"categorical_crossentropy\",\n",
        "                     optimizer = tf.keras.optimizers.Adam(),\n",
        "                     metrics = [\"accuracy\"])"
      ],
      "metadata": {
        "id": "ERsMs8pI31zi"
      },
      "execution_count": 19,
      "outputs": []
    },
    {
      "cell_type": "code",
      "source": [
        "#Fit the model\n",
        "resnet_history = resnet_model.fit(train_data_10_percent,\n",
        "                                  epochs = 5,\n",
        "                                  steps_per_epoch = len(train_data_10_percent),\n",
        "                                  validation_data = test_data_10_percent,\n",
        "                                  validation_steps=len(test_data_10_percent),\n",
        "                                  callbacks=[create_tensorboard_callback(dir_name=\"tensorflow_hub\",\n",
        "                                                                         experiment_name=\"resnet50V2\")]\n",
        "                                  )"
      ],
      "metadata": {
        "colab": {
          "base_uri": "https://localhost:8080/"
        },
        "id": "CxdZeQRB4CCu",
        "outputId": "2ebf9215-1d6f-421f-f70c-f697532c4700"
      },
      "execution_count": 22,
      "outputs": [
        {
          "output_type": "stream",
          "name": "stdout",
          "text": [
            "Saving Tensorboard log files to :tensorflow_hub/resnet50V2/20230114-012705\n",
            "Epoch 1/5\n",
            "24/24 [==============================] - 29s 745ms/step - loss: 1.9922 - accuracy: 0.3387 - val_loss: 1.2889 - val_accuracy: 0.6008\n",
            "Epoch 2/5\n",
            "24/24 [==============================] - 16s 672ms/step - loss: 0.9070 - accuracy: 0.7307 - val_loss: 0.8585 - val_accuracy: 0.7252\n",
            "Epoch 3/5\n",
            "24/24 [==============================] - 16s 677ms/step - loss: 0.6092 - accuracy: 0.8267 - val_loss: 0.7486 - val_accuracy: 0.7628\n",
            "Epoch 4/5\n",
            "24/24 [==============================] - 16s 673ms/step - loss: 0.4678 - accuracy: 0.8813 - val_loss: 0.7077 - val_accuracy: 0.7768\n",
            "Epoch 5/5\n",
            "24/24 [==============================] - 16s 695ms/step - loss: 0.3740 - accuracy: 0.9173 - val_loss: 0.6719 - val_accuracy: 0.7844\n"
          ]
        }
      ]
    },
    {
      "cell_type": "markdown",
      "source": [
        "Transfer learning feature extractor model performed really well only with 10% training example"
      ],
      "metadata": {
        "id": "6tc_x5uv4CKY"
      }
    },
    {
      "cell_type": "code",
      "source": [
        "#Lets create function to plot loss curves\n",
        "import matplotlib.pyplot as plt\n",
        "\n",
        "#Plot validation and training curves separately\n",
        "def plot_loss_curves(history):\n",
        "  loss = history.history[\"loss\"]\n",
        "  val_loss = history.history[\"val_loss\"]\n",
        "\n",
        "  accuracy = history.history[\"accuracy\"]\n",
        "  val_accuracy = history.history[\"val_accuracy\"]\n",
        "\n",
        "  epochs = range(len(history.history[\"loss\"]))\n",
        "\n",
        "  #Plot loss\n",
        "  plt.plot(epochs, loss, label=\"Training_loss\")\n",
        "  plt.plot(epochs, val_loss, label=\"val_loss\")\n",
        "  plt.title(\"loss\")\n",
        "  plt.xlabel(\"epochs\")\n",
        "  plt.legend()\n",
        "\n",
        "  #Plot accuracy\n",
        "  plt.figure()\n",
        "  plt.plot(epochs, accuracy, label=\"Training_accuracy\")\n",
        "  plt.plot(epochs, val_accuracy, label=\"val_accuracy\")\n",
        "  plt.title(\"accuracy\")\n",
        "  plt.xlabel(\"epochs\")\n",
        "  plt.legend()"
      ],
      "metadata": {
        "id": "jDnilTLL5pUS"
      },
      "execution_count": 25,
      "outputs": []
    },
    {
      "cell_type": "code",
      "source": [
        "#plot loss curves for resnet model\n",
        "plot_loss_curves(resnet_history)"
      ],
      "metadata": {
        "colab": {
          "base_uri": "https://localhost:8080/",
          "height": 573
        },
        "id": "VOfd7aGr56y0",
        "outputId": "5315a975-d878-4c0f-fe60-8806873d21a1"
      },
      "execution_count": 26,
      "outputs": [
        {
          "output_type": "display_data",
          "data": {
            "text/plain": [
              "<Figure size 432x288 with 1 Axes>"
            ],
            "image/png": "[encoded data removed]"
          },
          "metadata": {
            "needs_background": "light"
          }
        },
        {
          "output_type": "display_data",
          "data": {
            "text/plain": [
              "<Figure size 432x288 with 1 Axes>"
            ],
            "image/png": "[encoded data removed]"
          },
          "metadata": {
            "needs_background": "light"
          }
        }
      ]
    },
    {
      "cell_type": "markdown",
      "source": [
        "###Creating and testing  Efficient Net Tensorflow hub feature extraction model "
      ],
      "metadata": {
        "id": "NbrhetKF6Ap-"
      }
    },
    {
      "cell_type": "code",
      "source": [
        "from matplotlib import test\n",
        "#Create efficient netB0 model\n",
        "efficientnet_model = create_model(model_url=efficientnet_url,\n",
        "                             num_classes = train_data_10_percent.num_classes)\n",
        "\n",
        "#Compile Efficientnet model\n",
        "efficientnet_model.compile(loss = \"categorical_crossentropy\",\n",
        "                           optimizer = tf.keras.optimizers.Adam(),\n",
        "                           metrics=[\"accuracy\"])\n",
        "\n",
        "EPOCHS = 5\n",
        "\n",
        "#Fit the Efficientnet model on 10% training data\n",
        "efficientnet_history = efficientnet_model.fit(train_data_10_percent,\n",
        "                                              epochs = EPOCHS,\n",
        "                                              steps_per_epoch=len(train_data_10_percent),\n",
        "                                              validation_data = test_data_10_percent,\n",
        "                                              validation_steps=len(test_data_10_percent),\n",
        "                                              callbacks=[create_tensorboard_callback(dir_name=\"tensorflow_hub\",\n",
        "                                                                         experiment_name=\"efficientnetb0\")]\n",
        "                                  )\n",
        "                                        "
      ],
      "metadata": {
        "colab": {
          "base_uri": "https://localhost:8080/"
        },
        "id": "ENAqE2Sr7Jru",
        "outputId": "388bd00c-6168-4ecc-a663-0b242b133ddc"
      },
      "execution_count": 27,
      "outputs": [
        {
          "output_type": "stream",
          "name": "stdout",
          "text": [
            "Saving Tensorboard log files to :tensorflow_hub/efficientnetb0/20230114-014559\n",
            "Epoch 1/5\n",
            "24/24 [==============================] - 27s 720ms/step - loss: 1.8450 - accuracy: 0.4480 - val_loss: 1.2799 - val_accuracy: 0.7288\n",
            "Epoch 2/5\n",
            "24/24 [==============================] - 15s 647ms/step - loss: 1.0537 - accuracy: 0.7680 - val_loss: 0.8542 - val_accuracy: 0.8200\n",
            "Epoch 3/5\n",
            "24/24 [==============================] - 17s 723ms/step - loss: 0.7564 - accuracy: 0.8253 - val_loss: 0.6873 - val_accuracy: 0.8408\n",
            "Epoch 4/5\n",
            "24/24 [==============================] - 15s 650ms/step - loss: 0.6070 - accuracy: 0.8520 - val_loss: 0.6032 - val_accuracy: 0.8544\n",
            "Epoch 5/5\n",
            "24/24 [==============================] - 15s 648ms/step - loss: 0.5122 - accuracy: 0.8853 - val_loss: 0.5522 - val_accuracy: 0.8620\n"
          ]
        }
      ]
    },
    {
      "cell_type": "code",
      "source": [
        "#Plot loss curves\n",
        "plot_loss_curves(efficientnet_history)"
      ],
      "metadata": {
        "colab": {
          "base_uri": "https://localhost:8080/",
          "height": 573
        },
        "id": "GOpHwXsb9Ek1",
        "outputId": "87665f1f-390d-4a4f-dd34-f91562814a89"
      },
      "execution_count": 28,
      "outputs": [
        {
          "output_type": "display_data",
          "data": {
            "text/plain": [
              "<Figure size 432x288 with 1 Axes>"
            ],
            "image/png": "[encoded data removed]"
          },
          "metadata": {
            "needs_background": "light"
          }
        },
        {
          "output_type": "display_data",
          "data": {
            "text/plain": [
              "<Figure size 432x288 with 1 Axes>"
            ],
            "image/png": "[encoded data removed]"
          },
          "metadata": {
            "needs_background": "light"
          }
        }
      ]
    },
    {
      "cell_type": "code",
      "source": [
        "efficientnet_model.summary()"
      ],
      "metadata": {
        "colab": {
          "base_uri": "https://localhost:8080/"
        },
        "id": "3ckZ5hre9nm8",
        "outputId": "957f01d9-68f6-4824-ad63-8198481e3422"
      },
      "execution_count": 29,
      "outputs": [
        {
          "output_type": "stream",
          "name": "stdout",
          "text": [
            "Model: \"sequential_1\"\n",
            "_________________________________________________________________\n",
            " Layer (type)                Output Shape              Param #   \n",
            "=================================================================\n",
            " feature_extraction_layer (K  (None, 1280)             4049564   \n",
            " erasLayer)                                                      \n",
            "                                                                 \n",
            " output_layer (Dense)        (None, 10)                12810     \n",
            "                                                                 \n",
            "=================================================================\n",
            "Total params: 4,062,374\n",
            "Trainable params: 12,810\n",
            "Non-trainable params: 4,049,564\n",
            "_________________________________________________________________\n"
          ]
        }
      ]
    },
    {
      "cell_type": "code",
      "source": [
        "resnet_model.summary()"
      ],
      "metadata": {
        "colab": {
          "base_uri": "https://localhost:8080/"
        },
        "id": "Y0ot6eas9_CR",
        "outputId": "60d056ca-8e34-4701-c5c2-a6c049e3284b"
      },
      "execution_count": 30,
      "outputs": [
        {
          "output_type": "stream",
          "name": "stdout",
          "text": [
            "Model: \"sequential\"\n",
            "_________________________________________________________________\n",
            " Layer (type)                Output Shape              Param #   \n",
            "=================================================================\n",
            " feature_extraction_layer (K  (None, 2048)             23564800  \n",
            " erasLayer)                                                      \n",
            "                                                                 \n",
            " output_layer (Dense)        (None, 10)                20490     \n",
            "                                                                 \n",
            "=================================================================\n",
            "Total params: 23,585,290\n",
            "Trainable params: 20,490\n",
            "Non-trainable params: 23,564,800\n",
            "_________________________________________________________________\n"
          ]
        }
      ]
    },
    {
      "cell_type": "code",
      "source": [
        "#How many layers does efficientnet feature extractor have?\n",
        "len(efficientnet_model.layers[0].weights)"
      ],
      "metadata": {
        "colab": {
          "base_uri": "https://localhost:8080/"
        },
        "id": "1BsS0HhH_HJN",
        "outputId": "cceee014-64e0-465d-cdfd-383a470e36c4"
      },
      "execution_count": 31,
      "outputs": [
        {
          "output_type": "execute_result",
          "data": {
            "text/plain": [
              "309"
            ]
          },
          "metadata": {},
          "execution_count": 31
        }
      ]
    },
    {
      "cell_type": "markdown",
      "source": [
        "## Different types of transfer learning\n",
        "\n",
        "1. \"As in\" transfer learning - using an existing model with no changes what so ever (eg. using ImageNet model on 1000 ImageNet classes,none of your own.)\n",
        "2. \"Feature Extraction\" transfer learning - use the prelearned patterns of an existing model(eg. EfficientnetB0 trained on ImageNet) and adjust the output layer for your own problem(eg. 1000 classes -> 10 classes of food\n",
        "3. \"Fine Tuning\" transfer learning - use the pretrained patterns of an existing model and fine tune many or all of the underlyinh layers(including new output layer)                                                                                                                                                                                    "
      ],
      "metadata": {
        "id": "V9hVacG7-Bpp"
      }
    },
    {
      "cell_type": "markdown",
      "source": [
        "## Comparing our models results using TensorBoard\n",
        "\n",
        "Things uploaded to Tensorboard.dev is public."
      ],
      "metadata": {
        "id": "NDj7eYWz-_kP"
      }
    },
    {
      "cell_type": "code",
      "source": [
        "#Upload Tensorboard Dev records.\n",
        "!tensorboard dev upload --logdir ./tensorflow_hub/ \\\n",
        "  --name \"EfficientNetb0 vs. ResNet50V2\" \\\n",
        "  --description \"  Comparing two different TF Hub Feature extraction model architectures using 10% of training dat\" \\\n",
        "  --one_shot"
      ],
      "metadata": {
        "colab": {
          "base_uri": "https://localhost:8080/"
        },
        "id": "4vLoFJSMADyf",
        "outputId": "3d9d179b-ea89-4a16-8efa-8b35a7e60a97"
      },
      "execution_count": 32,
      "outputs": [
        {
          "output_type": "stream",
          "name": "stdout",
          "text": [
            "\n",
            "***** TensorBoard Uploader *****\n",
            "\n",
            "This will upload your TensorBoard logs to https://tensorboard.dev/ from\n",
            "the following directory:\n",
            "\n",
            "./tensorflow_hub/\n",
            "\n",
            "This TensorBoard will be visible to everyone. Do not upload sensitive\n",
            "data.\n",
            "\n",
            "Your use of this service is subject to Google's Terms of Service\n",
            "<https://policies.google.com/terms> and Privacy Policy\n",
            "<https://policies.google.com/privacy>, and TensorBoard.dev's Terms of Service\n",
            "<https://tensorboard.dev/policy/terms/>.\n",
            "\n",
            "This notice will not be shown again while you are logged into the uploader.\n",
            "To log out, run `tensorboard dev auth revoke`.\n",
            "\n",
            "Continue? (yes/NO) yes\n",
            "\n",
            "Please visit this URL to authorize this application: https://accounts.google.com/o/oauth2/auth?response_type=code&client_id=373649185512-8v619h5kft38l4456nm2dj4ubeqsrvh6.apps.googleusercontent.com&redirect_uri=urn%3Aietf%3Awg%3Aoauth%3A2.0%3Aoob&scope=openid+https%3A%2F%2Fwww.googleapis.com%2Fauth%2Fuserinfo.email&state=R1xRctAi1gnuXBakv31XDdhYFL9IIs&prompt=consent&access_type=offline\n",
            "Enter the authorization code: 4/1AWgavddsofuM-CNdEZRFfWxpxSVsquZEFZCyBosXUHjO6GDOnFNf_hDbVMs\n",
            "\n",
            "\n",
            "New experiment created. View your TensorBoard at: https://tensorboard.dev/experiment/lhYR6atVTDOlBpYq0pEDsA/\n",
            "\n",
            "\u001b[1m[2023-01-14T02:04:24]\u001b[0m Started scanning logdir.\n",
            "\u001b[1m[2023-01-14T02:04:29]\u001b[0m Total uploaded: 60 scalars, 0 tensors, 2 binary objects (5.6 MB)\n",
            "\u001b[1m[2023-01-14T02:04:29]\u001b[0m Done scanning logdir.\n",
            "\n",
            "\n",
            "Done. View your TensorBoard at https://tensorboard.dev/experiment/lhYR6atVTDOlBpYq0pEDsA/\n"
          ]
        }
      ]
    },
    {
      "cell_type": "markdown",
      "source": [
        "TensorBoard experiments published publically using : https://tensorboard.dev/experiment/lhYR6atVTDOlBpYq0pEDsA/"
      ],
      "metadata": {
        "id": "SmKHRHLoBLMD"
      }
    },
    {
      "cell_type": "code",
      "source": [
        "#Check out what tensorboard experiments you have\n",
        "!tensorboard dev list"
      ],
      "metadata": {
        "colab": {
          "base_uri": "https://localhost:8080/"
        },
        "id": "nMpQ-m-4Bt0S",
        "outputId": "19179373-e3da-4a81-86be-6d83e6685a84"
      },
      "execution_count": 33,
      "outputs": [
        {
          "output_type": "stream",
          "name": "stdout",
          "text": [
            "https://tensorboard.dev/experiment/lhYR6atVTDOlBpYq0pEDsA/\n",
            "\tName                 EfficientNetb0 vs. ResNet50V2\n",
            "\tDescription            Comparing two different TF Hub Feature extraction model architectures using 10% of training dat\n",
            "\tId                   lhYR6atVTDOlBpYq0pEDsA\n",
            "\tCreated              2023-01-14 02:04:24 (2 minutes ago)\n",
            "\tUpdated              2023-01-14 02:04:29 (2 minutes ago)\n",
            "\tRuns                 4\n",
            "\tTags                 5\n",
            "\tScalars              60\n",
            "\tTensor bytes         0\n",
            "\tBinary object bytes  5918466\n",
            "Total: 1 experiment(s)\n"
          ]
        }
      ]
    },
    {
      "cell_type": "markdown",
      "source": [
        "Delete an experiment\n",
        "\n",
        "\n",
        "!tensorboard dev delete --experiment_id lhYR6atVTDOlBpYq0pEDsA"
      ],
      "metadata": {
        "id": "u0h1f4yiB-OW"
      }
    }
  ]
}