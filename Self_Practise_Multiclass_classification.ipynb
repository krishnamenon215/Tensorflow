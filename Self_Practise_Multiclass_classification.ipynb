{
  "nbformat": 4,
  "nbformat_minor": 0,
  "metadata": {
    "colab": {
      "provenance": []
    },
    "kernelspec": {
      "name": "python3",
      "display_name": "Python 3"
    },
    "language_info": {
      "name": "python"
    },
    "accelerator": "GPU",
    "gpuClass": "standard"
  },
  "cells": [
    {
      "cell_type": "code",
      "source": [
        "import zipfile\n",
        "from google.colab import drive\n",
        "\n",
        "drive.mount('/content/drive/')\n",
        "\n",
        "zip_ref = zipfile.ZipFile(\"/content/drive/My Drive/archive.zip\", 'r')\n",
        "zip_ref.extractall(\"/tmp\")\n",
        "zip_ref.close()"
      ],
      "metadata": {
        "colab": {
          "base_uri": "https://localhost:8080/"
        },
        "id": "-b9vVHhgCSnH",
        "outputId": "34f5ad1d-b481-49c7-b852-cb95d7d03533"
      },
      "execution_count": 3,
      "outputs": [
        {
          "output_type": "stream",
          "name": "stdout",
          "text": [
            "Drive already mounted at /content/drive/; to attempt to forcibly remount, call drive.mount(\"/content/drive/\", force_remount=True).\n"
          ]
        }
      ]
    },
    {
      "cell_type": "code",
      "execution_count": 1,
      "metadata": {
        "id": "h2_CRwKjqm1i"
      },
      "outputs": [],
      "source": [
        "import zipfile\n",
        "\n",
        "zip_ref = zipfile.ZipFile(\"/content/drive/MyDrive/archive.zip\")\n",
        "zip_ref.extractall()\n",
        "zip_ref.close()"
      ]
    },
    {
      "cell_type": "code",
      "source": [
        "import os\n",
        "\n",
        "#walk. through 10 classes of food image data\n",
        "for dirpath, dirnames, filenames in os.walk(\"archive/training\"):\n",
        "  print(f\"There are {len(dirnames)} directories and {len(filenames)} images in '{dirpath}'.\")"
      ],
      "metadata": {
        "id": "_N4LbzjXrIAz",
        "colab": {
          "base_uri": "https://localhost:8080/"
        },
        "outputId": "4802c2c6-d0ab-4fc2-cc46-742fcc4ce629"
      },
      "execution_count": 2,
      "outputs": [
        {
          "output_type": "stream",
          "name": "stdout",
          "text": [
            "There are 4 directories and 1 images in 'archive/training'.\n",
            "There are 0 directories and 1300 images in 'archive/training/kitchen'.\n",
            "There are 0 directories and 1300 images in 'archive/training/knife'.\n",
            "There are 0 directories and 1300 images in 'archive/training/chair'.\n",
            "There are 0 directories and 1300 images in 'archive/training/saucepan'.\n"
          ]
        }
      ]
    },
    {
      "cell_type": "code",
      "source": [
        "#Steup the train and test directories\n",
        "train_dir = \"archive/training/\"\n",
        "test_dir = \"archive/testing/\""
      ],
      "metadata": {
        "id": "P8lDXn5HytgY"
      },
      "execution_count": 3,
      "outputs": []
    },
    {
      "cell_type": "code",
      "source": [
        "#Lets get the class names\n",
        "import pathlib\n",
        "import numpy as np\n",
        "data_dir = pathlib.Path(train_dir)\n",
        "class_names = np.array(sorted([item.name for item in data_dir.glob('*')]))\n",
        "class_names = class_names[1:]\n",
        "print(class_names)"
      ],
      "metadata": {
        "colab": {
          "base_uri": "https://localhost:8080/"
        },
        "id": "SlIsE9ouC8St",
        "outputId": "f01a5847-a8bf-47c8-e1b3-953b2166f17c"
      },
      "execution_count": 4,
      "outputs": [
        {
          "output_type": "stream",
          "name": "stdout",
          "text": [
            "['chair' 'kitchen' 'knife' 'saucepan']\n"
          ]
        }
      ]
    },
    {
      "cell_type": "code",
      "source": [
        "# #Lets get the class names\n",
        "# import pathlib\n",
        "# import numpy as np\n",
        "# #data_dir = pathlib.Path(train_dir)\n",
        "# class_names = os.listdir(train_dir)\n",
        "# list1=[]\n",
        "# for line in class_names:\n",
        "#     Type = line.split('_')[0]\n",
        "#     list1.append(Type)\n"
      ],
      "metadata": {
        "id": "o4jPOml0zIB0"
      },
      "execution_count": null,
      "outputs": []
    },
    {
      "cell_type": "code",
      "source": [
        "# Visualising the images\n",
        "import matplotlib.pyplot as plt\n",
        "import matplotlib.image as mpimg\n",
        "import random\n",
        "\n",
        "\n",
        "def view_random_image(target_dir,target_class):\n",
        "  #Setup the target directory \n",
        "  target_folder = target_dir+target_class\n",
        "\n",
        "  #Get a random image path\n",
        "  random_image = random.sample(os.listdir(target_folder),1)\n",
        "  print(random_image)\n",
        "\n",
        "  #Read in the image and plot it using matplotlib\n",
        "  img = mpimg.imread(target_folder + \"/\" + random_image[0])\n",
        "  plt.imshow(img)\n",
        "  plt.title(target_class)\n",
        "  plt.axis(\"off\");\n",
        "\n",
        "  print(f\"Image shape: {img.shape}\")\n",
        "\n",
        "  return img"
      ],
      "metadata": {
        "id": "A77rBuBt34gC"
      },
      "execution_count": 5,
      "outputs": []
    },
    {
      "cell_type": "code",
      "source": [
        "#Visualise \n",
        "import random\n",
        "img = view_random_image(target_dir=train_dir,\n",
        "                                      target_class = random.choice(class_names))"
      ],
      "metadata": {
        "colab": {
          "base_uri": "https://localhost:8080/",
          "height": 300
        },
        "id": "D6l0XzJ31FvX",
        "outputId": "51a2ad8a-3628-40b8-fc7a-68e73a8648e1"
      },
      "execution_count": 6,
      "outputs": [
        {
          "output_type": "stream",
          "name": "stdout",
          "text": [
            "['knife_278.jpg']\n",
            "Image shape: (800, 800, 3)\n"
          ]
        },
        {
          "output_type": "display_data",
          "data": {
            "text/plain": [
              "<Figure size 432x288 with 1 Axes>"
            ],
            "image/png": "[encoded data removed]"
          },
          "metadata": {
            "needs_background": "light"
          }
        }
      ]
    },
    {
      "cell_type": "code",
      "source": [
        "from PIL import ImageFile\n",
        "ImageFile.LOAD_TRUNCATED_IMAGES = True"
      ],
      "metadata": {
        "id": "MYqmndDTFXTm"
      },
      "execution_count": 10,
      "outputs": []
    },
    {
      "cell_type": "code",
      "source": [
        "from tensorflow.keras.preprocessing.image import ImageDataGenerator\n",
        "\n",
        "#Rescale\n",
        "train_datagen = ImageDataGenerator(rescale = 1/255.)\n",
        "test_datagen = ImageDataGenerator(rescale = 1/255.)\n",
        "\n",
        "#Load data in from directories and turn it to batches\n",
        "train_data = train_datagen.flow_from_directory(train_dir,\n",
        "                                               target_size=(224,224),\n",
        "                                               batch_size=32,\n",
        "                                               class_mode=\"categorical\")\n",
        "\n",
        "test_data = test_datagen.flow_from_directory(test_dir,\n",
        "                                             target_size=(224,224),\n",
        "                                             batch_size=32,\n",
        "                                             class_mode=\"categorical\")"
      ],
      "metadata": {
        "colab": {
          "base_uri": "https://localhost:8080/"
        },
        "id": "e-UFDF1P3yna",
        "outputId": "35370c14-52ea-4b07-a851-fbf0739457f2"
      },
      "execution_count": 7,
      "outputs": [
        {
          "output_type": "stream",
          "name": "stdout",
          "text": [
            "Found 5200 images belonging to 4 classes.\n",
            "Found 1267 images belonging to 4 classes.\n"
          ]
        }
      ]
    },
    {
      "cell_type": "code",
      "source": [
        "import tensorflow as tf\n",
        "from tensorflow.keras.models import Sequential\n",
        "from tensorflow.keras.layers import Conv2D,Flatten,MaxPool2D,Dense,Activation\n",
        "\n",
        "#1. Create the model\n",
        "model_1 = Sequential([\n",
        "    Conv2D(10,3 ,input_shape=(224,224,3)),\n",
        "    Activation(activation=\"relu\"),\n",
        "    Conv2D(10,3,activation=\"relu\"),\n",
        "    MaxPool2D(),\n",
        "    Conv2D(10,3,activation=\"relu\"),\n",
        "    Conv2D(10,3,activation=\"relu\"),\n",
        "    MaxPool2D(),\n",
        "    Flatten(),\n",
        "    Dense(4,activation=\"softmax\") #change to have 10 output neurons (bcz Class_names)\n",
        "])\n",
        "\n",
        "#2. Compile the model\n",
        "model_1.compile(loss=\"categorical_crossentropy\",\n",
        "                optimizer = tf.keras.optimizers.Adam(),\n",
        "                metrics=[\"accuracy\"])\n",
        "\n"
      ],
      "metadata": {
        "id": "KuCmCXCk4jdi"
      },
      "execution_count": 8,
      "outputs": []
    },
    {
      "cell_type": "code",
      "source": [
        "#Fit the model\n",
        "history_1 = model_1.fit(train_data,\n",
        "                        epochs=5,\n",
        "                        steps_per_epoch = len(train_data),\n",
        "                        validation_data=test_data,\n",
        "                        validation_steps=len(test_data))"
      ],
      "metadata": {
        "colab": {
          "base_uri": "https://localhost:8080/"
        },
        "id": "UtoOMOyN5oWi",
        "outputId": "1b041299-c937-4a06-8a9f-4a1630e43c15"
      },
      "execution_count": 11,
      "outputs": [
        {
          "output_type": "stream",
          "name": "stdout",
          "text": [
            "Epoch 1/5\n",
            "163/163 [==============================] - 67s 410ms/step - loss: 0.7177 - accuracy: 0.7260 - val_loss: 0.6488 - val_accuracy: 0.7593\n",
            "Epoch 2/5\n",
            "163/163 [==============================] - 74s 455ms/step - loss: 0.4744 - accuracy: 0.8325 - val_loss: 0.5631 - val_accuracy: 0.7940\n",
            "Epoch 3/5\n",
            "163/163 [==============================] - 70s 432ms/step - loss: 0.2658 - accuracy: 0.9031 - val_loss: 0.6563 - val_accuracy: 0.7806\n",
            "Epoch 4/5\n",
            "163/163 [==============================] - 67s 411ms/step - loss: 0.1229 - accuracy: 0.9642 - val_loss: 0.8958 - val_accuracy: 0.7766\n",
            "Epoch 5/5\n",
            "163/163 [==============================] - 67s 412ms/step - loss: 0.0858 - accuracy: 0.9740 - val_loss: 0.8743 - val_accuracy: 0.7932\n"
          ]
        }
      ]
    },
    {
      "cell_type": "code",
      "source": [
        "# Evaluate on test data\n",
        "model_1.evaluate(test_data)"
      ],
      "metadata": {
        "colab": {
          "base_uri": "https://localhost:8080/"
        },
        "id": "KF7HAViwGBCK",
        "outputId": "20693f45-c495-4f1c-aad7-987249a22632"
      },
      "execution_count": 12,
      "outputs": [
        {
          "output_type": "stream",
          "name": "stdout",
          "text": [
            "24/40 [=================>............] - ETA: 5s - loss: 0.8458 - accuracy: 0.8060"
          ]
        },
        {
          "output_type": "stream",
          "name": "stderr",
          "text": [
            "/usr/local/lib/python3.8/dist-packages/PIL/Image.py:959: UserWarning: Palette images with Transparency expressed in bytes should be converted to RGBA images\n",
            "  warnings.warn(\n"
          ]
        },
        {
          "output_type": "stream",
          "name": "stdout",
          "text": [
            "40/40 [==============================] - 13s 316ms/step - loss: 0.8743 - accuracy: 0.7932\n"
          ]
        },
        {
          "output_type": "execute_result",
          "data": {
            "text/plain": [
              "[0.8743250966072083, 0.7932122945785522]"
            ]
          },
          "metadata": {},
          "execution_count": 12
        }
      ]
    },
    {
      "cell_type": "code",
      "source": [],
      "metadata": {
        "id": "eIcy6eD-GLpM"
      },
      "execution_count": null,
      "outputs": []
    }
  ]
}