{
  "nbformat": 4,
  "nbformat_minor": 0,
  "metadata": {
    "colab": {
      "provenance": []
    },
    "kernelspec": {
      "name": "python3",
      "display_name": "Python 3"
    },
    "language_info": {
      "name": "python"
    },
    "accelerator": "GPU",
    "gpuClass": "standard"
  },
  "cells": [
    {
      "cell_type": "markdown",
      "source": [
        "#1.Use feature-extraction to train a transfer learning model on 10% of the Food Vision data for 10 epochs using tf.keras.applications.EfficientNetB0 as the base model. Use the ModelCheckpoint callback to save the weights to file."
      ],
      "metadata": {
        "id": "Kd0U642DEtLU"
      }
    },
    {
      "cell_type": "markdown",
      "source": [
        "## Download the data"
      ],
      "metadata": {
        "id": "dja7LL12PKrU"
      }
    },
    {
      "cell_type": "code",
      "source": [
        "import zipfile\n",
        "\n",
        "#Get 10% of training data\n",
        "!wget https://storage.googleapis.com/ztm_tf_course/food_vision/10_food_classes_10_percent.zip\n",
        "\n",
        "#Unzip the downloaded file\n",
        "zip_ref = zipfile.ZipFile(\"10_food_classes_10_percent.zip\")\n",
        "zip_ref.extractall()\n",
        "zip_ref.close()"
      ],
      "metadata": {
        "colab": {
          "base_uri": "https://localhost:8080/"
        },
        "id": "SX2rb79kPhEP",
        "outputId": "29995db4-29de-4c96-a16a-f37dc1cc298b"
      },
      "execution_count": 2,
      "outputs": [
        {
          "output_type": "stream",
          "name": "stdout",
          "text": [
            "--2023-01-30 20:18:27--  https://storage.googleapis.com/ztm_tf_course/food_vision/10_food_classes_10_percent.zip\n",
            "Resolving storage.googleapis.com (storage.googleapis.com)... 108.177.127.128, 142.250.145.128, 2a00:1450:4013:c16::80, ...\n",
            "Connecting to storage.googleapis.com (storage.googleapis.com)|108.177.127.128|:443... connected.\n",
            "HTTP request sent, awaiting response... 200 OK\n",
            "Length: 168546183 (161M) [application/zip]\n",
            "Saving to: ‘10_food_classes_10_percent.zip’\n",
            "\n",
            "10_food_classes_10_ 100%[===================>] 160.74M  41.1MB/s    in 4.5s    \n",
            "\n",
            "2023-01-30 20:18:32 (35.7 MB/s) - ‘10_food_classes_10_percent.zip’ saved [168546183/168546183]\n",
            "\n"
          ]
        }
      ]
    },
    {
      "cell_type": "code",
      "source": [
        "#How many images in each folder\n",
        "import os\n",
        "\n",
        "#walk through 10 percent data directory and list number of files\n",
        "for dirpath,dirnames,filename in os.walk(\"10_food_classes_10_percent\"):\n",
        "  print(f\"There are {len(dirnames)} directories and {len(filename)} images in '{dirpath}'.\")"
      ],
      "metadata": {
        "colab": {
          "base_uri": "https://localhost:8080/"
        },
        "id": "Q_ITvF5VPhlp",
        "outputId": "d2a08ec1-af1a-407e-8afd-3cf4ba51f1c4"
      },
      "execution_count": 3,
      "outputs": [
        {
          "output_type": "stream",
          "name": "stdout",
          "text": [
            "There are 2 directories and 0 images in '10_food_classes_10_percent'.\n",
            "There are 10 directories and 0 images in '10_food_classes_10_percent/train'.\n",
            "There are 0 directories and 75 images in '10_food_classes_10_percent/train/ramen'.\n",
            "There are 0 directories and 75 images in '10_food_classes_10_percent/train/steak'.\n",
            "There are 0 directories and 75 images in '10_food_classes_10_percent/train/fried_rice'.\n",
            "There are 0 directories and 75 images in '10_food_classes_10_percent/train/chicken_wings'.\n",
            "There are 0 directories and 75 images in '10_food_classes_10_percent/train/chicken_curry'.\n",
            "There are 0 directories and 75 images in '10_food_classes_10_percent/train/pizza'.\n",
            "There are 0 directories and 75 images in '10_food_classes_10_percent/train/sushi'.\n",
            "There are 0 directories and 75 images in '10_food_classes_10_percent/train/ice_cream'.\n",
            "There are 0 directories and 75 images in '10_food_classes_10_percent/train/grilled_salmon'.\n",
            "There are 0 directories and 75 images in '10_food_classes_10_percent/train/hamburger'.\n",
            "There are 10 directories and 0 images in '10_food_classes_10_percent/test'.\n",
            "There are 0 directories and 250 images in '10_food_classes_10_percent/test/ramen'.\n",
            "There are 0 directories and 250 images in '10_food_classes_10_percent/test/steak'.\n",
            "There are 0 directories and 250 images in '10_food_classes_10_percent/test/fried_rice'.\n",
            "There are 0 directories and 250 images in '10_food_classes_10_percent/test/chicken_wings'.\n",
            "There are 0 directories and 250 images in '10_food_classes_10_percent/test/chicken_curry'.\n",
            "There are 0 directories and 250 images in '10_food_classes_10_percent/test/pizza'.\n",
            "There are 0 directories and 250 images in '10_food_classes_10_percent/test/sushi'.\n",
            "There are 0 directories and 250 images in '10_food_classes_10_percent/test/ice_cream'.\n",
            "There are 0 directories and 250 images in '10_food_classes_10_percent/test/grilled_salmon'.\n",
            "There are 0 directories and 250 images in '10_food_classes_10_percent/test/hamburger'.\n"
          ]
        }
      ]
    },
    {
      "cell_type": "code",
      "source": [
        "#Create training and test directory paths\n",
        "train_dir=\"10_food_classes_10_percent/train/\"\n",
        "test_dir=\"10_food_classes_10_percent/test/\""
      ],
      "metadata": {
        "id": "nFwvnr4WQKK3"
      },
      "execution_count": 4,
      "outputs": []
    },
    {
      "cell_type": "code",
      "source": [
        "import tensorflow as tf\n",
        "IMG_SIZE=(224,224)\n",
        "BATCH_SIZE=32\n",
        "train_data_10_percent = tf.keras.preprocessing.image_dataset_from_directory(directory=train_dir,\n",
        "                                                                            image_size=IMG_SIZE,\n",
        "                                                                            label_mode=\"categorical\",\n",
        "                                                                            batch_size=BATCH_SIZE)\n",
        "\n",
        "test_data = tf.keras.preprocessing.image_dataset_from_directory(directory = test_dir,\n",
        "                                                                            image_size=IMG_SIZE,\n",
        "                                                                            label_mode=\"categorical\",\n",
        "                                                                            batch_size=BATCH_SIZE)"
      ],
      "metadata": {
        "colab": {
          "base_uri": "https://localhost:8080/"
        },
        "id": "saRPGuDYQVuD",
        "outputId": "a1c7ba7d-589a-41c3-d7de-891a62240ad6"
      },
      "execution_count": 20,
      "outputs": [
        {
          "output_type": "stream",
          "name": "stdout",
          "text": [
            "Found 750 files belonging to 10 classes.\n",
            "Found 2500 files belonging to 10 classes.\n"
          ]
        }
      ]
    },
    {
      "cell_type": "code",
      "source": [
        "#Check out the class names of our dataset\n",
        "train_data_10_percent.class_names"
      ],
      "metadata": {
        "colab": {
          "base_uri": "https://localhost:8080/"
        },
        "id": "rbELF5tjRDTh",
        "outputId": "cd4ba736-7040-471c-db48-86261228755f"
      },
      "execution_count": 6,
      "outputs": [
        {
          "output_type": "execute_result",
          "data": {
            "text/plain": [
              "['chicken_curry',\n",
              " 'chicken_wings',\n",
              " 'fried_rice',\n",
              " 'grilled_salmon',\n",
              " 'hamburger',\n",
              " 'ice_cream',\n",
              " 'pizza',\n",
              " 'ramen',\n",
              " 'steak',\n",
              " 'sushi']"
            ]
          },
          "metadata": {},
          "execution_count": 6
        }
      ]
    },
    {
      "cell_type": "markdown",
      "source": [
        "##setting up callbacks"
      ],
      "metadata": {
        "id": "ylBe1xLnQcRH"
      }
    },
    {
      "cell_type": "code",
      "source": [
        "#Create TensorBoard callback(functionized because we need to create a new one for eachmodel)\n",
        "import datetime\n",
        "import tensorflow as tf\n",
        "\n",
        "def create_tensorboard_callback(dir_name,experiment_name):\n",
        "  log_dir = dir_name + \"/\" + experiment_name + \"/\" + datetime.datetime.now().strftime(\"%Y%m%d-%H%M%S\")\n",
        "  tensorboard_callback = tf.keras.callbacks.TensorBoard(log_dir=log_dir)\n",
        "  print(f'Saving Tensorboard log files to :{log_dir}')\n",
        "  return tensorboard_callback"
      ],
      "metadata": {
        "id": "tkvR0clpQ3Sq"
      },
      "execution_count": 7,
      "outputs": []
    },
    {
      "cell_type": "markdown",
      "source": [
        "## Model_0: Base model using feature extraction"
      ],
      "metadata": {
        "id": "oRQro_jSQ8jv"
      }
    },
    {
      "cell_type": "code",
      "source": [
        "# create the base model with tf.keras.applications\n",
        "base_model = tf.keras.applications.EfficientNetB0(include_top=False)\n",
        "\n",
        "#Freeze base model\n",
        "base_model.trainable = False"
      ],
      "metadata": {
        "colab": {
          "base_uri": "https://localhost:8080/"
        },
        "id": "CyTa5K1oX36Y",
        "outputId": "f04c57fd-6a3b-47be-de5e-525610255e16"
      },
      "execution_count": 21,
      "outputs": [
        {
          "output_type": "stream",
          "name": "stdout",
          "text": [
            "Downloading data from https://storage.googleapis.com/keras-applications/efficientnetb0_notop.h5\n",
            "16705208/16705208 [==============================] - 1s 0us/step\n"
          ]
        }
      ]
    },
    {
      "cell_type": "code",
      "source": [
        "#3. create inputs\n",
        "inputs = tf.keras.layers.Input(shape=(224,224,3), name =\"input_layer\")"
      ],
      "metadata": {
        "id": "r5cpYGHuYhHq"
      },
      "execution_count": 23,
      "outputs": []
    },
    {
      "cell_type": "markdown",
      "source": [
        "since we are using efficientnet rescaling need not be done"
      ],
      "metadata": {
        "id": "Y8gemo9JZdA4"
      }
    },
    {
      "cell_type": "code",
      "source": [
        "#4. Pass the inputs to base model\n",
        "x = base_model(inputs)\n",
        "print(f\"Shape after passing inputs through base model : {x.shape}\")"
      ],
      "metadata": {
        "colab": {
          "base_uri": "https://localhost:8080/"
        },
        "id": "Rc3dqBI4Zbds",
        "outputId": "78bac5b6-c5c0-4c43-d1f6-7c4b77954395"
      },
      "execution_count": 24,
      "outputs": [
        {
          "output_type": "stream",
          "name": "stdout",
          "text": [
            "Shape after passing inputs through base model : (None, 7, 7, 1280)\n"
          ]
        }
      ]
    },
    {
      "cell_type": "code",
      "source": [
        "#5. Average pool the outputs of the base model\n",
        "x = tf.keras.layers.GlobalAveragePooling2D(name = \"global_average_pooling_layer\")(x)\n",
        "print(f\"Shape after GlobalAveragePooling2D: {x.shape}\")"
      ],
      "metadata": {
        "colab": {
          "base_uri": "https://localhost:8080/"
        },
        "id": "UqV5YMKgZv38",
        "outputId": "890afeed-6bd0-49f7-94c4-f6a7c11490a5"
      },
      "execution_count": 25,
      "outputs": [
        {
          "output_type": "stream",
          "name": "stdout",
          "text": [
            "Shape after GlobalAveragePooling2D: (None, 1280)\n"
          ]
        }
      ]
    },
    {
      "cell_type": "code",
      "source": [
        "#6. create the output activation layer\n",
        "outputs = tf.keras.layers.Dense(10,activation=\"softmax\",name=\"output_layer\")(x)"
      ],
      "metadata": {
        "id": "AHOlrT6FZ18m"
      },
      "execution_count": 26,
      "outputs": []
    },
    {
      "cell_type": "code",
      "source": [
        "#7.combine the input and output into a model\n",
        "model_0 = tf.keras.Model(inputs,outputs)"
      ],
      "metadata": {
        "id": "xtuRzvKQaAMU"
      },
      "execution_count": 27,
      "outputs": []
    },
    {
      "cell_type": "code",
      "source": [
        "#8.compile for the model\n",
        "model_0.compile(loss = \"categorical_crossentropy\",\n",
        "                optimizer = tf.keras.optimizers.Adam(),\n",
        "                metrics = [\"accuracy\"])\n",
        "\n",
        "#9. Fit the model\n",
        "history_0 = model_0.fit(train_data_10_percent,\n",
        "                        epochs = 10,\n",
        "                        steps_per_epoch = len(train_data_10_percent),\n",
        "                        validation_data = test_data,\n",
        "                        validation_steps = int(0.25 * len(test_data)),\n",
        "                        callbacks = [create_tensorboard_callback(dir_name=\"transfer_learning\",\n",
        "                                                                 experiment_name=\"10_percent_feature_extraction\")])"
      ],
      "metadata": {
        "colab": {
          "base_uri": "https://localhost:8080/"
        },
        "id": "_TZ9eXEjaDLg",
        "outputId": "920123ec-b963-4867-d20e-19b0f2d76f40"
      },
      "execution_count": 30,
      "outputs": [
        {
          "output_type": "stream",
          "name": "stdout",
          "text": [
            "Saving Tensorboard log files to :transfer_learning/10_percent_feature_extraction/20230130-204045\n",
            "Epoch 1/10\n",
            "24/24 [==============================] - 11s 240ms/step - loss: 0.4863 - accuracy: 0.8800 - val_loss: 0.4865 - val_accuracy: 0.8668\n",
            "Epoch 2/10\n",
            "24/24 [==============================] - 4s 151ms/step - loss: 0.4034 - accuracy: 0.9133 - val_loss: 0.4524 - val_accuracy: 0.8651\n",
            "Epoch 3/10\n",
            "24/24 [==============================] - 5s 183ms/step - loss: 0.3401 - accuracy: 0.9373 - val_loss: 0.4632 - val_accuracy: 0.8618\n",
            "Epoch 4/10\n",
            "24/24 [==============================] - 5s 182ms/step - loss: 0.2981 - accuracy: 0.9427 - val_loss: 0.4206 - val_accuracy: 0.8766\n",
            "Epoch 5/10\n",
            "24/24 [==============================] - 5s 183ms/step - loss: 0.2726 - accuracy: 0.9560 - val_loss: 0.4439 - val_accuracy: 0.8684\n",
            "Epoch 6/10\n",
            "24/24 [==============================] - 5s 183ms/step - loss: 0.2540 - accuracy: 0.9507 - val_loss: 0.4127 - val_accuracy: 0.8832\n",
            "Epoch 7/10\n",
            "24/24 [==============================] - 4s 151ms/step - loss: 0.2163 - accuracy: 0.9680 - val_loss: 0.4301 - val_accuracy: 0.8734\n",
            "Epoch 8/10\n",
            "24/24 [==============================] - 7s 297ms/step - loss: 0.2062 - accuracy: 0.9667 - val_loss: 0.3910 - val_accuracy: 0.8816\n",
            "Epoch 9/10\n",
            "24/24 [==============================] - 4s 151ms/step - loss: 0.1811 - accuracy: 0.9760 - val_loss: 0.4046 - val_accuracy: 0.8750\n",
            "Epoch 10/10\n",
            "24/24 [==============================] - 5s 183ms/step - loss: 0.1689 - accuracy: 0.9787 - val_loss: 0.3799 - val_accuracy: 0.8816\n"
          ]
        }
      ]
    },
    {
      "cell_type": "code",
      "source": [
        "#Evaluate on full test data\n",
        "model_0.evaluate(test_data)"
      ],
      "metadata": {
        "colab": {
          "base_uri": "https://localhost:8080/"
        },
        "id": "DybwmZP5aGvA",
        "outputId": "15ef12c9-8824-4db9-9a49-13e79fdde6d2"
      },
      "execution_count": 31,
      "outputs": [
        {
          "output_type": "stream",
          "name": "stdout",
          "text": [
            "79/79 [==============================] - 6s 70ms/step - loss: 0.3808 - accuracy: 0.8840\n"
          ]
        },
        {
          "output_type": "execute_result",
          "data": {
            "text/plain": [
              "[0.3807802200317383, 0.8840000033378601]"
            ]
          },
          "metadata": {},
          "execution_count": 31
        }
      ]
    },
    {
      "cell_type": "markdown",
      "source": [
        "#2.Fine-tune the last 20 layers of the base model you trained in 2 for another 10 epochs."
      ],
      "metadata": {
        "id": "dVhXoiT2amm2"
      }
    },
    {
      "cell_type": "code",
      "source": [
        "#Check the layers in base model\n",
        "for layer_number,layer in enumerate(base_model.layers):\n",
        "  print(layer_number,layer.name)"
      ],
      "metadata": {
        "colab": {
          "base_uri": "https://localhost:8080/"
        },
        "id": "8agkQrh6ai1q",
        "outputId": "eb7bcc09-0336-44e6-a27e-9d1d4489ff7a"
      },
      "execution_count": 32,
      "outputs": [
        {
          "output_type": "stream",
          "name": "stdout",
          "text": [
            "0 input_1\n",
            "1 rescaling\n",
            "2 normalization\n",
            "3 tf.math.truediv\n",
            "4 stem_conv_pad\n",
            "5 stem_conv\n",
            "6 stem_bn\n",
            "7 stem_activation\n",
            "8 block1a_dwconv\n",
            "9 block1a_bn\n",
            "10 block1a_activation\n",
            "11 block1a_se_squeeze\n",
            "12 block1a_se_reshape\n",
            "13 block1a_se_reduce\n",
            "14 block1a_se_expand\n",
            "15 block1a_se_excite\n",
            "16 block1a_project_conv\n",
            "17 block1a_project_bn\n",
            "18 block2a_expand_conv\n",
            "19 block2a_expand_bn\n",
            "20 block2a_expand_activation\n",
            "21 block2a_dwconv_pad\n",
            "22 block2a_dwconv\n",
            "23 block2a_bn\n",
            "24 block2a_activation\n",
            "25 block2a_se_squeeze\n",
            "26 block2a_se_reshape\n",
            "27 block2a_se_reduce\n",
            "28 block2a_se_expand\n",
            "29 block2a_se_excite\n",
            "30 block2a_project_conv\n",
            "31 block2a_project_bn\n",
            "32 block2b_expand_conv\n",
            "33 block2b_expand_bn\n",
            "34 block2b_expand_activation\n",
            "35 block2b_dwconv\n",
            "36 block2b_bn\n",
            "37 block2b_activation\n",
            "38 block2b_se_squeeze\n",
            "39 block2b_se_reshape\n",
            "40 block2b_se_reduce\n",
            "41 block2b_se_expand\n",
            "42 block2b_se_excite\n",
            "43 block2b_project_conv\n",
            "44 block2b_project_bn\n",
            "45 block2b_drop\n",
            "46 block2b_add\n",
            "47 block3a_expand_conv\n",
            "48 block3a_expand_bn\n",
            "49 block3a_expand_activation\n",
            "50 block3a_dwconv_pad\n",
            "51 block3a_dwconv\n",
            "52 block3a_bn\n",
            "53 block3a_activation\n",
            "54 block3a_se_squeeze\n",
            "55 block3a_se_reshape\n",
            "56 block3a_se_reduce\n",
            "57 block3a_se_expand\n",
            "58 block3a_se_excite\n",
            "59 block3a_project_conv\n",
            "60 block3a_project_bn\n",
            "61 block3b_expand_conv\n",
            "62 block3b_expand_bn\n",
            "63 block3b_expand_activation\n",
            "64 block3b_dwconv\n",
            "65 block3b_bn\n",
            "66 block3b_activation\n",
            "67 block3b_se_squeeze\n",
            "68 block3b_se_reshape\n",
            "69 block3b_se_reduce\n",
            "70 block3b_se_expand\n",
            "71 block3b_se_excite\n",
            "72 block3b_project_conv\n",
            "73 block3b_project_bn\n",
            "74 block3b_drop\n",
            "75 block3b_add\n",
            "76 block4a_expand_conv\n",
            "77 block4a_expand_bn\n",
            "78 block4a_expand_activation\n",
            "79 block4a_dwconv_pad\n",
            "80 block4a_dwconv\n",
            "81 block4a_bn\n",
            "82 block4a_activation\n",
            "83 block4a_se_squeeze\n",
            "84 block4a_se_reshape\n",
            "85 block4a_se_reduce\n",
            "86 block4a_se_expand\n",
            "87 block4a_se_excite\n",
            "88 block4a_project_conv\n",
            "89 block4a_project_bn\n",
            "90 block4b_expand_conv\n",
            "91 block4b_expand_bn\n",
            "92 block4b_expand_activation\n",
            "93 block4b_dwconv\n",
            "94 block4b_bn\n",
            "95 block4b_activation\n",
            "96 block4b_se_squeeze\n",
            "97 block4b_se_reshape\n",
            "98 block4b_se_reduce\n",
            "99 block4b_se_expand\n",
            "100 block4b_se_excite\n",
            "101 block4b_project_conv\n",
            "102 block4b_project_bn\n",
            "103 block4b_drop\n",
            "104 block4b_add\n",
            "105 block4c_expand_conv\n",
            "106 block4c_expand_bn\n",
            "107 block4c_expand_activation\n",
            "108 block4c_dwconv\n",
            "109 block4c_bn\n",
            "110 block4c_activation\n",
            "111 block4c_se_squeeze\n",
            "112 block4c_se_reshape\n",
            "113 block4c_se_reduce\n",
            "114 block4c_se_expand\n",
            "115 block4c_se_excite\n",
            "116 block4c_project_conv\n",
            "117 block4c_project_bn\n",
            "118 block4c_drop\n",
            "119 block4c_add\n",
            "120 block5a_expand_conv\n",
            "121 block5a_expand_bn\n",
            "122 block5a_expand_activation\n",
            "123 block5a_dwconv\n",
            "124 block5a_bn\n",
            "125 block5a_activation\n",
            "126 block5a_se_squeeze\n",
            "127 block5a_se_reshape\n",
            "128 block5a_se_reduce\n",
            "129 block5a_se_expand\n",
            "130 block5a_se_excite\n",
            "131 block5a_project_conv\n",
            "132 block5a_project_bn\n",
            "133 block5b_expand_conv\n",
            "134 block5b_expand_bn\n",
            "135 block5b_expand_activation\n",
            "136 block5b_dwconv\n",
            "137 block5b_bn\n",
            "138 block5b_activation\n",
            "139 block5b_se_squeeze\n",
            "140 block5b_se_reshape\n",
            "141 block5b_se_reduce\n",
            "142 block5b_se_expand\n",
            "143 block5b_se_excite\n",
            "144 block5b_project_conv\n",
            "145 block5b_project_bn\n",
            "146 block5b_drop\n",
            "147 block5b_add\n",
            "148 block5c_expand_conv\n",
            "149 block5c_expand_bn\n",
            "150 block5c_expand_activation\n",
            "151 block5c_dwconv\n",
            "152 block5c_bn\n",
            "153 block5c_activation\n",
            "154 block5c_se_squeeze\n",
            "155 block5c_se_reshape\n",
            "156 block5c_se_reduce\n",
            "157 block5c_se_expand\n",
            "158 block5c_se_excite\n",
            "159 block5c_project_conv\n",
            "160 block5c_project_bn\n",
            "161 block5c_drop\n",
            "162 block5c_add\n",
            "163 block6a_expand_conv\n",
            "164 block6a_expand_bn\n",
            "165 block6a_expand_activation\n",
            "166 block6a_dwconv_pad\n",
            "167 block6a_dwconv\n",
            "168 block6a_bn\n",
            "169 block6a_activation\n",
            "170 block6a_se_squeeze\n",
            "171 block6a_se_reshape\n",
            "172 block6a_se_reduce\n",
            "173 block6a_se_expand\n",
            "174 block6a_se_excite\n",
            "175 block6a_project_conv\n",
            "176 block6a_project_bn\n",
            "177 block6b_expand_conv\n",
            "178 block6b_expand_bn\n",
            "179 block6b_expand_activation\n",
            "180 block6b_dwconv\n",
            "181 block6b_bn\n",
            "182 block6b_activation\n",
            "183 block6b_se_squeeze\n",
            "184 block6b_se_reshape\n",
            "185 block6b_se_reduce\n",
            "186 block6b_se_expand\n",
            "187 block6b_se_excite\n",
            "188 block6b_project_conv\n",
            "189 block6b_project_bn\n",
            "190 block6b_drop\n",
            "191 block6b_add\n",
            "192 block6c_expand_conv\n",
            "193 block6c_expand_bn\n",
            "194 block6c_expand_activation\n",
            "195 block6c_dwconv\n",
            "196 block6c_bn\n",
            "197 block6c_activation\n",
            "198 block6c_se_squeeze\n",
            "199 block6c_se_reshape\n",
            "200 block6c_se_reduce\n",
            "201 block6c_se_expand\n",
            "202 block6c_se_excite\n",
            "203 block6c_project_conv\n",
            "204 block6c_project_bn\n",
            "205 block6c_drop\n",
            "206 block6c_add\n",
            "207 block6d_expand_conv\n",
            "208 block6d_expand_bn\n",
            "209 block6d_expand_activation\n",
            "210 block6d_dwconv\n",
            "211 block6d_bn\n",
            "212 block6d_activation\n",
            "213 block6d_se_squeeze\n",
            "214 block6d_se_reshape\n",
            "215 block6d_se_reduce\n",
            "216 block6d_se_expand\n",
            "217 block6d_se_excite\n",
            "218 block6d_project_conv\n",
            "219 block6d_project_bn\n",
            "220 block6d_drop\n",
            "221 block6d_add\n",
            "222 block7a_expand_conv\n",
            "223 block7a_expand_bn\n",
            "224 block7a_expand_activation\n",
            "225 block7a_dwconv\n",
            "226 block7a_bn\n",
            "227 block7a_activation\n",
            "228 block7a_se_squeeze\n",
            "229 block7a_se_reshape\n",
            "230 block7a_se_reduce\n",
            "231 block7a_se_expand\n",
            "232 block7a_se_excite\n",
            "233 block7a_project_conv\n",
            "234 block7a_project_bn\n",
            "235 top_conv\n",
            "236 top_bn\n",
            "237 top_activation\n"
          ]
        }
      ]
    },
    {
      "cell_type": "code",
      "source": [
        "#Summary of base model\n",
        "model_0.summary()"
      ],
      "metadata": {
        "colab": {
          "base_uri": "https://localhost:8080/"
        },
        "id": "wfsH_Ccuat3c",
        "outputId": "45aef795-ffe6-4554-a9e5-60ab69eda77b"
      },
      "execution_count": 34,
      "outputs": [
        {
          "output_type": "stream",
          "name": "stdout",
          "text": [
            "Model: \"model\"\n",
            "_________________________________________________________________\n",
            " Layer (type)                Output Shape              Param #   \n",
            "=================================================================\n",
            " input_layer (InputLayer)    [(None, 224, 224, 3)]     0         \n",
            "                                                                 \n",
            " efficientnetb0 (Functional)  (None, None, None, 1280)  4049571  \n",
            "                                                                 \n",
            " global_average_pooling_laye  (None, 1280)             0         \n",
            " r (GlobalAveragePooling2D)                                      \n",
            "                                                                 \n",
            " output_layer (Dense)        (None, 10)                12810     \n",
            "                                                                 \n",
            "=================================================================\n",
            "Total params: 4,062,381\n",
            "Trainable params: 12,810\n",
            "Non-trainable params: 4,049,571\n",
            "_________________________________________________________________\n"
          ]
        }
      ]
    },
    {
      "cell_type": "code",
      "source": [
        "# setting last 20 layers of our base_model.trainable = True\n",
        "base_model.trainable = True"
      ],
      "metadata": {
        "id": "V80H8e8YaxbK"
      },
      "execution_count": 35,
      "outputs": []
    },
    {
      "cell_type": "code",
      "source": [
        "#freeze all layers except for the last 20\n",
        "for layers in base_model.layers[:-20]:\n",
        "  layers.trainable = False"
      ],
      "metadata": {
        "id": "WiXEUEtUbVMw"
      },
      "execution_count": 36,
      "outputs": []
    },
    {
      "cell_type": "code",
      "source": [
        "model_0.compile(loss=\"categorical_crossentropy\",\n",
        "                optimizer = tf.keras.optimizers.Adam(lr = 0.0001),#when fine tuning, we need to lower lr to 10x(best practise)\n",
        "                metrics=[\"Accuracy\"])"
      ],
      "metadata": {
        "colab": {
          "base_uri": "https://localhost:8080/"
        },
        "id": "jE84mh95bb-V",
        "outputId": "93730267-cfa9-4058-c2c5-02a22426bc1f"
      },
      "execution_count": 37,
      "outputs": [
        {
          "output_type": "stream",
          "name": "stderr",
          "text": [
            "/usr/local/lib/python3.8/dist-packages/keras/optimizers/optimizer_v2/adam.py:110: UserWarning: The `lr` argument is deprecated, use `learning_rate` instead.\n",
            "  super(Adam, self).__init__(name, **kwargs)\n"
          ]
        }
      ]
    },
    {
      "cell_type": "code",
      "source": [
        "# check how many trainable variables\n",
        "print(len(model_0.trainable_variables))"
      ],
      "metadata": {
        "colab": {
          "base_uri": "https://localhost:8080/"
        },
        "id": "jMAfVHl9bhjH",
        "outputId": "be28f2c8-6148-46f4-d35d-1f1426fd9515"
      },
      "execution_count": 38,
      "outputs": [
        {
          "output_type": "stream",
          "name": "stdout",
          "text": [
            "21\n"
          ]
        }
      ]
    },
    {
      "cell_type": "code",
      "source": [
        "# fine tune for another 5 epochs\n",
        "initial_epochs=10\n",
        "fine_tune_epochs = initial_epochs + 10\n",
        "\n",
        "#refit the model(same as model_2 except more trainable layers)\n",
        "history_fine_10_percent = model_0.fit(train_data_10_percent,\n",
        "                                      epochs = fine_tune_epochs,\n",
        "                                      steps_per_epoch = len(train_data_10_percent),\n",
        "                                      validation_data = test_data,\n",
        "                                      validation_steps = int(0.25 * len(test_data)),\n",
        "                                      initial_epoch = history_0.epoch[-1],#starting from last epoch where model_2 left\n",
        "                                      callbacks = [create_tensorboard_callback(dir_name=\"transfer_learning\",\n",
        "                                                                              experiment_name = \"10_percent_fine_tune_last_20\")])"
      ],
      "metadata": {
        "colab": {
          "base_uri": "https://localhost:8080/"
        },
        "id": "TLSIwRHabpb3",
        "outputId": "ddfa0fc2-7a9c-4224-c02a-d238aa73424c"
      },
      "execution_count": 42,
      "outputs": [
        {
          "output_type": "stream",
          "name": "stdout",
          "text": [
            "Saving Tensorboard log files to :transfer_learning/10_percent_fine_tune_last_20/20230130-204937\n",
            "Epoch 10/20\n",
            "24/24 [==============================] - 6s 252ms/step - loss: 0.5672 - Accuracy: 0.8693 - val_loss: 0.4035 - val_Accuracy: 0.8701\n",
            "Epoch 11/20\n",
            "24/24 [==============================] - 4s 158ms/step - loss: 0.3306 - Accuracy: 0.9547 - val_loss: 0.3804 - val_Accuracy: 0.8832\n",
            "Epoch 12/20\n",
            "24/24 [==============================] - 4s 156ms/step - loss: 0.2484 - Accuracy: 0.9627 - val_loss: 0.4118 - val_Accuracy: 0.8684\n",
            "Epoch 13/20\n",
            "24/24 [==============================] - 5s 189ms/step - loss: 0.1809 - Accuracy: 0.9840 - val_loss: 0.3760 - val_Accuracy: 0.8783\n",
            "Epoch 14/20\n",
            "24/24 [==============================] - 5s 189ms/step - loss: 0.1443 - Accuracy: 0.9853 - val_loss: 0.3838 - val_Accuracy: 0.8717\n",
            "Epoch 15/20\n",
            "24/24 [==============================] - 5s 189ms/step - loss: 0.1155 - Accuracy: 0.9893 - val_loss: 0.3542 - val_Accuracy: 0.8832\n",
            "Epoch 16/20\n",
            "24/24 [==============================] - 5s 189ms/step - loss: 0.1085 - Accuracy: 0.9867 - val_loss: 0.3727 - val_Accuracy: 0.8701\n",
            "Epoch 17/20\n",
            "24/24 [==============================] - 5s 188ms/step - loss: 0.0819 - Accuracy: 0.9973 - val_loss: 0.3641 - val_Accuracy: 0.8717\n",
            "Epoch 18/20\n",
            "24/24 [==============================] - 5s 190ms/step - loss: 0.0715 - Accuracy: 0.9947 - val_loss: 0.3768 - val_Accuracy: 0.8750\n",
            "Epoch 19/20\n",
            "24/24 [==============================] - 5s 188ms/step - loss: 0.0664 - Accuracy: 0.9933 - val_loss: 0.3341 - val_Accuracy: 0.8816\n",
            "Epoch 20/20\n",
            "24/24 [==============================] - 4s 154ms/step - loss: 0.0588 - Accuracy: 0.9947 - val_loss: 0.3512 - val_Accuracy: 0.8783\n"
          ]
        }
      ]
    },
    {
      "cell_type": "code",
      "source": [
        "#evaluate on test data\n",
        "model_0.evaluate(test_data)"
      ],
      "metadata": {
        "colab": {
          "base_uri": "https://localhost:8080/"
        },
        "id": "6bQO3oR8cFLq",
        "outputId": "bcedaa71-a551-45cb-d0bb-984c39e4103a"
      },
      "execution_count": 43,
      "outputs": [
        {
          "output_type": "stream",
          "name": "stdout",
          "text": [
            "79/79 [==============================] - 6s 72ms/step - loss: 0.3513 - Accuracy: 0.8888\n"
          ]
        },
        {
          "output_type": "execute_result",
          "data": {
            "text/plain": [
              "[0.3513335585594177, 0.8888000249862671]"
            ]
          },
          "metadata": {},
          "execution_count": 43
        }
      ]
    },
    {
      "cell_type": "markdown",
      "source": [
        "#3.Fine-tune the last 30 layers of the base model you trained in 2 for another 10 epochs."
      ],
      "metadata": {
        "id": "lQ5PJUZjcxFj"
      }
    },
    {
      "cell_type": "code",
      "source": [
        "# setting last 30 layers of our base_model.trainable = True\n",
        "base_model.trainable = True"
      ],
      "metadata": {
        "id": "dUVtQ3LJc385"
      },
      "execution_count": 44,
      "outputs": []
    },
    {
      "cell_type": "code",
      "source": [
        "#freeze all layers except for the last 30\n",
        "for layers in base_model.layers[:-30]:\n",
        "  layers.trainable = False"
      ],
      "metadata": {
        "id": "-pO893FFc7tK"
      },
      "execution_count": 45,
      "outputs": []
    },
    {
      "cell_type": "code",
      "source": [
        "model_0.compile(loss=\"categorical_crossentropy\",\n",
        "                optimizer = tf.keras.optimizers.Adam(lr = 0.0001),#when fine tuning, we need to lower lr to 10x(best practise)\n",
        "                metrics=[\"Accuracy\"])"
      ],
      "metadata": {
        "colab": {
          "base_uri": "https://localhost:8080/"
        },
        "id": "r8ABR_fUc-98",
        "outputId": "f32fc9e9-f9ea-4629-b9a1-6fffc4991c8c"
      },
      "execution_count": 46,
      "outputs": [
        {
          "output_type": "stream",
          "name": "stderr",
          "text": [
            "/usr/local/lib/python3.8/dist-packages/keras/optimizers/optimizer_v2/adam.py:110: UserWarning: The `lr` argument is deprecated, use `learning_rate` instead.\n",
            "  super(Adam, self).__init__(name, **kwargs)\n"
          ]
        }
      ]
    },
    {
      "cell_type": "code",
      "source": [
        "# fine tune for another 5 epochs\n",
        "initial_epochs=10\n",
        "fine_tune_epochs = initial_epochs + 10\n",
        "\n",
        "#refit the model(same as model_2 except more trainable layers)\n",
        "history_fine_10_percent = model_0.fit(train_data_10_percent,\n",
        "                                      epochs = fine_tune_epochs,\n",
        "                                      steps_per_epoch = len(train_data_10_percent),\n",
        "                                      validation_data = test_data,\n",
        "                                      validation_steps = int(0.25 * len(test_data)),\n",
        "                                      initial_epoch = history_0.epoch[-1],#starting from last epoch where model_2 left\n",
        "                                      callbacks = [create_tensorboard_callback(dir_name=\"transfer_learning\",\n",
        "                                                                              experiment_name = \"10_percent_fine_tune_last_30\")])"
      ],
      "metadata": {
        "colab": {
          "base_uri": "https://localhost:8080/"
        },
        "id": "ArlBMyvgdTNA",
        "outputId": "5013def5-144d-40df-f248-fadc346ff011"
      },
      "execution_count": 47,
      "outputs": [
        {
          "output_type": "stream",
          "name": "stdout",
          "text": [
            "Saving Tensorboard log files to :transfer_learning/10_percent_fine_tune_last_30/20230130-205433\n",
            "Epoch 10/20\n",
            "24/24 [==============================] - 11s 217ms/step - loss: 0.0680 - Accuracy: 0.9973 - val_loss: 0.3250 - val_Accuracy: 0.8947\n",
            "Epoch 11/20\n",
            "24/24 [==============================] - 4s 155ms/step - loss: 0.0507 - Accuracy: 0.9960 - val_loss: 0.3762 - val_Accuracy: 0.8734\n",
            "Epoch 12/20\n",
            "24/24 [==============================] - 5s 190ms/step - loss: 0.0398 - Accuracy: 0.9973 - val_loss: 0.3598 - val_Accuracy: 0.8816\n",
            "Epoch 13/20\n",
            "24/24 [==============================] - 4s 156ms/step - loss: 0.0333 - Accuracy: 0.9960 - val_loss: 0.3547 - val_Accuracy: 0.8799\n",
            "Epoch 14/20\n",
            "24/24 [==============================] - 4s 157ms/step - loss: 0.0286 - Accuracy: 0.9987 - val_loss: 0.3655 - val_Accuracy: 0.8750\n",
            "Epoch 15/20\n",
            "24/24 [==============================] - 5s 192ms/step - loss: 0.0287 - Accuracy: 0.9973 - val_loss: 0.3564 - val_Accuracy: 0.8816\n",
            "Epoch 16/20\n",
            "24/24 [==============================] - 5s 191ms/step - loss: 0.0258 - Accuracy: 0.9987 - val_loss: 0.3493 - val_Accuracy: 0.8816\n",
            "Epoch 17/20\n",
            "24/24 [==============================] - 5s 192ms/step - loss: 0.0162 - Accuracy: 1.0000 - val_loss: 0.3508 - val_Accuracy: 0.8766\n",
            "Epoch 18/20\n",
            "24/24 [==============================] - 5s 192ms/step - loss: 0.0161 - Accuracy: 1.0000 - val_loss: 0.3803 - val_Accuracy: 0.8783\n",
            "Epoch 19/20\n",
            "24/24 [==============================] - 5s 192ms/step - loss: 0.0157 - Accuracy: 0.9987 - val_loss: 0.3779 - val_Accuracy: 0.8750\n",
            "Epoch 20/20\n",
            "24/24 [==============================] - 5s 192ms/step - loss: 0.0149 - Accuracy: 1.0000 - val_loss: 0.3648 - val_Accuracy: 0.8849\n"
          ]
        }
      ]
    },
    {
      "cell_type": "code",
      "source": [
        "#evaluate on test data\n",
        "model_0.evaluate(test_data)"
      ],
      "metadata": {
        "colab": {
          "base_uri": "https://localhost:8080/"
        },
        "id": "ZcgmZSXBdcMe",
        "outputId": "67d6204d-aa6a-489d-d2fa-34179936c9ec"
      },
      "execution_count": 48,
      "outputs": [
        {
          "output_type": "stream",
          "name": "stdout",
          "text": [
            "79/79 [==============================] - 6s 72ms/step - loss: 0.3521 - Accuracy: 0.8904\n"
          ]
        },
        {
          "output_type": "execute_result",
          "data": {
            "text/plain": [
              "[0.3520765006542206, 0.8903999924659729]"
            ]
          },
          "metadata": {},
          "execution_count": 48
        }
      ]
    },
    {
      "cell_type": "markdown",
      "source": [
        "#4.Write a function to visualize an image from any dataset (train or test file) and any class (e.g. \"steak\", \"pizza\"... etc), visualize it and make a prediction on it using a trained model."
      ],
      "metadata": {
        "id": "WTwBWAVMdrue"
      }
    },
    {
      "cell_type": "code",
      "source": [
        "train_data_10_percent.class_names"
      ],
      "metadata": {
        "colab": {
          "base_uri": "https://localhost:8080/"
        },
        "id": "3kddlBmiell2",
        "outputId": "750f35f1-c237-4398-9f4a-5dd35b111051"
      },
      "execution_count": 50,
      "outputs": [
        {
          "output_type": "execute_result",
          "data": {
            "text/plain": [
              "['chicken_curry',\n",
              " 'chicken_wings',\n",
              " 'fried_rice',\n",
              " 'grilled_salmon',\n",
              " 'hamburger',\n",
              " 'ice_cream',\n",
              " 'pizza',\n",
              " 'ramen',\n",
              " 'steak',\n",
              " 'sushi']"
            ]
          },
          "metadata": {},
          "execution_count": 50
        }
      ]
    },
    {
      "cell_type": "code",
      "source": [
        "class_names = train_data_10_percent.class_names"
      ],
      "metadata": {
        "id": "fHxIfZpnerLi"
      },
      "execution_count": 51,
      "outputs": []
    },
    {
      "cell_type": "code",
      "source": [
        "import matplotlib.pyplot as plt"
      ],
      "metadata": {
        "id": "jX8CD2ZDi77i"
      },
      "execution_count": 59,
      "outputs": []
    },
    {
      "cell_type": "code",
      "source": [
        "#create a function to load and prepare images\n",
        "def load_and_prep_image(filename,img_shape=224,scale = True):\n",
        "  #Read in the image\n",
        "  img = tf.io.read_file(filename)\n",
        "\n",
        "  #decode image to tensor\n",
        "  img = tf.io.decode_image(img,channels=3)\n",
        "\n",
        "  #Resize the image\n",
        "  img = tf.image.resize(img, [img_shape,img_shape])\n",
        "\n",
        "  #scale? yes/no\n",
        "  if scale:\n",
        "    return img/255. \n",
        "  else:\n",
        "    return img"
      ],
      "metadata": {
        "id": "Vy8TqMAui0ac"
      },
      "execution_count": 56,
      "outputs": []
    },
    {
      "cell_type": "code",
      "source": [
        "import random\n",
        "\n",
        "def image_prediction(model, test_dir, classes):\n",
        "\n",
        "  class_name = random.choice(classes)\n",
        "  filename = random.choice(os.listdir(test_dir + \"/\" + class_name))\n",
        "  filepath = test_dir + class_name +\"/\" +filename\n",
        "\n",
        "\n",
        "  #load image and make predictions\n",
        "  img = load_and_prep_image(filepath,scale = False)\n",
        "  pred_prob = model.predict(tf.expand_dims(img,axis=0))\n",
        "  pred_class = class_names[pred_prob.argmax()]\n",
        "\n",
        "  #Plot images\n",
        "  plt.imshow(img/255.)\n",
        "  plt.title(f\"actual: {class_name}, pred: {pred_class},prob: {pred_prob.max():.2f}\")\n",
        "  plt.axis(False);"
      ],
      "metadata": {
        "id": "FZcfGBvZeRnN"
      },
      "execution_count": 64,
      "outputs": []
    },
    {
      "cell_type": "code",
      "source": [
        "#CHeck out random image and its predictions\n",
        "image_prediction(model_0,test_dir,class_names)"
      ],
      "metadata": {
        "colab": {
          "base_uri": "https://localhost:8080/",
          "height": 282
        },
        "id": "M_UNEU1EehIo",
        "outputId": "e3952f3b-3a54-4f51-da16-671b51bc72c7"
      },
      "execution_count": 68,
      "outputs": [
        {
          "output_type": "stream",
          "name": "stdout",
          "text": [
            "1/1 [==============================] - 0s 24ms/step\n"
          ]
        },
        {
          "output_type": "display_data",
          "data": {
            "text/plain": [
              "<Figure size 432x288 with 1 Axes>"
            ],
            "image/png": "[encoded data removed]"
          },
          "metadata": {
            "needs_background": "light"
          }
        }
      ]
    },
    {
      "cell_type": "code",
      "source": [],
      "metadata": {
        "id": "vQmHzvnuityl"
      },
      "execution_count": 67,
      "outputs": []
    }
  ]
}